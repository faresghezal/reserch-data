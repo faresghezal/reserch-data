{
 "cells": [
  {
   "cell_type": "code",
   "execution_count": 1,
   "id": "773fc45c-08b8-4ed2-ae11-59ee76d134bc",
   "metadata": {},
   "outputs": [],
   "source": [
    "import json\n",
    "import matplotlib.pyplot as plt\n",
    "import numpy as np\n",
    "import pandas as pd\n",
    "from tqdm import tqdm\n",
    "import math\n",
    "import os\n",
    "import itertools\n",
    "import warnings\n",
    "import glob\n",
    "import sys"
   ]
  },
  {
   "cell_type": "code",
   "execution_count": 2,
   "id": "7e75b3d6-560b-4d92-b199-6def8c28ed4f",
   "metadata": {},
   "outputs": [
    {
     "data": {
      "text/plain": [
       "124"
      ]
     },
     "execution_count": 2,
     "metadata": {},
     "output_type": "execute_result"
    }
   ],
   "source": [
    "staff = pd.read_csv(\"people_flt.csv\")\n",
    "staff.shape[0]"
   ]
  },
  {
   "cell_type": "code",
   "execution_count": 3,
   "id": "174710a6-8ddd-4365-8920-6b5f80d87f71",
   "metadata": {},
   "outputs": [
    {
     "name": "stderr",
     "output_type": "stream",
     "text": [
      "/tmp/ipykernel_492721/3697786990.py:2: SettingWithCopyWarning: \n",
      "A value is trying to be set on a copy of a slice from a DataFrame.\n",
      "Try using .loc[row_indexer,col_indexer] = value instead\n",
      "\n",
      "See the caveats in the documentation: https://pandas.pydata.org/pandas-docs/stable/user_guide/indexing.html#returning-a-view-versus-a-copy\n",
      "  staff_flt[\"MTMT\"] = staff_flt[\"MTMT\"].astype(\"int\")\n"
     ]
    },
    {
     "data": {
      "text/plain": [
       "119"
      ]
     },
     "execution_count": 3,
     "metadata": {},
     "output_type": "execute_result"
    }
   ],
   "source": [
    "staff_flt = staff[(~staff[\"MTMT\"].isnull()) & (staff[\"MTMT\"]!=11111111) & (staff[\"MTMT\"]!=0) & (staff[\"Munkakör\"].str.lower()!=\"doktorandusz\") & (staff[\"Munkakör\"].str.lower()!=\"sh doktorandusz\")]\n",
    "staff_flt[\"MTMT\"] = staff_flt[\"MTMT\"].astype(\"int\")\n",
    "staff_flt.shape[0]"
   ]
  },
  {
   "cell_type": "code",
   "execution_count": 4,
   "id": "90161abf-22fe-4a8f-9063-c1d61a8b7209",
   "metadata": {},
   "outputs": [],
   "source": [
    "def load_pub_for_author(mtid):\n",
    "    page = 1\n",
    "    size = 1000\n",
    "    tries = 1\n",
    "    author_pubs = []\n",
    "    while True:\n",
    "        os.system(f'wget -O tmp.json \"https://m2.mtmt.hu/api/publication?cond=published;eq;true&cond=core;eq;true&cond=authors.mtid;eq;{mtid}&sort=publishedYear,desc&sort=firstAuthor,asc&size={size}&fields=citations,pubStats&labelLang=hun&page={page}&format=json\" >wget.out 2>wget.err')\n",
    "        with open(\"tmp.json\", \"r\") as f:\n",
    "            try:\n",
    "                dta = json.load(f)\n",
    "                if page == 1 and len(dta[\"content\"]) == 0:\n",
    "                    return []\n",
    "                author_pubs += dta[\"content\"]\n",
    "                if not dta[\"paging\"][\"last\"]:\n",
    "                    page += 1\n",
    "                else:\n",
    "                    break\n",
    "            except:\n",
    "                tries += 1\n",
    "                print(\"Error, retrying\")\n",
    "                if tries > 30:\n",
    "                    return []\n",
    "    return author_pubs"
   ]
  },
  {
   "cell_type": "code",
   "execution_count": 5,
   "id": "b8caf485-acf2-4ad3-aae9-6181003d9bb1",
   "metadata": {},
   "outputs": [
    {
     "name": "stderr",
     "output_type": "stream",
     "text": [
      " 76%|███████████████████████████████▊          | 90/119 [12:48<03:27,  7.16s/it]"
     ]
    },
    {
     "name": "stdout",
     "output_type": "stream",
     "text": [
      "Error, retrying\n",
      "Error, retrying\n",
      "Error, retrying\n",
      "Error, retrying\n",
      "Error, retrying\n",
      "Error, retrying\n",
      "Error, retrying\n",
      "Error, retrying\n",
      "Error, retrying\n",
      "Error, retrying\n",
      "Error, retrying\n",
      "Error, retrying\n",
      "Error, retrying\n",
      "Error, retrying\n",
      "Error, retrying\n",
      "Error, retrying\n",
      "Error, retrying\n",
      "Error, retrying\n",
      "Error, retrying\n",
      "Error, retrying\n",
      "Error, retrying\n",
      "Error, retrying\n",
      "Error, retrying\n",
      "Error, retrying\n",
      "Error, retrying\n",
      "Error, retrying\n",
      "Error, retrying\n",
      "Error, retrying\n",
      "Error, retrying\n"
     ]
    },
    {
     "name": "stderr",
     "output_type": "stream",
     "text": [
      " 76%|████████████████████████████████          | 91/119 [15:20<23:33, 50.49s/it]"
     ]
    },
    {
     "name": "stdout",
     "output_type": "stream",
     "text": [
      "Error, retrying\n",
      "Error, retrying\n"
     ]
    },
    {
     "name": "stderr",
     "output_type": "stream",
     "text": [
      " 87%|███████████████████████████████████▍     | 103/119 [17:23<02:01,  7.58s/it]"
     ]
    },
    {
     "name": "stdout",
     "output_type": "stream",
     "text": [
      "Error, retrying\n",
      "Error, retrying\n",
      "Error, retrying\n",
      "Error, retrying\n",
      "Error, retrying\n",
      "Error, retrying\n",
      "Error, retrying\n",
      "Error, retrying\n",
      "Error, retrying\n",
      "Error, retrying\n",
      "Error, retrying\n",
      "Error, retrying\n",
      "Error, retrying\n",
      "Error, retrying\n",
      "Error, retrying\n"
     ]
    },
    {
     "name": "stderr",
     "output_type": "stream",
     "text": [
      "100%|█████████████████████████████████████████| 119/119 [22:00<00:00, 11.10s/it]\n"
     ]
    }
   ],
   "source": [
    "for mtid in tqdm(staff_flt[\"MTMT\"]):\n",
    "    if not os.path.exists(f\"personal/{mtid}.json\"):\n",
    "        json.dump(load_pub_for_author(mtid), open(f\"personal/{mtid}.json\", \"w\", encoding='utf8'), indent=4, ensure_ascii=False)"
   ]
  },
  {
   "cell_type": "code",
   "execution_count": 6,
   "id": "197a58ba-e79e-4d4a-9197-f63ceef899ee",
   "metadata": {},
   "outputs": [],
   "source": [
    "def get_h_score(mtid):\n",
    "    cit_list = []\n",
    "    if os.path.exists(f'personal/{mtid}.json'):\n",
    "        with open(f'personal/{mtid}.json') as f:\n",
    "            try:\n",
    "                js = json.load(f)\n",
    "                for pub in js:\n",
    "                    if \"independentCitationCount\" in pub:\n",
    "                        cit_list.append(pub[\"independentCitationCount\"])\n",
    "            except:\n",
    "                pass\n",
    "    cit_list.sort(reverse=True)\n",
    "    hindex = 0\n",
    "    while hindex < len(cit_list) and hindex < cit_list[hindex]:\n",
    "        hindex += 1\n",
    "    return hindex"
   ]
  },
  {
   "cell_type": "code",
   "execution_count": 7,
   "id": "3dfb165e-93de-4bb0-a068-11451643e956",
   "metadata": {},
   "outputs": [
    {
     "name": "stderr",
     "output_type": "stream",
     "text": [
      "/tmp/ipykernel_492721/2996616290.py:1: SettingWithCopyWarning: \n",
      "A value is trying to be set on a copy of a slice from a DataFrame.\n",
      "Try using .loc[row_indexer,col_indexer] = value instead\n",
      "\n",
      "See the caveats in the documentation: https://pandas.pydata.org/pandas-docs/stable/user_guide/indexing.html#returning-a-view-versus-a-copy\n",
      "  staff_flt[\"H index\"] = [0 if np.isnan(mtid) else get_h_score(int(mtid)) for mtid in staff_flt[\"MTMT\"]]\n"
     ]
    }
   ],
   "source": [
    "staff_flt[\"H index\"] = [0 if np.isnan(mtid) else get_h_score(int(mtid)) for mtid in staff_flt[\"MTMT\"]]"
   ]
  },
  {
   "cell_type": "code",
   "execution_count": 8,
   "id": "207cb435-fb05-45f5-8d30-df711547bbd4",
   "metadata": {},
   "outputs": [],
   "source": [
    "esi_cats = pd.read_csv(\"esi-master-journal-list-8-2022.csv\")\n",
    "percentiles = pd.read_csv(\"baselinecitationpercentiles2022.csv\")\n",
    "percentiles.set_index(keys=[\"category\",\"year\"], inplace=True)\n",
    "\n",
    "def get_esi_category(jour):\n",
    "    with open(f'journals/{jour}.json') as fj:\n",
    "        data = json.load(fj)[\"content\"]\n",
    "        cat = []\n",
    "        if \"abbreviated\" in data:\n",
    "            cat = esi_cats[esi_cats[\"Title29\"]==data[\"abbreviated\"]][\"Category name\"]\n",
    "            if len(cat) == 0:\n",
    "                cat = esi_cats[esi_cats[\"Title20\"]==data[\"abbreviated\"]][\"Category name\"]\n",
    "    return cat.iloc[0]\n",
    "def check_wos(pub):\n",
    "    if \"journal\" in pub and \"sciIndexed\" in pub[\"journal\"] and pub[\"journal\"][\"sciIndexed\"]:\n",
    "        return True\n",
    "    if \"identifiers\" in pub:\n",
    "        for i in pub[\"identifiers\"]:\n",
    "            if i[\"source\"][\"label\"] == \"WoS\" or i[\"source\"][\"label\"] == \"Wos-CSCD (Chinese)\":\n",
    "                return True\n",
    "    return False"
   ]
  },
  {
   "cell_type": "code",
   "execution_count": 9,
   "id": "42c2ff66-fad9-498d-988e-d20d08d1f223",
   "metadata": {
    "collapsed": true,
    "jupyter": {
     "outputs_hidden": true
    },
    "tags": []
   },
   "outputs": [
    {
     "name": "stderr",
     "output_type": "stream",
     "text": [
      "0it [00:00, ?it/s]--2023-01-24 15:57:31--  https://m2.mtmt.hu/api/journal/9962\n",
      "Resolving m2.mtmt.hu (m2.mtmt.hu)... "
     ]
    },
    {
     "name": "stdout",
     "output_type": "stream",
     "text": [
      "Új folyóirat:  REVIEWS IN MATHEMATICAL PHYSICS 0129-055X 1793-6659\n"
     ]
    },
    {
     "name": "stderr",
     "output_type": "stream",
     "text": [
      "193.224.44.74\n",
      "Connecting to m2.mtmt.hu (m2.mtmt.hu)|193.224.44.74|:443... connected.\n",
      "HTTP request sent, awaiting response... 200 \n",
      "Length: unspecified [application/vnd.mtmt2-1.0+json]\n",
      "Saving to: ‘journals/9962.json’\n",
      "\n",
      "     0K ...                                                    40,8K=0,1s\n",
      "\n",
      "2023-01-24 15:57:33 (40,8 KB/s) - ‘journals/9962.json’ saved [4065]\n",
      "\n",
      "--2023-01-24 15:57:33--  https://m2.mtmt.hu/api/journal/10005881\n",
      "Resolving m2.mtmt.hu (m2.mtmt.hu)... "
     ]
    },
    {
     "name": "stdout",
     "output_type": "stream",
     "text": [
      "Új folyóirat:  JOURNAL OF PHYSICS A-MATHEMATICAL AND THEORETICAL 1751-8113 1751-8121\n"
     ]
    },
    {
     "name": "stderr",
     "output_type": "stream",
     "text": [
      "193.224.44.74\n",
      "Connecting to m2.mtmt.hu (m2.mtmt.hu)|193.224.44.74|:443... connected.\n",
      "HTTP request sent, awaiting response... 200 \n",
      "Length: unspecified [application/vnd.mtmt2-1.0+json]\n",
      "Saving to: ‘journals/10005881.json’\n",
      "\n",
      "     0K ......                                                 68,4K=0,1s\n",
      "\n",
      "2023-01-24 15:57:34 (68,4 KB/s) - ‘journals/10005881.json’ saved [7137]\n",
      "\n",
      "--2023-01-24 15:57:34--  https://m2.mtmt.hu/api/journal/10005675\n",
      "Resolving m2.mtmt.hu (m2.mtmt.hu)... "
     ]
    },
    {
     "name": "stdout",
     "output_type": "stream",
     "text": [
      "Új folyóirat:  INTERNATIONAL JOURNAL OF QUANTUM INFORMATION 0219-7499 1793-6918\n"
     ]
    },
    {
     "name": "stderr",
     "output_type": "stream",
     "text": [
      "193.224.44.74\n",
      "Connecting to m2.mtmt.hu (m2.mtmt.hu)|193.224.44.74|:443... connected.\n",
      "HTTP request sent, awaiting response... 200 \n",
      "Length: unspecified [application/vnd.mtmt2-1.0+json]\n",
      "Saving to: ‘journals/10005675.json’\n",
      "\n",
      "     0K ....                                                   44,9K=0,09s\n",
      "\n",
      "2023-01-24 15:57:35 (44,9 KB/s) - ‘journals/10005675.json’ saved [4369]\n",
      "\n",
      "1it [00:04,  4.16s/it]--2023-01-24 15:57:35--  https://m2.mtmt.hu/api/journal/1115\n",
      "Resolving m2.mtmt.hu (m2.mtmt.hu)... "
     ]
    },
    {
     "name": "stdout",
     "output_type": "stream",
     "text": [
      "Új folyóirat:  COMMUNICATIONS IN MATHEMATICAL PHYSICS 0010-3616 1432-0916\n"
     ]
    },
    {
     "name": "stderr",
     "output_type": "stream",
     "text": [
      "193.224.44.74\n",
      "Connecting to m2.mtmt.hu (m2.mtmt.hu)|193.224.44.74|:443... connected.\n",
      "HTTP request sent, awaiting response... 200 \n",
      "Length: unspecified [application/vnd.mtmt2-1.0+json]\n",
      "Saving to: ‘journals/1115.json’\n",
      "\n",
      "     0K ....                                                   49,4K=0,08s\n",
      "\n",
      "2023-01-24 15:57:36 (49,4 KB/s) - ‘journals/1115.json’ saved [4105]\n",
      "\n",
      "--2023-01-24 15:57:36--  https://m2.mtmt.hu/api/journal/2876\n",
      "Resolving m2.mtmt.hu (m2.mtmt.hu)... "
     ]
    },
    {
     "name": "stdout",
     "output_type": "stream",
     "text": [
      "Új folyóirat:  JOURNAL OF STATISTICAL PHYSICS 0022-4715 1572-9613\n"
     ]
    },
    {
     "name": "stderr",
     "output_type": "stream",
     "text": [
      "193.224.44.74\n",
      "Connecting to m2.mtmt.hu (m2.mtmt.hu)|193.224.44.74|:443... connected.\n",
      "HTTP request sent, awaiting response... 200 \n",
      "Length: unspecified [application/vnd.mtmt2-1.0+json]\n",
      "Saving to: ‘journals/2876.json’\n",
      "\n",
      "     0K ....                                                   37,4K=0,1s\n",
      "\n",
      "2023-01-24 15:57:38 (37,4 KB/s) - ‘journals/2876.json’ saved [4128]\n",
      "\n",
      "--2023-01-24 15:57:38--  https://m2.mtmt.hu/api/journal/26892\n",
      "Resolving m2.mtmt.hu (m2.mtmt.hu)... "
     ]
    },
    {
     "name": "stdout",
     "output_type": "stream",
     "text": [
      "Új folyóirat:  ANNALES HENRI POINCARE 1424-0637 1424-0661\n"
     ]
    },
    {
     "name": "stderr",
     "output_type": "stream",
     "text": [
      "193.224.44.74\n",
      "Connecting to m2.mtmt.hu (m2.mtmt.hu)|193.224.44.74|:443... connected.\n",
      "HTTP request sent, awaiting response... 200 \n",
      "Length: unspecified [application/vnd.mtmt2-1.0+json]\n",
      "Saving to: ‘journals/26892.json’\n",
      "\n",
      "     0K ....                                                   5,03M=0,001s\n",
      "\n",
      "2023-01-24 15:57:38 (5,03 MB/s) - ‘journals/26892.json’ saved [4757]\n",
      "\n",
      "--2023-01-24 15:57:38--  https://m2.mtmt.hu/api/journal/3406\n",
      "Resolving m2.mtmt.hu (m2.mtmt.hu)... 193.224.44.74\n",
      "Connecting to m2.mtmt.hu (m2.mtmt.hu)|193.224.44.74|:443... "
     ]
    },
    {
     "name": "stdout",
     "output_type": "stream",
     "text": [
      "Új folyóirat:  NONLINEARITY 0951-7715 1361-6544\n"
     ]
    },
    {
     "name": "stderr",
     "output_type": "stream",
     "text": [
      "connected.\n",
      "HTTP request sent, awaiting response... 200 \n",
      "Length: unspecified [application/vnd.mtmt2-1.0+json]\n",
      "Saving to: ‘journals/3406.json’\n",
      "\n",
      "     0K ....                                                   48,2K=0,1s\n",
      "\n",
      "2023-01-24 15:57:39 (48,2 KB/s) - ‘journals/3406.json’ saved [4708]\n",
      "\n",
      "--2023-01-24 15:57:39--  https://m2.mtmt.hu/api/journal/2150474\n",
      "Resolving m2.mtmt.hu (m2.mtmt.hu)... "
     ]
    },
    {
     "name": "stdout",
     "output_type": "stream",
     "text": [
      "Új folyóirat:  CONTEMPORARY MATHEMATICS 0271-4132\n"
     ]
    },
    {
     "name": "stderr",
     "output_type": "stream",
     "text": [
      "193.224.44.74\n",
      "Connecting to m2.mtmt.hu (m2.mtmt.hu)|193.224.44.74|:443... connected.\n",
      "HTTP request sent, awaiting response... 200 \n",
      "Length: unspecified [application/vnd.mtmt2-1.0+json]\n",
      "Saving to: ‘journals/2150474.json’\n",
      "\n",
      "     0K ...                                                    2,05M=0,001s\n",
      "\n",
      "2023-01-24 15:57:40 (2,05 MB/s) - ‘journals/2150474.json’ saved [3191]\n",
      "\n",
      "--2023-01-24 15:57:40--  https://m2.mtmt.hu/api/journal/11528\n",
      "Resolving m2.mtmt.hu (m2.mtmt.hu)... 193.224.44.74\n",
      "Connecting to m2.mtmt.hu (m2.mtmt.hu)|193.224.44.74|:443... "
     ]
    },
    {
     "name": "stdout",
     "output_type": "stream",
     "text": [
      "Új folyóirat:  CHAOS 1054-1500 1089-7682\n"
     ]
    },
    {
     "name": "stderr",
     "output_type": "stream",
     "text": [
      "connected.\n",
      "HTTP request sent, awaiting response... 200 \n",
      "Length: unspecified [application/vnd.mtmt2-1.0+json]\n",
      "Saving to: ‘journals/11528.json’\n",
      "\n",
      "     0K .....                                                  49,9K=0,1s\n",
      "\n",
      "2023-01-24 15:57:41 (49,9 KB/s) - ‘journals/11528.json’ saved [5192]\n",
      "\n",
      "3it [00:09,  3.16s/it]--2023-01-24 15:57:41--  https://m2.mtmt.hu/api/journal/1368091\n",
      "Resolving m2.mtmt.hu (m2.mtmt.hu)... "
     ]
    },
    {
     "name": "stdout",
     "output_type": "stream",
     "text": [
      "Új folyóirat:  ÉPÍTŐANYAG: JOURNAL OF SILICATE BASED AND COMPOSITE MATERIALS 0013-970X 2064-4477\n"
     ]
    },
    {
     "name": "stderr",
     "output_type": "stream",
     "text": [
      "193.224.44.74\n",
      "Connecting to m2.mtmt.hu (m2.mtmt.hu)|193.224.44.74|:443... connected.\n",
      "HTTP request sent, awaiting response... 200 \n",
      "Length: unspecified [application/vnd.mtmt2-1.0+json]\n",
      "Saving to: ‘journals/1368091.json’\n",
      "\n",
      "     0K .......                                                78,8K=0,09s\n",
      "\n",
      "2023-01-24 15:57:41 (78,8 KB/s) - ‘journals/1368091.json’ saved [7379]\n",
      "\n",
      "--2023-01-24 15:57:41--  https://m2.mtmt.hu/api/journal/10008428\n",
      "Resolving m2.mtmt.hu (m2.mtmt.hu)... "
     ]
    },
    {
     "name": "stdout",
     "output_type": "stream",
     "text": [
      "Új folyóirat:  RELIABLE COMPUTING 1385-3139\n"
     ]
    },
    {
     "name": "stderr",
     "output_type": "stream",
     "text": [
      "193.224.44.74\n",
      "Connecting to m2.mtmt.hu (m2.mtmt.hu)|193.224.44.74|:443... connected.\n",
      "HTTP request sent, awaiting response... 200 \n",
      "Length: unspecified [application/vnd.mtmt2-1.0+json]\n",
      "Saving to: ‘journals/10008428.json’\n",
      "\n",
      "     0K ...                                                     179K=0,02s\n",
      "\n",
      "2023-01-24 15:57:43 (179 KB/s) - ‘journals/10008428.json’ saved [3967]\n",
      "\n",
      "4it [00:11,  2.82s/it]--2023-01-24 15:57:43--  https://m2.mtmt.hu/api/journal/10032927\n",
      "Resolving m2.mtmt.hu (m2.mtmt.hu)... 193.224.44.74\n",
      "Connecting to m2.mtmt.hu (m2.mtmt.hu)|193.224.44.74|:443... "
     ]
    },
    {
     "name": "stdout",
     "output_type": "stream",
     "text": [
      "Új folyóirat:  ACS SUSTAINABLE CHEMISTRY & ENGINEERING 2168-0485 2168-0485\n"
     ]
    },
    {
     "name": "stderr",
     "output_type": "stream",
     "text": [
      "connected.\n",
      "HTTP request sent, awaiting response... 200 \n",
      "Length: unspecified [application/vnd.mtmt2-1.0+json]\n",
      "Saving to: ‘journals/10032927.json’\n",
      "\n",
      "     0K .....                                                  75,7K=0,08s\n",
      "\n",
      "2023-01-24 15:57:43 (75,7 KB/s) - ‘journals/10032927.json’ saved [5946]\n",
      "\n",
      "--2023-01-24 15:57:43--  https://m2.mtmt.hu/api/journal/10013326\n",
      "Resolving m2.mtmt.hu (m2.mtmt.hu)... "
     ]
    },
    {
     "name": "stdout",
     "output_type": "stream",
     "text": [
      "Új folyóirat:  SYMMETRY 2073-8994\n"
     ]
    },
    {
     "name": "stderr",
     "output_type": "stream",
     "text": [
      "193.224.44.74\n",
      "Connecting to m2.mtmt.hu (m2.mtmt.hu)|193.224.44.74|:443... connected.\n",
      "HTTP request sent, awaiting response... 200 \n",
      "Length: unspecified [application/vnd.mtmt2-1.0+json]\n",
      "Saving to: ‘journals/10013326.json’\n",
      "\n",
      "     0K ....                                                   56,7K=0,08s\n",
      "\n",
      "2023-01-24 15:57:44 (56,7 KB/s) - ‘journals/10013326.json’ saved [4931]\n",
      "\n",
      "--2023-01-24 15:57:44--  https://m2.mtmt.hu/api/journal/2636\n",
      "Resolving m2.mtmt.hu (m2.mtmt.hu)... "
     ]
    },
    {
     "name": "stdout",
     "output_type": "stream",
     "text": [
      "Új folyóirat:  JOURNAL OF MATHEMATICAL CHEMISTRY 0259-9791 1572-8897\n"
     ]
    },
    {
     "name": "stderr",
     "output_type": "stream",
     "text": [
      "193.224.44.74\n",
      "Connecting to m2.mtmt.hu (m2.mtmt.hu)|193.224.44.74|:443... connected.\n",
      "HTTP request sent, awaiting response... 200 \n",
      "Length: unspecified [application/vnd.mtmt2-1.0+json]\n",
      "Saving to: ‘journals/2636.json’\n",
      "\n",
      "     0K ....                                                   51,3K=0,08s\n",
      "\n",
      "2023-01-24 15:57:45 (51,3 KB/s) - ‘journals/2636.json’ saved [4308]\n",
      "\n",
      "--2023-01-24 15:57:45--  https://m2.mtmt.hu/api/journal/10002769\n",
      "Resolving m2.mtmt.hu (m2.mtmt.hu)... 193.224.44.74\n",
      "Connecting to m2.mtmt.hu (m2.mtmt.hu)|193.224.44.74|:443... "
     ]
    },
    {
     "name": "stdout",
     "output_type": "stream",
     "text": [
      "Új folyóirat:  JOURNAL OF MOLECULAR MODELING 1610-2940 0948-5023\n"
     ]
    },
    {
     "name": "stderr",
     "output_type": "stream",
     "text": [
      "connected.\n",
      "HTTP request sent, awaiting response... 200 \n",
      "Length: unspecified [application/vnd.mtmt2-1.0+json]\n",
      "Saving to: ‘journals/10002769.json’\n",
      "\n",
      "     0K ......                                                 28,6K=0,2s\n",
      "\n",
      "2023-01-24 15:57:45 (28,6 KB/s) - ‘journals/10002769.json’ saved [6956]\n",
      "\n",
      "5it [00:14,  2.75s/it]--2023-01-24 15:57:45--  https://m2.mtmt.hu/api/journal/4173\n",
      "Resolving m2.mtmt.hu (m2.mtmt.hu)... "
     ]
    },
    {
     "name": "stdout",
     "output_type": "stream",
     "text": [
      "Új folyóirat:  STUDIA MATHEMATICA 0039-3223 1730-6337\n"
     ]
    },
    {
     "name": "stderr",
     "output_type": "stream",
     "text": [
      "193.224.44.74\n",
      "Connecting to m2.mtmt.hu (m2.mtmt.hu)|193.224.44.74|:443... connected.\n",
      "HTTP request sent, awaiting response... 200 \n",
      "Length: unspecified [application/vnd.mtmt2-1.0+json]\n",
      "Saving to: ‘journals/4173.json’\n",
      "\n",
      "     0K ...                                                    39,6K=0,1s\n",
      "\n",
      "2023-01-24 15:57:46 (39,6 KB/s) - ‘journals/4173.json’ saved [4024]\n",
      "\n",
      "--2023-01-24 15:57:46--  https://m2.mtmt.hu/api/journal/2050612\n",
      "Resolving m2.mtmt.hu (m2.mtmt.hu)... "
     ]
    },
    {
     "name": "stdout",
     "output_type": "stream",
     "text": [
      "Új folyóirat:  PROCEEDINGS OF THE AMERICAN MATHEMATICAL SOCIETY 0002-9939 1088-6826\n"
     ]
    },
    {
     "name": "stderr",
     "output_type": "stream",
     "text": [
      "193.224.44.74\n",
      "Connecting to m2.mtmt.hu (m2.mtmt.hu)|193.224.44.74|:443... connected.\n",
      "HTTP request sent, awaiting response... 200 \n",
      "Length: unspecified [application/vnd.mtmt2-1.0+json]\n",
      "Saving to: ‘journals/2050612.json’\n",
      "\n",
      "     0K ....                                                   44,6K=0,1s\n",
      "\n",
      "2023-01-24 15:57:47 (44,6 KB/s) - ‘journals/2050612.json’ saved [4635]\n",
      "\n",
      "--2023-01-24 15:57:47--  https://m2.mtmt.hu/api/journal/138\n",
      "Resolving m2.mtmt.hu (m2.mtmt.hu)... "
     ]
    },
    {
     "name": "stdout",
     "output_type": "stream",
     "text": [
      "Új folyóirat:  ADVANCES IN MATHEMATICS 0001-8708 1090-2082\n"
     ]
    },
    {
     "name": "stderr",
     "output_type": "stream",
     "text": [
      "193.224.44.74\n",
      "Connecting to m2.mtmt.hu (m2.mtmt.hu)|193.224.44.74|:443... connected.\n",
      "HTTP request sent, awaiting response... 200 \n",
      "Length: unspecified [application/vnd.mtmt2-1.0+json]\n",
      "Saving to: ‘journals/138.json’\n",
      "\n",
      "     0K ...                                                    46,4K=0,08s\n",
      "\n",
      "2023-01-24 15:57:48 (46,4 KB/s) - ‘journals/138.json’ saved [3753]\n",
      "\n",
      "--2023-01-24 15:57:48--  https://m2.mtmt.hu/api/journal/1343842\n",
      "Resolving m2.mtmt.hu (m2.mtmt.hu)... 193.224.44.74\n",
      "Connecting to m2.mtmt.hu (m2.mtmt.hu)|193.224.44.74|:443... "
     ]
    },
    {
     "name": "stdout",
     "output_type": "stream",
     "text": [
      "Új folyóirat:  DISCRETE AND CONTINUOUS DYNAMICAL SYSTEMS SERIES A 1078-0947 1553-5231\n"
     ]
    },
    {
     "name": "stderr",
     "output_type": "stream",
     "text": [
      "connected.\n",
      "HTTP request sent, awaiting response... 200 \n",
      "Length: unspecified [application/vnd.mtmt2-1.0+json]\n",
      "Saving to: ‘journals/1343842.json’\n",
      "\n",
      "     0K .....                                                  64,9K=0,08s\n",
      "\n",
      "2023-01-24 15:57:48 (64,9 KB/s) - ‘journals/1343842.json’ saved [5406]\n",
      "\n",
      "--2023-01-24 15:57:48--  https://m2.mtmt.hu/api/journal/23558\n",
      "Resolving m2.mtmt.hu (m2.mtmt.hu)... 193.224.44.74\n",
      "Connecting to m2.mtmt.hu (m2.mtmt.hu)|193.224.44.74|:443... "
     ]
    },
    {
     "name": "stdout",
     "output_type": "stream",
     "text": [
      "Új folyóirat:  INTERNATIONAL MATHEMATICS RESEARCH NOTICES 1073-7928 1687-0247\n"
     ]
    },
    {
     "name": "stderr",
     "output_type": "stream",
     "text": [
      "connected.\n",
      "HTTP request sent, awaiting response... 200 \n",
      "Length: unspecified [application/vnd.mtmt2-1.0+json]\n",
      "Saving to: ‘journals/23558.json’\n",
      "\n",
      "     0K ...                                                    74,3K=0,05s\n",
      "\n",
      "2023-01-24 15:57:49 (74,3 KB/s) - ‘journals/23558.json’ saved [3876]\n",
      "\n",
      "--2023-01-24 15:57:49--  https://m2.mtmt.hu/api/journal/3134\n",
      "Resolving m2.mtmt.hu (m2.mtmt.hu)... 193.224.44.74\n",
      "Connecting to m2.mtmt.hu (m2.mtmt.hu)|193.224.44.74|:443... "
     ]
    },
    {
     "name": "stdout",
     "output_type": "stream",
     "text": [
      "Új folyóirat:  MATHEMATIKA 0025-5793 2041-7942\n"
     ]
    },
    {
     "name": "stderr",
     "output_type": "stream",
     "text": [
      "connected.\n",
      "HTTP request sent, awaiting response... 200 \n",
      "Length: unspecified [application/vnd.mtmt2-1.0+json]\n",
      "Saving to: ‘journals/3134.json’\n",
      "\n",
      "     0K ....                                                   4,55M=0,001s\n",
      "\n",
      "2023-01-24 15:57:50 (4,55 MB/s) - ‘journals/3134.json’ saved [4210]\n",
      "\n",
      "--2023-01-24 15:57:50--  https://m2.mtmt.hu/api/journal/3123\n",
      "Resolving m2.mtmt.hu (m2.mtmt.hu)... 193.224.44.74\n",
      "Connecting to m2.mtmt.hu (m2.mtmt.hu)|193.224.44.74|:443... "
     ]
    },
    {
     "name": "stdout",
     "output_type": "stream",
     "text": [
      "Új folyóirat:  MATHEMATISCHE NACHRICHTEN 0025-584X 1522-2616\n"
     ]
    },
    {
     "name": "stderr",
     "output_type": "stream",
     "text": [
      "connected.\n",
      "HTTP request sent, awaiting response... 200 \n",
      "Length: unspecified [application/vnd.mtmt2-1.0+json]\n",
      "Saving to: ‘journals/3123.json’\n",
      "\n",
      "     0K ....                                                   50,0K=0,09s\n",
      "\n",
      "2023-01-24 15:57:52 (50,0 KB/s) - ‘journals/3123.json’ saved [4464]\n",
      "\n",
      "--2023-01-24 15:57:52--  https://m2.mtmt.hu/api/journal/3549\n",
      "Resolving m2.mtmt.hu (m2.mtmt.hu)... 193.224.44.74\n",
      "Connecting to m2.mtmt.hu (m2.mtmt.hu)|193.224.44.74|:443... "
     ]
    },
    {
     "name": "stdout",
     "output_type": "stream",
     "text": [
      "Új folyóirat:  PROCEEDINGS OF THE ROYAL SOCIETY OF EDINBURGH SECTION A-MATHEMATICS 0308-2105 1473-7124\n"
     ]
    },
    {
     "name": "stderr",
     "output_type": "stream",
     "text": [
      "connected.\n",
      "HTTP request sent, awaiting response... 200 \n",
      "Length: unspecified [application/vnd.mtmt2-1.0+json]\n",
      "Saving to: ‘journals/3549.json’\n",
      "\n",
      "     0K .....                                                  72,9K=0,08s\n",
      "\n",
      "2023-01-24 15:57:54 (72,9 KB/s) - ‘journals/3549.json’ saved [5646]\n",
      "\n",
      "--2023-01-24 15:57:54--  https://m2.mtmt.hu/api/journal/4214\n",
      "Resolving m2.mtmt.hu (m2.mtmt.hu)... "
     ]
    },
    {
     "name": "stdout",
     "output_type": "stream",
     "text": [
      "Új folyóirat:  TRANSACTIONS OF THE AMERICAN MATHEMATICAL SOCIETY 0002-9947 1088-6850\n"
     ]
    },
    {
     "name": "stderr",
     "output_type": "stream",
     "text": [
      "193.224.44.74\n",
      "Connecting to m2.mtmt.hu (m2.mtmt.hu)|193.224.44.74|:443... connected.\n",
      "HTTP request sent, awaiting response... 200 \n",
      "Length: unspecified [application/vnd.mtmt2-1.0+json]\n",
      "Saving to: ‘journals/4214.json’\n",
      "\n",
      "     0K ....                                                   3,10M=0,001s\n",
      "\n",
      "2023-01-24 15:57:56 (3,10 MB/s) - ‘journals/4214.json’ saved [4692]\n",
      "\n",
      "--2023-01-24 15:57:56--  https://m2.mtmt.hu/api/journal/1417131\n",
      "Resolving m2.mtmt.hu (m2.mtmt.hu)... "
     ]
    },
    {
     "name": "stdout",
     "output_type": "stream",
     "text": [
      "Új folyóirat:  ISRAEL JOURNAL OF MATHEMATICS 0021-2172 1565-8511\n"
     ]
    },
    {
     "name": "stderr",
     "output_type": "stream",
     "text": [
      "193.224.44.74\n",
      "Connecting to m2.mtmt.hu (m2.mtmt.hu)|193.224.44.74|:443... connected.\n",
      "HTTP request sent, awaiting response... 200 \n",
      "Length: unspecified [application/vnd.mtmt2-1.0+json]\n",
      "Saving to: ‘journals/1417131.json’\n",
      "\n",
      "     0K ...                                                    3,09M=0,001s\n",
      "\n",
      "2023-01-24 15:57:58 (3,09 MB/s) - ‘journals/1417131.json’ saved [3786]\n",
      "\n",
      "--2023-01-24 15:57:58--  https://m2.mtmt.hu/api/journal/10856\n",
      "Resolving m2.mtmt.hu (m2.mtmt.hu)... 193.224.44.74\n",
      "Connecting to m2.mtmt.hu (m2.mtmt.hu)|193.224.44.74|:443... connected.\n"
     ]
    },
    {
     "name": "stdout",
     "output_type": "stream",
     "text": [
      "Új folyóirat:  ANNALES ACADEMIAE SCIENTIARUM FENNICAE-MATHEMATICA 1239-629X 1798-2383\n"
     ]
    },
    {
     "name": "stderr",
     "output_type": "stream",
     "text": [
      "HTTP request sent, awaiting response... 200 \n",
      "Length: unspecified [application/vnd.mtmt2-1.0+json]\n",
      "Saving to: ‘journals/10856.json’\n",
      "\n",
      "     0K .....                                                  4,10M=0,001s\n",
      "\n",
      "2023-01-24 15:58:00 (4,10 MB/s) - ‘journals/10856.json’ saved [5530]\n",
      "\n",
      "--2023-01-24 15:58:00--  https://m2.mtmt.hu/api/journal/10005034\n",
      "Resolving m2.mtmt.hu (m2.mtmt.hu)... 193.224.44.74\n",
      "Connecting to m2.mtmt.hu (m2.mtmt.hu)|193.224.44.74|:443... connected.\n"
     ]
    },
    {
     "name": "stdout",
     "output_type": "stream",
     "text": [
      "Új folyóirat:  INTERNATIONAL JOURNAL OF NUMERICAL ANALYSIS AND MODELING 1705-5105 1705-5105\n"
     ]
    },
    {
     "name": "stderr",
     "output_type": "stream",
     "text": [
      "HTTP request sent, awaiting response... 200 \n",
      "Length: unspecified [application/vnd.mtmt2-1.0+json]\n",
      "Saving to: ‘journals/10005034.json’\n",
      "\n",
      "     0K ....                                                   5,16M=0,001s\n",
      "\n",
      "2023-01-24 15:58:02 (5,16 MB/s) - ‘journals/10005034.json’ saved [4324]\n",
      "\n",
      "--2023-01-24 15:58:02--  https://m2.mtmt.hu/api/journal/1467\n",
      "Resolving m2.mtmt.hu (m2.mtmt.hu)... 193.224.44.74\n",
      "Connecting to m2.mtmt.hu (m2.mtmt.hu)|193.224.44.74|:443... connected.\n"
     ]
    },
    {
     "name": "stdout",
     "output_type": "stream",
     "text": [
      "Új folyóirat:  ERGODIC THEORY AND DYNAMICAL SYSTEMS 0143-3857 1469-4417\n"
     ]
    },
    {
     "name": "stderr",
     "output_type": "stream",
     "text": [
      "HTTP request sent, awaiting response... 200 \n",
      "Length: unspecified [application/vnd.mtmt2-1.0+json]\n",
      "Saving to: ‘journals/1467.json’\n",
      "\n",
      "     0K ....                                                   54,4K=0,08s\n",
      "\n",
      "2023-01-24 15:58:04 (54,4 KB/s) - ‘journals/1467.json’ saved [4364]\n",
      "\n",
      "--2023-01-24 15:58:04--  https://m2.mtmt.hu/api/journal/2635\n",
      "Resolving m2.mtmt.hu (m2.mtmt.hu)... 193.224.44.74\n",
      "Connecting to m2.mtmt.hu (m2.mtmt.hu)|193.224.44.74|:443... "
     ]
    },
    {
     "name": "stdout",
     "output_type": "stream",
     "text": [
      "Új folyóirat:  JOURNAL OF MATHEMATICAL BIOLOGY 0303-6812 1432-1416\n"
     ]
    },
    {
     "name": "stderr",
     "output_type": "stream",
     "text": [
      "connected.\n",
      "HTTP request sent, awaiting response... 200 \n",
      "Length: unspecified [application/vnd.mtmt2-1.0+json]\n",
      "Saving to: ‘journals/2635.json’\n",
      "\n",
      "     0K .....                                                  64,9K=0,08s\n",
      "\n",
      "2023-01-24 15:58:06 (64,9 KB/s) - ‘journals/2635.json’ saved [5208]\n",
      "\n",
      "--2023-01-24 15:58:06--  https://m2.mtmt.hu/api/journal/2143\n",
      "Resolving m2.mtmt.hu (m2.mtmt.hu)... 193.224.44.74\n",
      "Connecting to m2.mtmt.hu (m2.mtmt.hu)|193.224.44.74|:443... "
     ]
    },
    {
     "name": "stdout",
     "output_type": "stream",
     "text": [
      "Új folyóirat:  INVENTIONES MATHEMATICAE 0020-9910 1432-1297\n"
     ]
    },
    {
     "name": "stderr",
     "output_type": "stream",
     "text": [
      "connected.\n",
      "HTTP request sent, awaiting response... 200 \n",
      "Length: unspecified [application/vnd.mtmt2-1.0+json]\n",
      "Saving to: ‘journals/2143.json’\n",
      "\n",
      "     0K ...                                                    44,6K=0,08s\n",
      "\n",
      "2023-01-24 15:58:08 (44,6 KB/s) - ‘journals/2143.json’ saved [3772]\n",
      "\n",
      "--2023-01-24 15:58:08--  https://m2.mtmt.hu/api/journal/2011543\n",
      "Resolving m2.mtmt.hu (m2.mtmt.hu)... "
     ]
    },
    {
     "name": "stdout",
     "output_type": "stream",
     "text": [
      "Új folyóirat:  PROCEEDINGS OF THE LONDON MATHEMATICAL SOCIETY 0024-6115 1460-244X\n"
     ]
    },
    {
     "name": "stderr",
     "output_type": "stream",
     "text": [
      "193.224.44.74\n",
      "Connecting to m2.mtmt.hu (m2.mtmt.hu)|193.224.44.74|:443... connected.\n",
      "HTTP request sent, awaiting response... 200 \n",
      "Length: unspecified [application/vnd.mtmt2-1.0+json]\n",
      "Saving to: ‘journals/2011543.json’\n",
      "\n",
      "     0K ....                                                   52,0K=0,08s\n",
      "\n",
      "2023-01-24 15:58:10 (52,0 KB/s) - ‘journals/2011543.json’ saved [4170]\n",
      "\n",
      "--2023-01-24 15:58:10--  https://m2.mtmt.hu/api/journal/2011617\n",
      "Resolving m2.mtmt.hu (m2.mtmt.hu)... "
     ]
    },
    {
     "name": "stdout",
     "output_type": "stream",
     "text": [
      "Új folyóirat:  JOURNAL OF THE LONDON MATHEMATICAL SOCIETY 0024-6107 1469-7750\n"
     ]
    },
    {
     "name": "stderr",
     "output_type": "stream",
     "text": [
      "193.224.44.74\n",
      "Connecting to m2.mtmt.hu (m2.mtmt.hu)|193.224.44.74|:443... connected.\n",
      "HTTP request sent, awaiting response... 200 \n",
      "Length: unspecified [application/vnd.mtmt2-1.0+json]\n",
      "Saving to: ‘journals/2011617.json’\n",
      "\n",
      "     0K .....                                                  24,6K=0,2s\n",
      "\n",
      "2023-01-24 15:58:13 (24,6 KB/s) - ‘journals/2011617.json’ saved [5167]\n",
      "\n",
      "--2023-01-24 15:58:13--  https://m2.mtmt.hu/api/journal/1651\n",
      "Resolving m2.mtmt.hu (m2.mtmt.hu)... 193.224.44.74\n",
      "Connecting to m2.mtmt.hu (m2.mtmt.hu)|193.224.44.74|:443... connected.\n"
     ]
    },
    {
     "name": "stdout",
     "output_type": "stream",
     "text": [
      "Új folyóirat:  FUNDAMENTA MATHEMATICAE 0016-2736 1730-6329\n"
     ]
    },
    {
     "name": "stderr",
     "output_type": "stream",
     "text": [
      "HTTP request sent, awaiting response... 200 \n",
      "Length: unspecified [application/vnd.mtmt2-1.0+json]\n",
      "Saving to: ‘journals/1651.json’\n",
      "\n",
      "     0K ...                                                    45,8K=0,08s\n",
      "\n",
      "2023-01-24 15:58:14 (45,8 KB/s) - ‘journals/1651.json’ saved [3760]\n",
      "\n",
      "--2023-01-24 15:58:14--  https://m2.mtmt.hu/api/journal/3126\n",
      "Resolving m2.mtmt.hu (m2.mtmt.hu)... "
     ]
    },
    {
     "name": "stdout",
     "output_type": "stream",
     "text": [
      "Új folyóirat:  MATHEMATICAL PROCEEDINGS OF THE CAMBRIDGE PHILOSOPHICAL SOCIETY 0305-0041 1469-8064\n"
     ]
    },
    {
     "name": "stderr",
     "output_type": "stream",
     "text": [
      "193.224.44.74\n",
      "Connecting to m2.mtmt.hu (m2.mtmt.hu)|193.224.44.74|:443... connected.\n",
      "HTTP request sent, awaiting response... 200 \n",
      "Length: unspecified [application/vnd.mtmt2-1.0+json]\n",
      "Saving to: ‘journals/3126.json’\n",
      "\n",
      "     0K ...                                                    61,7K=0,06s\n",
      "\n",
      "2023-01-24 15:58:16 (61,7 KB/s) - ‘journals/3126.json’ saved [3946]\n",
      "\n",
      "--2023-01-24 15:58:16--  https://m2.mtmt.hu/api/journal/10035687\n",
      "Resolving m2.mtmt.hu (m2.mtmt.hu)... 193.224.44.74\n",
      "Connecting to m2.mtmt.hu (m2.mtmt.hu)|193.224.44.74|:443... "
     ]
    },
    {
     "name": "stdout",
     "output_type": "stream",
     "text": [
      "Új folyóirat:  JOURNAL OF FRACTAL GEOMETRY 2308-1309 2308-1317\n"
     ]
    },
    {
     "name": "stderr",
     "output_type": "stream",
     "text": [
      "connected.\n",
      "HTTP request sent, awaiting response... 200 \n",
      "Length: unspecified [application/vnd.mtmt2-1.0+json]\n",
      "Saving to: ‘journals/10035687.json’\n",
      "\n",
      "     0K ....                                                   60,4K=0,08s\n",
      "\n",
      "2023-01-24 15:58:18 (60,4 KB/s) - ‘journals/10035687.json’ saved [4708]\n",
      "\n",
      "6it [00:46, 12.27s/it]--2023-01-24 15:58:18--  https://m2.mtmt.hu/api/journal/10058873\n",
      "Resolving m2.mtmt.hu (m2.mtmt.hu)... "
     ]
    },
    {
     "name": "stdout",
     "output_type": "stream",
     "text": [
      "Új folyóirat:  SPECIAL MATRICES 2300-7451\n"
     ]
    },
    {
     "name": "stderr",
     "output_type": "stream",
     "text": [
      "193.224.44.74\n",
      "Connecting to m2.mtmt.hu (m2.mtmt.hu)|193.224.44.74|:443... connected.\n",
      "HTTP request sent, awaiting response... 200 \n",
      "Length: unspecified [application/vnd.mtmt2-1.0+json]\n",
      "Saving to: ‘journals/10058873.json’\n",
      "\n",
      "     0K ....                                                   63,7K=0,08s\n",
      "\n",
      "2023-01-24 15:58:20 (63,7 KB/s) - ‘journals/10058873.json’ saved [4968]\n",
      "\n",
      "--2023-01-24 15:58:20--  https://m2.mtmt.hu/api/journal/10081942\n",
      "Resolving m2.mtmt.hu (m2.mtmt.hu)... 193.224.44.74\n",
      "Connecting to m2.mtmt.hu (m2.mtmt.hu)|193.224.44.74|:443... "
     ]
    },
    {
     "name": "stdout",
     "output_type": "stream",
     "text": [
      "Új folyóirat:  ECONOMETRICS AND STATISTICS 2452-3062\n"
     ]
    },
    {
     "name": "stderr",
     "output_type": "stream",
     "text": [
      "connected.\n",
      "HTTP request sent, awaiting response... 200 \n",
      "Length: unspecified [application/vnd.mtmt2-1.0+json]\n",
      "Saving to: ‘journals/10081942.json’\n",
      "\n",
      "     0K ....                                                   50,8K=0,08s\n",
      "\n",
      "2023-01-24 15:58:20 (50,8 KB/s) - ‘journals/10081942.json’ saved [4145]\n",
      "\n",
      "--2023-01-24 15:58:20--  https://m2.mtmt.hu/api/journal/41198\n",
      "Resolving m2.mtmt.hu (m2.mtmt.hu)... 193.224.44.74\n",
      "Connecting to m2.mtmt.hu (m2.mtmt.hu)|193.224.44.74|:443... "
     ]
    },
    {
     "name": "stdout",
     "output_type": "stream",
     "text": [
      "Új folyóirat:  STUDIA UNIVERSITATIS BABES-BOLYAI MATHEMATICA 0252-1938 2065-961X\n"
     ]
    },
    {
     "name": "stderr",
     "output_type": "stream",
     "text": [
      "connected.\n",
      "HTTP request sent, awaiting response... 200 \n",
      "Length: unspecified [application/vnd.mtmt2-1.0+json]\n",
      "Saving to: ‘journals/41198.json’\n",
      "\n",
      "     0K .....                                                  69,3K=0,08s\n",
      "\n",
      "2023-01-24 15:58:22 (69,3 KB/s) - ‘journals/41198.json’ saved [5520]\n",
      "\n",
      "--2023-01-24 15:58:22--  https://m2.mtmt.hu/api/journal/1417142\n",
      "Resolving m2.mtmt.hu (m2.mtmt.hu)... 193.224.44.74\n",
      "Connecting to m2.mtmt.hu (m2.mtmt.hu)|193.224.44.74|:443... "
     ]
    },
    {
     "name": "stdout",
     "output_type": "stream",
     "text": [
      "Új folyóirat:  ACTA SCIENTIARUM MATHEMATICARUM (SZEGED) 0001-6969\n"
     ]
    },
    {
     "name": "stderr",
     "output_type": "stream",
     "text": [
      "connected.\n",
      "HTTP request sent, awaiting response... 200 \n",
      "Length: unspecified [application/vnd.mtmt2-1.0+json]\n",
      "Saving to: ‘journals/1417142.json’\n",
      "\n",
      "     0K .....                                                  66,5K=0,08s\n",
      "\n",
      "2023-01-24 15:58:22 (66,5 KB/s) - ‘journals/1417142.json’ saved [5356]\n",
      "\n",
      "--2023-01-24 15:58:22--  https://m2.mtmt.hu/api/journal/10082317\n",
      "Resolving m2.mtmt.hu (m2.mtmt.hu)... 193.224.44.74\n",
      "Connecting to m2.mtmt.hu (m2.mtmt.hu)|193.224.44.74|:443... "
     ]
    },
    {
     "name": "stdout",
     "output_type": "stream",
     "text": [
      "Új folyóirat:  DATA SCIENCE AND ENGINEERING 2364-1185 2364-1541\n"
     ]
    },
    {
     "name": "stderr",
     "output_type": "stream",
     "text": [
      "connected.\n",
      "HTTP request sent, awaiting response... 200 \n",
      "Length: unspecified [application/vnd.mtmt2-1.0+json]\n",
      "Saving to: ‘journals/10082317.json’\n",
      "\n",
      "     0K ....                                                   52,5K=0,08s\n",
      "\n",
      "2023-01-24 15:58:24 (52,5 KB/s) - ‘journals/10082317.json’ saved [4190]\n",
      "\n",
      "--2023-01-24 15:58:24--  https://m2.mtmt.hu/api/journal/1326\n",
      "Resolving m2.mtmt.hu (m2.mtmt.hu)... 193.224.44.74\n",
      "Connecting to m2.mtmt.hu (m2.mtmt.hu)|193.224.44.74|:443... "
     ]
    },
    {
     "name": "stdout",
     "output_type": "stream",
     "text": [
      "Új folyóirat:  DISCRETE APPLIED MATHEMATICS 0166-218X 1872-6771\n"
     ]
    },
    {
     "name": "stderr",
     "output_type": "stream",
     "text": [
      "connected.\n",
      "HTTP request sent, awaiting response... 200 \n",
      "Length: unspecified [application/vnd.mtmt2-1.0+json]\n",
      "Saving to: ‘journals/1326.json’\n",
      "\n",
      "     0K .....                                                  66,5K=0,08s\n",
      "\n",
      "2023-01-24 15:58:25 (66,5 KB/s) - ‘journals/1326.json’ saved [5257]\n",
      "\n",
      "--2023-01-24 15:58:25--  https://m2.mtmt.hu/api/journal/10029141\n",
      "Resolving m2.mtmt.hu (m2.mtmt.hu)... 193.224.44.74\n",
      "Connecting to m2.mtmt.hu (m2.mtmt.hu)|193.224.44.74|:443... "
     ]
    },
    {
     "name": "stdout",
     "output_type": "stream",
     "text": [
      "Új folyóirat:  JOURNAL OF PROBABILITY AND STATISTICS 1687-952X 1687-9538\n"
     ]
    },
    {
     "name": "stderr",
     "output_type": "stream",
     "text": [
      "connected.\n",
      "HTTP request sent, awaiting response... 200 \n",
      "Length: unspecified [application/vnd.mtmt2-1.0+json]\n",
      "Saving to: ‘journals/10029141.json’\n",
      "\n",
      "     0K ....                                                   61,7K=0,08s\n",
      "\n",
      "2023-01-24 15:58:26 (61,7 KB/s) - ‘journals/10029141.json’ saved [4899]\n",
      "\n",
      "--2023-01-24 15:58:26--  https://m2.mtmt.hu/api/journal/3044\n",
      "Resolving m2.mtmt.hu (m2.mtmt.hu)... 193.224.44.74\n",
      "Connecting to m2.mtmt.hu (m2.mtmt.hu)|193.224.44.74|:443... "
     ]
    },
    {
     "name": "stdout",
     "output_type": "stream",
     "text": [
      "Új folyóirat:  LINEAR ALGEBRA AND ITS APPLICATIONS 0024-3795 1873-1856\n"
     ]
    },
    {
     "name": "stderr",
     "output_type": "stream",
     "text": [
      "connected.\n",
      "HTTP request sent, awaiting response... 200 \n",
      "Length: unspecified [application/vnd.mtmt2-1.0+json]\n",
      "Saving to: ‘journals/3044.json’\n",
      "\n",
      "     0K .....                                                  59,8K=0,09s\n",
      "\n",
      "2023-01-24 15:58:27 (59,8 KB/s) - ‘journals/3044.json’ saved [5402]\n",
      "\n",
      "--2023-01-24 15:58:27--  https://m2.mtmt.hu/api/journal/1417130\n",
      "Resolving m2.mtmt.hu (m2.mtmt.hu)... "
     ]
    },
    {
     "name": "stdout",
     "output_type": "stream",
     "text": [
      "Új folyóirat:  EUROPEAN JOURNAL OF COMBINATORICS 0195-6698 1095-9971\n"
     ]
    },
    {
     "name": "stderr",
     "output_type": "stream",
     "text": [
      "193.224.44.74\n",
      "Connecting to m2.mtmt.hu (m2.mtmt.hu)|193.224.44.74|:443... connected.\n",
      "HTTP request sent, awaiting response... 200 \n",
      "Length: unspecified [application/vnd.mtmt2-1.0+json]\n",
      "Saving to: ‘journals/1417130.json’\n",
      "\n",
      "     0K .....                                                  69,7K=0,08s\n",
      "\n",
      "2023-01-24 15:58:29 (69,7 KB/s) - ‘journals/1417130.json’ saved [5561]\n",
      "\n",
      "9it [00:57,  7.26s/it]--2023-01-24 15:58:29--  https://m2.mtmt.hu/api/journal/10039908\n",
      "Resolving m2.mtmt.hu (m2.mtmt.hu)... 193.224.44.74\n",
      "Connecting to m2.mtmt.hu (m2.mtmt.hu)|193.224.44.74|:443... "
     ]
    },
    {
     "name": "stdout",
     "output_type": "stream",
     "text": [
      "Új folyóirat:  APPLIED SCIENCES-BASEL 2076-3417\n"
     ]
    },
    {
     "name": "stderr",
     "output_type": "stream",
     "text": [
      "connected.\n",
      "HTTP request sent, awaiting response... 200 \n",
      "Length: unspecified [application/vnd.mtmt2-1.0+json]\n",
      "Saving to: ‘journals/10039908.json’\n",
      "\n",
      "     0K ......                                                 84,4K=0,08s\n",
      "\n",
      "2023-01-24 15:58:29 (84,4 KB/s) - ‘journals/10039908.json’ saved [6886]\n",
      "\n",
      "10it [00:58,  5.82s/it]--2023-01-24 15:58:29--  https://m2.mtmt.hu/api/journal/3035\n",
      "Resolving m2.mtmt.hu (m2.mtmt.hu)... 193.224.44.74\n",
      "Connecting to m2.mtmt.hu (m2.mtmt.hu)|193.224.44.74|:443... "
     ]
    },
    {
     "name": "stdout",
     "output_type": "stream",
     "text": [
      "Új folyóirat:  LETTERS IN MATHEMATICAL PHYSICS 0377-9017 1573-0530\n"
     ]
    },
    {
     "name": "stderr",
     "output_type": "stream",
     "text": [
      "connected.\n",
      "HTTP request sent, awaiting response... 200 \n",
      "Length: unspecified [application/vnd.mtmt2-1.0+json]\n",
      "Saving to: ‘journals/3035.json’\n",
      "\n",
      "     0K ...                                                    51,1K=0,08s\n",
      "\n",
      "2023-01-24 15:58:30 (51,1 KB/s) - ‘journals/3035.json’ saved [4068]\n",
      "\n",
      "--2023-01-24 15:58:30--  https://m2.mtmt.hu/api/journal/2050472\n",
      "Resolving m2.mtmt.hu (m2.mtmt.hu)... 193.224.44.74\n",
      "Connecting to m2.mtmt.hu (m2.mtmt.hu)|193.224.44.74|:443... "
     ]
    },
    {
     "name": "stdout",
     "output_type": "stream",
     "text": [
      "Új folyóirat:  IEEE TRANSACTIONS ON INFORMATION THEORY 0018-9448 1557-9654\n"
     ]
    },
    {
     "name": "stderr",
     "output_type": "stream",
     "text": [
      "connected.\n",
      "HTTP request sent, awaiting response... 200 \n",
      "Length: unspecified [application/vnd.mtmt2-1.0+json]\n",
      "Saving to: ‘journals/2050472.json’\n",
      "\n",
      "     0K ....                                                   58,7K=0,08s\n",
      "\n",
      "2023-01-24 15:58:32 (58,7 KB/s) - ‘journals/2050472.json’ saved [4709]\n",
      "\n",
      "--2023-01-24 15:58:32--  https://m2.mtmt.hu/api/journal/10069825\n",
      "Resolving m2.mtmt.hu (m2.mtmt.hu)... 193.224.44.74\n",
      "Connecting to m2.mtmt.hu (m2.mtmt.hu)|193.224.44.74|:443... "
     ]
    },
    {
     "name": "stdout",
     "output_type": "stream",
     "text": [
      "Új folyóirat:  PHYSICAL REVIEW E: COVERING STATISTICAL NONLINEAR BIOLOGICAL AND SOFT MATTER PHYSICS (2016-) 2470-0045 2470-0053\n"
     ]
    },
    {
     "name": "stderr",
     "output_type": "stream",
     "text": [
      "connected.\n",
      "HTTP request sent, awaiting response... 200 \n",
      "Length: unspecified [application/vnd.mtmt2-1.0+json]\n",
      "Saving to: ‘journals/10069825.json’\n",
      "\n",
      "     0K .......                                                82,9K=0,09s\n",
      "\n",
      "2023-01-24 15:58:32 (82,9 KB/s) - ‘journals/10069825.json’ saved [7491]\n",
      "\n",
      "11it [01:01,  5.12s/it]--2023-01-24 15:58:32--  https://m2.mtmt.hu/api/journal/1362049\n",
      "Resolving m2.mtmt.hu (m2.mtmt.hu)... "
     ]
    },
    {
     "name": "stdout",
     "output_type": "stream",
     "text": [
      "Új folyóirat:  RESULTS IN MATHEMATICS 1422-6383 1420-9012\n"
     ]
    },
    {
     "name": "stderr",
     "output_type": "stream",
     "text": [
      "193.224.44.74\n",
      "Connecting to m2.mtmt.hu (m2.mtmt.hu)|193.224.44.74|:443... connected.\n",
      "HTTP request sent, awaiting response... 200 \n",
      "Length: unspecified [application/vnd.mtmt2-1.0+json]\n",
      "Saving to: ‘journals/1362049.json’\n",
      "\n",
      "     0K .....                                                  70,6K=0,08s\n",
      "\n",
      "2023-01-24 15:58:34 (70,6 KB/s) - ‘journals/1362049.json’ saved [5620]\n",
      "\n",
      "--2023-01-24 15:58:34--  https://m2.mtmt.hu/api/journal/1417141\n",
      "Resolving m2.mtmt.hu (m2.mtmt.hu)... 193.224.44.74\n",
      "Connecting to m2.mtmt.hu (m2.mtmt.hu)|193.224.44.74|:443... "
     ]
    },
    {
     "name": "stdout",
     "output_type": "stream",
     "text": [
      "Új folyóirat:  AEQUATIONES MATHEMATICAE 0001-9054 1420-8903\n"
     ]
    },
    {
     "name": "stderr",
     "output_type": "stream",
     "text": [
      "connected.\n",
      "HTTP request sent, awaiting response... 200 \n",
      "Length: unspecified [application/vnd.mtmt2-1.0+json]\n",
      "Saving to: ‘journals/1417141.json’\n",
      "\n",
      "     0K .....                                                  72,9K=0,08s\n",
      "\n",
      "2023-01-24 15:58:34 (72,9 KB/s) - ‘journals/1417141.json’ saved [5690]\n",
      "\n",
      "--2023-01-24 15:58:34--  https://m2.mtmt.hu/api/journal/2634\n",
      "Resolving m2.mtmt.hu (m2.mtmt.hu)... 193.224.44.74\n",
      "Connecting to m2.mtmt.hu (m2.mtmt.hu)|193.224.44.74|:443... "
     ]
    },
    {
     "name": "stdout",
     "output_type": "stream",
     "text": [
      "Új folyóirat:  JOURNAL OF MATHEMATICAL ANALYSIS AND APPLICATIONS 0022-247X 1096-0813\n"
     ]
    },
    {
     "name": "stderr",
     "output_type": "stream",
     "text": [
      "connected.\n",
      "HTTP request sent, awaiting response... 200 \n",
      "Length: unspecified [application/vnd.mtmt2-1.0+json]\n",
      "Saving to: ‘journals/2634.json’\n",
      "\n",
      "     0K .....                                                   219K=0,02s\n",
      "\n",
      "2023-01-24 15:58:36 (219 KB/s) - ‘journals/2634.json’ saved [5478]\n",
      "\n",
      "--2023-01-24 15:58:36--  https://m2.mtmt.hu/api/journal/1417120\n",
      "Resolving m2.mtmt.hu (m2.mtmt.hu)... 193.224.44.74\n",
      "Connecting to m2.mtmt.hu (m2.mtmt.hu)|193.224.44.74|:443... "
     ]
    },
    {
     "name": "stdout",
     "output_type": "stream",
     "text": [
      "Új folyóirat:  ACTA MATHEMATICA HUNGARICA 0236-5294 1588-2632\n"
     ]
    },
    {
     "name": "stderr",
     "output_type": "stream",
     "text": [
      "connected.\n",
      "HTTP request sent, awaiting response... 200 \n",
      "Length: unspecified [application/vnd.mtmt2-1.0+json]\n",
      "Saving to: ‘journals/1417120.json’\n",
      "\n",
      "     0K ....                                                   64,1K=0,08s\n",
      "\n",
      "2023-01-24 15:58:38 (64,1 KB/s) - ‘journals/1417120.json’ saved [5040]\n",
      "\n",
      "--2023-01-24 15:58:38--  https://m2.mtmt.hu/api/journal/24812\n",
      "Resolving m2.mtmt.hu (m2.mtmt.hu)... 193.224.44.74\n",
      "Connecting to m2.mtmt.hu (m2.mtmt.hu)|193.224.44.74|:443... "
     ]
    },
    {
     "name": "stdout",
     "output_type": "stream",
     "text": [
      "Új folyóirat:  MATHEMATICAL INEQUALITIES & APPLICATIONS 1331-4343 1331-4343\n"
     ]
    },
    {
     "name": "stderr",
     "output_type": "stream",
     "text": [
      "connected.\n",
      "HTTP request sent, awaiting response... 200 \n",
      "Length: unspecified [application/vnd.mtmt2-1.0+json]\n",
      "Saving to: ‘journals/24812.json’\n",
      "\n",
      "     0K ...                                                    50,2K=0,08s\n",
      "\n",
      "2023-01-24 15:58:39 (50,2 KB/s) - ‘journals/24812.json’ saved [3951]\n",
      "\n",
      "--2023-01-24 15:58:39--  https://m2.mtmt.hu/api/journal/2011573\n",
      "Resolving m2.mtmt.hu (m2.mtmt.hu)... 193.224.44.74\n",
      "Connecting to m2.mtmt.hu (m2.mtmt.hu)|193.224.44.74|:443... "
     ]
    },
    {
     "name": "stdout",
     "output_type": "stream",
     "text": [
      "Új folyóirat:  PUBLICATIONES MATHEMATICAE DEBRECEN 0033-3883 2064-2849\n"
     ]
    },
    {
     "name": "stderr",
     "output_type": "stream",
     "text": [
      "connected.\n",
      "HTTP request sent, awaiting response... 200 \n",
      "Length: unspecified [application/vnd.mtmt2-1.0+json]\n",
      "Saving to: ‘journals/2011573.json’\n",
      "\n",
      "     0K ......                                                 86,0K=0,08s\n",
      "\n",
      "2023-01-24 15:58:41 (86,0 KB/s) - ‘journals/2011573.json’ saved [6796]\n",
      "\n",
      "--2023-01-24 15:58:41--  https://m2.mtmt.hu/api/journal/8521\n",
      "Resolving m2.mtmt.hu (m2.mtmt.hu)... 193.224.44.74\n",
      "Connecting to m2.mtmt.hu (m2.mtmt.hu)|193.224.44.74|:443... "
     ]
    },
    {
     "name": "stdout",
     "output_type": "stream",
     "text": [
      "Új folyóirat:  JOURNAL OF GLOBAL OPTIMIZATION 0925-5001 1573-2916\n"
     ]
    },
    {
     "name": "stderr",
     "output_type": "stream",
     "text": [
      "connected.\n",
      "HTTP request sent, awaiting response... 200 \n",
      "Length: unspecified [application/vnd.mtmt2-1.0+json]\n",
      "Saving to: ‘journals/8521.json’\n",
      "\n",
      "     0K .....                                                  53,0K=0,1s\n",
      "\n",
      "2023-01-24 15:58:42 (53,0 KB/s) - ‘journals/8521.json’ saved [5372]\n",
      "\n",
      "--2023-01-24 15:58:42--  https://m2.mtmt.hu/api/journal/2735\n",
      "Resolving m2.mtmt.hu (m2.mtmt.hu)... 193.224.44.74\n",
      "Connecting to m2.mtmt.hu (m2.mtmt.hu)|193.224.44.74|:443... "
     ]
    },
    {
     "name": "stdout",
     "output_type": "stream",
     "text": [
      "Új folyóirat:  JOURNAL OF OPTIMIZATION THEORY AND APPLICATIONS 0022-3239 1573-2878\n"
     ]
    },
    {
     "name": "stderr",
     "output_type": "stream",
     "text": [
      "connected.\n",
      "HTTP request sent, awaiting response... 200 \n",
      "Length: unspecified [application/vnd.mtmt2-1.0+json]\n",
      "Saving to: ‘journals/2735.json’\n",
      "\n",
      "     0K ......                                                 80,0K=0,08s\n",
      "\n",
      "2023-01-24 15:58:43 (80,0 KB/s) - ‘journals/2735.json’ saved [6542]\n",
      "\n",
      "--2023-01-24 15:58:43--  https://m2.mtmt.hu/api/journal/10009689\n",
      "Resolving m2.mtmt.hu (m2.mtmt.hu)... 193.224.44.74\n",
      "Connecting to m2.mtmt.hu (m2.mtmt.hu)|193.224.44.74|:443... "
     ]
    },
    {
     "name": "stdout",
     "output_type": "stream",
     "text": [
      "Új folyóirat:  OPTIMIZATION LETTERS 1862-4472 1862-4480\n"
     ]
    },
    {
     "name": "stderr",
     "output_type": "stream",
     "text": [
      "connected.\n",
      "HTTP request sent, awaiting response... 200 \n",
      "Length: unspecified [application/vnd.mtmt2-1.0+json]\n",
      "Saving to: ‘journals/10009689.json’\n",
      "\n",
      "     0K ...                                                    51,3K=0,08s\n",
      "\n",
      "2023-01-24 15:58:45 (51,3 KB/s) - ‘journals/10009689.json’ saved [4058]\n",
      "\n",
      "12it [01:14,  7.09s/it]--2023-01-24 15:58:45--  https://m2.mtmt.hu/api/journal/14303\n",
      "Resolving m2.mtmt.hu (m2.mtmt.hu)... 193.224.44.74\n",
      "Connecting to m2.mtmt.hu (m2.mtmt.hu)|193.224.44.74|:443... "
     ]
    },
    {
     "name": "stdout",
     "output_type": "stream",
     "text": [
      "Új folyóirat:  NONLINEAR DYNAMICS 0924-090X 1573-269X\n"
     ]
    },
    {
     "name": "stderr",
     "output_type": "stream",
     "text": [
      "connected.\n",
      "HTTP request sent, awaiting response... 200 \n",
      "Length: unspecified [application/vnd.mtmt2-1.0+json]\n",
      "Saving to: ‘journals/14303.json’\n",
      "\n",
      "     0K .....                                                  73,0K=0,08s\n",
      "\n",
      "2023-01-24 15:58:47 (73,0 KB/s) - ‘journals/14303.json’ saved [5756]\n",
      "\n",
      "13it [01:15,  5.65s/it]--2023-01-24 15:58:47--  https://m2.mtmt.hu/api/journal/10009761\n",
      "Resolving m2.mtmt.hu (m2.mtmt.hu)... 193.224.44.74\n",
      "Connecting to m2.mtmt.hu (m2.mtmt.hu)|193.224.44.74|:443... "
     ]
    },
    {
     "name": "stdout",
     "output_type": "stream",
     "text": [
      "Új folyóirat:  UKRAINIAN MATHEMATICAL JOURNAL 0041-5995 1573-9376\n"
     ]
    },
    {
     "name": "stderr",
     "output_type": "stream",
     "text": [
      "connected.\n",
      "HTTP request sent, awaiting response... 200 \n",
      "Length: unspecified [application/vnd.mtmt2-1.0+json]\n",
      "Saving to: ‘journals/10009761.json’\n",
      "\n",
      "     0K ....                                                   30,0K=0,1s\n",
      "\n",
      "2023-01-24 15:58:48 (30,0 KB/s) - ‘journals/10009761.json’ saved [4421]\n",
      "\n",
      "--2023-01-24 15:58:48--  https://m2.mtmt.hu/api/journal/10015710\n",
      "Resolving m2.mtmt.hu (m2.mtmt.hu)... "
     ]
    },
    {
     "name": "stdout",
     "output_type": "stream",
     "text": [
      "Új folyóirat:  FILOMAT 0354-5180 2406-0933\n"
     ]
    },
    {
     "name": "stderr",
     "output_type": "stream",
     "text": [
      "193.224.44.74\n",
      "Connecting to m2.mtmt.hu (m2.mtmt.hu)|193.224.44.74|:443... connected.\n",
      "HTTP request sent, awaiting response... 200 \n",
      "Length: unspecified [application/vnd.mtmt2-1.0+json]\n",
      "Saving to: ‘journals/10015710.json’\n",
      "\n",
      "     0K .....                                                  67,9K=0,08s\n",
      "\n",
      "2023-01-24 15:58:49 (67,9 KB/s) - ‘journals/10015710.json’ saved [5518]\n",
      "\n",
      "--2023-01-24 15:58:49--  https://m2.mtmt.hu/api/journal/7077\n",
      "Resolving m2.mtmt.hu (m2.mtmt.hu)... 193.224.44.74\n",
      "Connecting to m2.mtmt.hu (m2.mtmt.hu)|193.224.44.74|:443... "
     ]
    },
    {
     "name": "stdout",
     "output_type": "stream",
     "text": [
      "Új folyóirat:  COMPUTER AIDED GEOMETRIC DESIGN 0167-8396 1879-2332\n"
     ]
    },
    {
     "name": "stderr",
     "output_type": "stream",
     "text": [
      "connected.\n",
      "HTTP request sent, awaiting response... 200 \n",
      "Length: unspecified [application/vnd.mtmt2-1.0+json]\n",
      "Saving to: ‘journals/7077.json’\n",
      "\n",
      "     0K ....                                                   58,5K=0,08s\n",
      "\n",
      "2023-01-24 15:58:51 (58,5 KB/s) - ‘journals/7077.json’ saved [4798]\n",
      "\n",
      "--2023-01-24 15:58:51--  https://m2.mtmt.hu/api/journal/10015830\n",
      "Resolving m2.mtmt.hu (m2.mtmt.hu)... 193.224.44.74\n",
      "Connecting to m2.mtmt.hu (m2.mtmt.hu)|193.224.44.74|:443... "
     ]
    },
    {
     "name": "stdout",
     "output_type": "stream",
     "text": [
      "Új folyóirat:  MATHEMATICAL COMMUNICATIONS 1331-0623 1848-8013\n"
     ]
    },
    {
     "name": "stderr",
     "output_type": "stream",
     "text": [
      "connected.\n",
      "HTTP request sent, awaiting response... 200 \n",
      "Length: unspecified [application/vnd.mtmt2-1.0+json]\n",
      "Saving to: ‘journals/10015830.json’\n",
      "\n",
      "     0K .....                                                  57,9K=0,09s\n",
      "\n",
      "2023-01-24 15:58:53 (57,9 KB/s) - ‘journals/10015830.json’ saved [5541]\n",
      "\n",
      "14it [01:21,  5.71s/it]"
     ]
    },
    {
     "name": "stdout",
     "output_type": "stream",
     "text": [
      "Új folyóirat:  MATHEMATICAL FINANCE: AN INTERNATIONAL JOURNAL OF MATHEMATICS, STATISTICS AND FINANCIAL ECONOMICS 0960-1627 1467-9965\n"
     ]
    },
    {
     "name": "stderr",
     "output_type": "stream",
     "text": [
      "--2023-01-24 15:58:54--  https://m2.mtmt.hu/api/journal/24810\n",
      "Resolving m2.mtmt.hu (m2.mtmt.hu)... 193.224.44.74\n",
      "Connecting to m2.mtmt.hu (m2.mtmt.hu)|193.224.44.74|:443... connected.\n",
      "HTTP request sent, awaiting response... 200 \n",
      "Length: unspecified [application/vnd.mtmt2-1.0+json]\n",
      "Saving to: ‘journals/24810.json’\n",
      "\n",
      "     0K .........                                               107K=0,08s\n",
      "\n",
      "2023-01-24 15:58:55 (107 KB/s) - ‘journals/24810.json’ saved [9218]\n",
      "\n",
      "--2023-01-24 15:58:55--  https://m2.mtmt.hu/api/journal/3028\n",
      "Resolving m2.mtmt.hu (m2.mtmt.hu)... 193.224.44.74\n",
      "Connecting to m2.mtmt.hu (m2.mtmt.hu)|193.224.44.74|:443... "
     ]
    },
    {
     "name": "stdout",
     "output_type": "stream",
     "text": [
      "Új folyóirat:  LECTURE NOTES IN ARTIFICIAL INTELLIGENCE 0302-9743\n"
     ]
    },
    {
     "name": "stderr",
     "output_type": "stream",
     "text": [
      "connected.\n",
      "HTTP request sent, awaiting response... 200 \n",
      "Length: unspecified [application/vnd.mtmt2-1.0+json]\n",
      "Saving to: ‘journals/3028.json’\n",
      "\n",
      "     0K ....                                                   50,7K=0,08s\n",
      "\n",
      "2023-01-24 15:58:55 (50,7 KB/s) - ‘journals/3028.json’ saved [4304]\n",
      "\n",
      "--2023-01-24 15:58:56--  https://m2.mtmt.hu/api/journal/3029\n",
      "Resolving m2.mtmt.hu (m2.mtmt.hu)... 193.224.44.74\n",
      "Connecting to m2.mtmt.hu (m2.mtmt.hu)|193.224.44.74|:443... "
     ]
    },
    {
     "name": "stdout",
     "output_type": "stream",
     "text": [
      "Új folyóirat:  LECTURE NOTES IN COMPUTER SCIENCE 0302-9743 1611-3349\n"
     ]
    },
    {
     "name": "stderr",
     "output_type": "stream",
     "text": [
      "connected.\n",
      "HTTP request sent, awaiting response... 200 \n",
      "Length: unspecified [application/vnd.mtmt2-1.0+json]\n",
      "Saving to: ‘journals/3029.json’\n",
      "\n",
      "     0K ......                                                 87,3K=0,08s\n",
      "\n",
      "2023-01-24 15:58:56 (87,3 KB/s) - ‘journals/3029.json’ saved [6959]\n",
      "\n",
      "--2023-01-24 15:58:56--  https://m2.mtmt.hu/api/journal/5156\n",
      "Resolving m2.mtmt.hu (m2.mtmt.hu)... 193.224.44.74\n",
      "Connecting to m2.mtmt.hu (m2.mtmt.hu)|193.224.44.74|:443... "
     ]
    },
    {
     "name": "stdout",
     "output_type": "stream",
     "text": [
      "Új folyóirat:  JOURNAL OF BANKING & FINANCE 0378-4266 1872-6372\n"
     ]
    },
    {
     "name": "stderr",
     "output_type": "stream",
     "text": [
      "connected.\n",
      "HTTP request sent, awaiting response... 200 \n",
      "Length: unspecified [application/vnd.mtmt2-1.0+json]\n",
      "Saving to: ‘journals/5156.json’\n",
      "\n",
      "     0K .....                                                  72,7K=0,08s\n",
      "\n",
      "2023-01-24 15:58:58 (72,7 KB/s) - ‘journals/5156.json’ saved [6040]\n",
      "\n",
      "--2023-01-24 15:58:58--  https://m2.mtmt.hu/api/journal/3006\n",
      "Resolving m2.mtmt.hu (m2.mtmt.hu)... 193.224.44.74\n",
      "Connecting to m2.mtmt.hu (m2.mtmt.hu)|193.224.44.74|:443... "
     ]
    },
    {
     "name": "stdout",
     "output_type": "stream",
     "text": [
      "Új folyóirat:  KYBERNETIKA 0023-5954\n"
     ]
    },
    {
     "name": "stderr",
     "output_type": "stream",
     "text": [
      "connected.\n",
      "HTTP request sent, awaiting response... 200 \n",
      "Length: unspecified [application/vnd.mtmt2-1.0+json]\n",
      "Saving to: ‘journals/3006.json’\n",
      "\n",
      "     0K .....                                                  73,5K=0,08s\n",
      "\n",
      "2023-01-24 15:58:59 (73,5 KB/s) - ‘journals/3006.json’ saved [5997]\n",
      "\n",
      "15it [01:28,  6.02s/it]--2023-01-24 15:58:59--  https://m2.mtmt.hu/api/journal/41102\n",
      "Resolving m2.mtmt.hu (m2.mtmt.hu)... "
     ]
    },
    {
     "name": "stdout",
     "output_type": "stream",
     "text": [
      "Új folyóirat:  CONTRIBUTIONS TO DISCRETE MATHEMATICS 1715-0868 1715-0868\n"
     ]
    },
    {
     "name": "stderr",
     "output_type": "stream",
     "text": [
      "193.224.44.74\n",
      "Connecting to m2.mtmt.hu (m2.mtmt.hu)|193.224.44.74|:443... connected.\n",
      "HTTP request sent, awaiting response... 200 \n",
      "Length: unspecified [application/vnd.mtmt2-1.0+json]\n",
      "Saving to: ‘journals/41102.json’\n",
      "\n",
      "     0K ....                                                   4,82M=0,001s\n",
      "\n",
      "2023-01-24 15:59:01 (4,82 MB/s) - ‘journals/41102.json’ saved [4710]\n",
      "\n",
      "17it [01:30,  3.71s/it]--2023-01-24 15:59:01--  https://m2.mtmt.hu/api/journal/2722\n",
      "Resolving m2.mtmt.hu (m2.mtmt.hu)... 193.224.44.74\n",
      "Connecting to m2.mtmt.hu (m2.mtmt.hu)|193.224.44.74|:443... connected.\n"
     ]
    },
    {
     "name": "stdout",
     "output_type": "stream",
     "text": [
      "Új folyóirat:  JOURNAL OF NUMBER THEORY 0022-314X 1096-1658\n"
     ]
    },
    {
     "name": "stderr",
     "output_type": "stream",
     "text": [
      "HTTP request sent, awaiting response... 200 \n",
      "Length: unspecified [application/vnd.mtmt2-1.0+json]\n",
      "Saving to: ‘journals/2722.json’\n",
      "\n",
      "     0K ...                                                    45,6K=0,08s\n",
      "\n",
      "2023-01-24 15:59:02 (45,6 KB/s) - ‘journals/2722.json’ saved [3782]\n",
      "\n",
      "--2023-01-24 15:59:02--  https://m2.mtmt.hu/api/journal/3133\n",
      "Resolving m2.mtmt.hu (m2.mtmt.hu)... 193.224.44.74\n",
      "Connecting to m2.mtmt.hu (m2.mtmt.hu)|193.224.44.74|:443... "
     ]
    },
    {
     "name": "stdout",
     "output_type": "stream",
     "text": [
      "Új folyóirat:  MATHEMATISCHE ZEITSCHRIFT 0025-5874 1432-8232\n"
     ]
    },
    {
     "name": "stderr",
     "output_type": "stream",
     "text": [
      "connected.\n",
      "HTTP request sent, awaiting response... 200 \n",
      "Length: unspecified [application/vnd.mtmt2-1.0+json]\n",
      "Saving to: ‘journals/3133.json’\n",
      "\n",
      "     0K ...                                                    45,2K=0,08s\n",
      "\n",
      "2023-01-24 15:59:03 (45,2 KB/s) - ‘journals/3133.json’ saved [3761]\n",
      "\n",
      "18it [01:32,  3.35s/it]--2023-01-24 15:59:03--  https://m2.mtmt.hu/api/journal/10015719\n",
      "Resolving m2.mtmt.hu (m2.mtmt.hu)... "
     ]
    },
    {
     "name": "stdout",
     "output_type": "stream",
     "text": [
      "Új folyóirat:  FOUNDATIONS OF SCIENCE 1233-1821 1572-8471\n"
     ]
    },
    {
     "name": "stderr",
     "output_type": "stream",
     "text": [
      "193.224.44.74\n",
      "Connecting to m2.mtmt.hu (m2.mtmt.hu)|193.224.44.74|:443... connected.\n",
      "HTTP request sent, awaiting response... 200 \n",
      "Length: unspecified [application/vnd.mtmt2-1.0+json]\n",
      "Saving to: ‘journals/10015719.json’\n",
      "\n",
      "     0K .....                                                  77,8K=0,08s\n",
      "\n",
      "2023-01-24 15:59:05 (77,8 KB/s) - ‘journals/10015719.json’ saved [6141]\n",
      "\n",
      "--2023-01-24 15:59:05--  https://m2.mtmt.hu/api/journal/13337\n",
      "Resolving m2.mtmt.hu (m2.mtmt.hu)... 193.224.44.74\n",
      "Connecting to m2.mtmt.hu (m2.mtmt.hu)|193.224.44.74|:443... "
     ]
    },
    {
     "name": "stdout",
     "output_type": "stream",
     "text": [
      "Új folyóirat:  JOURNAL OF GEOMETRY AND PHYSICS 0393-0440 1879-1662\n"
     ]
    },
    {
     "name": "stderr",
     "output_type": "stream",
     "text": [
      "connected.\n",
      "HTTP request sent, awaiting response... 200 \n",
      "Length: unspecified [application/vnd.mtmt2-1.0+json]\n",
      "Saving to: ‘journals/13337.json’\n",
      "\n",
      "     0K ....                                                   56,6K=0,08s\n",
      "\n",
      "2023-01-24 15:59:07 (56,6 KB/s) - ‘journals/13337.json’ saved [4559]\n",
      "\n",
      "--2023-01-24 15:59:07--  https://m2.mtmt.hu/api/journal/10006460\n",
      "Resolving m2.mtmt.hu (m2.mtmt.hu)... 193.224.44.74\n",
      "Connecting to m2.mtmt.hu (m2.mtmt.hu)|193.224.44.74|:443... "
     ]
    },
    {
     "name": "stdout",
     "output_type": "stream",
     "text": [
      "Új folyóirat:  ADVANCES IN THEORETICAL AND MATHEMATICAL PHYSICS 1095-0761 1095-0753\n"
     ]
    },
    {
     "name": "stderr",
     "output_type": "stream",
     "text": [
      "connected.\n",
      "HTTP request sent, awaiting response... 200 \n",
      "Length: unspecified [application/vnd.mtmt2-1.0+json]\n",
      "Saving to: ‘journals/10006460.json’\n",
      "\n",
      "     0K .....                                                  62,9K=0,08s\n",
      "\n",
      "2023-01-24 15:59:08 (62,9 KB/s) - ‘journals/10006460.json’ saved [5151]\n",
      "\n",
      "--2023-01-24 15:59:08--  https://m2.mtmt.hu/api/journal/1027\n",
      "Resolving m2.mtmt.hu (m2.mtmt.hu)... 193.224.44.74\n",
      "Connecting to m2.mtmt.hu (m2.mtmt.hu)|193.224.44.74|:443... "
     ]
    },
    {
     "name": "stdout",
     "output_type": "stream",
     "text": [
      "Új folyóirat:  CLASSICAL AND QUANTUM GRAVITY 0264-9381 1361-6382\n"
     ]
    },
    {
     "name": "stderr",
     "output_type": "stream",
     "text": [
      "connected.\n",
      "HTTP request sent, awaiting response... 200 \n",
      "Length: unspecified [application/vnd.mtmt2-1.0+json]\n",
      "Saving to: ‘journals/1027.json’\n",
      "\n",
      "     0K ....                                                   3,18M=0,001s\n",
      "\n",
      "2023-01-24 15:59:09 (3,18 MB/s) - ‘journals/1027.json’ saved [4346]\n",
      "\n",
      "--2023-01-24 15:59:09--  https://m2.mtmt.hu/api/journal/10005669\n",
      "Resolving m2.mtmt.hu (m2.mtmt.hu)... 193.224.44.74\n",
      "Connecting to m2.mtmt.hu (m2.mtmt.hu)|193.224.44.74|:443... connected.\n"
     ]
    },
    {
     "name": "stdout",
     "output_type": "stream",
     "text": [
      "Új folyóirat:  INTERNATIONAL JOURNAL OF GEOMETRIC METHODS IN MODERN PHYSICS 0219-8878 1793-6977\n"
     ]
    },
    {
     "name": "stderr",
     "output_type": "stream",
     "text": [
      "HTTP request sent, awaiting response... 200 \n",
      "Length: unspecified [application/vnd.mtmt2-1.0+json]\n",
      "Saving to: ‘journals/10005669.json’\n",
      "\n",
      "     0K ...                                                    2,71M=0,001s\n",
      "\n",
      "2023-01-24 15:59:10 (2,71 MB/s) - ‘journals/10005669.json’ saved [3981]\n",
      "\n",
      "--2023-01-24 15:59:10--  https://m2.mtmt.hu/api/journal/2639\n",
      "Resolving m2.mtmt.hu (m2.mtmt.hu)... 193.224.44.74\n",
      "Connecting to m2.mtmt.hu (m2.mtmt.hu)|193.224.44.74|:443... connected.\n"
     ]
    },
    {
     "name": "stdout",
     "output_type": "stream",
     "text": [
      "Új folyóirat:  JOURNAL OF MATHEMATICAL PHYSICS 0022-2488 1089-7658\n"
     ]
    },
    {
     "name": "stderr",
     "output_type": "stream",
     "text": [
      "HTTP request sent, awaiting response... 200 \n",
      "Length: unspecified [application/vnd.mtmt2-1.0+json]\n",
      "Saving to: ‘journals/2639.json’\n",
      "\n",
      "     0K ...                                                    52,6K=0,08s\n",
      "\n",
      "2023-01-24 15:59:12 (52,6 KB/s) - ‘journals/2639.json’ saved [4062]\n",
      "\n",
      "--2023-01-24 15:59:12--  https://m2.mtmt.hu/api/journal/2112\n",
      "Resolving m2.mtmt.hu (m2.mtmt.hu)... 193.224.44.74\n",
      "Connecting to m2.mtmt.hu (m2.mtmt.hu)|193.224.44.74|:443... "
     ]
    },
    {
     "name": "stdout",
     "output_type": "stream",
     "text": [
      "Új folyóirat:  INTERNATIONAL JOURNAL OF THEORETICAL PHYSICS 0020-7748 1572-9575\n"
     ]
    },
    {
     "name": "stderr",
     "output_type": "stream",
     "text": [
      "connected.\n",
      "HTTP request sent, awaiting response... 200 \n",
      "Length: unspecified [application/vnd.mtmt2-1.0+json]\n",
      "Saving to: ‘journals/2112.json’\n",
      "\n",
      "     0K ....                                                   51,3K=0,08s\n",
      "\n",
      "2023-01-24 15:59:14 (51,3 KB/s) - ‘journals/2112.json’ saved [4142]\n",
      "\n",
      "19it [01:42,  5.17s/it]--2023-01-24 15:59:14--  https://m2.mtmt.hu/api/journal/10015013\n",
      "Resolving m2.mtmt.hu (m2.mtmt.hu)... "
     ]
    },
    {
     "name": "stdout",
     "output_type": "stream",
     "text": [
      "Új folyóirat:  COMPUTATIONAL MANAGEMENT SCIENCE 1619-697X 1619-6988\n"
     ]
    },
    {
     "name": "stderr",
     "output_type": "stream",
     "text": [
      "193.224.44.74\n",
      "Connecting to m2.mtmt.hu (m2.mtmt.hu)|193.224.44.74|:443... connected.\n",
      "HTTP request sent, awaiting response... 200 \n",
      "Length: unspecified [application/vnd.mtmt2-1.0+json]\n",
      "Saving to: ‘journals/10015013.json’\n",
      "\n",
      "     0K ......                                                 63,7K=0,1s\n",
      "\n",
      "2023-01-24 15:59:16 (63,7 KB/s) - ‘journals/10015013.json’ saved [6345]\n",
      "\n",
      "--2023-01-24 15:59:16--  https://m2.mtmt.hu/api/journal/10010478\n",
      "Resolving m2.mtmt.hu (m2.mtmt.hu)... "
     ]
    },
    {
     "name": "stdout",
     "output_type": "stream",
     "text": [
      "Új folyóirat:  CENTRAL EUROPEAN JOURNAL OF OPERATIONS RESEARCH 1435-246X 1613-9178\n"
     ]
    },
    {
     "name": "stderr",
     "output_type": "stream",
     "text": [
      "193.224.44.74\n",
      "Connecting to m2.mtmt.hu (m2.mtmt.hu)|193.224.44.74|:443... connected.\n",
      "HTTP request sent, awaiting response... 200 \n",
      "Length: unspecified [application/vnd.mtmt2-1.0+json]\n",
      "Saving to: ‘journals/10010478.json’\n",
      "\n",
      "     0K ......                                                 86,4K=0,08s\n",
      "\n",
      "2023-01-24 15:59:16 (86,4 KB/s) - ‘journals/10010478.json’ saved [7109]\n",
      "\n",
      "--2023-01-24 15:59:16--  https://m2.mtmt.hu/api/journal/10907\n",
      "Resolving m2.mtmt.hu (m2.mtmt.hu)... 193.224.44.74\n",
      "Connecting to m2.mtmt.hu (m2.mtmt.hu)|193.224.44.74|:443... "
     ]
    },
    {
     "name": "stdout",
     "output_type": "stream",
     "text": [
      "Új folyóirat:  ANNALS OF OPERATIONS RESEARCH 0254-5330 1572-9338\n"
     ]
    },
    {
     "name": "stderr",
     "output_type": "stream",
     "text": [
      "connected.\n",
      "HTTP request sent, awaiting response... 200 \n",
      "Length: unspecified [application/vnd.mtmt2-1.0+json]\n",
      "Saving to: ‘journals/10907.json’\n",
      "\n",
      "     0K ......                                                 66,7K=0,09s\n",
      "\n",
      "2023-01-24 15:59:18 (66,7 KB/s) - ‘journals/10907.json’ saved [6209]\n",
      "\n",
      "--2023-01-24 15:59:18--  https://m2.mtmt.hu/api/journal/2149438\n",
      "Resolving m2.mtmt.hu (m2.mtmt.hu)... 193.224.44.74\n",
      "Connecting to m2.mtmt.hu (m2.mtmt.hu)|193.224.44.74|:443... "
     ]
    },
    {
     "name": "stdout",
     "output_type": "stream",
     "text": [
      "Új folyóirat:  ACTA POLYTECHNICA HUNGARICA 1785-8860 1785-8860\n"
     ]
    },
    {
     "name": "stderr",
     "output_type": "stream",
     "text": [
      "connected.\n",
      "HTTP request sent, awaiting response... 200 \n",
      "Length: unspecified [application/vnd.mtmt2-1.0+json]\n",
      "Saving to: ‘journals/2149438.json’\n",
      "\n",
      "     0K ......                                                 83,4K=0,08s\n",
      "\n",
      "2023-01-24 15:59:19 (83,4 KB/s) - ‘journals/2149438.json’ saved [6543]\n",
      "\n",
      "--2023-01-24 15:59:19--  https://m2.mtmt.hu/api/journal/10010959\n",
      "Resolving m2.mtmt.hu (m2.mtmt.hu)... 193.224.44.74\n",
      "Connecting to m2.mtmt.hu (m2.mtmt.hu)|193.224.44.74|:443... "
     ]
    },
    {
     "name": "stdout",
     "output_type": "stream",
     "text": [
      "Új folyóirat:  TEHNICKI VJESNIK-TECHNICAL GAZETTE 1330-3651 1848-6339\n"
     ]
    },
    {
     "name": "stderr",
     "output_type": "stream",
     "text": [
      "connected.\n",
      "HTTP request sent, awaiting response... 200 \n",
      "Length: unspecified [application/vnd.mtmt2-1.0+json]\n",
      "Saving to: ‘journals/10010959.json’\n",
      "\n",
      "     0K ......                                                 81,3K=0,08s\n",
      "\n",
      "2023-01-24 15:59:21 (81,3 KB/s) - ‘journals/10010959.json’ saved [6508]\n",
      "\n",
      "--2023-01-24 15:59:21--  https://m2.mtmt.hu/api/journal/1362026\n",
      "Resolving m2.mtmt.hu (m2.mtmt.hu)... 193.224.44.74\n",
      "Connecting to m2.mtmt.hu (m2.mtmt.hu)|193.224.44.74|:443... "
     ]
    },
    {
     "name": "stdout",
     "output_type": "stream",
     "text": [
      "Új folyóirat:  SIAM JOURNAL ON OPTIMIZATION 1052-6234 1095-7189\n"
     ]
    },
    {
     "name": "stderr",
     "output_type": "stream",
     "text": [
      "connected.\n",
      "HTTP request sent, awaiting response... 200 \n",
      "Length: unspecified [application/vnd.mtmt2-1.0+json]\n",
      "Saving to: ‘journals/1362026.json’\n",
      "\n",
      "     0K ....                                                   60,4K=0,08s\n",
      "\n",
      "2023-01-24 15:59:22 (60,4 KB/s) - ‘journals/1362026.json’ saved [4722]\n",
      "\n",
      "--2023-01-24 15:59:22--  https://m2.mtmt.hu/api/journal/1513\n",
      "Resolving m2.mtmt.hu (m2.mtmt.hu)... 193.224.44.74\n",
      "Connecting to m2.mtmt.hu (m2.mtmt.hu)|193.224.44.74|:443... "
     ]
    },
    {
     "name": "stdout",
     "output_type": "stream",
     "text": [
      "Új folyóirat:  EUROPEAN JOURNAL OF OPERATIONAL RESEARCH 0377-2217 1872-6860\n"
     ]
    },
    {
     "name": "stderr",
     "output_type": "stream",
     "text": [
      "connected.\n",
      "HTTP request sent, awaiting response... 200 \n",
      "Length: unspecified [application/vnd.mtmt2-1.0+json]\n",
      "Saving to: ‘journals/1513.json’\n",
      "\n",
      "     0K ......                                                 3,39M=0,002s\n",
      "\n",
      "2023-01-24 15:59:23 (3,39 MB/s) - ‘journals/1513.json’ saved [6191]\n",
      "\n",
      "--2023-01-24 15:59:23--  https://m2.mtmt.hu/api/journal/22271\n",
      "Resolving m2.mtmt.hu (m2.mtmt.hu)... 193.224.44.74\n",
      "Connecting to m2.mtmt.hu (m2.mtmt.hu)|193.224.44.74|:443... connected.\n"
     ]
    },
    {
     "name": "stdout",
     "output_type": "stream",
     "text": [
      "Új folyóirat:  COMPUTATIONAL OPTIMIZATION AND APPLICATIONS 0926-6003 1573-2894\n"
     ]
    },
    {
     "name": "stderr",
     "output_type": "stream",
     "text": [
      "HTTP request sent, awaiting response... 200 \n",
      "Length: unspecified [application/vnd.mtmt2-1.0+json]\n",
      "Saving to: ‘journals/22271.json’\n",
      "\n",
      "     0K ......                                                 88,0K=0,08s\n",
      "\n",
      "2023-01-24 15:59:25 (88,0 KB/s) - ‘journals/22271.json’ saved [7133]\n",
      "\n",
      "--2023-01-24 15:59:25--  https://m2.mtmt.hu/api/journal/10020287\n",
      "Resolving m2.mtmt.hu (m2.mtmt.hu)... 193.224.44.74\n",
      "Connecting to m2.mtmt.hu (m2.mtmt.hu)|193.224.44.74|:443... "
     ]
    },
    {
     "name": "stdout",
     "output_type": "stream",
     "text": [
      "Új folyóirat:  MATHEMATICAL PROGRAMMING COMPUTATION 1867-2949 1867-2957\n"
     ]
    },
    {
     "name": "stderr",
     "output_type": "stream",
     "text": [
      "connected.\n",
      "HTTP request sent, awaiting response... 200 \n",
      "Length: unspecified [application/vnd.mtmt2-1.0+json]\n",
      "Saving to: ‘journals/10020287.json’\n",
      "\n",
      "     0K ....                                                   60,3K=0,08s\n",
      "\n",
      "2023-01-24 15:59:27 (60,3 KB/s) - ‘journals/10020287.json’ saved [4748]\n",
      "\n",
      "20it [01:55,  7.27s/it]"
     ]
    },
    {
     "name": "stdout",
     "output_type": "stream",
     "text": [
      "Új folyóirat:  APPLIED MATHEMATICS AND COMPUTATION 0096-3003 1873-5649\n"
     ]
    },
    {
     "name": "stderr",
     "output_type": "stream",
     "text": [
      "--2023-01-24 15:59:27--  https://m2.mtmt.hu/api/journal/454\n",
      "Resolving m2.mtmt.hu (m2.mtmt.hu)... 193.224.44.74\n",
      "Connecting to m2.mtmt.hu (m2.mtmt.hu)|193.224.44.74|:443... connected.\n",
      "HTTP request sent, awaiting response... 200 \n",
      "Length: unspecified [application/vnd.mtmt2-1.0+json]\n",
      "Saving to: ‘journals/454.json’\n",
      "\n",
      "     0K ......                                                 82,3K=0,08s\n",
      "\n",
      "2023-01-24 15:59:27 (82,3 KB/s) - ‘journals/454.json’ saved [6593]\n",
      "\n",
      "--2023-01-24 15:59:27--  https://m2.mtmt.hu/api/journal/10050146\n",
      "Resolving m2.mtmt.hu (m2.mtmt.hu)... 193.224.44.74\n",
      "Connecting to m2.mtmt.hu (m2.mtmt.hu)|193.224.44.74|:443... "
     ]
    },
    {
     "name": "stdout",
     "output_type": "stream",
     "text": [
      "Új folyóirat:  COMPUTATIONAL METHODS IN APPLIED MATHEMATICS 1609-4840 1609-9389\n"
     ]
    },
    {
     "name": "stderr",
     "output_type": "stream",
     "text": [
      "connected.\n",
      "HTTP request sent, awaiting response... 200 \n",
      "Length: unspecified [application/vnd.mtmt2-1.0+json]\n",
      "Saving to: ‘journals/10050146.json’\n",
      "\n",
      "     0K .....                                                  64,5K=0,08s\n",
      "\n",
      "2023-01-24 15:59:29 (64,5 KB/s) - ‘journals/10050146.json’ saved [5402]\n",
      "\n",
      "--2023-01-24 15:59:29--  https://m2.mtmt.hu/api/journal/10015152\n",
      "Resolving m2.mtmt.hu (m2.mtmt.hu)... 193.224.44.74\n",
      "Connecting to m2.mtmt.hu (m2.mtmt.hu)|193.224.44.74|:443... "
     ]
    },
    {
     "name": "stdout",
     "output_type": "stream",
     "text": [
      "Új folyóirat:  ANALELE STIINTIFICE ALE UNIVERSITATII AL I CUZA DIN IASI - SERIE NOUA - MATEMATICA 1221-8421\n"
     ]
    },
    {
     "name": "stderr",
     "output_type": "stream",
     "text": [
      "connected.\n",
      "HTTP request sent, awaiting response... 200 \n",
      "Length: unspecified [application/vnd.mtmt2-1.0+json]\n",
      "Saving to: ‘journals/10015152.json’\n",
      "\n",
      "     0K ...                                                    50,0K=0,08s\n",
      "\n",
      "2023-01-24 15:59:31 (50,0 KB/s) - ‘journals/10015152.json’ saved [3906]\n",
      "\n",
      "--2023-01-24 15:59:31--  https://m2.mtmt.hu/api/journal/1161\n",
      "Resolving m2.mtmt.hu (m2.mtmt.hu)... 193.224.44.74\n",
      "Connecting to m2.mtmt.hu (m2.mtmt.hu)|193.224.44.74|:443... "
     ]
    },
    {
     "name": "stdout",
     "output_type": "stream",
     "text": [
      "Új folyóirat:  COMPUTERS AND MATHEMATICS WITH APPLICATIONS 0898-1221 1873-7668\n"
     ]
    },
    {
     "name": "stderr",
     "output_type": "stream",
     "text": [
      "connected.\n",
      "HTTP request sent, awaiting response... 200 \n",
      "Length: unspecified [application/vnd.mtmt2-1.0+json]\n",
      "Saving to: ‘journals/1161.json’\n",
      "\n",
      "     0K .....                                                  67,1K=0,08s\n",
      "\n",
      "2023-01-24 15:59:33 (67,1 KB/s) - ‘journals/1161.json’ saved [5211]\n",
      "\n",
      "--2023-01-24 15:59:33--  https://m2.mtmt.hu/api/journal/2396\n",
      "Resolving m2.mtmt.hu (m2.mtmt.hu)... 193.224.44.74\n",
      "Connecting to m2.mtmt.hu (m2.mtmt.hu)|193.224.44.74|:443... "
     ]
    },
    {
     "name": "stdout",
     "output_type": "stream",
     "text": [
      "Új folyóirat:  JOURNAL OF COMPUTATIONAL AND APPLIED MATHEMATICS 0377-0427 1879-1778\n"
     ]
    },
    {
     "name": "stderr",
     "output_type": "stream",
     "text": [
      "connected.\n",
      "HTTP request sent, awaiting response... 200 \n",
      "Length: unspecified [application/vnd.mtmt2-1.0+json]\n",
      "Saving to: ‘journals/2396.json’\n",
      "\n",
      "     0K ....                                                   60,8K=0,08s\n",
      "\n",
      "2023-01-24 15:59:33 (60,8 KB/s) - ‘journals/2396.json’ saved [4785]\n",
      "\n",
      "--2023-01-24 15:59:33--  https://m2.mtmt.hu/api/journal/1330444\n",
      "Resolving m2.mtmt.hu (m2.mtmt.hu)... "
     ]
    },
    {
     "name": "stdout",
     "output_type": "stream",
     "text": [
      "Új folyóirat:  IDŐJÁRÁS / QUARTERLY JOURNAL OF THE HUNGARIAN METEOROLOGICAL SERVICE 0324-6329 0324-6329\n"
     ]
    },
    {
     "name": "stderr",
     "output_type": "stream",
     "text": [
      "193.224.44.74\n",
      "Connecting to m2.mtmt.hu (m2.mtmt.hu)|193.224.44.74|:443... connected.\n",
      "HTTP request sent, awaiting response... 200 \n",
      "Length: unspecified [application/vnd.mtmt2-1.0+json]\n",
      "Saving to: ‘journals/1330444.json’\n",
      "\n",
      "     0K ......                                                 80,6K=0,08s\n",
      "\n",
      "2023-01-24 15:59:35 (80,6 KB/s) - ‘journals/1330444.json’ saved [6522]\n",
      "\n",
      "--2023-01-24 15:59:35--  https://m2.mtmt.hu/api/journal/1220879\n",
      "Resolving m2.mtmt.hu (m2.mtmt.hu)... 193.224.44.74\n",
      "Connecting to m2.mtmt.hu (m2.mtmt.hu)|193.224.44.74|:443... "
     ]
    },
    {
     "name": "stdout",
     "output_type": "stream",
     "text": [
      "Új folyóirat:  NONLINEAR ANALYSIS-THEORY METHODS & APPLICATIONS 0362-546X 1873-5215\n"
     ]
    },
    {
     "name": "stderr",
     "output_type": "stream",
     "text": [
      "connected.\n",
      "HTTP request sent, awaiting response... 200 \n",
      "Length: unspecified [application/vnd.mtmt2-1.0+json]\n",
      "Saving to: ‘journals/1220879.json’\n",
      "\n",
      "     0K ....                                                   56,7K=0,08s\n",
      "\n",
      "2023-01-24 15:59:37 (56,7 KB/s) - ‘journals/1220879.json’ saved [4794]\n",
      "\n",
      "--2023-01-24 15:59:37--  https://m2.mtmt.hu/api/journal/3437\n",
      "Resolving m2.mtmt.hu (m2.mtmt.hu)... 193.224.44.74\n",
      "Connecting to m2.mtmt.hu (m2.mtmt.hu)|193.224.44.74|:443... "
     ]
    },
    {
     "name": "stdout",
     "output_type": "stream",
     "text": [
      "Új folyóirat:  NUMERISCHE MATHEMATIK 0029-599X 0945-3245\n"
     ]
    },
    {
     "name": "stderr",
     "output_type": "stream",
     "text": [
      "connected.\n",
      "HTTP request sent, awaiting response... 200 \n",
      "Length: unspecified [application/vnd.mtmt2-1.0+json]\n",
      "Saving to: ‘journals/3437.json’\n",
      "\n",
      "     0K ...                                                    49,9K=0,08s\n",
      "\n",
      "2023-01-24 15:59:38 (49,9 KB/s) - ‘journals/3437.json’ saved [4006]\n",
      "\n",
      "--2023-01-24 15:59:38--  https://m2.mtmt.hu/api/journal/10038892\n",
      "Resolving m2.mtmt.hu (m2.mtmt.hu)... 193.224.44.74\n",
      "Connecting to m2.mtmt.hu (m2.mtmt.hu)|193.224.44.74|:443... "
     ]
    },
    {
     "name": "stdout",
     "output_type": "stream",
     "text": [
      "Új folyóirat:  EUROPEAN JOURNAL OF MATHEMATICS 2199-675X 2199-6768\n"
     ]
    },
    {
     "name": "stderr",
     "output_type": "stream",
     "text": [
      "connected.\n",
      "HTTP request sent, awaiting response... 200 \n",
      "Length: unspecified [application/vnd.mtmt2-1.0+json]\n",
      "Saving to: ‘journals/10038892.json’\n",
      "\n",
      "     0K .....                                                  67,3K=0,08s\n",
      "\n",
      "2023-01-24 15:59:39 (67,3 KB/s) - ‘journals/10038892.json’ saved [5259]\n",
      "\n",
      "--2023-01-24 15:59:39--  https://m2.mtmt.hu/api/journal/2150487\n",
      "Resolving m2.mtmt.hu (m2.mtmt.hu)... 193.224.44.74\n",
      "Connecting to m2.mtmt.hu (m2.mtmt.hu)|193.224.44.74|:443... "
     ]
    },
    {
     "name": "stdout",
     "output_type": "stream",
     "text": [
      "Új folyóirat:  JOURNAL OF PHYSICS-CONFERENCE SERIES 1742-6588 1742-6596\n"
     ]
    },
    {
     "name": "stderr",
     "output_type": "stream",
     "text": [
      "connected.\n",
      "HTTP request sent, awaiting response... 200 \n",
      "Length: unspecified [application/vnd.mtmt2-1.0+json]\n",
      "Saving to: ‘journals/2150487.json’\n",
      "\n",
      "     0K .....                                                  70,7K=0,08s\n",
      "\n",
      "2023-01-24 15:59:40 (70,7 KB/s) - ‘journals/2150487.json’ saved [5850]\n",
      "\n",
      "--2023-01-24 15:59:40--  https://m2.mtmt.hu/api/journal/12784\n",
      "Resolving m2.mtmt.hu (m2.mtmt.hu)... 193.224.44.74\n",
      "Connecting to m2.mtmt.hu (m2.mtmt.hu)|193.224.44.74|:443... "
     ]
    },
    {
     "name": "stdout",
     "output_type": "stream",
     "text": [
      "Új folyóirat:  INTERNATIONAL JOURNAL OF ENVIRONMENT AND POLLUTION 0957-4352 1741-5101\n"
     ]
    },
    {
     "name": "stderr",
     "output_type": "stream",
     "text": [
      "connected.\n",
      "HTTP request sent, awaiting response... 200 \n",
      "Length: unspecified [application/vnd.mtmt2-1.0+json]\n",
      "Saving to: ‘journals/12784.json’\n",
      "\n",
      "     0K .......                                                86,8K=0,09s\n",
      "\n",
      "2023-01-24 15:59:42 (86,8 KB/s) - ‘journals/12784.json’ saved [7702]\n",
      "\n",
      "--2023-01-24 15:59:42--  https://m2.mtmt.hu/api/journal/2147618\n",
      "Resolving m2.mtmt.hu (m2.mtmt.hu)... 193.224.44.74\n",
      "Connecting to m2.mtmt.hu (m2.mtmt.hu)|193.224.44.74|:443... "
     ]
    },
    {
     "name": "stdout",
     "output_type": "stream",
     "text": [
      "Új folyóirat:  APPLICATIONS OF MATHEMATICS 0862-7940 1572-9109\n"
     ]
    },
    {
     "name": "stderr",
     "output_type": "stream",
     "text": [
      "connected.\n",
      "HTTP request sent, awaiting response... 200 \n",
      "Length: unspecified [application/vnd.mtmt2-1.0+json]\n",
      "Saving to: ‘journals/2147618.json’\n",
      "\n",
      "     0K ....                                                   53,5K=0,08s\n",
      "\n",
      "2023-01-24 15:59:44 (53,5 KB/s) - ‘journals/2147618.json’ saved [4226]\n",
      "\n",
      "--2023-01-24 15:59:44--  https://m2.mtmt.hu/api/journal/2150624\n",
      "Resolving m2.mtmt.hu (m2.mtmt.hu)... 193.224.44.74\n",
      "Connecting to m2.mtmt.hu (m2.mtmt.hu)|193.224.44.74|:443... "
     ]
    },
    {
     "name": "stdout",
     "output_type": "stream",
     "text": [
      "Új folyóirat:  ELECTRONIC JOURNAL OF QUALITATIVE THEORY OF DIFFERENTIAL EQUATIONS 1417-3875 1417-3875\n"
     ]
    },
    {
     "name": "stderr",
     "output_type": "stream",
     "text": [
      "connected.\n",
      "HTTP request sent, awaiting response... 200 \n",
      "Length: unspecified [application/vnd.mtmt2-1.0+json]\n",
      "Saving to: ‘journals/2150624.json’\n",
      "\n",
      "     0K .....                                                  69,8K=0,08s\n",
      "\n",
      "2023-01-24 15:59:44 (69,8 KB/s) - ‘journals/2150624.json’ saved [5464]\n",
      "\n",
      "--2023-01-24 15:59:45--  https://m2.mtmt.hu/api/journal/766\n",
      "Resolving m2.mtmt.hu (m2.mtmt.hu)... 193.224.44.74\n",
      "Connecting to m2.mtmt.hu (m2.mtmt.hu)|193.224.44.74|:443... "
     ]
    },
    {
     "name": "stdout",
     "output_type": "stream",
     "text": [
      "Új folyóirat:  BIT NUMERICAL MATHEMATICS 0006-3835 1572-9125\n"
     ]
    },
    {
     "name": "stderr",
     "output_type": "stream",
     "text": [
      "connected.\n",
      "HTTP request sent, awaiting response... 200 \n",
      "Length: unspecified [application/vnd.mtmt2-1.0+json]\n",
      "Saving to: ‘journals/766.json’\n",
      "\n",
      "     0K .....                                                  67,3K=0,08s\n",
      "\n",
      "2023-01-24 15:59:46 (67,3 KB/s) - ‘journals/766.json’ saved [5274]\n",
      "\n",
      "--2023-01-24 15:59:46--  https://m2.mtmt.hu/api/journal/3117\n",
      "Resolving m2.mtmt.hu (m2.mtmt.hu)... 193.224.44.74\n",
      "Connecting to m2.mtmt.hu (m2.mtmt.hu)|193.224.44.74|:443... "
     ]
    },
    {
     "name": "stdout",
     "output_type": "stream",
     "text": [
      "Új folyóirat:  MATHEMATICS AND COMPUTERS IN SIMULATION 0378-4754 1872-7166\n"
     ]
    },
    {
     "name": "stderr",
     "output_type": "stream",
     "text": [
      "connected.\n",
      "HTTP request sent, awaiting response... 200 \n",
      "Length: unspecified [application/vnd.mtmt2-1.0+json]\n",
      "Saving to: ‘journals/3117.json’\n",
      "\n",
      "     0K .......                                                91,5K=0,08s\n",
      "\n",
      "2023-01-24 15:59:48 (91,5 KB/s) - ‘journals/3117.json’ saved [7497]\n",
      "\n",
      "--2023-01-24 15:59:48--  https://m2.mtmt.hu/api/journal/455\n",
      "Resolving m2.mtmt.hu (m2.mtmt.hu)... 193.224.44.74\n",
      "Connecting to m2.mtmt.hu (m2.mtmt.hu)|193.224.44.74|:443... "
     ]
    },
    {
     "name": "stdout",
     "output_type": "stream",
     "text": [
      "Új folyóirat:  APPLIED MATHEMATICS LETTERS 0893-9659 1873-5452\n"
     ]
    },
    {
     "name": "stderr",
     "output_type": "stream",
     "text": [
      "connected.\n",
      "HTTP request sent, awaiting response... 200 \n",
      "Length: unspecified [application/vnd.mtmt2-1.0+json]\n",
      "Saving to: ‘journals/455.json’\n",
      "\n",
      "     0K ...                                                    48,3K=0,08s\n",
      "\n",
      "2023-01-24 15:59:50 (48,3 KB/s) - ‘journals/455.json’ saved [3761]\n",
      "\n",
      "--2023-01-24 15:59:50--  https://m2.mtmt.hu/api/journal/10009762\n",
      "Resolving m2.mtmt.hu (m2.mtmt.hu)... 193.224.44.74\n",
      "Connecting to m2.mtmt.hu (m2.mtmt.hu)|193.224.44.74|:443... "
     ]
    },
    {
     "name": "stdout",
     "output_type": "stream",
     "text": [
      "Új folyóirat:  MISKOLC MATHEMATICAL NOTES 1787-2405 1787-2413\n"
     ]
    },
    {
     "name": "stderr",
     "output_type": "stream",
     "text": [
      "connected.\n",
      "HTTP request sent, awaiting response... 200 \n",
      "Length: unspecified [application/vnd.mtmt2-1.0+json]\n",
      "Saving to: ‘journals/10009762.json’\n",
      "\n",
      "     0K ......                                                 85,1K=0,08s\n",
      "\n",
      "2023-01-24 15:59:50 (85,1 KB/s) - ‘journals/10009762.json’ saved [6692]\n",
      "\n",
      "--2023-01-24 15:59:50--  https://m2.mtmt.hu/api/journal/10010454\n",
      "Resolving m2.mtmt.hu (m2.mtmt.hu)... 193.224.44.74\n",
      "Connecting to m2.mtmt.hu (m2.mtmt.hu)|193.224.44.74|:443... "
     ]
    },
    {
     "name": "stdout",
     "output_type": "stream",
     "text": [
      "Új folyóirat:  CENTRAL EUROPEAN JOURNAL OF MATHEMATICS 1895-1074 1644-3616\n"
     ]
    },
    {
     "name": "stderr",
     "output_type": "stream",
     "text": [
      "connected.\n",
      "HTTP request sent, awaiting response... 200 \n",
      "Length: unspecified [application/vnd.mtmt2-1.0+json]\n",
      "Saving to: ‘journals/10010454.json’\n",
      "\n",
      "     0K ....                                                   54,8K=0,08s\n",
      "\n",
      "2023-01-24 15:59:52 (54,8 KB/s) - ‘journals/10010454.json’ saved [4403]\n",
      "\n",
      "--2023-01-24 15:59:52--  https://m2.mtmt.hu/api/journal/1912\n",
      "Resolving m2.mtmt.hu (m2.mtmt.hu)... 193.224.44.74\n",
      "Connecting to m2.mtmt.hu (m2.mtmt.hu)|193.224.44.74|:443... "
     ]
    },
    {
     "name": "stdout",
     "output_type": "stream",
     "text": [
      "Új folyóirat:  IMA JOURNAL OF NUMERICAL ANALYSIS 0272-4979 1464-3642\n"
     ]
    },
    {
     "name": "stderr",
     "output_type": "stream",
     "text": [
      "connected.\n",
      "HTTP request sent, awaiting response... 200 \n",
      "Length: unspecified [application/vnd.mtmt2-1.0+json]\n",
      "Saving to: ‘journals/1912.json’\n",
      "\n",
      "     0K ....                                                   55,3K=0,08s\n",
      "\n",
      "2023-01-24 15:59:54 (55,3 KB/s) - ‘journals/1912.json’ saved [4274]\n",
      "\n",
      "21it [02:22, 12.69s/it]--2023-01-24 15:59:54--  https://m2.mtmt.hu/api/journal/10010871\n",
      "Resolving m2.mtmt.hu (m2.mtmt.hu)... "
     ]
    },
    {
     "name": "stdout",
     "output_type": "stream",
     "text": [
      "Új folyóirat:  NOTRE DAME JOURNAL OF FORMAL LOGIC 0029-4527 1939-0726\n"
     ]
    },
    {
     "name": "stderr",
     "output_type": "stream",
     "text": [
      "193.224.44.74\n",
      "Connecting to m2.mtmt.hu (m2.mtmt.hu)|193.224.44.74|:443... connected.\n",
      "HTTP request sent, awaiting response... 200 \n",
      "Length: unspecified [application/vnd.mtmt2-1.0+json]\n",
      "Saving to: ‘journals/10010871.json’\n",
      "\n",
      "     0K ....                                                   3,13M=0,001s\n",
      "\n",
      "2023-01-24 15:59:55 (3,13 MB/s) - ‘journals/10010871.json’ saved [4798]\n",
      "\n",
      "--2023-01-24 15:59:55--  https://m2.mtmt.hu/api/journal/3121\n",
      "Resolving m2.mtmt.hu (m2.mtmt.hu)... 193.224.44.74\n",
      "Connecting to m2.mtmt.hu (m2.mtmt.hu)|193.224.44.74|:443... connected.\n"
     ]
    },
    {
     "name": "stdout",
     "output_type": "stream",
     "text": [
      "Új folyóirat:  MATHEMATICAL LOGIC QUARTERLY 0942-5616 1521-3870\n"
     ]
    },
    {
     "name": "stderr",
     "output_type": "stream",
     "text": [
      "HTTP request sent, awaiting response... 200 \n",
      "Length: unspecified [application/vnd.mtmt2-1.0+json]\n",
      "Saving to: ‘journals/3121.json’\n",
      "\n",
      "     0K ...                                                    49,9K=0,08s\n",
      "\n",
      "2023-01-24 15:59:57 (49,9 KB/s) - ‘journals/3121.json’ saved [3984]\n",
      "\n",
      "--2023-01-24 15:59:57--  https://m2.mtmt.hu/api/journal/39868\n",
      "Resolving m2.mtmt.hu (m2.mtmt.hu)... 193.224.44.74\n",
      "Connecting to m2.mtmt.hu (m2.mtmt.hu)|193.224.44.74|:443... "
     ]
    },
    {
     "name": "stdout",
     "output_type": "stream",
     "text": [
      "Új folyóirat:  PUBLICATIONS DE L INSTITUT MATHEMATIQUE-BEOGRAD 0350-1302 0522-828X\n"
     ]
    },
    {
     "name": "stderr",
     "output_type": "stream",
     "text": [
      "connected.\n",
      "HTTP request sent, awaiting response... 200 \n",
      "Length: unspecified [application/vnd.mtmt2-1.0+json]\n",
      "Saving to: ‘journals/39868.json’\n",
      "\n",
      "     0K ....                                                   52,7K=0,09s\n",
      "\n",
      "2023-01-24 15:59:58 (52,7 KB/s) - ‘journals/39868.json’ saved [4601]\n",
      "\n",
      "--2023-01-24 15:59:58--  https://m2.mtmt.hu/api/journal/1417121\n",
      "Resolving m2.mtmt.hu (m2.mtmt.hu)... 193.224.44.74\n",
      "Connecting to m2.mtmt.hu (m2.mtmt.hu)|193.224.44.74|:443... "
     ]
    },
    {
     "name": "stdout",
     "output_type": "stream",
     "text": [
      "Új folyóirat:  ALGEBRA UNIVERSALIS 0002-5240 1420-8911\n"
     ]
    },
    {
     "name": "stderr",
     "output_type": "stream",
     "text": [
      "connected.\n",
      "HTTP request sent, awaiting response... 200 \n",
      "Length: unspecified [application/vnd.mtmt2-1.0+json]\n",
      "Saving to: ‘journals/1417121.json’\n",
      "\n",
      "     0K ....                                                   62,8K=0,08s\n",
      "\n",
      "2023-01-24 15:59:59 (62,8 KB/s) - ‘journals/1417121.json’ saved [4974]\n",
      "\n",
      "--2023-01-24 15:59:59--  https://m2.mtmt.hu/api/journal/5829\n",
      "Resolving m2.mtmt.hu (m2.mtmt.hu)... 193.224.44.74\n",
      "Connecting to m2.mtmt.hu (m2.mtmt.hu)|193.224.44.74|:443... "
     ]
    },
    {
     "name": "stdout",
     "output_type": "stream",
     "text": [
      "Új folyóirat:  SYNTHESE 0039-7857 1573-0964\n"
     ]
    },
    {
     "name": "stderr",
     "output_type": "stream",
     "text": [
      "connected.\n",
      "HTTP request sent, awaiting response... 200 \n",
      "Length: unspecified [application/vnd.mtmt2-1.0+json]\n",
      "Saving to: ‘journals/5829.json’\n",
      "\n",
      "     0K .....                                                  70,5K=0,08s\n",
      "\n",
      "2023-01-24 16:00:01 (70,5 KB/s) - ‘journals/5829.json’ saved [5969]\n",
      "\n",
      "23it [02:30,  8.69s/it]--2023-01-24 16:00:01--  https://m2.mtmt.hu/api/journal/536\n",
      "Resolving m2.mtmt.hu (m2.mtmt.hu)... "
     ]
    },
    {
     "name": "stdout",
     "output_type": "stream",
     "text": [
      "Új folyóirat:  ARS COMBINATORIA 0381-7032\n"
     ]
    },
    {
     "name": "stderr",
     "output_type": "stream",
     "text": [
      "193.224.44.74\n",
      "Connecting to m2.mtmt.hu (m2.mtmt.hu)|193.224.44.74|:443... connected.\n",
      "HTTP request sent, awaiting response... 200 \n",
      "Length: unspecified [application/vnd.mtmt2-1.0+json]\n",
      "Saving to: ‘journals/536.json’\n",
      "\n",
      "     0K ...                                                    51,8K=0,08s\n",
      "\n",
      "2023-01-24 16:00:03 (51,8 KB/s) - ‘journals/536.json’ saved [4026]\n",
      "\n",
      "24it [02:31,  7.01s/it]--2023-01-24 16:00:03--  https://m2.mtmt.hu/api/journal/1701\n",
      "Resolving m2.mtmt.hu (m2.mtmt.hu)... "
     ]
    },
    {
     "name": "stdout",
     "output_type": "stream",
     "text": [
      "Új folyóirat:  GEOMETRIAE DEDICATA 0046-5755 1572-9168\n"
     ]
    },
    {
     "name": "stderr",
     "output_type": "stream",
     "text": [
      "193.224.44.74\n",
      "Connecting to m2.mtmt.hu (m2.mtmt.hu)|193.224.44.74|:443... connected.\n",
      "HTTP request sent, awaiting response... 200 \n",
      "Length: unspecified [application/vnd.mtmt2-1.0+json]\n",
      "Saving to: ‘journals/1701.json’\n",
      "\n",
      "     0K ...                                                    47,9K=0,08s\n",
      "\n",
      "2023-01-24 16:00:03 (47,9 KB/s) - ‘journals/1701.json’ saved [3770]\n",
      "\n",
      "--2023-01-24 16:00:03--  https://m2.mtmt.hu/api/journal/10025530\n",
      "Resolving m2.mtmt.hu (m2.mtmt.hu)... 193.224.44.74\n",
      "Connecting to m2.mtmt.hu (m2.mtmt.hu)|193.224.44.74|:443... "
     ]
    },
    {
     "name": "stdout",
     "output_type": "stream",
     "text": [
      "Új folyóirat:  INTERNATIONAL ELECTRONIC JOURNAL OF GEOMETRY 1307-5624\n"
     ]
    },
    {
     "name": "stderr",
     "output_type": "stream",
     "text": [
      "connected.\n",
      "HTTP request sent, awaiting response... 200 \n",
      "Length: unspecified [application/vnd.mtmt2-1.0+json]\n",
      "Saving to: ‘journals/10025530.json’\n",
      "\n",
      "     0K ...                                                    3,01M=0,001s\n",
      "\n",
      "2023-01-24 16:00:05 (3,01 MB/s) - ‘journals/10025530.json’ saved [3935]\n",
      "\n",
      "--2023-01-24 16:00:05--  https://m2.mtmt.hu/api/journal/2050667\n",
      "Resolving m2.mtmt.hu (m2.mtmt.hu)... 193.224.44.74\n",
      "Connecting to m2.mtmt.hu (m2.mtmt.hu)|193.224.44.74|:443... connected.\n"
     ]
    },
    {
     "name": "stdout",
     "output_type": "stream",
     "text": [
      "Új folyóirat:  JOURNAL OF GEOMETRY 0047-2468 1420-8997\n"
     ]
    },
    {
     "name": "stderr",
     "output_type": "stream",
     "text": [
      "HTTP request sent, awaiting response... 200 \n",
      "Length: unspecified [application/vnd.mtmt2-1.0+json]\n",
      "Saving to: ‘journals/2050667.json’\n",
      "\n",
      "     0K ....                                                   60,6K=0,08s\n",
      "\n",
      "2023-01-24 16:00:07 (60,6 KB/s) - ‘journals/2050667.json’ saved [4862]\n",
      "\n",
      "--2023-01-24 16:00:07--  https://m2.mtmt.hu/api/journal/39629\n",
      "Resolving m2.mtmt.hu (m2.mtmt.hu)... 193.224.44.74\n",
      "Connecting to m2.mtmt.hu (m2.mtmt.hu)|193.224.44.74|:443... "
     ]
    },
    {
     "name": "stdout",
     "output_type": "stream",
     "text": [
      "Új folyóirat:  BEITRAGE ZUR ALGEBRA UND GEOMETRIE 0138-4821 2191-0383\n"
     ]
    },
    {
     "name": "stderr",
     "output_type": "stream",
     "text": [
      "connected.\n",
      "HTTP request sent, awaiting response... 200 \n",
      "Length: unspecified [application/vnd.mtmt2-1.0+json]\n",
      "Saving to: ‘journals/39629.json’\n",
      "\n",
      "     0K ....                                                   53,6K=0,08s\n",
      "\n",
      "2023-01-24 16:00:08 (53,6 KB/s) - ‘journals/39629.json’ saved [4648]\n",
      "\n",
      "--2023-01-24 16:00:08--  https://m2.mtmt.hu/api/journal/10025449\n",
      "Resolving m2.mtmt.hu (m2.mtmt.hu)... 193.224.44.74\n",
      "Connecting to m2.mtmt.hu (m2.mtmt.hu)|193.224.44.74|:443... "
     ]
    },
    {
     "name": "stdout",
     "output_type": "stream",
     "text": [
      "Új folyóirat:  ANALYSIS AND MATHEMATICAL PHYSICS 1664-2368 1664-235X\n"
     ]
    },
    {
     "name": "stderr",
     "output_type": "stream",
     "text": [
      "connected.\n",
      "HTTP request sent, awaiting response... 200 \n",
      "Length: unspecified [application/vnd.mtmt2-1.0+json]\n",
      "Saving to: ‘journals/10025449.json’\n",
      "\n",
      "     0K .....                                                  4,09M=0,001s\n",
      "\n",
      "2023-01-24 16:00:09 (4,09 MB/s) - ‘journals/10025449.json’ saved [5849]\n",
      "\n",
      "--2023-01-24 16:00:09--  https://m2.mtmt.hu/api/journal/3278\n",
      "Resolving m2.mtmt.hu (m2.mtmt.hu)... 193.224.44.74\n",
      "Connecting to m2.mtmt.hu (m2.mtmt.hu)|193.224.44.74|:443... connected.\n"
     ]
    },
    {
     "name": "stdout",
     "output_type": "stream",
     "text": [
      "Új folyóirat:  MONATSHEFTE FUR MATHEMATIK 0026-9255 1436-5081\n"
     ]
    },
    {
     "name": "stderr",
     "output_type": "stream",
     "text": [
      "HTTP request sent, awaiting response... 200 \n",
      "Length: unspecified [application/vnd.mtmt2-1.0+json]\n",
      "Saving to: ‘journals/3278.json’\n",
      "\n",
      "     0K ....                                                   63,1K=0,08s\n",
      "\n",
      "2023-01-24 16:00:10 (63,1 KB/s) - ‘journals/3278.json’ saved [4985]\n",
      "\n",
      "--2023-01-24 16:00:10--  https://m2.mtmt.hu/api/journal/10022463\n",
      "Resolving m2.mtmt.hu (m2.mtmt.hu)... 193.224.44.74\n",
      "Connecting to m2.mtmt.hu (m2.mtmt.hu)|193.224.44.74|:443... "
     ]
    },
    {
     "name": "stdout",
     "output_type": "stream",
     "text": [
      "Új folyóirat:  JOURNAL OF MATHEMATICAL INEQUALITIES 1846-579X 1846-579X\n"
     ]
    },
    {
     "name": "stderr",
     "output_type": "stream",
     "text": [
      "connected.\n",
      "HTTP request sent, awaiting response... 200 \n",
      "Length: unspecified [application/vnd.mtmt2-1.0+json]\n",
      "Saving to: ‘journals/10022463.json’\n",
      "\n",
      "     0K ....                                                   57,3K=0,08s\n",
      "\n",
      "2023-01-24 16:00:12 (57,3 KB/s) - ‘journals/10022463.json’ saved [4566]\n",
      "\n",
      "--2023-01-24 16:00:12--  https://m2.mtmt.hu/api/journal/31801\n",
      "Resolving m2.mtmt.hu (m2.mtmt.hu)... 193.224.44.74\n",
      "Connecting to m2.mtmt.hu (m2.mtmt.hu)|193.224.44.74|:443... "
     ]
    },
    {
     "name": "stdout",
     "output_type": "stream",
     "text": [
      "Új folyóirat:  STUDIA SCIENTIARUM MATHEMATICARUM HUNGARICA 0081-6906 1588-2896\n"
     ]
    },
    {
     "name": "stderr",
     "output_type": "stream",
     "text": [
      "connected.\n",
      "HTTP request sent, awaiting response... 200 \n",
      "Length: unspecified [application/vnd.mtmt2-1.0+json]\n",
      "Saving to: ‘journals/31801.json’\n",
      "\n",
      "     0K .....                                                  69,7K=0,08s\n",
      "\n",
      "2023-01-24 16:00:14 (69,7 KB/s) - ‘journals/31801.json’ saved [5452]\n",
      "\n",
      "--2023-01-24 16:00:14--  https://m2.mtmt.hu/api/journal/56\n",
      "Resolving m2.mtmt.hu (m2.mtmt.hu)... 193.224.44.74\n",
      "Connecting to m2.mtmt.hu (m2.mtmt.hu)|193.224.44.74|:443... "
     ]
    },
    {
     "name": "stdout",
     "output_type": "stream",
     "text": [
      "Új folyóirat:  ACTA MATHEMATICA SCIENTIA 0252-9602 1572-9087\n"
     ]
    },
    {
     "name": "stderr",
     "output_type": "stream",
     "text": [
      "connected.\n",
      "HTTP request sent, awaiting response... 200 \n",
      "Length: unspecified [application/vnd.mtmt2-1.0+json]\n",
      "Saving to: ‘journals/56.json’\n",
      "\n",
      "     0K .....                                                  67,4K=0,08s\n",
      "\n",
      "2023-01-24 16:00:14 (67,4 KB/s) - ‘journals/56.json’ saved [5354]\n",
      "\n",
      "--2023-01-24 16:00:14--  https://m2.mtmt.hu/api/journal/3965\n",
      "Resolving m2.mtmt.hu (m2.mtmt.hu)... 193.224.44.74\n",
      "Connecting to m2.mtmt.hu (m2.mtmt.hu)|193.224.44.74|:443... "
     ]
    },
    {
     "name": "stdout",
     "output_type": "stream",
     "text": [
      "Új folyóirat:  ROCKY MOUNTAIN JOURNAL OF MATHEMATICS 0035-7596 1945-3795\n"
     ]
    },
    {
     "name": "stderr",
     "output_type": "stream",
     "text": [
      "connected.\n",
      "HTTP request sent, awaiting response... 200 \n",
      "Length: unspecified [application/vnd.mtmt2-1.0+json]\n",
      "Saving to: ‘journals/3965.json’\n",
      "\n",
      "     0K ...                                                    46,8K=0,08s\n",
      "\n",
      "2023-01-24 16:00:16 (46,8 KB/s) - ‘journals/3965.json’ saved [3812]\n",
      "\n",
      "25it [02:45,  8.71s/it]--2023-01-24 16:00:16--  https://m2.mtmt.hu/api/journal/31427\n",
      "Resolving m2.mtmt.hu (m2.mtmt.hu)... "
     ]
    },
    {
     "name": "stdout",
     "output_type": "stream",
     "text": [
      "Új folyóirat:  RAMANUJAN JOURNAL 1382-4090 1572-9303\n"
     ]
    },
    {
     "name": "stderr",
     "output_type": "stream",
     "text": [
      "193.224.44.74\n",
      "Connecting to m2.mtmt.hu (m2.mtmt.hu)|193.224.44.74|:443... connected.\n",
      "HTTP request sent, awaiting response... 200 \n",
      "Length: unspecified [application/vnd.mtmt2-1.0+json]\n",
      "Saving to: ‘journals/31427.json’\n",
      "\n",
      "     0K ....                                                   47,9K=0,09s\n",
      "\n",
      "2023-01-24 16:00:18 (47,9 KB/s) - ‘journals/31427.json’ saved [4294]\n",
      "\n",
      "--2023-01-24 16:00:18--  https://m2.mtmt.hu/api/journal/18076\n",
      "Resolving m2.mtmt.hu (m2.mtmt.hu)... 193.224.44.74\n",
      "Connecting to m2.mtmt.hu (m2.mtmt.hu)|193.224.44.74|:443... "
     ]
    },
    {
     "name": "stdout",
     "output_type": "stream",
     "text": [
      "Új folyóirat:  INTEGRAL TRANSFORMS AND SPECIAL FUNCTIONS 1065-2469 1476-8291\n"
     ]
    },
    {
     "name": "stderr",
     "output_type": "stream",
     "text": [
      "connected.\n",
      "HTTP request sent, awaiting response... 200 \n",
      "Length: unspecified [application/vnd.mtmt2-1.0+json]\n",
      "Saving to: ‘journals/18076.json’\n",
      "\n",
      "     0K ....                                                   44,9K=0,09s\n",
      "\n",
      "2023-01-24 16:00:20 (44,9 KB/s) - ‘journals/18076.json’ saved [4352]\n",
      "\n",
      "--2023-01-24 16:00:20--  https://m2.mtmt.hu/api/journal/10001155\n",
      "Resolving m2.mtmt.hu (m2.mtmt.hu)... "
     ]
    },
    {
     "name": "stdout",
     "output_type": "stream",
     "text": [
      "Új folyóirat:  COMMUNICATIONS ON PURE AND APPLIED ANALYSIS 1534-0392 1553-5258\n"
     ]
    },
    {
     "name": "stderr",
     "output_type": "stream",
     "text": [
      "193.224.44.74\n",
      "Connecting to m2.mtmt.hu (m2.mtmt.hu)|193.224.44.74|:443... connected.\n",
      "HTTP request sent, awaiting response... 200 \n",
      "Length: unspecified [application/vnd.mtmt2-1.0+json]\n",
      "Saving to: ‘journals/10001155.json’\n",
      "\n",
      "     0K .....                                                  66,6K=0,08s\n",
      "\n",
      "2023-01-24 16:00:20 (66,6 KB/s) - ‘journals/10001155.json’ saved [5207]\n",
      "\n",
      "--2023-01-24 16:00:21--  https://m2.mtmt.hu/api/journal/633\n",
      "Resolving m2.mtmt.hu (m2.mtmt.hu)... "
     ]
    },
    {
     "name": "stdout",
     "output_type": "stream",
     "text": [
      "Új folyóirat:  BULLETIN DES SCIENCES MATHEMATIQUES 0007-4497 1952-4773\n"
     ]
    },
    {
     "name": "stderr",
     "output_type": "stream",
     "text": [
      "193.224.44.74\n",
      "Connecting to m2.mtmt.hu (m2.mtmt.hu)|193.224.44.74|:443... connected.\n",
      "HTTP request sent, awaiting response... 200 \n",
      "Length: unspecified [application/vnd.mtmt2-1.0+json]\n",
      "Saving to: ‘journals/633.json’\n",
      "\n",
      "     0K ...                                                    46,5K=0,08s\n",
      "\n",
      "2023-01-24 16:00:22 (46,5 KB/s) - ‘journals/633.json’ saved [3763]\n",
      "\n",
      "--2023-01-24 16:00:22--  https://m2.mtmt.hu/api/journal/2148370\n",
      "Resolving m2.mtmt.hu (m2.mtmt.hu)... 193.224.44.74\n",
      "Connecting to m2.mtmt.hu (m2.mtmt.hu)|193.224.44.74|:443... "
     ]
    },
    {
     "name": "stdout",
     "output_type": "stream",
     "text": [
      "Új folyóirat:  ANALYSIS MATHEMATICA 0133-3852 1588-273X\n"
     ]
    },
    {
     "name": "stderr",
     "output_type": "stream",
     "text": [
      "connected.\n",
      "HTTP request sent, awaiting response... 200 \n",
      "Length: unspecified [application/vnd.mtmt2-1.0+json]\n",
      "Saving to: ‘journals/2148370.json’\n",
      "\n",
      "     0K ....                                                   54,2K=0,08s\n",
      "\n",
      "2023-01-24 16:00:24 (54,2 KB/s) - ‘journals/2148370.json’ saved [4360]\n",
      "\n",
      "--2023-01-24 16:00:24--  https://m2.mtmt.hu/api/journal/10000571\n",
      "Resolving m2.mtmt.hu (m2.mtmt.hu)... 193.224.44.74\n",
      "Connecting to m2.mtmt.hu (m2.mtmt.hu)|193.224.44.74|:443... "
     ]
    },
    {
     "name": "stdout",
     "output_type": "stream",
     "text": [
      "Új folyóirat:  CALCOLO 0008-0624 1126-5434\n"
     ]
    },
    {
     "name": "stderr",
     "output_type": "stream",
     "text": [
      "connected.\n",
      "HTTP request sent, awaiting response... 200 \n",
      "Length: unspecified [application/vnd.mtmt2-1.0+json]\n",
      "Saving to: ‘journals/10000571.json’\n",
      "\n",
      "     0K ...                                                     157K=0,02s\n",
      "\n",
      "2023-01-24 16:00:25 (157 KB/s) - ‘journals/10000571.json’ saved [3915]\n",
      "\n",
      "--2023-01-24 16:00:25--  https://m2.mtmt.hu/api/journal/2263\n",
      "Resolving m2.mtmt.hu (m2.mtmt.hu)... 193.224.44.74\n",
      "Connecting to m2.mtmt.hu (m2.mtmt.hu)|193.224.44.74|:443... "
     ]
    },
    {
     "name": "stdout",
     "output_type": "stream",
     "text": [
      "Új folyóirat:  JOURNAL OF APPROXIMATION THEORY 0021-9045 1096-0430\n"
     ]
    },
    {
     "name": "stderr",
     "output_type": "stream",
     "text": [
      "connected.\n",
      "HTTP request sent, awaiting response... 200 \n",
      "Length: unspecified [application/vnd.mtmt2-1.0+json]\n",
      "Saving to: ‘journals/2263.json’\n",
      "\n",
      "     0K ....                                                    135K=0,03s\n",
      "\n",
      "2023-01-24 16:00:26 (135 KB/s) - ‘journals/2263.json’ saved [4502]\n",
      "\n",
      "26it [02:55,  9.08s/it]--2023-01-24 16:00:26--  https://m2.mtmt.hu/api/journal/10018920\n",
      "Resolving m2.mtmt.hu (m2.mtmt.hu)... 193.224.44.74\n",
      "Connecting to m2.mtmt.hu (m2.mtmt.hu)|193.224.44.74|:443... "
     ]
    },
    {
     "name": "stdout",
     "output_type": "stream",
     "text": [
      "Új folyóirat:  NEW YORK JOURNAL OF MATHEMATICS 1076-9803\n"
     ]
    },
    {
     "name": "stderr",
     "output_type": "stream",
     "text": [
      "connected.\n",
      "HTTP request sent, awaiting response... 200 \n",
      "Length: unspecified [application/vnd.mtmt2-1.0+json]\n",
      "Saving to: ‘journals/10018920.json’\n",
      "\n",
      "     0K ....                                                   46,6K=0,09s\n",
      "\n",
      "2023-01-24 16:00:28 (46,6 KB/s) - ‘journals/10018920.json’ saved [4483]\n",
      "\n",
      "27it [02:57,  7.04s/it]--2023-01-24 16:00:28--  https://m2.mtmt.hu/api/journal/2156\n",
      "Resolving m2.mtmt.hu (m2.mtmt.hu)... "
     ]
    },
    {
     "name": "stdout",
     "output_type": "stream",
     "text": [
      "Új folyóirat:  ISA TRANSACTIONS 0019-0578 1879-2022\n"
     ]
    },
    {
     "name": "stderr",
     "output_type": "stream",
     "text": [
      "193.224.44.74\n",
      "Connecting to m2.mtmt.hu (m2.mtmt.hu)|193.224.44.74|:443... connected.\n",
      "HTTP request sent, awaiting response... 200 \n",
      "Length: unspecified [application/vnd.mtmt2-1.0+json]\n",
      "Saving to: ‘journals/2156.json’\n",
      "\n",
      "     0K ....                                                   62,1K=0,08s\n",
      "\n",
      "2023-01-24 16:00:29 (62,1 KB/s) - ‘journals/2156.json’ saved [4916]\n",
      "\n",
      "--2023-01-24 16:00:29--  https://m2.mtmt.hu/api/journal/4207\n",
      "Resolving m2.mtmt.hu (m2.mtmt.hu)... 193.224.44.74\n",
      "Connecting to m2.mtmt.hu (m2.mtmt.hu)|193.224.44.74|:443... "
     ]
    },
    {
     "name": "stdout",
     "output_type": "stream",
     "text": [
      "Új folyóirat:  SYSTEMS & CONTROL LETTERS 0167-6911 1872-7956\n"
     ]
    },
    {
     "name": "stderr",
     "output_type": "stream",
     "text": [
      "connected.\n",
      "HTTP request sent, awaiting response... 200 \n",
      "Length: unspecified [application/vnd.mtmt2-1.0+json]\n",
      "Saving to: ‘journals/4207.json’\n",
      "\n",
      "     0K .....                                                  67,3K=0,08s\n",
      "\n",
      "2023-01-24 16:00:30 (67,3 KB/s) - ‘journals/4207.json’ saved [5536]\n",
      "\n",
      "--2023-01-24 16:00:30--  https://m2.mtmt.hu/api/journal/20620\n",
      "Resolving m2.mtmt.hu (m2.mtmt.hu)... 193.224.44.74\n",
      "Connecting to m2.mtmt.hu (m2.mtmt.hu)|193.224.44.74|:443... "
     ]
    },
    {
     "name": "stdout",
     "output_type": "stream",
     "text": [
      "Új folyóirat:  TRANSACTIONS OF THE INSTITUTE OF MEASUREMENT AND CONTROL 0142-3312 1477-0369\n"
     ]
    },
    {
     "name": "stderr",
     "output_type": "stream",
     "text": [
      "connected.\n",
      "HTTP request sent, awaiting response... 200 \n",
      "Length: unspecified [application/vnd.mtmt2-1.0+json]\n",
      "Saving to: ‘journals/20620.json’\n",
      "\n",
      "     0K ....                                                   48,9K=0,09s\n",
      "\n",
      "2023-01-24 16:00:32 (48,9 KB/s) - ‘journals/20620.json’ saved [4483]\n",
      "\n",
      "--2023-01-24 16:00:32--  https://m2.mtmt.hu/api/journal/2508\n",
      "Resolving m2.mtmt.hu (m2.mtmt.hu)... "
     ]
    },
    {
     "name": "stdout",
     "output_type": "stream",
     "text": [
      "Új folyóirat:  JOURNAL OF THE FRANKLIN INSTITUTE-ENGINEERING AND APPLIED MATHEMATICS 0016-0032 1879-2693\n"
     ]
    },
    {
     "name": "stderr",
     "output_type": "stream",
     "text": [
      "193.224.44.74\n",
      "Connecting to m2.mtmt.hu (m2.mtmt.hu)|193.224.44.74|:443... connected.\n",
      "HTTP request sent, awaiting response... 200 \n",
      "Length: unspecified [application/vnd.mtmt2-1.0+json]\n",
      "Saving to: ‘journals/2508.json’\n",
      "\n",
      "     0K .....                                                  58,2K=0,09s\n",
      "\n",
      "2023-01-24 16:00:34 (58,2 KB/s) - ‘journals/2508.json’ saved [5508]\n",
      "\n",
      "--2023-01-24 16:00:34--  https://m2.mtmt.hu/api/journal/2020\n",
      "Resolving m2.mtmt.hu (m2.mtmt.hu)... 193.224.44.74\n",
      "Connecting to m2.mtmt.hu (m2.mtmt.hu)|193.224.44.74|:443... "
     ]
    },
    {
     "name": "stdout",
     "output_type": "stream",
     "text": [
      "Új folyóirat:  INTERNATIONAL JOURNAL OF CONTROL 0020-7179 1366-5820\n"
     ]
    },
    {
     "name": "stderr",
     "output_type": "stream",
     "text": [
      "connected.\n",
      "HTTP request sent, awaiting response... 200 \n",
      "Length: unspecified [application/vnd.mtmt2-1.0+json]\n",
      "Saving to: ‘journals/2020.json’\n",
      "\n",
      "     0K ...                                                     236K=0,02s\n",
      "\n",
      "2023-01-24 16:00:35 (236 KB/s) - ‘journals/2020.json’ saved [4059]\n",
      "\n",
      "--2023-01-24 16:00:35--  https://m2.mtmt.hu/api/journal/10070927\n",
      "Resolving m2.mtmt.hu (m2.mtmt.hu)... 193.224.44.74\n",
      "Connecting to m2.mtmt.hu (m2.mtmt.hu)|193.224.44.74|:443... connected.\n"
     ]
    },
    {
     "name": "stdout",
     "output_type": "stream",
     "text": [
      "Új folyóirat:  IFAC PAPERSONLINE 2405-8963\n"
     ]
    },
    {
     "name": "stderr",
     "output_type": "stream",
     "text": [
      "HTTP request sent, awaiting response... 200 \n",
      "Length: unspecified [application/vnd.mtmt2-1.0+json]\n",
      "Saving to: ‘journals/10070927.json’\n",
      "\n",
      "     0K ....                                                   42,0K=0,1s\n",
      "\n",
      "2023-01-24 16:00:36 (42,0 KB/s) - ‘journals/10070927.json’ saved [5003]\n",
      "\n",
      "--2023-01-24 16:00:36--  https://m2.mtmt.hu/api/journal/602\n",
      "Resolving m2.mtmt.hu (m2.mtmt.hu)... "
     ]
    },
    {
     "name": "stdout",
     "output_type": "stream",
     "text": [
      "Új folyóirat:  AUTOMATICA 0005-1098 1873-2836\n"
     ]
    },
    {
     "name": "stderr",
     "output_type": "stream",
     "text": [
      "193.224.44.74\n",
      "Connecting to m2.mtmt.hu (m2.mtmt.hu)|193.224.44.74|:443... connected.\n",
      "HTTP request sent, awaiting response... 200 \n",
      "Length: unspecified [application/vnd.mtmt2-1.0+json]\n",
      "Saving to: ‘journals/602.json’\n",
      "\n",
      "     0K ....                                                   54,8K=0,07s\n",
      "\n",
      "2023-01-24 16:00:38 (54,8 KB/s) - ‘journals/602.json’ saved [4197]\n",
      "\n",
      "--2023-01-24 16:00:38--  https://m2.mtmt.hu/api/journal/8077\n",
      "Resolving m2.mtmt.hu (m2.mtmt.hu)... 193.224.44.74\n",
      "Connecting to m2.mtmt.hu (m2.mtmt.hu)|193.224.44.74|:443... "
     ]
    },
    {
     "name": "stdout",
     "output_type": "stream",
     "text": [
      "Új folyóirat:  INTERNATIONAL JOURNAL OF ROBUST AND NONLINEAR CONTROL 1049-8923 1099-1239\n"
     ]
    },
    {
     "name": "stderr",
     "output_type": "stream",
     "text": [
      "connected.\n",
      "HTTP request sent, awaiting response... 200 \n",
      "Length: unspecified [application/vnd.mtmt2-1.0+json]\n",
      "Saving to: ‘journals/8077.json’\n",
      "\n",
      "     0K .....                                                  72,7K=0,08s\n",
      "\n",
      "2023-01-24 16:00:40 (72,7 KB/s) - ‘journals/8077.json’ saved [5976]\n",
      "\n",
      "--2023-01-24 16:00:40--  https://m2.mtmt.hu/api/journal/10002935\n",
      "Resolving m2.mtmt.hu (m2.mtmt.hu)... 193.224.44.74\n",
      "Connecting to m2.mtmt.hu (m2.mtmt.hu)|193.224.44.74|:443... "
     ]
    },
    {
     "name": "stdout",
     "output_type": "stream",
     "text": [
      "Új folyóirat:  ASIAN JOURNAL OF CONTROL 1561-8625 1934-6093\n"
     ]
    },
    {
     "name": "stderr",
     "output_type": "stream",
     "text": [
      "connected.\n",
      "HTTP request sent, awaiting response... 200 \n",
      "Length: unspecified [application/vnd.mtmt2-1.0+json]\n",
      "Saving to: ‘journals/10002935.json’\n",
      "\n",
      "     0K ...                                                    36,5K=0,1s\n",
      "\n",
      "2023-01-24 16:00:40 (36,5 KB/s) - ‘journals/10002935.json’ saved [3808]\n",
      "\n",
      "28it [03:09,  8.51s/it]--2023-01-24 16:00:40--  https://m2.mtmt.hu/api/journal/1417137\n",
      "Resolving m2.mtmt.hu (m2.mtmt.hu)... "
     ]
    },
    {
     "name": "stdout",
     "output_type": "stream",
     "text": [
      "Új folyóirat:  JOURNAL OF GROUP THEORY 1433-5883 1435-4446\n"
     ]
    },
    {
     "name": "stderr",
     "output_type": "stream",
     "text": [
      "193.224.44.74\n",
      "Connecting to m2.mtmt.hu (m2.mtmt.hu)|193.224.44.74|:443... connected.\n",
      "HTTP request sent, awaiting response... 200 \n",
      "Length: unspecified [application/vnd.mtmt2-1.0+json]\n",
      "Saving to: ‘journals/1417137.json’\n",
      "\n",
      "     0K ...                                                    52,2K=0,08s\n",
      "\n",
      "2023-01-24 16:00:42 (52,2 KB/s) - ‘journals/1417137.json’ saved [4073]\n",
      "\n",
      "--2023-01-24 16:00:42--  https://m2.mtmt.hu/api/journal/349\n",
      "Resolving m2.mtmt.hu (m2.mtmt.hu)... 193.224.44.74\n",
      "Connecting to m2.mtmt.hu (m2.mtmt.hu)|193.224.44.74|:443... "
     ]
    },
    {
     "name": "stdout",
     "output_type": "stream",
     "text": [
      "Új folyóirat:  ANNALES DE L INSTITUT FOURIER 0373-0956 1777-5310\n"
     ]
    },
    {
     "name": "stderr",
     "output_type": "stream",
     "text": [
      "connected.\n",
      "HTTP request sent, awaiting response... 200 \n",
      "Length: unspecified [application/vnd.mtmt2-1.0+json]\n",
      "Saving to: ‘journals/349.json’\n",
      "\n",
      "     0K .....                                                  68,1K=0,08s\n",
      "\n",
      "2023-01-24 16:00:44 (68,1 KB/s) - ‘journals/349.json’ saved [5335]\n",
      "\n",
      "--2023-01-24 16:00:44--  https://m2.mtmt.hu/api/journal/510\n",
      "Resolving m2.mtmt.hu (m2.mtmt.hu)... 193.224.44.74\n",
      "Connecting to m2.mtmt.hu (m2.mtmt.hu)|193.224.44.74|:443... "
     ]
    },
    {
     "name": "stdout",
     "output_type": "stream",
     "text": [
      "Új folyóirat:  ARCHIV DER MATHEMATIK 0003-889X 1420-8938\n"
     ]
    },
    {
     "name": "stderr",
     "output_type": "stream",
     "text": [
      "connected.\n",
      "HTTP request sent, awaiting response... 200 \n",
      "Length: unspecified [application/vnd.mtmt2-1.0+json]\n",
      "Saving to: ‘journals/510.json’\n",
      "\n",
      "     0K ....                                                   51,0K=0,08s\n",
      "\n",
      "2023-01-24 16:00:45 (51,0 KB/s) - ‘journals/510.json’ saved [4143]\n",
      "\n",
      "30it [03:14,  5.84s/it]--2023-01-24 16:00:45--  https://m2.mtmt.hu/api/journal/10016548\n",
      "Resolving m2.mtmt.hu (m2.mtmt.hu)... "
     ]
    },
    {
     "name": "stdout",
     "output_type": "stream",
     "text": [
      "Új folyóirat:  INTERNATIONAL ELECTRONIC JOURNAL OF ALGEBRA 1306-6048 1306-6048\n"
     ]
    },
    {
     "name": "stderr",
     "output_type": "stream",
     "text": [
      "193.224.44.74\n",
      "Connecting to m2.mtmt.hu (m2.mtmt.hu)|193.224.44.74|:443... connected.\n",
      "HTTP request sent, awaiting response... 200 \n",
      "Length: unspecified [application/vnd.mtmt2-1.0+json]\n",
      "Saving to: ‘journals/10016548.json’\n",
      "\n",
      "     0K ...                                                    47,8K=0,07s\n",
      "\n",
      "2023-01-24 16:00:46 (47,8 KB/s) - ‘journals/10016548.json’ saved [3637]\n",
      "\n",
      "--2023-01-24 16:00:46--  https://m2.mtmt.hu/api/journal/1417132\n",
      "Resolving m2.mtmt.hu (m2.mtmt.hu)... 193.224.44.74\n",
      "Connecting to m2.mtmt.hu (m2.mtmt.hu)|193.224.44.74|:443... "
     ]
    },
    {
     "name": "stdout",
     "output_type": "stream",
     "text": [
      "Új folyóirat:  JOURNAL OF ALGEBRA 0021-8693 1090-266X\n"
     ]
    },
    {
     "name": "stderr",
     "output_type": "stream",
     "text": [
      "connected.\n",
      "HTTP request sent, awaiting response... 200 \n",
      "Length: unspecified [application/vnd.mtmt2-1.0+json]\n",
      "Saving to: ‘journals/1417132.json’\n",
      "\n",
      "     0K ...                                                    48,8K=0,08s\n",
      "\n",
      "2023-01-24 16:00:48 (48,8 KB/s) - ‘journals/1417132.json’ saved [3758]\n",
      "\n",
      "--2023-01-24 16:00:48--  https://m2.mtmt.hu/api/journal/1417127\n",
      "Resolving m2.mtmt.hu (m2.mtmt.hu)... 193.224.44.74\n",
      "Connecting to m2.mtmt.hu (m2.mtmt.hu)|193.224.44.74|:443... "
     ]
    },
    {
     "name": "stdout",
     "output_type": "stream",
     "text": [
      "Új folyóirat:  COMMUNICATIONS IN ALGEBRA 0092-7872 1532-4125\n"
     ]
    },
    {
     "name": "stderr",
     "output_type": "stream",
     "text": [
      "connected.\n",
      "HTTP request sent, awaiting response... 200 \n",
      "Length: unspecified [application/vnd.mtmt2-1.0+json]\n",
      "Saving to: ‘journals/1417127.json’\n",
      "\n",
      "     0K ...                                                    46,8K=0,08s\n",
      "\n",
      "2023-01-24 16:00:49 (46,8 KB/s) - ‘journals/1417127.json’ saved [3801]\n",
      "\n",
      "--2023-01-24 16:00:49--  https://m2.mtmt.hu/api/journal/10025214\n",
      "Resolving m2.mtmt.hu (m2.mtmt.hu)... 193.224.44.74\n",
      "Connecting to m2.mtmt.hu (m2.mtmt.hu)|193.224.44.74|:443... "
     ]
    },
    {
     "name": "stdout",
     "output_type": "stream",
     "text": [
      "Új folyóirat:  INTERNATIONAL JOURNAL OF GROUP THEORY 2251-7650 2251-7669\n"
     ]
    },
    {
     "name": "stderr",
     "output_type": "stream",
     "text": [
      "connected.\n",
      "HTTP request sent, awaiting response... 200 \n",
      "Length: unspecified [application/vnd.mtmt2-1.0+json]\n",
      "Saving to: ‘journals/10025214.json’\n",
      "\n",
      "     0K ....                                                   64,5K=0,07s\n",
      "\n",
      "2023-01-24 16:00:51 (64,5 KB/s) - ‘journals/10025214.json’ saved [4949]\n",
      "\n",
      "--2023-01-24 16:00:51--  https://m2.mtmt.hu/api/journal/3515\n",
      "Resolving m2.mtmt.hu (m2.mtmt.hu)... 193.224.44.74\n",
      "Connecting to m2.mtmt.hu (m2.mtmt.hu)|193.224.44.74|:443... "
     ]
    },
    {
     "name": "stdout",
     "output_type": "stream",
     "text": [
      "Új folyóirat:  OSAKA JOURNAL OF MATHEMATICS 0030-6126\n"
     ]
    },
    {
     "name": "stderr",
     "output_type": "stream",
     "text": [
      "connected.\n",
      "HTTP request sent, awaiting response... 200 \n",
      "Length: unspecified [application/vnd.mtmt2-1.0+json]\n",
      "Saving to: ‘journals/3515.json’\n",
      "\n",
      "     0K ....                                                   53,7K=0,08s\n",
      "\n",
      "2023-01-24 16:00:53 (53,7 KB/s) - ‘journals/3515.json’ saved [4131]\n",
      "\n",
      "31it [03:21,  6.18s/it]--2023-01-24 16:00:53--  https://m2.mtmt.hu/api/journal/10011843\n",
      "Resolving m2.mtmt.hu (m2.mtmt.hu)... "
     ]
    },
    {
     "name": "stdout",
     "output_type": "stream",
     "text": [
      "Új folyóirat:  REVISTA MATEMATICA COMPLUTENSE 1139-1138 1988-2807\n"
     ]
    },
    {
     "name": "stderr",
     "output_type": "stream",
     "text": [
      "193.224.44.74\n",
      "Connecting to m2.mtmt.hu (m2.mtmt.hu)|193.224.44.74|:443... connected.\n",
      "HTTP request sent, awaiting response... 200 \n",
      "Length: unspecified [application/vnd.mtmt2-1.0+json]\n",
      "Saving to: ‘journals/10011843.json’\n",
      "\n",
      "     0K ....                                                    112K=0,04s\n",
      "\n",
      "2023-01-24 16:00:53 (112 KB/s) - ‘journals/10011843.json’ saved [4427]\n",
      "\n",
      "--2023-01-24 16:00:53--  https://m2.mtmt.hu/api/journal/8513\n",
      "Resolving m2.mtmt.hu (m2.mtmt.hu)... 193.224.44.74\n",
      "Connecting to m2.mtmt.hu (m2.mtmt.hu)|193.224.44.74|:443... "
     ]
    },
    {
     "name": "stdout",
     "output_type": "stream",
     "text": [
      "Új folyóirat:  JOURNAL OF GEOMETRIC ANALYSIS 1050-6926 1559-002X\n"
     ]
    },
    {
     "name": "stderr",
     "output_type": "stream",
     "text": [
      "connected.\n",
      "HTTP request sent, awaiting response... 200 \n",
      "Length: unspecified [application/vnd.mtmt2-1.0+json]\n",
      "Saving to: ‘journals/8513.json’\n",
      "\n",
      "     0K ....                                                   22,2K=0,2s\n",
      "\n",
      "2023-01-24 16:00:55 (22,2 KB/s) - ‘journals/8513.json’ saved [4653]\n",
      "\n",
      "--2023-01-24 16:00:55--  https://m2.mtmt.hu/api/journal/1936\n",
      "Resolving m2.mtmt.hu (m2.mtmt.hu)... 193.224.44.74\n",
      "Connecting to m2.mtmt.hu (m2.mtmt.hu)|193.224.44.74|:443... connected.\n"
     ]
    },
    {
     "name": "stdout",
     "output_type": "stream",
     "text": [
      "Új folyóirat:  INDAGATIONES MATHEMATICAE-NEW SERIES 0019-3577 1872-6100\n"
     ]
    },
    {
     "name": "stderr",
     "output_type": "stream",
     "text": [
      "HTTP request sent, awaiting response... 200 \n",
      "Length: unspecified [application/vnd.mtmt2-1.0+json]\n",
      "Saving to: ‘journals/1936.json’\n",
      "\n",
      "     0K .....                                                  63,5K=0,08s\n",
      "\n",
      "2023-01-24 16:00:57 (63,5 KB/s) - ‘journals/1936.json’ saved [5201]\n",
      "\n",
      "--2023-01-24 16:00:57--  https://m2.mtmt.hu/api/journal/2425\n",
      "Resolving m2.mtmt.hu (m2.mtmt.hu)... 193.224.44.74\n",
      "Connecting to m2.mtmt.hu (m2.mtmt.hu)|193.224.44.74|:443... "
     ]
    },
    {
     "name": "stdout",
     "output_type": "stream",
     "text": [
      "Új folyóirat:  JOURNAL OF DIFFERENTIAL GEOMETRY 0022-040X 1945-743X\n"
     ]
    },
    {
     "name": "stderr",
     "output_type": "stream",
     "text": [
      "connected.\n",
      "HTTP request sent, awaiting response... 200 \n",
      "Length: unspecified [application/vnd.mtmt2-1.0+json]\n",
      "Saving to: ‘journals/2425.json’\n",
      "\n",
      "     0K ....                                                    108K=0,04s\n",
      "\n",
      "2023-01-24 16:00:58 (108 KB/s) - ‘journals/2425.json’ saved [4233]\n",
      "\n",
      "33it [03:27,  4.83s/it]--2023-01-24 16:00:58--  https://m2.mtmt.hu/api/journal/2144\n",
      "Resolving m2.mtmt.hu (m2.mtmt.hu)... "
     ]
    },
    {
     "name": "stdout",
     "output_type": "stream",
     "text": [
      "Új folyóirat:  INVERSE PROBLEMS 0266-5611 1361-6420\n"
     ]
    },
    {
     "name": "stderr",
     "output_type": "stream",
     "text": [
      "193.224.44.74\n",
      "Connecting to m2.mtmt.hu (m2.mtmt.hu)|193.224.44.74|:443... connected.\n",
      "HTTP request sent, awaiting response... 200 \n",
      "Length: unspecified [application/vnd.mtmt2-1.0+json]\n",
      "Saving to: ‘journals/2144.json’\n",
      "\n",
      "     0K .....                                                  71,4K=0,07s\n",
      "\n",
      "2023-01-24 16:00:59 (71,4 KB/s) - ‘journals/2144.json’ saved [5467]\n",
      "\n",
      "34it [03:28,  3.89s/it]--2023-01-24 16:00:59--  https://m2.mtmt.hu/api/journal/10010670\n",
      "Resolving m2.mtmt.hu (m2.mtmt.hu)... "
     ]
    },
    {
     "name": "stdout",
     "output_type": "stream",
     "text": [
      "Új folyóirat:  OPERATORS AND MATRICES 1846-3886 1846-3886\n"
     ]
    },
    {
     "name": "stderr",
     "output_type": "stream",
     "text": [
      "193.224.44.74\n",
      "Connecting to m2.mtmt.hu (m2.mtmt.hu)|193.224.44.74|:443... connected.\n",
      "HTTP request sent, awaiting response... 200 \n",
      "Length: unspecified [application/vnd.mtmt2-1.0+json]\n",
      "Saving to: ‘journals/10010670.json’\n",
      "\n",
      "     0K ....                                                   50,8K=0,08s\n",
      "\n",
      "2023-01-24 16:01:01 (50,8 KB/s) - ‘journals/10010670.json’ saved [4164]\n",
      "\n",
      "--2023-01-24 16:01:01--  https://m2.mtmt.hu/api/journal/10007090\n",
      "Resolving m2.mtmt.hu (m2.mtmt.hu)... 193.224.44.74\n",
      "Connecting to m2.mtmt.hu (m2.mtmt.hu)|193.224.44.74|:443... "
     ]
    },
    {
     "name": "stdout",
     "output_type": "stream",
     "text": [
      "Új folyóirat:  JOURNAL OF FUEL CELL SCIENCE AND TECHNOLOGY 1550-624X\n"
     ]
    },
    {
     "name": "stderr",
     "output_type": "stream",
     "text": [
      "connected.\n",
      "HTTP request sent, awaiting response... 200 \n",
      "Length: unspecified [application/vnd.mtmt2-1.0+json]\n",
      "Saving to: ‘journals/10007090.json’\n",
      "\n",
      "     0K ....                                                   61,6K=0,08s\n",
      "\n",
      "2023-01-24 16:01:02 (61,6 KB/s) - ‘journals/10007090.json’ saved [4782]\n",
      "\n",
      "35it [03:31,  3.80s/it]--2023-01-24 16:01:03--  https://m2.mtmt.hu/api/journal/1417122\n",
      "Resolving m2.mtmt.hu (m2.mtmt.hu)... "
     ]
    },
    {
     "name": "stdout",
     "output_type": "stream",
     "text": [
      "Új folyóirat:  AMERICAN MATHEMATICAL MONTHLY 0002-9890 1930-0972\n"
     ]
    },
    {
     "name": "stderr",
     "output_type": "stream",
     "text": [
      "193.224.44.74\n",
      "Connecting to m2.mtmt.hu (m2.mtmt.hu)|193.224.44.74|:443... connected.\n",
      "HTTP request sent, awaiting response... 200 \n",
      "Length: unspecified [application/vnd.mtmt2-1.0+json]\n",
      "Saving to: ‘journals/1417122.json’\n",
      "\n",
      "     0K ....                                                   49,4K=0,09s\n",
      "\n",
      "2023-01-24 16:01:03 (49,4 KB/s) - ‘journals/1417122.json’ saved [4381]\n",
      "\n",
      "--2023-01-24 16:01:03--  https://m2.mtmt.hu/api/journal/10002078\n",
      "Resolving m2.mtmt.hu (m2.mtmt.hu)... 193.224.44.74\n",
      "Connecting to m2.mtmt.hu (m2.mtmt.hu)|193.224.44.74|:443... "
     ]
    },
    {
     "name": "stdout",
     "output_type": "stream",
     "text": [
      "Új folyóirat:  SYMMETRY: CULTURE AND SCIENCE 0865-4824 2226-1877\n"
     ]
    },
    {
     "name": "stderr",
     "output_type": "stream",
     "text": [
      "connected.\n",
      "HTTP request sent, awaiting response... 200 \n",
      "Length: unspecified [application/vnd.mtmt2-1.0+json]\n",
      "Saving to: ‘journals/10002078.json’\n",
      "\n",
      "     0K ....                                                   60,6K=0,08s\n",
      "\n",
      "2023-01-24 16:01:05 (60,6 KB/s) - ‘journals/10002078.json’ saved [4675]\n",
      "\n",
      "--2023-01-24 16:01:05--  https://m2.mtmt.hu/api/journal/1417129\n",
      "Resolving m2.mtmt.hu (m2.mtmt.hu)... 193.224.44.74\n",
      "Connecting to m2.mtmt.hu (m2.mtmt.hu)|193.224.44.74|:443... "
     ]
    },
    {
     "name": "stdout",
     "output_type": "stream",
     "text": [
      "Új folyóirat:  DISCRETE MATHEMATICS 0012-365X 1872-681X\n"
     ]
    },
    {
     "name": "stderr",
     "output_type": "stream",
     "text": [
      "connected.\n",
      "HTTP request sent, awaiting response... 200 \n",
      "Length: unspecified [application/vnd.mtmt2-1.0+json]\n",
      "Saving to: ‘journals/1417129.json’\n",
      "\n",
      "     0K ....                                                   55,3K=0,08s\n",
      "\n",
      "2023-01-24 16:01:06 (55,3 KB/s) - ‘journals/1417129.json’ saved [4650]\n",
      "\n",
      "36it [03:35,  3.85s/it]--2023-01-24 16:01:06--  https://m2.mtmt.hu/api/journal/10011895\n",
      "Resolving m2.mtmt.hu (m2.mtmt.hu)... 193.224.44.74\n",
      "Connecting to m2.mtmt.hu (m2.mtmt.hu)|193.224.44.74|:443... "
     ]
    },
    {
     "name": "stdout",
     "output_type": "stream",
     "text": [
      "Új folyóirat:  SYMMETRY INTEGRABILITY AND GEOMETRY-METHODS AND APPLICATIONS 1815-0659\n"
     ]
    },
    {
     "name": "stderr",
     "output_type": "stream",
     "text": [
      "connected.\n",
      "HTTP request sent, awaiting response... 200 \n",
      "Length: unspecified [application/vnd.mtmt2-1.0+json]\n",
      "Saving to: ‘journals/10011895.json’\n",
      "\n",
      "     0K ....                                                   61,3K=0,07s\n",
      "\n",
      "2023-01-24 16:01:08 (61,3 KB/s) - ‘journals/10011895.json’ saved [4703]\n",
      "\n",
      "--2023-01-24 16:01:08--  https://m2.mtmt.hu/api/journal/2821\n",
      "Resolving m2.mtmt.hu (m2.mtmt.hu)... 193.224.44.74\n",
      "Connecting to m2.mtmt.hu (m2.mtmt.hu)|193.224.44.74|:443... "
     ]
    },
    {
     "name": "stdout",
     "output_type": "stream",
     "text": [
      "Új folyóirat:  JOURNAL OF PURE AND APPLIED ALGEBRA 0022-4049 1873-1376\n"
     ]
    },
    {
     "name": "stderr",
     "output_type": "stream",
     "text": [
      "connected.\n",
      "HTTP request sent, awaiting response... 200 \n",
      "Length: unspecified [application/vnd.mtmt2-1.0+json]\n",
      "Saving to: ‘journals/2821.json’\n",
      "\n",
      "     0K ...                                                    51,0K=0,08s\n",
      "\n",
      "2023-01-24 16:01:09 (51,0 KB/s) - ‘journals/2821.json’ saved [4088]\n",
      "\n",
      "37it [03:37,  3.44s/it]--2023-01-24 16:01:09--  https://m2.mtmt.hu/api/journal/1327\n",
      "Resolving m2.mtmt.hu (m2.mtmt.hu)... 193.224.44.74\n",
      "Connecting to m2.mtmt.hu (m2.mtmt.hu)|193.224.44.74|:443... "
     ]
    },
    {
     "name": "stdout",
     "output_type": "stream",
     "text": [
      "Új folyóirat:  DISCRETE AND COMPUTATIONAL GEOMETRY 0179-5376 1432-0444\n"
     ]
    },
    {
     "name": "stderr",
     "output_type": "stream",
     "text": [
      "connected.\n",
      "HTTP request sent, awaiting response... 200 \n",
      "Length: unspecified [application/vnd.mtmt2-1.0+json]\n",
      "Saving to: ‘journals/1327.json’\n",
      "\n",
      "     0K .....                                                  73,2K=0,08s\n",
      "\n",
      "2023-01-24 16:01:10 (73,2 KB/s) - ‘journals/1327.json’ saved [5827]\n",
      "\n",
      "--2023-01-24 16:01:10--  https://m2.mtmt.hu/api/journal/10006463\n",
      "Resolving m2.mtmt.hu (m2.mtmt.hu)... 193.224.44.74\n",
      "Connecting to m2.mtmt.hu (m2.mtmt.hu)|193.224.44.74|:443... "
     ]
    },
    {
     "name": "stdout",
     "output_type": "stream",
     "text": [
      "Új folyóirat:  ALGEBRAIC AND GEOMETRIC TOPOLOGY 1472-2739 1472-2747\n"
     ]
    },
    {
     "name": "stderr",
     "output_type": "stream",
     "text": [
      "connected.\n",
      "HTTP request sent, awaiting response... 200 \n",
      "Length: unspecified [application/vnd.mtmt2-1.0+json]\n",
      "Saving to: ‘journals/10006463.json’\n",
      "\n",
      "     0K ....                                                   40,3K=0,1s\n",
      "\n",
      "2023-01-24 16:01:12 (40,3 KB/s) - ‘journals/10006463.json’ saved [4240]\n",
      "\n",
      "--2023-01-24 16:01:12--  https://m2.mtmt.hu/api/journal/3554\n",
      "Resolving m2.mtmt.hu (m2.mtmt.hu)... "
     ]
    },
    {
     "name": "stdout",
     "output_type": "stream",
     "text": [
      "Új folyóirat:  PACIFIC JOURNAL OF MATHEMATICS 0030-8730 1945-5844\n"
     ]
    },
    {
     "name": "stderr",
     "output_type": "stream",
     "text": [
      "193.224.44.74\n",
      "Connecting to m2.mtmt.hu (m2.mtmt.hu)|193.224.44.74|:443... connected.\n",
      "HTTP request sent, awaiting response... 200 \n",
      "Length: unspecified [application/vnd.mtmt2-1.0+json]\n",
      "Saving to: ‘journals/3554.json’\n",
      "\n",
      "     0K ....                                                   45,9K=0,09s\n",
      "\n",
      "2023-01-24 16:01:13 (45,9 KB/s) - ‘journals/3554.json’ saved [4101]\n",
      "\n",
      "38it [03:42,  3.72s/it]"
     ]
    },
    {
     "name": "stdout",
     "output_type": "stream",
     "text": [
      "Új folyóirat:  APPLIED NUMERICAL MATHEMATICS 0168-9274 1873-5460\n"
     ]
    },
    {
     "name": "stderr",
     "output_type": "stream",
     "text": [
      "--2023-01-24 16:01:13--  https://m2.mtmt.hu/api/journal/459\n",
      "Resolving m2.mtmt.hu (m2.mtmt.hu)... 193.224.44.74\n",
      "Connecting to m2.mtmt.hu (m2.mtmt.hu)|193.224.44.74|:443... connected.\n",
      "HTTP request sent, awaiting response... 200 \n",
      "Length: unspecified [application/vnd.mtmt2-1.0+json]\n",
      "Saving to: ‘journals/459.json’\n",
      "\n",
      "     0K ....                                                   47,2K=0,09s\n",
      "\n",
      "2023-01-24 16:01:15 (47,2 KB/s) - ‘journals/459.json’ saved [4261]\n",
      "\n",
      "--2023-01-24 16:01:15--  https://m2.mtmt.hu/api/journal/2400\n",
      "Resolving m2.mtmt.hu (m2.mtmt.hu)... "
     ]
    },
    {
     "name": "stdout",
     "output_type": "stream",
     "text": [
      "Új folyóirat:  JOURNAL OF COMPUTATIONAL PHYSICS 0021-9991 1090-2716\n"
     ]
    },
    {
     "name": "stderr",
     "output_type": "stream",
     "text": [
      "193.224.44.74\n",
      "Connecting to m2.mtmt.hu (m2.mtmt.hu)|193.224.44.74|:443... connected.\n",
      "HTTP request sent, awaiting response... 200 \n",
      "Length: unspecified [application/vnd.mtmt2-1.0+json]\n",
      "Saving to: ‘journals/2400.json’\n",
      "\n",
      "     0K ....                                                   45,5K=0,09s\n",
      "\n",
      "2023-01-24 16:01:17 (45,5 KB/s) - ‘journals/2400.json’ saved [4330]\n",
      "\n",
      "--2023-01-24 16:01:17--  https://m2.mtmt.hu/api/journal/3434\n",
      "Resolving m2.mtmt.hu (m2.mtmt.hu)... 193.224.44.74\n",
      "Connecting to m2.mtmt.hu (m2.mtmt.hu)|193.224.44.74|:443... "
     ]
    },
    {
     "name": "stdout",
     "output_type": "stream",
     "text": [
      "Új folyóirat:  NUMERICAL FUNCTIONAL ANALYSIS AND OPTIMIZATION 0163-0563 1532-2467\n"
     ]
    },
    {
     "name": "stderr",
     "output_type": "stream",
     "text": [
      "connected.\n",
      "HTTP request sent, awaiting response... 200 \n",
      "Length: unspecified [application/vnd.mtmt2-1.0+json]\n",
      "Saving to: ‘journals/3434.json’\n",
      "\n",
      "     0K ....                                                   53,1K=0,09s\n",
      "\n",
      "2023-01-24 16:01:18 (53,1 KB/s) - ‘journals/3434.json’ saved [4678]\n",
      "\n",
      "--2023-01-24 16:01:18--  https://m2.mtmt.hu/api/journal/4080\n",
      "Resolving m2.mtmt.hu (m2.mtmt.hu)... 193.224.44.74\n",
      "Connecting to m2.mtmt.hu (m2.mtmt.hu)|193.224.44.74|:443... "
     ]
    },
    {
     "name": "stdout",
     "output_type": "stream",
     "text": [
      "Új folyóirat:  SIAM JOURNAL ON NUMERICAL ANALYSIS 0036-1429 1095-7170\n"
     ]
    },
    {
     "name": "stderr",
     "output_type": "stream",
     "text": [
      "connected.\n",
      "HTTP request sent, awaiting response... 200 \n",
      "Length: unspecified [application/vnd.mtmt2-1.0+json]\n",
      "Saving to: ‘journals/4080.json’\n",
      "\n",
      "     0K ....                                                   42,0K=0,1s\n",
      "\n",
      "2023-01-24 16:01:19 (42,0 KB/s) - ‘journals/4080.json’ saved [4216]\n",
      "\n",
      "--2023-01-24 16:01:19--  https://m2.mtmt.hu/api/journal/10011718\n",
      "Resolving m2.mtmt.hu (m2.mtmt.hu)... "
     ]
    },
    {
     "name": "stdout",
     "output_type": "stream",
     "text": [
      "Új folyóirat:  MATHEMATICAL MODELLING AND ANALYSIS 1392-6292 1648-3510\n"
     ]
    },
    {
     "name": "stderr",
     "output_type": "stream",
     "text": [
      "193.224.44.74\n",
      "Connecting to m2.mtmt.hu (m2.mtmt.hu)|193.224.44.74|:443... connected.\n",
      "HTTP request sent, awaiting response... 200 \n",
      "Length: unspecified [application/vnd.mtmt2-1.0+json]\n",
      "Saving to: ‘journals/10011718.json’\n",
      "\n",
      "     0K ....                                                   35,3K=0,1s\n",
      "\n",
      "2023-01-24 16:01:21 (35,3 KB/s) - ‘journals/10011718.json’ saved [4791]\n",
      "\n",
      "--2023-01-24 16:01:21--  https://m2.mtmt.hu/api/journal/4078\n",
      "Resolving m2.mtmt.hu (m2.mtmt.hu)... "
     ]
    },
    {
     "name": "stdout",
     "output_type": "stream",
     "text": [
      "Új folyóirat:  SIAM JOURNAL ON MATHEMATICAL ANALYSIS 0036-1410 1095-7154\n"
     ]
    },
    {
     "name": "stderr",
     "output_type": "stream",
     "text": [
      "193.224.44.74\n",
      "Connecting to m2.mtmt.hu (m2.mtmt.hu)|193.224.44.74|:443... connected.\n",
      "HTTP request sent, awaiting response... 200 \n",
      "Length: unspecified [application/vnd.mtmt2-1.0+json]\n",
      "Saving to: ‘journals/4078.json’\n",
      "\n",
      "     0K ....                                                   46,9K=0,1s\n",
      "\n",
      "2023-01-24 16:01:22 (46,9 KB/s) - ‘journals/4078.json’ saved [4705]\n",
      "\n",
      "39it [03:51,  5.16s/it]--2023-01-24 16:01:22--  https://m2.mtmt.hu/api/journal/3674\n",
      "Resolving m2.mtmt.hu (m2.mtmt.hu)... "
     ]
    },
    {
     "name": "stdout",
     "output_type": "stream",
     "text": [
      "Új folyóirat:  PHYSICA A - STATISTICAL MECHANICS AND ITS APPLICATIONS 0378-4371 1873-2119\n"
     ]
    },
    {
     "name": "stderr",
     "output_type": "stream",
     "text": [
      "193.224.44.74\n",
      "Connecting to m2.mtmt.hu (m2.mtmt.hu)|193.224.44.74|:443... connected.\n",
      "HTTP request sent, awaiting response... 200 \n",
      "Length: unspecified [application/vnd.mtmt2-1.0+json]\n",
      "Saving to: ‘journals/3674.json’\n",
      "\n",
      "     0K ....                                                   57,2K=0,09s\n",
      "\n",
      "2023-01-24 16:01:24 (57,2 KB/s) - ‘journals/3674.json’ saved [4999]\n",
      "\n",
      "--2023-01-24 16:01:24--  https://m2.mtmt.hu/api/journal/4161\n",
      "Resolving m2.mtmt.hu (m2.mtmt.hu)... 193.224.44.74\n",
      "Connecting to m2.mtmt.hu (m2.mtmt.hu)|193.224.44.74|:443... "
     ]
    },
    {
     "name": "stdout",
     "output_type": "stream",
     "text": [
      "Új folyóirat:  STOCHASTIC PROCESSES AND THEIR APPLICATIONS 0304-4149 1879-209X\n"
     ]
    },
    {
     "name": "stderr",
     "output_type": "stream",
     "text": [
      "connected.\n",
      "HTTP request sent, awaiting response... 200 \n",
      "Length: unspecified [application/vnd.mtmt2-1.0+json]\n",
      "Saving to: ‘journals/4161.json’\n",
      "\n",
      "     0K ......                                                 70,6K=0,1s\n",
      "\n",
      "2023-01-24 16:01:26 (70,6 KB/s) - ‘journals/4161.json’ saved [7064]\n",
      "\n",
      "40it [03:54,  4.68s/it]--2023-01-24 16:01:26--  https://m2.mtmt.hu/api/journal/2150401\n",
      "Resolving m2.mtmt.hu (m2.mtmt.hu)... "
     ]
    },
    {
     "name": "stdout",
     "output_type": "stream",
     "text": [
      "Új folyóirat:  MATHEMATICA SLOVACA 0139-9918 1337-2211\n"
     ]
    },
    {
     "name": "stderr",
     "output_type": "stream",
     "text": [
      "193.224.44.74\n",
      "Connecting to m2.mtmt.hu (m2.mtmt.hu)|193.224.44.74|:443... connected.\n",
      "HTTP request sent, awaiting response... 200 \n",
      "Length: unspecified [application/vnd.mtmt2-1.0+json]\n",
      "Saving to: ‘journals/2150401.json’\n",
      "\n",
      "     0K ....                                                   3,29M=0,001s\n",
      "\n",
      "2023-01-24 16:01:26 (3,29 MB/s) - ‘journals/2150401.json’ saved [5061]\n",
      "\n",
      "41it [03:55,  3.48s/it]--2023-01-24 16:01:26--  https://m2.mtmt.hu/api/journal/2150632\n",
      "Resolving m2.mtmt.hu (m2.mtmt.hu)... 193.224.44.74\n",
      "Connecting to m2.mtmt.hu (m2.mtmt.hu)|193.224.44.74|:443... "
     ]
    },
    {
     "name": "stdout",
     "output_type": "stream",
     "text": [
      "Új folyóirat:  DIFFERENTIAL EQUATIONS AND DYNAMICAL SYSTEMS 0971-3514 0974-6870\n"
     ]
    },
    {
     "name": "stderr",
     "output_type": "stream",
     "text": [
      "connected.\n",
      "HTTP request sent, awaiting response... 200 \n",
      "Length: unspecified [application/vnd.mtmt2-1.0+json]\n",
      "Saving to: ‘journals/2150632.json’\n",
      "\n",
      "     0K ...                                                    43,8K=0,09s\n",
      "\n",
      "2023-01-24 16:01:28 (43,8 KB/s) - ‘journals/2150632.json’ saved [3902]\n",
      "\n",
      "42it [03:57,  3.01s/it]--2023-01-24 16:01:28--  https://m2.mtmt.hu/api/journal/1600\n",
      "Resolving m2.mtmt.hu (m2.mtmt.hu)... "
     ]
    },
    {
     "name": "stdout",
     "output_type": "stream",
     "text": [
      "Új folyóirat:  FLUID DYNAMICS RESEARCH 0169-5983 1873-7005\n"
     ]
    },
    {
     "name": "stderr",
     "output_type": "stream",
     "text": [
      "193.224.44.74\n",
      "Connecting to m2.mtmt.hu (m2.mtmt.hu)|193.224.44.74|:443... connected.\n",
      "HTTP request sent, awaiting response... 200 \n",
      "Length: unspecified [application/vnd.mtmt2-1.0+json]\n",
      "Saving to: ‘journals/1600.json’\n",
      "\n",
      "     0K ....                                                   56,7K=0,08s\n",
      "\n",
      "2023-01-24 16:01:29 (56,7 KB/s) - ‘journals/1600.json’ saved [4458]\n",
      "\n",
      "--2023-01-24 16:01:29--  https://m2.mtmt.hu/api/journal/2131\n",
      "Resolving m2.mtmt.hu (m2.mtmt.hu)... "
     ]
    },
    {
     "name": "stdout",
     "output_type": "stream",
     "text": [
      "Új folyóirat:  INTEGRAL EQUATIONS AND OPERATOR THEORY 0378-620X 1420-8989\n"
     ]
    },
    {
     "name": "stderr",
     "output_type": "stream",
     "text": [
      "193.224.44.74\n",
      "Connecting to m2.mtmt.hu (m2.mtmt.hu)|193.224.44.74|:443... connected.\n",
      "HTTP request sent, awaiting response... 200 \n",
      "Length: unspecified [application/vnd.mtmt2-1.0+json]\n",
      "Saving to: ‘journals/2131.json’\n",
      "\n",
      "     0K ....                                                   51,0K=0,1s\n",
      "\n",
      "2023-01-24 16:01:30 (51,0 KB/s) - ‘journals/2131.json’ saved [5100]\n",
      "\n",
      "--2023-01-24 16:01:30--  https://m2.mtmt.hu/api/journal/22689\n",
      "Resolving m2.mtmt.hu (m2.mtmt.hu)... "
     ]
    },
    {
     "name": "stdout",
     "output_type": "stream",
     "text": [
      "Új folyóirat:  EUROPEAN JOURNAL OF APPLIED MATHEMATICS 0956-7925 1469-4425\n"
     ]
    },
    {
     "name": "stderr",
     "output_type": "stream",
     "text": [
      "193.224.44.74\n",
      "Connecting to m2.mtmt.hu (m2.mtmt.hu)|193.224.44.74|:443... connected.\n",
      "HTTP request sent, awaiting response... 200 \n",
      "Length: unspecified [application/vnd.mtmt2-1.0+json]\n",
      "Saving to: ‘journals/22689.json’\n",
      "\n",
      "     0K ...                                                    41,7K=0,09s\n",
      "\n",
      "2023-01-24 16:01:32 (41,7 KB/s) - ‘journals/22689.json’ saved [3801]\n",
      "\n",
      "--2023-01-24 16:01:32--  https://m2.mtmt.hu/api/journal/10002648\n",
      "Resolving m2.mtmt.hu (m2.mtmt.hu)... 193.224.44.74\n",
      "Connecting to m2.mtmt.hu (m2.mtmt.hu)|193.224.44.74|:443... "
     ]
    },
    {
     "name": "stdout",
     "output_type": "stream",
     "text": [
      "Új folyóirat:  COMPLEXITY 1076-2787 1099-0526\n"
     ]
    },
    {
     "name": "stderr",
     "output_type": "stream",
     "text": [
      "connected.\n",
      "HTTP request sent, awaiting response... 200 \n",
      "Length: unspecified [application/vnd.mtmt2-1.0+json]\n",
      "Saving to: ‘journals/10002648.json’\n",
      "\n",
      "     0K ....                                                   57,6K=0,09s\n",
      "\n",
      "2023-01-24 16:01:33 (57,6 KB/s) - ‘journals/10002648.json’ saved [5088]\n",
      "\n",
      "43it [04:02,  3.61s/it]--2023-01-24 16:01:33--  https://m2.mtmt.hu/api/journal/6364\n",
      "Resolving m2.mtmt.hu (m2.mtmt.hu)... "
     ]
    },
    {
     "name": "stdout",
     "output_type": "stream",
     "text": [
      "Új folyóirat:  APPLICABLE ALGEBRA IN ENGINEERING COMMUNICATION AND COMPUTING 0938-1279 1432-0622\n"
     ]
    },
    {
     "name": "stderr",
     "output_type": "stream",
     "text": [
      "193.224.44.74\n",
      "Connecting to m2.mtmt.hu (m2.mtmt.hu)|193.224.44.74|:443... connected.\n",
      "HTTP request sent, awaiting response... 200 \n",
      "Length: unspecified [application/vnd.mtmt2-1.0+json]\n",
      "Saving to: ‘journals/6364.json’\n",
      "\n",
      "     0K .....                                                  58,8K=0,1s\n",
      "\n",
      "2023-01-24 16:01:35 (58,8 KB/s) - ‘journals/6364.json’ saved [5782]\n",
      "\n",
      "--2023-01-24 16:01:35--  https://m2.mtmt.hu/api/journal/1417125\n",
      "Resolving m2.mtmt.hu (m2.mtmt.hu)... "
     ]
    },
    {
     "name": "stdout",
     "output_type": "stream",
     "text": [
      "Új folyóirat:  BULLETIN OF THE AUSTRALIAN MATHEMATICAL SOCIETY 0004-9727 1755-1633\n"
     ]
    },
    {
     "name": "stderr",
     "output_type": "stream",
     "text": [
      "193.224.44.74\n",
      "Connecting to m2.mtmt.hu (m2.mtmt.hu)|193.224.44.74|:443... connected.\n",
      "HTTP request sent, awaiting response... 200 \n",
      "Length: unspecified [application/vnd.mtmt2-1.0+json]\n",
      "Saving to: ‘journals/1417125.json’\n",
      "\n",
      "     0K ....                                                   19,8K=0,2s\n",
      "\n",
      "2023-01-24 16:01:37 (19,8 KB/s) - ‘journals/1417125.json’ saved [4153]\n",
      "\n",
      "--2023-01-24 16:01:37--  https://m2.mtmt.hu/api/journal/26\n",
      "Resolving m2.mtmt.hu (m2.mtmt.hu)... 193.224.44.74\n",
      "Connecting to m2.mtmt.hu (m2.mtmt.hu)|193.224.44.74|:443... "
     ]
    },
    {
     "name": "stdout",
     "output_type": "stream",
     "text": [
      "Új folyóirat:  ACTA ARITHMETICA 0065-1036 1730-6264\n"
     ]
    },
    {
     "name": "stderr",
     "output_type": "stream",
     "text": [
      "connected.\n",
      "HTTP request sent, awaiting response... 200 \n",
      "Length: unspecified [application/vnd.mtmt2-1.0+json]\n",
      "Saving to: ‘journals/26.json’\n",
      "\n",
      "     0K ...                                                    38,3K=0,09s\n",
      "\n",
      "2023-01-24 16:01:37 (38,3 KB/s) - ‘journals/26.json’ saved [3723]\n",
      "\n",
      "--2023-01-24 16:01:37--  https://m2.mtmt.hu/api/journal/10030280\n",
      "Resolving m2.mtmt.hu (m2.mtmt.hu)... "
     ]
    },
    {
     "name": "stdout",
     "output_type": "stream",
     "text": [
      "Új folyóirat:  IEEE TRANSACTIONS ON NETWORK AND SERVICE MANAGEMENT 1932-4537 1932-4537\n"
     ]
    },
    {
     "name": "stderr",
     "output_type": "stream",
     "text": [
      "193.224.44.74\n",
      "Connecting to m2.mtmt.hu (m2.mtmt.hu)|193.224.44.74|:443... connected.\n",
      "HTTP request sent, awaiting response... 200 \n",
      "Length: unspecified [application/vnd.mtmt2-1.0+json]\n",
      "Saving to: ‘journals/10030280.json’\n",
      "\n",
      "     0K .....                                                  9,94K=0,6s\n",
      "\n",
      "2023-01-24 16:01:40 (9,94 KB/s) - ‘journals/10030280.json’ saved [5641]\n",
      "\n",
      "--2023-01-24 16:01:40--  https://m2.mtmt.hu/api/journal/2386\n",
      "Resolving m2.mtmt.hu (m2.mtmt.hu)... 193.224.44.74\n",
      "Connecting to m2.mtmt.hu (m2.mtmt.hu)|193.224.44.74|:443... "
     ]
    },
    {
     "name": "stdout",
     "output_type": "stream",
     "text": [
      "Új folyóirat:  JOURNAL OF COMBINATORIAL THEORY SERIES A 0097-3165 1096-0899\n"
     ]
    },
    {
     "name": "stderr",
     "output_type": "stream",
     "text": [
      "connected.\n",
      "HTTP request sent, awaiting response... 200 \n",
      "Length: unspecified [application/vnd.mtmt2-1.0+json]\n",
      "Saving to: ‘journals/2386.json’\n",
      "\n",
      "     0K ....                                                   50,2K=0,1s\n",
      "\n",
      "2023-01-24 16:01:40 (50,2 KB/s) - ‘journals/2386.json’ saved [4889]\n",
      "\n",
      "--2023-01-24 16:01:40--  https://m2.mtmt.hu/api/journal/4077\n",
      "Resolving m2.mtmt.hu (m2.mtmt.hu)... "
     ]
    },
    {
     "name": "stdout",
     "output_type": "stream",
     "text": [
      "Új folyóirat:  SIAM JOURNAL ON DISCRETE MATHEMATICS 0895-4801 1095-7146\n"
     ]
    },
    {
     "name": "stderr",
     "output_type": "stream",
     "text": [
      "193.224.44.74\n",
      "Connecting to m2.mtmt.hu (m2.mtmt.hu)|193.224.44.74|:443... connected.\n",
      "HTTP request sent, awaiting response... 200 \n",
      "Length: unspecified [application/vnd.mtmt2-1.0+json]\n",
      "Saving to: ‘journals/4077.json’\n",
      "\n",
      "     0K ....                                                   43,4K=0,1s\n",
      "\n",
      "2023-01-24 16:01:42 (43,4 KB/s) - ‘journals/4077.json’ saved [4245]\n",
      "\n",
      "--2023-01-24 16:01:42--  https://m2.mtmt.hu/api/journal/10006320\n",
      "Resolving m2.mtmt.hu (m2.mtmt.hu)... "
     ]
    },
    {
     "name": "stdout",
     "output_type": "stream",
     "text": [
      "Új folyóirat:  INTERNATIONAL JOURNAL OF NUMBER THEORY 1793-0421 1793-7310\n"
     ]
    },
    {
     "name": "stderr",
     "output_type": "stream",
     "text": [
      "193.224.44.74\n",
      "Connecting to m2.mtmt.hu (m2.mtmt.hu)|193.224.44.74|:443... connected.\n",
      "HTTP request sent, awaiting response... 200 \n",
      "Length: unspecified [application/vnd.mtmt2-1.0+json]\n",
      "Saving to: ‘journals/10006320.json’\n",
      "\n",
      "     0K ...                                                    46,4K=0,08s\n",
      "\n",
      "2023-01-24 16:01:44 (46,4 KB/s) - ‘journals/10006320.json’ saved [3930]\n",
      "\n",
      "--2023-01-24 16:01:44--  https://m2.mtmt.hu/api/journal/10007440\n",
      "Resolving m2.mtmt.hu (m2.mtmt.hu)... "
     ]
    },
    {
     "name": "stdout",
     "output_type": "stream",
     "text": [
      "Új folyóirat:  PLOS ONE 1932-6203 1932-6203\n"
     ]
    },
    {
     "name": "stderr",
     "output_type": "stream",
     "text": [
      "193.224.44.74\n",
      "Connecting to m2.mtmt.hu (m2.mtmt.hu)|193.224.44.74|:443... connected.\n",
      "HTTP request sent, awaiting response... 200 \n",
      "Length: unspecified [application/vnd.mtmt2-1.0+json]\n",
      "Saving to: ‘journals/10007440.json’\n",
      "\n",
      "     0K .......                                                37,3K=0,2s\n",
      "\n",
      "2023-01-24 16:01:45 (37,3 KB/s) - ‘journals/10007440.json’ saved [7703]\n",
      "\n",
      "--2023-01-24 16:01:45--  https://m2.mtmt.hu/api/journal/10004911\n",
      "Resolving m2.mtmt.hu (m2.mtmt.hu)... 193.224.44.74\n",
      "Connecting to m2.mtmt.hu (m2.mtmt.hu)|193.224.44.74|:443... "
     ]
    },
    {
     "name": "stdout",
     "output_type": "stream",
     "text": [
      "Új folyóirat:  ACTA CYBERNETICA 0324-721X 2676-993X\n"
     ]
    },
    {
     "name": "stderr",
     "output_type": "stream",
     "text": [
      "connected.\n",
      "HTTP request sent, awaiting response... 200 \n",
      "Length: unspecified [application/vnd.mtmt2-1.0+json]\n",
      "Saving to: ‘journals/10004911.json’\n",
      "\n",
      "     0K ......                                                 70,8K=0,09s\n",
      "\n",
      "2023-01-24 16:01:47 (70,8 KB/s) - ‘journals/10004911.json’ saved [6704]\n",
      "\n",
      "--2023-01-24 16:01:47--  https://m2.mtmt.hu/api/journal/10010553\n",
      "Resolving m2.mtmt.hu (m2.mtmt.hu)... "
     ]
    },
    {
     "name": "stdout",
     "output_type": "stream",
     "text": [
      "Új folyóirat:  FUNCTIONES ET APPROXIMATIO COMMENTARII MATHEMATICI 0208-6573 2080-9433\n"
     ]
    },
    {
     "name": "stderr",
     "output_type": "stream",
     "text": [
      "193.224.44.74\n",
      "Connecting to m2.mtmt.hu (m2.mtmt.hu)|193.224.44.74|:443... connected.\n",
      "HTTP request sent, awaiting response... 200 \n",
      "Length: unspecified [application/vnd.mtmt2-1.0+json]\n",
      "Saving to: ‘journals/10010553.json’\n",
      "\n",
      "     0K .....                                                  6,47M=0,001s\n",
      "\n",
      "2023-01-24 16:01:48 (6,47 MB/s) - ‘journals/10010553.json’ saved [5214]\n",
      "\n",
      "--2023-01-24 16:01:48--  https://m2.mtmt.hu/api/journal/4260\n",
      "Resolving m2.mtmt.hu (m2.mtmt.hu)... 193.224.44.74\n",
      "Connecting to m2.mtmt.hu (m2.mtmt.hu)|193.224.44.74|:443... "
     ]
    },
    {
     "name": "stdout",
     "output_type": "stream",
     "text": [
      "Új folyóirat:  THEORETICAL COMPUTER SCIENCE 0304-3975 1879-2294\n"
     ]
    },
    {
     "name": "stderr",
     "output_type": "stream",
     "text": [
      "connected.\n",
      "HTTP request sent, awaiting response... 200 \n",
      "Length: unspecified [application/vnd.mtmt2-1.0+json]\n",
      "Saving to: ‘journals/4260.json’\n",
      "\n",
      "     0K ...                                                    39,4K=0,1s\n",
      "\n",
      "2023-01-24 16:01:49 (39,4 KB/s) - ‘journals/4260.json’ saved [4061]\n",
      "\n",
      "44it [04:18,  7.36s/it]--2023-01-24 16:01:49--  https://m2.mtmt.hu/api/journal/20116\n",
      "Resolving m2.mtmt.hu (m2.mtmt.hu)... "
     ]
    },
    {
     "name": "stdout",
     "output_type": "stream",
     "text": [
      "Új folyóirat:  PROSTATE CANCER AND PROSTATIC DISEASES 1365-7852 1476-5608\n"
     ]
    },
    {
     "name": "stderr",
     "output_type": "stream",
     "text": [
      "193.224.44.74\n",
      "Connecting to m2.mtmt.hu (m2.mtmt.hu)|193.224.44.74|:443... connected.\n",
      "HTTP request sent, awaiting response... 200 \n",
      "Length: unspecified [application/vnd.mtmt2-1.0+json]\n",
      "Saving to: ‘journals/20116.json’\n",
      "\n",
      "     0K ....                                                   2,76M=0,002s\n",
      "\n",
      "2023-01-24 16:01:51 (2,76 MB/s) - ‘journals/20116.json’ saved [4557]\n",
      "\n",
      "--2023-01-24 16:01:51--  https://m2.mtmt.hu/api/journal/10005585\n",
      "Resolving m2.mtmt.hu (m2.mtmt.hu)... 193.224.44.74\n",
      "Connecting to m2.mtmt.hu (m2.mtmt.hu)|193.224.44.74|:443... "
     ]
    },
    {
     "name": "stdout",
     "output_type": "stream",
     "text": [
      "Új folyóirat:  MINERVA PEDIATRICA 0026-4946\n"
     ]
    },
    {
     "name": "stderr",
     "output_type": "stream",
     "text": [
      "connected.\n",
      "HTTP request sent, awaiting response... 200 \n",
      "Length: unspecified [application/vnd.mtmt2-1.0+json]\n",
      "Saving to: ‘journals/10005585.json’\n",
      "\n",
      "     0K ...                                                    38,9K=0,09s\n",
      "\n",
      "2023-01-24 16:01:52 (38,9 KB/s) - ‘journals/10005585.json’ saved [3447]\n",
      "\n",
      "--2023-01-24 16:01:52--  https://m2.mtmt.hu/api/journal/1023035\n",
      "Resolving m2.mtmt.hu (m2.mtmt.hu)... 193.224.44.74\n",
      "Connecting to m2.mtmt.hu (m2.mtmt.hu)|193.224.44.74|:443... "
     ]
    },
    {
     "name": "stdout",
     "output_type": "stream",
     "text": [
      "Új folyóirat:  ANNALS OF AGRICULTURAL AND ENVIRONMENTAL MEDICINE 1232-1966 1898-2263\n"
     ]
    },
    {
     "name": "stderr",
     "output_type": "stream",
     "text": [
      "connected.\n",
      "HTTP request sent, awaiting response... 200 \n",
      "Length: unspecified [application/vnd.mtmt2-1.0+json]\n",
      "Saving to: ‘journals/1023035.json’\n",
      "\n",
      "     0K .....                                                  26,0K=0,2s\n",
      "\n",
      "2023-01-24 16:01:54 (26,0 KB/s) - ‘journals/1023035.json’ saved [5475]\n",
      "\n",
      "45it [04:22,  6.47s/it]--2023-01-24 16:01:54--  https://m2.mtmt.hu/api/journal/10000741\n",
      "Resolving m2.mtmt.hu (m2.mtmt.hu)... 193.224.44.74\n",
      "Connecting to m2.mtmt.hu (m2.mtmt.hu)|193.224.44.74|:443... "
     ]
    },
    {
     "name": "stdout",
     "output_type": "stream",
     "text": [
      "Új folyóirat:  COMPTES RENDUS MATHEMATIQUE 1631-073X 1778-3569\n"
     ]
    },
    {
     "name": "stderr",
     "output_type": "stream",
     "text": [
      "connected.\n",
      "HTTP request sent, awaiting response... 200 \n",
      "Length: unspecified [application/vnd.mtmt2-1.0+json]\n",
      "Saving to: ‘journals/10000741.json’\n",
      "\n",
      "     0K .....                                                  48,1K=0,1s\n",
      "\n",
      "2023-01-24 16:01:55 (48,1 KB/s) - ‘journals/10000741.json’ saved [5796]\n",
      "\n",
      "--2023-01-24 16:01:55--  https://m2.mtmt.hu/api/journal/524\n",
      "Resolving m2.mtmt.hu (m2.mtmt.hu)... "
     ]
    },
    {
     "name": "stdout",
     "output_type": "stream",
     "text": [
      "Új folyóirat:  ARCHIVE FOR RATIONAL MECHANICS AND ANALYSIS 0003-9527 1432-0673\n"
     ]
    },
    {
     "name": "stderr",
     "output_type": "stream",
     "text": [
      "193.224.44.74\n",
      "Connecting to m2.mtmt.hu (m2.mtmt.hu)|193.224.44.74|:443... connected.\n",
      "HTTP request sent, awaiting response... 200 \n",
      "Length: unspecified [application/vnd.mtmt2-1.0+json]\n",
      "Saving to: ‘journals/524.json’\n",
      "\n",
      "     0K ....                                                   53,0K=0,08s\n",
      "\n",
      "2023-01-24 16:01:56 (53,0 KB/s) - ‘journals/524.json’ saved [4595]\n",
      "\n",
      "--2023-01-24 16:01:56--  https://m2.mtmt.hu/api/journal/10009765\n",
      "Resolving m2.mtmt.hu (m2.mtmt.hu)... 193.224.44.74\n",
      "Connecting to m2.mtmt.hu (m2.mtmt.hu)|193.224.44.74|:443... "
     ]
    },
    {
     "name": "stdout",
     "output_type": "stream",
     "text": [
      "Új folyóirat:  NODEA-NONLINEAR DIFFERENTIAL EQUATIONS AND APPLICATIONS 1021-9722 1420-9004\n"
     ]
    },
    {
     "name": "stderr",
     "output_type": "stream",
     "text": [
      "connected.\n",
      "HTTP request sent, awaiting response... 200 \n",
      "Length: unspecified [application/vnd.mtmt2-1.0+json]\n",
      "Saving to: ‘journals/10009765.json’\n",
      "\n",
      "     0K ....                                                   52,6K=0,09s\n",
      "\n",
      "2023-01-24 16:01:58 (52,6 KB/s) - ‘journals/10009765.json’ saved [4844]\n",
      "\n",
      "--2023-01-24 16:01:58--  https://m2.mtmt.hu/api/journal/10010210\n",
      "Resolving m2.mtmt.hu (m2.mtmt.hu)... "
     ]
    },
    {
     "name": "stdout",
     "output_type": "stream",
     "text": [
      "Új folyóirat:  ANALYSIS & PDE 2157-5045 1948-206X\n"
     ]
    },
    {
     "name": "stderr",
     "output_type": "stream",
     "text": [
      "193.224.44.74\n",
      "Connecting to m2.mtmt.hu (m2.mtmt.hu)|193.224.44.74|:443... connected.\n",
      "HTTP request sent, awaiting response... 200 \n",
      "Length: unspecified [application/vnd.mtmt2-1.0+json]\n",
      "Saving to: ‘journals/10010210.json’\n",
      "\n",
      "     0K ....                                                   54,8K=0,09s\n",
      "\n",
      "2023-01-24 16:02:00 (54,8 KB/s) - ‘journals/10010210.json’ saved [4794]\n",
      "\n",
      "--2023-01-24 16:02:00--  https://m2.mtmt.hu/api/journal/2424\n",
      "Resolving m2.mtmt.hu (m2.mtmt.hu)... "
     ]
    },
    {
     "name": "stdout",
     "output_type": "stream",
     "text": [
      "Új folyóirat:  JOURNAL OF DIFFERENTIAL EQUATIONS 0022-0396 1090-2732\n"
     ]
    },
    {
     "name": "stderr",
     "output_type": "stream",
     "text": [
      "193.224.44.74\n",
      "Connecting to m2.mtmt.hu (m2.mtmt.hu)|193.224.44.74|:443... connected.\n",
      "HTTP request sent, awaiting response... 200 \n",
      "Length: unspecified [application/vnd.mtmt2-1.0+json]\n",
      "Saving to: ‘journals/2424.json’\n",
      "\n",
      "     0K ...                                                    6,34K=0,6s\n",
      "\n",
      "2023-01-24 16:02:01 (6,34 KB/s) - ‘journals/2424.json’ saved [3810]\n",
      "\n",
      "46it [04:29,  6.65s/it]--2023-01-24 16:02:01--  https://m2.mtmt.hu/api/journal/10023000\n",
      "Resolving m2.mtmt.hu (m2.mtmt.hu)... 193.224.44.74\n",
      "Connecting to m2.mtmt.hu (m2.mtmt.hu)|193.224.44.74|:443... "
     ]
    },
    {
     "name": "stdout",
     "output_type": "stream",
     "text": [
      "Új folyóirat:  INTERNATIONAL JOURNAL OF SPORTS PHYSIOLOGY AND PERFORMANCE 1555-0265 1555-0273\n"
     ]
    },
    {
     "name": "stderr",
     "output_type": "stream",
     "text": [
      "connected.\n",
      "HTTP request sent, awaiting response... 200 \n",
      "Length: unspecified [application/vnd.mtmt2-1.0+json]\n",
      "Saving to: ‘journals/10023000.json’\n",
      "\n",
      "     0K .....                                                  51,6K=0,1s\n",
      "\n",
      "2023-01-24 16:02:03 (51,6 KB/s) - ‘journals/10023000.json’ saved [5189]\n",
      "\n",
      "--2023-01-24 16:02:03--  https://m2.mtmt.hu/api/journal/2107\n",
      "Resolving m2.mtmt.hu (m2.mtmt.hu)... "
     ]
    },
    {
     "name": "stdout",
     "output_type": "stream",
     "text": [
      "Új folyóirat:  INTERNATIONAL JOURNAL OF SPORTS MEDICINE 0172-4622 1439-3964\n"
     ]
    },
    {
     "name": "stderr",
     "output_type": "stream",
     "text": [
      "193.224.44.74\n",
      "Connecting to m2.mtmt.hu (m2.mtmt.hu)|193.224.44.74|:443... connected.\n",
      "HTTP request sent, awaiting response... 200 \n",
      "Length: unspecified [application/vnd.mtmt2-1.0+json]\n",
      "Saving to: ‘journals/2107.json’\n",
      "\n",
      "     0K ...                                                    2,49M=0,002s\n",
      "\n",
      "2023-01-24 16:02:04 (2,49 MB/s) - ‘journals/2107.json’ saved [4095]\n",
      "\n",
      "--2023-01-24 16:02:04--  https://m2.mtmt.hu/api/journal/1035680\n",
      "Resolving m2.mtmt.hu (m2.mtmt.hu)... 193.224.44.74\n",
      "Connecting to m2.mtmt.hu (m2.mtmt.hu)|193.224.44.74|:443... "
     ]
    },
    {
     "name": "stdout",
     "output_type": "stream",
     "text": [
      "Új folyóirat:  PATHOLOGY AND ONCOLOGY RESEARCH 1219-4956 1532-2807\n"
     ]
    },
    {
     "name": "stderr",
     "output_type": "stream",
     "text": [
      "connected.\n",
      "HTTP request sent, awaiting response... 200 \n",
      "Length: unspecified [application/vnd.mtmt2-1.0+json]\n",
      "Saving to: ‘journals/1035680.json’\n",
      "\n",
      "     0K .....                                                  43,2K=0,1s\n",
      "\n",
      "2023-01-24 16:02:05 (43,2 KB/s) - ‘journals/1035680.json’ saved [5904]\n",
      "\n",
      "--2023-01-24 16:02:06--  https://m2.mtmt.hu/api/journal/10014313\n",
      "Resolving m2.mtmt.hu (m2.mtmt.hu)... "
     ]
    },
    {
     "name": "stdout",
     "output_type": "stream",
     "text": [
      "Új folyóirat:  BMC CARDIOVASCULAR DISORDERS 1471-2261 1471-2261\n"
     ]
    },
    {
     "name": "stderr",
     "output_type": "stream",
     "text": [
      "193.224.44.74\n",
      "Connecting to m2.mtmt.hu (m2.mtmt.hu)|193.224.44.74|:443... connected.\n",
      "HTTP request sent, awaiting response... 200 \n",
      "Length: unspecified [application/vnd.mtmt2-1.0+json]\n",
      "Saving to: ‘journals/10014313.json’\n",
      "\n",
      "     0K ....                                                   42,1K=0,1s\n",
      "\n",
      "2023-01-24 16:02:06 (42,1 KB/s) - ‘journals/10014313.json’ saved [4770]\n",
      "\n",
      "--2023-01-24 16:02:06--  https://m2.mtmt.hu/api/journal/39676\n",
      "Resolving m2.mtmt.hu (m2.mtmt.hu)... "
     ]
    },
    {
     "name": "stdout",
     "output_type": "stream",
     "text": [
      "Új folyóirat:  ERCIM NEWS 0926-4981 1564-0094\n"
     ]
    },
    {
     "name": "stderr",
     "output_type": "stream",
     "text": [
      "193.224.44.74\n",
      "Connecting to m2.mtmt.hu (m2.mtmt.hu)|193.224.44.74|:443... connected.\n",
      "HTTP request sent, awaiting response... 200 \n",
      "Length: unspecified [application/vnd.mtmt2-1.0+json]\n",
      "Saving to: ‘journals/39676.json’\n",
      "\n",
      "     0K ....                                                   3,10M=0,002s\n",
      "\n",
      "2023-01-24 16:02:09 (3,10 MB/s) - ‘journals/39676.json’ saved [5051]\n",
      "\n",
      "--2023-01-24 16:02:09--  https://m2.mtmt.hu/api/journal/1035675\n",
      "Resolving m2.mtmt.hu (m2.mtmt.hu)... 193.224.44.74\n",
      "Connecting to m2.mtmt.hu (m2.mtmt.hu)|193.224.44.74|:443... "
     ]
    },
    {
     "name": "stdout",
     "output_type": "stream",
     "text": [
      "Új folyóirat:  ORVOSI HETILAP 0030-6002 1788-6120\n"
     ]
    },
    {
     "name": "stderr",
     "output_type": "stream",
     "text": [
      "connected.\n",
      "HTTP request sent, awaiting response... 200 \n",
      "Length: unspecified [application/vnd.mtmt2-1.0+json]\n",
      "Saving to: ‘journals/1035675.json’\n",
      "\n",
      "     0K ......                                                 65,1K=0,09s\n",
      "\n",
      "2023-01-24 16:02:09 (65,1 KB/s) - ‘journals/1035675.json’ saved [6299]\n",
      "\n",
      "--2023-01-24 16:02:09--  https://m2.mtmt.hu/api/journal/10015687\n",
      "Resolving m2.mtmt.hu (m2.mtmt.hu)... "
     ]
    },
    {
     "name": "stdout",
     "output_type": "stream",
     "text": [
      "Új folyóirat:  NEXUS NETWORK JOURNAL 1590-5896 1522-4600\n"
     ]
    },
    {
     "name": "stderr",
     "output_type": "stream",
     "text": [
      "193.224.44.74\n",
      "Connecting to m2.mtmt.hu (m2.mtmt.hu)|193.224.44.74|:443... connected.\n",
      "HTTP request sent, awaiting response... 200 \n",
      "Length: unspecified [application/vnd.mtmt2-1.0+json]\n",
      "Saving to: ‘journals/10015687.json’\n",
      "\n",
      "     0K ....                                                   55,9K=0,08s\n",
      "\n",
      "2023-01-24 16:02:11 (55,9 KB/s) - ‘journals/10015687.json’ saved [4615]\n",
      "\n",
      "--2023-01-24 16:02:11--  https://m2.mtmt.hu/api/journal/10005858\n",
      "Resolving m2.mtmt.hu (m2.mtmt.hu)... 193.224.44.74\n",
      "Connecting to m2.mtmt.hu (m2.mtmt.hu)|193.224.44.74|:443... "
     ]
    },
    {
     "name": "stdout",
     "output_type": "stream",
     "text": [
      "Új folyóirat:  ANNALES MATHEMATICAE ET INFORMATICAE 1787-5021 1787-6117\n"
     ]
    },
    {
     "name": "stderr",
     "output_type": "stream",
     "text": [
      "connected.\n",
      "HTTP request sent, awaiting response... 200 \n",
      "Length: unspecified [application/vnd.mtmt2-1.0+json]\n",
      "Saving to: ‘journals/10005858.json’\n",
      "\n",
      "     0K .....                                                  64,0K=0,09s\n",
      "\n",
      "2023-01-24 16:02:13 (64,0 KB/s) - ‘journals/10005858.json’ saved [5868]\n",
      "\n",
      "--2023-01-24 16:02:13--  https://m2.mtmt.hu/api/journal/1482\n",
      "Resolving m2.mtmt.hu (m2.mtmt.hu)... "
     ]
    },
    {
     "name": "stdout",
     "output_type": "stream",
     "text": [
      "Új folyóirat:  EUROPEAN HEART JOURNAL 0195-668X 1522-9645\n"
     ]
    },
    {
     "name": "stderr",
     "output_type": "stream",
     "text": [
      "193.224.44.74\n",
      "Connecting to m2.mtmt.hu (m2.mtmt.hu)|193.224.44.74|:443... connected.\n",
      "HTTP request sent, awaiting response... 200 \n",
      "Length: unspecified [application/vnd.mtmt2-1.0+json]\n",
      "Saving to: ‘journals/1482.json’\n",
      "\n",
      "     0K ....                                                    164K=0,03s\n",
      "\n",
      "2023-01-24 16:02:14 (164 KB/s) - ‘journals/1482.json’ saved [4360]\n",
      "\n",
      "--2023-01-24 16:02:14--  https://m2.mtmt.hu/api/journal/10013596\n",
      "Resolving m2.mtmt.hu (m2.mtmt.hu)... 193.224.44.74\n",
      "Connecting to m2.mtmt.hu (m2.mtmt.hu)|193.224.44.74|:443... "
     ]
    },
    {
     "name": "stdout",
     "output_type": "stream",
     "text": [
      "Új folyóirat:  VASCULAR HEALTH AND RISK MANAGEMENT 1176-6344 1178-2048\n"
     ]
    },
    {
     "name": "stderr",
     "output_type": "stream",
     "text": [
      "connected.\n",
      "HTTP request sent, awaiting response... 200 \n",
      "Length: unspecified [application/vnd.mtmt2-1.0+json]\n",
      "Saving to: ‘journals/10013596.json’\n",
      "\n",
      "     0K .....                                                  3,91M=0,001s\n",
      "\n",
      "2023-01-24 16:02:15 (3,91 MB/s) - ‘journals/10013596.json’ saved [5698]\n",
      "\n",
      "--2023-01-24 16:02:15--  https://m2.mtmt.hu/api/journal/2932\n",
      "Resolving m2.mtmt.hu (m2.mtmt.hu)... 193.224.44.74\n",
      "Connecting to m2.mtmt.hu (m2.mtmt.hu)|193.224.44.74|:443... "
     ]
    },
    {
     "name": "stdout",
     "output_type": "stream",
     "text": [
      "Új folyóirat:  JOURNAL OF VASCULAR SURGERY 0741-5214 1097-6809\n"
     ]
    },
    {
     "name": "stderr",
     "output_type": "stream",
     "text": [
      "connected.\n",
      "HTTP request sent, awaiting response... 200 \n",
      "Length: unspecified [application/vnd.mtmt2-1.0+json]\n",
      "Saving to: ‘journals/2932.json’\n",
      "\n",
      "     0K ....                                                   20,1K=0,2s\n",
      "\n",
      "2023-01-24 16:02:17 (20,1 KB/s) - ‘journals/2932.json’ saved [4251]\n",
      "\n",
      "--2023-01-24 16:02:17--  https://m2.mtmt.hu/api/journal/10935\n",
      "Resolving m2.mtmt.hu (m2.mtmt.hu)... 193.224.44.74\n",
      "Connecting to m2.mtmt.hu (m2.mtmt.hu)|193.224.44.74|:443... connected.\n"
     ]
    },
    {
     "name": "stdout",
     "output_type": "stream",
     "text": [
      "Új folyóirat:  ANNALS OF VASCULAR SURGERY 0890-5096 1615-5947\n"
     ]
    },
    {
     "name": "stderr",
     "output_type": "stream",
     "text": [
      "HTTP request sent, awaiting response... 200 \n",
      "Length: unspecified [application/vnd.mtmt2-1.0+json]\n",
      "Saving to: ‘journals/10935.json’\n",
      "\n",
      "     0K ....                                                   44,6K=0,1s\n",
      "\n",
      "2023-01-24 16:02:19 (44,6 KB/s) - ‘journals/10935.json’ saved [4479]\n",
      "\n",
      "--2023-01-24 16:02:19--  https://m2.mtmt.hu/api/journal/7477\n",
      "Resolving m2.mtmt.hu (m2.mtmt.hu)... "
     ]
    },
    {
     "name": "stdout",
     "output_type": "stream",
     "text": [
      "Új folyóirat:  EUROPEAN JOURNAL OF VASCULAR AND ENDOVASCULAR SURGERY 1078-5884 1532-2165\n"
     ]
    },
    {
     "name": "stderr",
     "output_type": "stream",
     "text": [
      "193.224.44.74\n",
      "Connecting to m2.mtmt.hu (m2.mtmt.hu)|193.224.44.74|:443... connected.\n",
      "HTTP request sent, awaiting response... 200 \n",
      "Length: unspecified [application/vnd.mtmt2-1.0+json]\n",
      "Saving to: ‘journals/7477.json’\n",
      "\n",
      "     0K ....                                                   37,9K=0,1s\n",
      "\n",
      "2023-01-24 16:02:20 (37,9 KB/s) - ‘journals/7477.json’ saved [4784]\n",
      "\n",
      "--2023-01-24 16:02:20--  https://m2.mtmt.hu/api/journal/2004\n",
      "Resolving m2.mtmt.hu (m2.mtmt.hu)... "
     ]
    },
    {
     "name": "stdout",
     "output_type": "stream",
     "text": [
      "Új folyóirat:  INTERNATIONAL JOURNAL OF BIOMETEOROLOGY 0020-7128 1432-1254\n"
     ]
    },
    {
     "name": "stderr",
     "output_type": "stream",
     "text": [
      "193.224.44.74\n",
      "Connecting to m2.mtmt.hu (m2.mtmt.hu)|193.224.44.74|:443... connected.\n",
      "HTTP request sent, awaiting response... 200 \n",
      "Length: unspecified [application/vnd.mtmt2-1.0+json]\n",
      "Saving to: ‘journals/2004.json’\n",
      "\n",
      "     0K ......                                                 74,8K=0,09s\n",
      "\n",
      "2023-01-24 16:02:22 (74,8 KB/s) - ‘journals/2004.json’ saved [6922]\n",
      "\n",
      "--2023-01-24 16:02:22--  https://m2.mtmt.hu/api/journal/1355209\n",
      "Resolving m2.mtmt.hu (m2.mtmt.hu)... "
     ]
    },
    {
     "name": "stdout",
     "output_type": "stream",
     "text": [
      "Új folyóirat:  PERIODICA POLYTECHNICA-CIVIL ENGINEERING 0553-6626 1587-3773\n"
     ]
    },
    {
     "name": "stderr",
     "output_type": "stream",
     "text": [
      "193.224.44.74\n",
      "Connecting to m2.mtmt.hu (m2.mtmt.hu)|193.224.44.74|:443... connected.\n",
      "HTTP request sent, awaiting response... 200 \n",
      "Length: unspecified [application/vnd.mtmt2-1.0+json]\n",
      "Saving to: ‘journals/1355209.json’\n",
      "\n",
      "     0K .......                                                74,1K=0,1s\n",
      "\n",
      "2023-01-24 16:02:23 (74,1 KB/s) - ‘journals/1355209.json’ saved [7245]\n",
      "\n",
      "47it [04:52, 11.42s/it]"
     ]
    },
    {
     "name": "stdout",
     "output_type": "stream",
     "text": [
      "Új folyóirat:  NATURAL LANGUAGE ENGINEERING 1351-3249 1469-8110\n"
     ]
    },
    {
     "name": "stderr",
     "output_type": "stream",
     "text": [
      "--2023-01-24 16:02:24--  https://m2.mtmt.hu/api/journal/10017351\n",
      "Resolving m2.mtmt.hu (m2.mtmt.hu)... 193.224.44.74\n",
      "Connecting to m2.mtmt.hu (m2.mtmt.hu)|193.224.44.74|:443... connected.\n",
      "HTTP request sent, awaiting response... 200 \n",
      "Length: unspecified [application/vnd.mtmt2-1.0+json]\n",
      "Saving to: ‘journals/10017351.json’\n",
      "\n",
      "     0K .......                                                78,4K=0,09s\n",
      "\n",
      "2023-01-24 16:02:25 (78,4 KB/s) - ‘journals/10017351.json’ saved [7469]\n",
      "\n",
      "--2023-01-24 16:02:25--  https://m2.mtmt.hu/api/journal/10020827\n",
      "Resolving m2.mtmt.hu (m2.mtmt.hu)... "
     ]
    },
    {
     "name": "stdout",
     "output_type": "stream",
     "text": [
      "Új folyóirat:  FRONTIERS IN PSYCHOLOGY 1664-1078 1664-1078\n"
     ]
    },
    {
     "name": "stderr",
     "output_type": "stream",
     "text": [
      "193.224.44.74\n",
      "Connecting to m2.mtmt.hu (m2.mtmt.hu)|193.224.44.74|:443... connected.\n",
      "HTTP request sent, awaiting response... 200 \n",
      "Length: unspecified [application/vnd.mtmt2-1.0+json]\n",
      "Saving to: ‘journals/10020827.json’\n",
      "\n",
      "     0K ......                                                 32,7K=0,2s\n",
      "\n",
      "2023-01-24 16:02:27 (32,7 KB/s) - ‘journals/10020827.json’ saved [6918]\n",
      "\n",
      "--2023-01-24 16:02:27--  https://m2.mtmt.hu/api/journal/10001213\n",
      "Resolving m2.mtmt.hu (m2.mtmt.hu)... "
     ]
    },
    {
     "name": "stdout",
     "output_type": "stream",
     "text": [
      "Új folyóirat:  INFORMATION SYSTEMS FRONTIERS 1387-3326 1572-9419\n"
     ]
    },
    {
     "name": "stderr",
     "output_type": "stream",
     "text": [
      "193.224.44.74\n",
      "Connecting to m2.mtmt.hu (m2.mtmt.hu)|193.224.44.74|:443... connected.\n",
      "HTTP request sent, awaiting response... 200 \n",
      "Length: unspecified [application/vnd.mtmt2-1.0+json]\n",
      "Saving to: ‘journals/10001213.json’\n",
      "\n",
      "     0K .....                                                  17,5K=0,3s\n",
      "\n",
      "2023-01-24 16:02:28 (17,5 KB/s) - ‘journals/10001213.json’ saved [5474]\n",
      "\n",
      "--2023-01-24 16:02:28--  https://m2.mtmt.hu/api/journal/20099252\n",
      "Resolving m2.mtmt.hu (m2.mtmt.hu)... "
     ]
    },
    {
     "name": "stdout",
     "output_type": "stream",
     "text": [
      "Új folyóirat:  ACTA LINGUISTICA ACADEMICA 2559-8201 2560-1016\n"
     ]
    },
    {
     "name": "stderr",
     "output_type": "stream",
     "text": [
      "193.224.44.74\n",
      "Connecting to m2.mtmt.hu (m2.mtmt.hu)|193.224.44.74|:443... connected.\n",
      "HTTP request sent, awaiting response... 200 \n",
      "Length: unspecified [application/vnd.mtmt2-1.0+json]\n",
      "Saving to: ‘journals/20099252.json’\n",
      "\n",
      "     0K ......                                                 40,5K=0,2s\n",
      "\n",
      "2023-01-24 16:02:30 (40,5 KB/s) - ‘journals/20099252.json’ saved [6704]\n",
      "\n",
      "--2023-01-24 16:02:30--  https://m2.mtmt.hu/api/journal/10009728\n",
      "Resolving m2.mtmt.hu (m2.mtmt.hu)... "
     ]
    },
    {
     "name": "stdout",
     "output_type": "stream",
     "text": [
      "Új folyóirat:  JOURNAL OF LOGIC LANGUAGE AND INFORMATION 0925-8531 1572-9583\n"
     ]
    },
    {
     "name": "stderr",
     "output_type": "stream",
     "text": [
      "193.224.44.74\n",
      "Connecting to m2.mtmt.hu (m2.mtmt.hu)|193.224.44.74|:443... connected.\n",
      "HTTP request sent, awaiting response... 200 \n",
      "Length: unspecified [application/vnd.mtmt2-1.0+json]\n",
      "Saving to: ‘journals/10009728.json’\n",
      "\n",
      "     0K ......                                                 37,9K=0,2s\n",
      "\n",
      "2023-01-24 16:02:31 (37,9 KB/s) - ‘journals/10009728.json’ saved [6810]\n",
      "\n",
      "--2023-01-24 16:02:31--  https://m2.mtmt.hu/api/journal/8467\n",
      "Resolving m2.mtmt.hu (m2.mtmt.hu)... "
     ]
    },
    {
     "name": "stdout",
     "output_type": "stream",
     "text": [
      "Új folyóirat:  JOURNAL OF EXPERIMENTAL & THEORETICAL ARTIFICIAL INTELLIGENCE 0952-813X 1362-3079\n"
     ]
    },
    {
     "name": "stderr",
     "output_type": "stream",
     "text": [
      "193.224.44.74\n",
      "Connecting to m2.mtmt.hu (m2.mtmt.hu)|193.224.44.74|:443... connected.\n",
      "HTTP request sent, awaiting response... 200 \n",
      "Length: unspecified [application/vnd.mtmt2-1.0+json]\n",
      "Saving to: ‘journals/8467.json’\n",
      "\n",
      "     0K .....                                                  24,6K=0,2s\n",
      "\n",
      "2023-01-24 16:02:32 (24,6 KB/s) - ‘journals/8467.json’ saved [5174]\n",
      "\n",
      "48it [05:01, 10.58s/it]--2023-01-24 16:02:32--  https://m2.mtmt.hu/api/journal/10032925\n",
      "Resolving m2.mtmt.hu (m2.mtmt.hu)... "
     ]
    },
    {
     "name": "stdout",
     "output_type": "stream",
     "text": [
      "Új folyóirat:  ACM TRANSACTIONS ON INTELLIGENT SYSTEMS AND TECHNOLOGY 2157-6904 2157-6912\n"
     ]
    },
    {
     "name": "stderr",
     "output_type": "stream",
     "text": [
      "193.224.44.74\n",
      "Connecting to m2.mtmt.hu (m2.mtmt.hu)|193.224.44.74|:443... connected.\n",
      "HTTP request sent, awaiting response... 200 \n",
      "Length: unspecified [application/vnd.mtmt2-1.0+json]\n",
      "Saving to: ‘journals/10032925.json’\n",
      "\n",
      "     0K .....                                                  12,7K=0,4s\n",
      "\n",
      "2023-01-24 16:02:34 (12,7 KB/s) - ‘journals/10032925.json’ saved [5144]\n",
      "\n",
      "--2023-01-24 16:02:34--  https://m2.mtmt.hu/api/journal/10007205\n",
      "Resolving m2.mtmt.hu (m2.mtmt.hu)... "
     ]
    },
    {
     "name": "stdout",
     "output_type": "stream",
     "text": [
      "Új folyóirat:  OPTIMIZATION AND ENGINEERING 1389-4420 1573-2924\n"
     ]
    },
    {
     "name": "stderr",
     "output_type": "stream",
     "text": [
      "193.224.44.74\n",
      "Connecting to m2.mtmt.hu (m2.mtmt.hu)|193.224.44.74|:443... connected.\n",
      "HTTP request sent, awaiting response... 200 \n",
      "Length: unspecified [application/vnd.mtmt2-1.0+json]\n",
      "Saving to: ‘journals/10007205.json’\n",
      "\n",
      "     0K ......                                                 69,9K=0,1s\n",
      "\n",
      "2023-01-24 16:02:35 (69,9 KB/s) - ‘journals/10007205.json’ saved [6889]\n",
      "\n",
      "49it [05:03,  8.25s/it]--2023-01-24 16:02:35--  https://m2.mtmt.hu/api/journal/10028802\n",
      "Resolving m2.mtmt.hu (m2.mtmt.hu)... "
     ]
    },
    {
     "name": "stdout",
     "output_type": "stream",
     "text": [
      "Új folyóirat:  FRACTIONAL CALCULUS AND APPLIED ANALYSIS 1311-0454 1314-2444\n"
     ]
    },
    {
     "name": "stderr",
     "output_type": "stream",
     "text": [
      "193.224.44.74\n",
      "Connecting to m2.mtmt.hu (m2.mtmt.hu)|193.224.44.74|:443... connected.\n",
      "HTTP request sent, awaiting response... 200 \n",
      "Length: unspecified [application/vnd.mtmt2-1.0+json]\n",
      "Saving to: ‘journals/10028802.json’\n",
      "\n",
      "     0K .....                                                  27,3K=0,2s\n",
      "\n",
      "2023-01-24 16:02:37 (27,3 KB/s) - ‘journals/10028802.json’ saved [5709]\n",
      "\n",
      "--2023-01-24 16:02:37--  https://m2.mtmt.hu/api/journal/10088601\n",
      "Resolving m2.mtmt.hu (m2.mtmt.hu)... 193.224.44.74\n",
      "Connecting to m2.mtmt.hu (m2.mtmt.hu)|193.224.44.74|:443... "
     ]
    },
    {
     "name": "stdout",
     "output_type": "stream",
     "text": [
      "Új folyóirat:  STOCHASTICS PARTIAL DIFFERENTIAL EQUATIONS: ANALYSIS AND COMPUTATIONS 2194-0401 2194-041X\n"
     ]
    },
    {
     "name": "stderr",
     "output_type": "stream",
     "text": [
      "connected.\n",
      "HTTP request sent, awaiting response... 200 \n",
      "Length: unspecified [application/vnd.mtmt2-1.0+json]\n",
      "Saving to: ‘journals/10088601.json’\n",
      "\n",
      "     0K .....                                                  25,6K=0,2s\n",
      "\n",
      "2023-01-24 16:02:38 (25,6 KB/s) - ‘journals/10088601.json’ saved [5388]\n",
      "\n",
      "--2023-01-24 16:02:38--  https://m2.mtmt.hu/api/journal/4081\n",
      "Resolving m2.mtmt.hu (m2.mtmt.hu)... "
     ]
    },
    {
     "name": "stdout",
     "output_type": "stream",
     "text": [
      "Új folyóirat:  SIAM JOURNAL ON SCIENTIFIC COMPUTING 1064-8275 1095-7197\n"
     ]
    },
    {
     "name": "stderr",
     "output_type": "stream",
     "text": [
      "193.224.44.74\n",
      "Connecting to m2.mtmt.hu (m2.mtmt.hu)|193.224.44.74|:443... connected.\n",
      "HTTP request sent, awaiting response... 200 \n",
      "Length: unspecified [application/vnd.mtmt2-1.0+json]\n",
      "Saving to: ‘journals/4081.json’\n",
      "\n",
      "     0K ....                                                   3,85M=0,001s\n",
      "\n",
      "2023-01-24 16:02:40 (3,85 MB/s) - ‘journals/4081.json’ saved [5104]\n",
      "\n",
      "--2023-01-24 16:02:40--  https://m2.mtmt.hu/api/journal/4159\n",
      "Resolving m2.mtmt.hu (m2.mtmt.hu)... 193.224.44.74\n",
      "Connecting to m2.mtmt.hu (m2.mtmt.hu)|193.224.44.74|:443... "
     ]
    },
    {
     "name": "stdout",
     "output_type": "stream",
     "text": [
      "Új folyóirat:  STOCHASTIC ANALYSIS AND APPLICATIONS 0736-2994 1532-9356\n"
     ]
    },
    {
     "name": "stderr",
     "output_type": "stream",
     "text": [
      "connected.\n",
      "HTTP request sent, awaiting response... 200 \n",
      "Length: unspecified [application/vnd.mtmt2-1.0+json]\n",
      "Saving to: ‘journals/4159.json’\n",
      "\n",
      "     0K ........                                               26,0K=0,3s\n",
      "\n",
      "2023-01-24 16:02:41 (26,0 KB/s) - ‘journals/4159.json’ saved [8265]\n",
      "\n",
      "--2023-01-24 16:02:41--  https://m2.mtmt.hu/api/journal/10001248\n",
      "Resolving m2.mtmt.hu (m2.mtmt.hu)... "
     ]
    },
    {
     "name": "stdout",
     "output_type": "stream",
     "text": [
      "Új folyóirat:  JOURNAL OF EVOLUTION EQUATIONS 1424-3199 1424-3202\n"
     ]
    },
    {
     "name": "stderr",
     "output_type": "stream",
     "text": [
      "193.224.44.74\n",
      "Connecting to m2.mtmt.hu (m2.mtmt.hu)|193.224.44.74|:443... connected.\n",
      "HTTP request sent, awaiting response... 200 \n",
      "Length: unspecified [application/vnd.mtmt2-1.0+json]\n",
      "Saving to: ‘journals/10001248.json’\n",
      "\n",
      "     0K ...                                                    6,75M=0,001s\n",
      "\n",
      "2023-01-24 16:02:42 (6,75 MB/s) - ‘journals/10001248.json’ saved [3990]\n",
      "\n",
      "--2023-01-24 16:02:42--  https://m2.mtmt.hu/api/journal/28271\n",
      "Resolving m2.mtmt.hu (m2.mtmt.hu)... 193.224.44.74\n",
      "Connecting to m2.mtmt.hu (m2.mtmt.hu)|193.224.44.74|:443... connected.\n"
     ]
    },
    {
     "name": "stdout",
     "output_type": "stream",
     "text": [
      "Új folyóirat:  ESAIM-MATHEMATICAL MODELLING AND NUMERICAL ANALYSIS-MODELISATION MATHEMATIQUE ET ANALYSE NUMERIQUE 0764-583X 1290-3841\n"
     ]
    },
    {
     "name": "stderr",
     "output_type": "stream",
     "text": [
      "HTTP request sent, awaiting response... 200 \n",
      "Length: unspecified [application/vnd.mtmt2-1.0+json]\n",
      "Saving to: ‘journals/28271.json’\n",
      "\n",
      "     0K .....                                                  54,2K=0,1s\n",
      "\n",
      "2023-01-24 16:02:44 (54,2 KB/s) - ‘journals/28271.json’ saved [5280]\n",
      "\n",
      "--2023-01-24 16:02:44--  https://m2.mtmt.hu/api/journal/34205\n",
      "Resolving m2.mtmt.hu (m2.mtmt.hu)... "
     ]
    },
    {
     "name": "stdout",
     "output_type": "stream",
     "text": [
      "Új folyóirat:  FOUNDATIONS OF COMPUTATIONAL MATHEMATICS 1615-3375 1615-3383\n"
     ]
    },
    {
     "name": "stderr",
     "output_type": "stream",
     "text": [
      "193.224.44.74\n",
      "Connecting to m2.mtmt.hu (m2.mtmt.hu)|193.224.44.74|:443... connected.\n",
      "HTTP request sent, awaiting response... 200 \n",
      "Length: unspecified [application/vnd.mtmt2-1.0+json]\n",
      "Saving to: ‘journals/34205.json’\n",
      "\n",
      "     0K ....                                                   6,51M=0,001s\n",
      "\n",
      "2023-01-24 16:02:45 (6,51 MB/s) - ‘journals/34205.json’ saved [4994]\n",
      "\n",
      "--2023-01-24 16:02:45--  https://m2.mtmt.hu/api/journal/2261\n",
      "Resolving m2.mtmt.hu (m2.mtmt.hu)... 193.224.44.74\n",
      "Connecting to m2.mtmt.hu (m2.mtmt.hu)|193.224.44.74|:443... connected.\n"
     ]
    },
    {
     "name": "stdout",
     "output_type": "stream",
     "text": [
      "Új folyóirat:  JOURNAL OF APPLIED PROBABILITY 0021-9002 1475-6072\n"
     ]
    },
    {
     "name": "stderr",
     "output_type": "stream",
     "text": [
      "HTTP request sent, awaiting response... 200 \n",
      "Length: unspecified [application/vnd.mtmt2-1.0+json]\n",
      "Saving to: ‘journals/2261.json’\n",
      "\n",
      "     0K ......                                                 75,1K=0,09s\n",
      "\n",
      "2023-01-24 16:02:47 (75,1 KB/s) - ‘journals/2261.json’ saved [6577]\n",
      "\n",
      "--2023-01-24 16:02:47--  https://m2.mtmt.hu/api/journal/10071054\n",
      "Resolving m2.mtmt.hu (m2.mtmt.hu)... 193.224.44.74\n",
      "Connecting to m2.mtmt.hu (m2.mtmt.hu)|193.224.44.74|:443... "
     ]
    },
    {
     "name": "stdout",
     "output_type": "stream",
     "text": [
      "Új folyóirat:  SIAM/ASA JOURNAL ON UNCERTAINTY QUANTIFICATION 2166-2525 2166-2525\n"
     ]
    },
    {
     "name": "stderr",
     "output_type": "stream",
     "text": [
      "connected.\n",
      "HTTP request sent, awaiting response... 200 \n",
      "Length: unspecified [application/vnd.mtmt2-1.0+json]\n",
      "Saving to: ‘journals/10071054.json’\n",
      "\n",
      "     0K .....                                                  66,0K=0,08s\n",
      "\n",
      "2023-01-24 16:02:48 (66,0 KB/s) - ‘journals/10071054.json’ saved [5189]\n",
      "\n",
      "--2023-01-24 16:02:48--  https://m2.mtmt.hu/api/journal/3115\n",
      "Resolving m2.mtmt.hu (m2.mtmt.hu)... 193.224.44.74\n",
      "Connecting to m2.mtmt.hu (m2.mtmt.hu)|193.224.44.74|:443... "
     ]
    },
    {
     "name": "stdout",
     "output_type": "stream",
     "text": [
      "Új folyóirat:  MATHEMATICS OF COMPUTATION 0025-5718 1088-6842\n"
     ]
    },
    {
     "name": "stderr",
     "output_type": "stream",
     "text": [
      "connected.\n",
      "HTTP request sent, awaiting response... 200 \n",
      "Length: unspecified [application/vnd.mtmt2-1.0+json]\n",
      "Saving to: ‘journals/3115.json’\n",
      "\n",
      "     0K ....                                                   23,1K=0,2s\n",
      "\n",
      "2023-01-24 16:02:49 (23,1 KB/s) - ‘journals/3115.json’ saved [4836]\n",
      "\n",
      "50it [05:18, 10.22s/it]--2023-01-24 16:02:50--  https://m2.mtmt.hu/api/journal/1179\n",
      "Resolving m2.mtmt.hu (m2.mtmt.hu)... "
     ]
    },
    {
     "name": "stdout",
     "output_type": "stream",
     "text": [
      "Új folyóirat:  CONSTRUCTIVE APPROXIMATION 0176-4276 1432-0940\n"
     ]
    },
    {
     "name": "stderr",
     "output_type": "stream",
     "text": [
      "193.224.44.74\n",
      "Connecting to m2.mtmt.hu (m2.mtmt.hu)|193.224.44.74|:443... connected.\n",
      "HTTP request sent, awaiting response... 200 \n",
      "Length: unspecified [application/vnd.mtmt2-1.0+json]\n",
      "Saving to: ‘journals/1179.json’\n",
      "\n",
      "     0K ....                                                   12,8K=0,3s\n",
      "\n",
      "2023-01-24 16:02:51 (12,8 KB/s) - ‘journals/1179.json’ saved [4265]\n",
      "\n",
      "--2023-01-24 16:02:51--  https://m2.mtmt.hu/api/journal/10055317\n",
      "Resolving m2.mtmt.hu (m2.mtmt.hu)... "
     ]
    },
    {
     "name": "stdout",
     "output_type": "stream",
     "text": [
      "Új folyóirat:  TRUDY INSTITUTA MATEMATIKI I MEKHANIKI URO RAN 0134-4889 2658-4786\n"
     ]
    },
    {
     "name": "stderr",
     "output_type": "stream",
     "text": [
      "193.224.44.74\n",
      "Connecting to m2.mtmt.hu (m2.mtmt.hu)|193.224.44.74|:443... connected.\n",
      "HTTP request sent, awaiting response... 200 \n",
      "Length: unspecified [application/vnd.mtmt2-1.0+json]\n",
      "Saving to: ‘journals/10055317.json’\n",
      "\n",
      "     0K ...                                                    19,5K=0,2s\n",
      "\n",
      "2023-01-24 16:02:52 (19,5 KB/s) - ‘journals/10055317.json’ saved [4073]\n",
      "\n",
      "--2023-01-24 16:02:52--  https://m2.mtmt.hu/api/journal/10057844\n",
      "Resolving m2.mtmt.hu (m2.mtmt.hu)... 193.224.44.74\n",
      "Connecting to m2.mtmt.hu (m2.mtmt.hu)|193.224.44.74|:443... "
     ]
    },
    {
     "name": "stdout",
     "output_type": "stream",
     "text": [
      "Új folyóirat:  DOLOMITES RESEARCH NOTES ON APPROXIMATION 2035-6803\n"
     ]
    },
    {
     "name": "stderr",
     "output_type": "stream",
     "text": [
      "connected.\n",
      "HTTP request sent, awaiting response... 200 \n",
      "Length: unspecified [application/vnd.mtmt2-1.0+json]\n",
      "Saving to: ‘journals/10057844.json’\n",
      "\n",
      "     0K ....                                                   14,9K=0,3s\n",
      "\n",
      "2023-01-24 16:02:54 (14,9 KB/s) - ‘journals/10057844.json’ saved [4695]\n",
      "\n",
      "--2023-01-24 16:02:54--  https://m2.mtmt.hu/api/journal/10019579\n",
      "Resolving m2.mtmt.hu (m2.mtmt.hu)... "
     ]
    },
    {
     "name": "stdout",
     "output_type": "stream",
     "text": [
      "Új folyóirat:  BULLETIN OF MATHEMATICAL SCIENCES 1664-3607 1664-3615\n"
     ]
    },
    {
     "name": "stderr",
     "output_type": "stream",
     "text": [
      "193.224.44.74\n",
      "Connecting to m2.mtmt.hu (m2.mtmt.hu)|193.224.44.74|:443... connected.\n",
      "HTTP request sent, awaiting response... 200 \n",
      "Length: unspecified [application/vnd.mtmt2-1.0+json]\n",
      "Saving to: ‘journals/10019579.json’\n",
      "\n",
      "     0K .....                                                  26,0K=0,2s\n",
      "\n",
      "2023-01-24 16:02:55 (26,0 KB/s) - ‘journals/10019579.json’ saved [5446]\n",
      "\n",
      "--2023-01-24 16:02:55--  https://m2.mtmt.hu/api/journal/876\n",
      "Resolving m2.mtmt.hu (m2.mtmt.hu)... "
     ]
    },
    {
     "name": "stdout",
     "output_type": "stream",
     "text": [
      "Új folyóirat:  CANADIAN JOURNAL OF MATHEMATICS-JOURNAL CANADIEN DE MATHEMATIQUES 0008-414X 1496-4279\n"
     ]
    },
    {
     "name": "stderr",
     "output_type": "stream",
     "text": [
      "193.224.44.74\n",
      "Connecting to m2.mtmt.hu (m2.mtmt.hu)|193.224.44.74|:443... connected.\n",
      "HTTP request sent, awaiting response... 200 \n",
      "Length: unspecified [application/vnd.mtmt2-1.0+json]\n",
      "Saving to: ‘journals/876.json’\n",
      "\n",
      "     0K ...                                                    19,0K=0,2s\n",
      "\n",
      "2023-01-24 16:02:56 (19,0 KB/s) - ‘journals/876.json’ saved [3976]\n",
      "\n",
      "52it [05:25,  7.09s/it]--2023-01-24 16:02:56--  https://m2.mtmt.hu/api/journal/10035257\n",
      "Resolving m2.mtmt.hu (m2.mtmt.hu)... "
     ]
    },
    {
     "name": "stdout",
     "output_type": "stream",
     "text": [
      "Új folyóirat:  JSIAM LETTERS 1883-0609 1883-0617\n"
     ]
    },
    {
     "name": "stderr",
     "output_type": "stream",
     "text": [
      "193.224.44.74\n",
      "Connecting to m2.mtmt.hu (m2.mtmt.hu)|193.224.44.74|:443... connected.\n",
      "HTTP request sent, awaiting response... 200 \n",
      "Length: unspecified [application/vnd.mtmt2-1.0+json]\n",
      "Saving to: ‘journals/10035257.json’\n",
      "\n",
      "     0K ....                                                   49,3K=0,09s\n",
      "\n",
      "2023-01-24 16:02:58 (49,3 KB/s) - ‘journals/10035257.json’ saved [4495]\n",
      "\n",
      "--2023-01-24 16:02:58--  https://m2.mtmt.hu/api/journal/28401\n",
      "Resolving m2.mtmt.hu (m2.mtmt.hu)... "
     ]
    },
    {
     "name": "stdout",
     "output_type": "stream",
     "text": [
      "Új folyóirat:  EXPERIMENTAL MATHEMATICS 1058-6458 1944-950X\n"
     ]
    },
    {
     "name": "stderr",
     "output_type": "stream",
     "text": [
      "193.224.44.74\n",
      "Connecting to m2.mtmt.hu (m2.mtmt.hu)|193.224.44.74|:443... connected.\n",
      "HTTP request sent, awaiting response... 200 \n",
      "Length: unspecified [application/vnd.mtmt2-1.0+json]\n",
      "Saving to: ‘journals/28401.json’\n",
      "\n",
      "     0K ...                                                    6,81M=0,001s\n",
      "\n",
      "2023-01-24 16:02:59 (6,81 MB/s) - ‘journals/28401.json’ saved [3769]\n",
      "\n",
      "--2023-01-24 16:02:59--  https://m2.mtmt.hu/api/journal/2000464\n",
      "Resolving m2.mtmt.hu (m2.mtmt.hu)... 193.224.44.74\n",
      "Connecting to m2.mtmt.hu (m2.mtmt.hu)|193.224.44.74|:443... "
     ]
    },
    {
     "name": "stdout",
     "output_type": "stream",
     "text": [
      "Új folyóirat:  PERIODICA MATHEMATICA HUNGARICA 0031-5303 1588-2829\n"
     ]
    },
    {
     "name": "stderr",
     "output_type": "stream",
     "text": [
      "connected.\n",
      "HTTP request sent, awaiting response... 200 \n",
      "Length: unspecified [application/vnd.mtmt2-1.0+json]\n",
      "Saving to: ‘journals/2000464.json’\n",
      "\n",
      "     0K .....                                                  29,4K=0,2s\n",
      "\n",
      "2023-01-24 16:03:01 (29,4 KB/s) - ‘journals/2000464.json’ saved [5571]\n",
      "\n",
      "53it [05:30,  6.52s/it]"
     ]
    },
    {
     "name": "stdout",
     "output_type": "stream",
     "text": [
      "Új folyóirat:  ARS MATHEMATICA CONTEMPORANEA 1855-3966 1855-3974\n"
     ]
    },
    {
     "name": "stderr",
     "output_type": "stream",
     "text": [
      "--2023-01-24 16:03:01--  https://m2.mtmt.hu/api/journal/10019153\n",
      "Resolving m2.mtmt.hu (m2.mtmt.hu)... 193.224.44.74\n",
      "Connecting to m2.mtmt.hu (m2.mtmt.hu)|193.224.44.74|:443... connected.\n",
      "HTTP request sent, awaiting response... 200 \n",
      "Length: unspecified [application/vnd.mtmt2-1.0+json]\n",
      "Saving to: ‘journals/10019153.json’\n",
      "\n",
      "     0K .....                                                  20,5K=0,3s\n",
      "\n",
      "2023-01-24 16:03:03 (20,5 KB/s) - ‘journals/10019153.json’ saved [5515]\n",
      "\n",
      "--2023-01-24 16:03:03--  https://m2.mtmt.hu/api/journal/10042869\n",
      "Resolving m2.mtmt.hu (m2.mtmt.hu)... "
     ]
    },
    {
     "name": "stdout",
     "output_type": "stream",
     "text": [
      "Új folyóirat:  AXIOMATHES 1122-1151\n"
     ]
    },
    {
     "name": "stderr",
     "output_type": "stream",
     "text": [
      "193.224.44.74\n",
      "Connecting to m2.mtmt.hu (m2.mtmt.hu)|193.224.44.74|:443... connected.\n",
      "HTTP request sent, awaiting response... 200 \n",
      "Length: unspecified [application/vnd.mtmt2-1.0+json]\n",
      "Saving to: ‘journals/10042869.json’\n",
      "\n",
      "     0K ...                                                    2,98M=0,001s\n",
      "\n",
      "2023-01-24 16:03:04 (2,98 MB/s) - ‘journals/10042869.json’ saved [3639]\n",
      "\n",
      "--2023-01-24 16:03:04--  https://m2.mtmt.hu/api/journal/7064\n",
      "Resolving m2.mtmt.hu (m2.mtmt.hu)... "
     ]
    },
    {
     "name": "stdout",
     "output_type": "stream",
     "text": [
      "Új folyóirat:  COMPUTATIONAL GEOMETRY-THEORY AND APPLICATIONS 0925-7721 1879-081X\n"
     ]
    },
    {
     "name": "stderr",
     "output_type": "stream",
     "text": [
      "193.224.44.74\n",
      "Connecting to m2.mtmt.hu (m2.mtmt.hu)|193.224.44.74|:443... connected.\n",
      "HTTP request sent, awaiting response... 200 \n",
      "Length: unspecified [application/vnd.mtmt2-1.0+json]\n",
      "Saving to: ‘journals/7064.json’\n",
      "\n",
      "     0K .....                                                  26,1K=0,2s\n",
      "\n",
      "2023-01-24 16:03:06 (26,1 KB/s) - ‘journals/7064.json’ saved [5471]\n",
      "\n",
      "--2023-01-24 16:03:06--  https://m2.mtmt.hu/api/journal/1417126\n",
      "Resolving m2.mtmt.hu (m2.mtmt.hu)... "
     ]
    },
    {
     "name": "stdout",
     "output_type": "stream",
     "text": [
      "Új folyóirat:  BULLETIN OF THE LONDON MATHEMATICAL SOCIETY 0024-6093 1469-2120\n"
     ]
    },
    {
     "name": "stderr",
     "output_type": "stream",
     "text": [
      "193.224.44.74\n",
      "Connecting to m2.mtmt.hu (m2.mtmt.hu)|193.224.44.74|:443... connected.\n",
      "HTTP request sent, awaiting response... 200 \n",
      "Length: unspecified [application/vnd.mtmt2-1.0+json]\n",
      "Saving to: ‘journals/1417126.json’\n",
      "\n",
      "     0K ....                                                   14,8K=0,3s\n",
      "\n",
      "2023-01-24 16:03:08 (14,8 KB/s) - ‘journals/1417126.json’ saved [4445]\n",
      "\n",
      "--2023-01-24 16:03:08--  https://m2.mtmt.hu/api/journal/10006328\n",
      "Resolving m2.mtmt.hu (m2.mtmt.hu)... "
     ]
    },
    {
     "name": "stdout",
     "output_type": "stream",
     "text": [
      "Új folyóirat:  GROUPS GEOMETRY AND DYNAMICS 1661-7207 1661-7215\n"
     ]
    },
    {
     "name": "stderr",
     "output_type": "stream",
     "text": [
      "193.224.44.74\n",
      "Connecting to m2.mtmt.hu (m2.mtmt.hu)|193.224.44.74|:443... connected.\n",
      "HTTP request sent, awaiting response... 200 \n",
      "Length: unspecified [application/vnd.mtmt2-1.0+json]\n",
      "Saving to: ‘journals/10006328.json’\n",
      "\n",
      "     0K .....                                                  24,8K=0,2s\n",
      "\n",
      "2023-01-24 16:03:09 (24,8 KB/s) - ‘journals/10006328.json’ saved [5177]\n",
      "\n",
      "--2023-01-24 16:03:09--  https://m2.mtmt.hu/api/journal/10007159\n",
      "Resolving m2.mtmt.hu (m2.mtmt.hu)... 193.224.44.74\n",
      "Connecting to m2.mtmt.hu (m2.mtmt.hu)|193.224.44.74|:443... "
     ]
    },
    {
     "name": "stdout",
     "output_type": "stream",
     "text": [
      "Új folyóirat:  MEDITERRANEAN JOURNAL OF MATHEMATICS 1660-5446 1660-5454\n"
     ]
    },
    {
     "name": "stderr",
     "output_type": "stream",
     "text": [
      "connected.\n",
      "HTTP request sent, awaiting response... 200 \n",
      "Length: unspecified [application/vnd.mtmt2-1.0+json]\n",
      "Saving to: ‘journals/10007159.json’\n",
      "\n",
      "     0K ....                                                   26,9K=0,1s\n",
      "\n",
      "2023-01-24 16:03:10 (26,9 KB/s) - ‘journals/10007159.json’ saved [4115]\n",
      "\n",
      "--2023-01-24 16:03:10--  https://m2.mtmt.hu/api/journal/10008770\n",
      "Resolving m2.mtmt.hu (m2.mtmt.hu)... "
     ]
    },
    {
     "name": "stdout",
     "output_type": "stream",
     "text": [
      "Új folyóirat:  MATHEMATICAL GEOSCIENCES 1874-8961 1874-8953\n"
     ]
    },
    {
     "name": "stderr",
     "output_type": "stream",
     "text": [
      "193.224.44.74\n",
      "Connecting to m2.mtmt.hu (m2.mtmt.hu)|193.224.44.74|:443... connected.\n",
      "HTTP request sent, awaiting response... 200 \n",
      "Length: unspecified [application/vnd.mtmt2-1.0+json]\n",
      "Saving to: ‘journals/10008770.json’\n",
      "\n",
      "     0K .......                                                50,7K=0,1s\n",
      "\n",
      "2023-01-24 16:03:11 (50,7 KB/s) - ‘journals/10008770.json’ saved [7496]\n",
      "\n",
      "--2023-01-24 16:03:11--  https://m2.mtmt.hu/api/journal/2717\n",
      "Resolving m2.mtmt.hu (m2.mtmt.hu)... "
     ]
    },
    {
     "name": "stdout",
     "output_type": "stream",
     "text": [
      "Új folyóirat:  JOURNAL OF NONLINEAR SCIENCE 0938-8974 1432-1467\n"
     ]
    },
    {
     "name": "stderr",
     "output_type": "stream",
     "text": [
      "193.224.44.74\n",
      "Connecting to m2.mtmt.hu (m2.mtmt.hu)|193.224.44.74|:443... connected.\n",
      "HTTP request sent, awaiting response... 200 \n",
      "Length: unspecified [application/vnd.mtmt2-1.0+json]\n",
      "Saving to: ‘journals/2717.json’\n",
      "\n",
      "     0K ....                                                   17,4K=0,3s\n",
      "\n",
      "2023-01-24 16:03:13 (17,4 KB/s) - ‘journals/2717.json’ saved [4727]\n",
      "\n",
      "--2023-01-24 16:03:13--  https://m2.mtmt.hu/api/journal/10004223\n",
      "Resolving m2.mtmt.hu (m2.mtmt.hu)... "
     ]
    },
    {
     "name": "stdout",
     "output_type": "stream",
     "text": [
      "Új folyóirat:  PROCEEDINGS OF THE STEKLOV INSTITUTE OF MATHEMATICS 0081-5438 1531-8605\n"
     ]
    },
    {
     "name": "stderr",
     "output_type": "stream",
     "text": [
      "193.224.44.74\n",
      "Connecting to m2.mtmt.hu (m2.mtmt.hu)|193.224.44.74|:443... connected.\n",
      "HTTP request sent, awaiting response... 200 \n",
      "Length: unspecified [application/vnd.mtmt2-1.0+json]\n",
      "Saving to: ‘journals/10004223.json’\n",
      "\n",
      "     0K ....                                                   46,2K=0,1s\n",
      "\n",
      "2023-01-24 16:03:14 (46,2 KB/s) - ‘journals/10004223.json’ saved [4537]\n",
      "\n",
      "--2023-01-24 16:03:14--  https://m2.mtmt.hu/api/journal/10001104\n",
      "Resolving m2.mtmt.hu (m2.mtmt.hu)... "
     ]
    },
    {
     "name": "stdout",
     "output_type": "stream",
     "text": [
      "Új folyóirat:  ADVANCES IN GEOMETRY 1615-715X 1615-7168\n"
     ]
    },
    {
     "name": "stderr",
     "output_type": "stream",
     "text": [
      "193.224.44.74\n",
      "Connecting to m2.mtmt.hu (m2.mtmt.hu)|193.224.44.74|:443... connected.\n",
      "HTTP request sent, awaiting response... 200 \n",
      "Length: unspecified [application/vnd.mtmt2-1.0+json]\n",
      "Saving to: ‘journals/10001104.json’\n",
      "\n",
      "     0K ...                                                    31,1K=0,1s\n",
      "\n",
      "2023-01-24 16:03:16 (31,1 KB/s) - ‘journals/10001104.json’ saved [3739]\n",
      "\n",
      "54it [05:45,  8.68s/it]--2023-01-24 16:03:16--  https://m2.mtmt.hu/api/journal/20090876\n",
      "Resolving m2.mtmt.hu (m2.mtmt.hu)... "
     ]
    },
    {
     "name": "stdout",
     "output_type": "stream",
     "text": [
      "Új folyóirat:  APPLIED MATHEMATICS AND COMPUTATION 0096-3003 1873-5649\n"
     ]
    },
    {
     "name": "stderr",
     "output_type": "stream",
     "text": [
      "193.224.44.74\n",
      "Connecting to m2.mtmt.hu (m2.mtmt.hu)|193.224.44.74|:443... connected.\n",
      "HTTP request sent, awaiting response... 200 \n",
      "Length: unspecified [application/vnd.mtmt2-1.0+json]\n",
      "Saving to: ‘journals/20090876.json’\n",
      "\n",
      "     0K ..                                                     2,66M=0,001s\n",
      "\n",
      "2023-01-24 16:03:17 (2,66 MB/s) - ‘journals/20090876.json’ saved [2887]\n",
      "\n",
      "--2023-01-24 16:03:17--  https://m2.mtmt.hu/api/journal/19670\n",
      "Resolving m2.mtmt.hu (m2.mtmt.hu)... "
     ]
    },
    {
     "name": "stdout",
     "output_type": "stream",
     "text": [
      "Új folyóirat:  NUMERICAL ALGORITHMS 1017-1398 1572-9265\n"
     ]
    },
    {
     "name": "stderr",
     "output_type": "stream",
     "text": [
      "193.224.44.74\n",
      "Connecting to m2.mtmt.hu (m2.mtmt.hu)|193.224.44.74|:443... connected.\n",
      "HTTP request sent, awaiting response... 200 \n",
      "Length: unspecified [application/vnd.mtmt2-1.0+json]\n",
      "Saving to: ‘journals/19670.json’\n",
      "\n",
      "     0K ...                                                    28,9K=0,1s\n",
      "\n",
      "2023-01-24 16:03:18 (28,9 KB/s) - ‘journals/19670.json’ saved [3778]\n",
      "\n",
      "--2023-01-24 16:03:18--  https://m2.mtmt.hu/api/journal/10003348\n",
      "Resolving m2.mtmt.hu (m2.mtmt.hu)... "
     ]
    },
    {
     "name": "stdout",
     "output_type": "stream",
     "text": [
      "Új folyóirat:  JOURNAL OF SCIENTIFIC COMPUTING 0885-7474 1573-7691\n"
     ]
    },
    {
     "name": "stderr",
     "output_type": "stream",
     "text": [
      "193.224.44.74\n",
      "Connecting to m2.mtmt.hu (m2.mtmt.hu)|193.224.44.74|:443... connected.\n",
      "HTTP request sent, awaiting response... 200 \n",
      "Length: unspecified [application/vnd.mtmt2-1.0+json]\n",
      "Saving to: ‘journals/10003348.json’\n",
      "\n",
      "     0K .....                                                  51,4K=0,1s\n",
      "\n",
      "2023-01-24 16:03:20 (51,4 KB/s) - ‘journals/10003348.json’ saved [5580]\n",
      "\n",
      "--2023-01-24 16:03:20--  https://m2.mtmt.hu/api/journal/29555\n",
      "Resolving m2.mtmt.hu (m2.mtmt.hu)... "
     ]
    },
    {
     "name": "stdout",
     "output_type": "stream",
     "text": [
      "Új folyóirat:  JOURNAL OF DIFFERENCE EQUATIONS AND APPLICATIONS 1023-6198 1563-5120\n"
     ]
    },
    {
     "name": "stderr",
     "output_type": "stream",
     "text": [
      "193.224.44.74\n",
      "Connecting to m2.mtmt.hu (m2.mtmt.hu)|193.224.44.74|:443... connected.\n",
      "HTTP request sent, awaiting response... 200 \n",
      "Length: unspecified [application/vnd.mtmt2-1.0+json]\n",
      "Saving to: ‘journals/29555.json’\n",
      "\n",
      "     0K ....                                                   18,3K=0,2s\n",
      "\n",
      "2023-01-24 16:03:21 (18,3 KB/s) - ‘journals/29555.json’ saved [4439]\n",
      "\n",
      "--2023-01-24 16:03:21--  https://m2.mtmt.hu/api/journal/2148668\n",
      "Resolving m2.mtmt.hu (m2.mtmt.hu)... "
     ]
    },
    {
     "name": "stdout",
     "output_type": "stream",
     "text": [
      "Új folyóirat:  LMS JOURNAL OF COMPUTATION AND MATHEMATICS 1461-1570 1461-1570\n"
     ]
    },
    {
     "name": "stderr",
     "output_type": "stream",
     "text": [
      "193.224.44.74\n",
      "Connecting to m2.mtmt.hu (m2.mtmt.hu)|193.224.44.74|:443... connected.\n",
      "HTTP request sent, awaiting response... 200 \n",
      "Length: unspecified [application/vnd.mtmt2-1.0+json]\n",
      "Saving to: ‘journals/2148668.json’\n",
      "\n",
      "     0K .....                                                  5,63K=0,9s\n",
      "\n",
      "2023-01-24 16:03:23 (5,63 KB/s) - ‘journals/2148668.json’ saved [5308]\n",
      "\n",
      "56it [05:52,  6.58s/it]--2023-01-24 16:03:24--  https://m2.mtmt.hu/api/journal/23334\n",
      "Resolving m2.mtmt.hu (m2.mtmt.hu)... "
     ]
    },
    {
     "name": "stdout",
     "output_type": "stream",
     "text": [
      "Új folyóirat:  INFINITE DIMENSIONAL ANALYSIS QUANTUM PROBABILITY AND RELATED TOPICS 0219-0257 1793-6306\n"
     ]
    },
    {
     "name": "stderr",
     "output_type": "stream",
     "text": [
      "193.224.44.74\n",
      "Connecting to m2.mtmt.hu (m2.mtmt.hu)|193.224.44.74|:443... connected.\n",
      "HTTP request sent, awaiting response... 200 \n",
      "Length: unspecified [application/vnd.mtmt2-1.0+json]\n",
      "Saving to: ‘journals/23334.json’\n",
      "\n",
      "     0K .....                                                  25,0K=0,2s\n",
      "\n",
      "2023-01-24 16:03:25 (25,0 KB/s) - ‘journals/23334.json’ saved [5266]\n",
      "\n",
      "--2023-01-24 16:03:25--  https://m2.mtmt.hu/api/journal/3477\n",
      "Resolving m2.mtmt.hu (m2.mtmt.hu)... "
     ]
    },
    {
     "name": "stdout",
     "output_type": "stream",
     "text": [
      "Új folyóirat:  OPERATIONS RESEARCH LETTERS 0167-6377 1872-7468\n"
     ]
    },
    {
     "name": "stderr",
     "output_type": "stream",
     "text": [
      "193.224.44.74\n",
      "Connecting to m2.mtmt.hu (m2.mtmt.hu)|193.224.44.74|:443... connected.\n",
      "HTTP request sent, awaiting response... 200 \n",
      "Length: unspecified [application/vnd.mtmt2-1.0+json]\n",
      "Saving to: ‘journals/3477.json’\n",
      "\n",
      "     0K ......                                                 45,8K=0,1s\n",
      "\n",
      "2023-01-24 16:03:26 (45,8 KB/s) - ‘journals/3477.json’ saved [6990]\n",
      "\n",
      "--2023-01-24 16:03:26--  https://m2.mtmt.hu/api/journal/2232\n",
      "Resolving m2.mtmt.hu (m2.mtmt.hu)... "
     ]
    },
    {
     "name": "stdout",
     "output_type": "stream",
     "text": [
      "Új folyóirat:  JOURNAL OF ANALYTICAL ATOMIC SPECTROMETRY 0267-9477 1364-5544\n"
     ]
    },
    {
     "name": "stderr",
     "output_type": "stream",
     "text": [
      "193.224.44.74\n",
      "Connecting to m2.mtmt.hu (m2.mtmt.hu)|193.224.44.74|:443... connected.\n",
      "HTTP request sent, awaiting response... 200 \n",
      "Length: unspecified [application/vnd.mtmt2-1.0+json]\n",
      "Saving to: ‘journals/2232.json’\n",
      "\n",
      "     0K .....                                                  48,1K=0,1s\n",
      "\n",
      "2023-01-24 16:03:28 (48,1 KB/s) - ‘journals/2232.json’ saved [5340]\n",
      "\n",
      "--2023-01-24 16:03:28--  https://m2.mtmt.hu/api/journal/2301\n",
      "Resolving m2.mtmt.hu (m2.mtmt.hu)... "
     ]
    },
    {
     "name": "stdout",
     "output_type": "stream",
     "text": [
      "Új folyóirat:  JOURNAL OF BIOMECHANICS 0021-9290 1873-2380\n"
     ]
    },
    {
     "name": "stderr",
     "output_type": "stream",
     "text": [
      "193.224.44.74\n",
      "Connecting to m2.mtmt.hu (m2.mtmt.hu)|193.224.44.74|:443... connected.\n",
      "HTTP request sent, awaiting response... 200 \n",
      "Length: unspecified [application/vnd.mtmt2-1.0+json]\n",
      "Saving to: ‘journals/2301.json’\n",
      "\n",
      "     0K ....                                                   23,5K=0,2s\n",
      "\n",
      "2023-01-24 16:03:29 (23,5 KB/s) - ‘journals/2301.json’ saved [4940]\n",
      "\n",
      "57it [05:58,  6.34s/it]--2023-01-24 16:03:29--  https://m2.mtmt.hu/api/journal/1417128\n",
      "Resolving m2.mtmt.hu (m2.mtmt.hu)... "
     ]
    },
    {
     "name": "stdout",
     "output_type": "stream",
     "text": [
      "Új folyóirat:  CZECHOSLOVAK MATHEMATICAL JOURNAL 0011-4642 1572-9141\n"
     ]
    },
    {
     "name": "stderr",
     "output_type": "stream",
     "text": [
      "193.224.44.74\n",
      "Connecting to m2.mtmt.hu (m2.mtmt.hu)|193.224.44.74|:443... connected.\n",
      "HTTP request sent, awaiting response... 200 \n",
      "Length: unspecified [application/vnd.mtmt2-1.0+json]\n",
      "Saving to: ‘journals/1417128.json’\n",
      "\n",
      "     0K ...                                                    14,4K=0,3s\n",
      "\n",
      "2023-01-24 16:03:30 (14,4 KB/s) - ‘journals/1417128.json’ saved [3829]\n",
      "\n",
      "--2023-01-24 16:03:30--  https://m2.mtmt.hu/api/journal/10011588\n",
      "Resolving m2.mtmt.hu (m2.mtmt.hu)... 193.224.44.74\n",
      "Connecting to m2.mtmt.hu (m2.mtmt.hu)|193.224.44.74|:443... "
     ]
    },
    {
     "name": "stdout",
     "output_type": "stream",
     "text": [
      "Új folyóirat:  JOURNAL OF ALGEBRA AND ITS APPLICATIONS 0219-4988 1793-6829\n"
     ]
    },
    {
     "name": "stderr",
     "output_type": "stream",
     "text": [
      "connected.\n",
      "HTTP request sent, awaiting response... 200 \n",
      "Length: unspecified [application/vnd.mtmt2-1.0+json]\n",
      "Saving to: ‘journals/10011588.json’\n",
      "\n",
      "     0K ....                                                   8,24K=0,5s\n",
      "\n",
      "2023-01-24 16:03:33 (8,24 KB/s) - ‘journals/10011588.json’ saved [4322]\n",
      "\n",
      "58it [06:02,  5.73s/it]--2023-01-24 16:03:33--  https://m2.mtmt.hu/api/journal/57\n",
      "Resolving m2.mtmt.hu (m2.mtmt.hu)... "
     ]
    },
    {
     "name": "stdout",
     "output_type": "stream",
     "text": [
      "Új folyóirat:  ACTA MATHEMATICA 0001-5962 1871-2509\n"
     ]
    },
    {
     "name": "stderr",
     "output_type": "stream",
     "text": [
      "193.224.44.74\n",
      "Connecting to m2.mtmt.hu (m2.mtmt.hu)|193.224.44.74|:443... connected.\n",
      "HTTP request sent, awaiting response... 200 \n",
      "Length: unspecified [application/vnd.mtmt2-1.0+json]\n",
      "Saving to: ‘journals/57.json’\n",
      "\n",
      "     0K ...                                                    19,3K=0,2s\n",
      "\n",
      "2023-01-24 16:03:34 (19,3 KB/s) - ‘journals/57.json’ saved [4034]\n",
      "\n",
      "--2023-01-24 16:03:34--  https://m2.mtmt.hu/api/journal/10001322\n",
      "Resolving m2.mtmt.hu (m2.mtmt.hu)... 193.224.44.74\n",
      "Connecting to m2.mtmt.hu (m2.mtmt.hu)|193.224.44.74|:443... "
     ]
    },
    {
     "name": "stdout",
     "output_type": "stream",
     "text": [
      "Új folyóirat:  OPEN SYSTEMS & INFORMATION DYNAMICS 1230-1612 1573-1324\n"
     ]
    },
    {
     "name": "stderr",
     "output_type": "stream",
     "text": [
      "connected.\n",
      "HTTP request sent, awaiting response... 200 \n",
      "Length: unspecified [application/vnd.mtmt2-1.0+json]\n",
      "Saving to: ‘journals/10001322.json’\n",
      "\n",
      "     0K .....                                                  14,0K=0,4s\n",
      "\n",
      "2023-01-24 16:03:35 (14,0 KB/s) - ‘journals/10001322.json’ saved [5894]\n",
      "\n",
      "--2023-01-24 16:03:35--  https://m2.mtmt.hu/api/journal/18371\n",
      "Resolving m2.mtmt.hu (m2.mtmt.hu)... "
     ]
    },
    {
     "name": "stdout",
     "output_type": "stream",
     "text": [
      "Új folyóirat:  JOURNAL OF COMBINATORIAL DESIGNS 1063-8539 1520-6610\n"
     ]
    },
    {
     "name": "stderr",
     "output_type": "stream",
     "text": [
      "193.224.44.74\n",
      "Connecting to m2.mtmt.hu (m2.mtmt.hu)|193.224.44.74|:443... connected.\n",
      "HTTP request sent, awaiting response... 200 \n",
      "Length: unspecified [application/vnd.mtmt2-1.0+json]\n",
      "Saving to: ‘journals/18371.json’\n",
      "\n",
      "     0K ...                                                    18,0K=0,2s\n",
      "\n",
      "2023-01-24 16:03:37 (18,0 KB/s) - ‘journals/18371.json’ saved [3794]\n",
      "\n",
      "--2023-01-24 16:03:37--  https://m2.mtmt.hu/api/journal/19517\n",
      "Resolving m2.mtmt.hu (m2.mtmt.hu)... 193.224.44.74\n",
      "Connecting to m2.mtmt.hu (m2.mtmt.hu)|193.224.44.74|:443... "
     ]
    },
    {
     "name": "stdout",
     "output_type": "stream",
     "text": [
      "Új folyóirat:  NATURE NEUROSCIENCE 1097-6256 1546-1726\n"
     ]
    },
    {
     "name": "stderr",
     "output_type": "stream",
     "text": [
      "connected.\n",
      "HTTP request sent, awaiting response... 200 \n",
      "Length: unspecified [application/vnd.mtmt2-1.0+json]\n",
      "Saving to: ‘journals/19517.json’\n",
      "\n",
      "     0K ...                                                    36,0K=0,1s\n",
      "\n",
      "2023-01-24 16:03:38 (36,0 KB/s) - ‘journals/19517.json’ saved [4072]\n",
      "\n",
      "--2023-01-24 16:03:38--  https://m2.mtmt.hu/api/journal/24040\n",
      "Resolving m2.mtmt.hu (m2.mtmt.hu)... "
     ]
    },
    {
     "name": "stdout",
     "output_type": "stream",
     "text": [
      "Új folyóirat:  JOURNAL OF FOURIER ANALYSIS AND APPLICATIONS 1069-5869 1531-5851\n"
     ]
    },
    {
     "name": "stderr",
     "output_type": "stream",
     "text": [
      "193.224.44.74\n",
      "Connecting to m2.mtmt.hu (m2.mtmt.hu)|193.224.44.74|:443... connected.\n",
      "HTTP request sent, awaiting response... 200 \n",
      "Length: unspecified [application/vnd.mtmt2-1.0+json]\n",
      "Saving to: ‘journals/24040.json’\n",
      "\n",
      "     0K ....                                                   34,5K=0,1s\n",
      "\n",
      "2023-01-24 16:03:39 (34,5 KB/s) - ‘journals/24040.json’ saved [4695]\n",
      "\n",
      "--2023-01-24 16:03:39--  https://m2.mtmt.hu/api/journal/10009390\n",
      "Resolving m2.mtmt.hu (m2.mtmt.hu)... "
     ]
    },
    {
     "name": "stdout",
     "output_type": "stream",
     "text": [
      "Új folyóirat:  AUSTRALASIAN JOURNAL OF COMBINATORICS 1034-4942 2202-3518\n"
     ]
    },
    {
     "name": "stderr",
     "output_type": "stream",
     "text": [
      "193.224.44.74\n",
      "Connecting to m2.mtmt.hu (m2.mtmt.hu)|193.224.44.74|:443... connected.\n",
      "HTTP request sent, awaiting response... 200 \n",
      "Length: unspecified [application/vnd.mtmt2-1.0+json]\n",
      "Saving to: ‘journals/10009390.json’\n",
      "\n",
      "     0K .....                                                  24,9K=0,2s\n",
      "\n",
      "2023-01-24 16:03:42 (24,9 KB/s) - ‘journals/10009390.json’ saved [5243]\n",
      "\n",
      "60it [06:10,  5.15s/it]--2023-01-24 16:03:42--  https://m2.mtmt.hu/api/journal/29940\n",
      "Resolving m2.mtmt.hu (m2.mtmt.hu)... 193.224.44.74\n",
      "Connecting to m2.mtmt.hu (m2.mtmt.hu)|193.224.44.74|:443... "
     ]
    },
    {
     "name": "stdout",
     "output_type": "stream",
     "text": [
      "Új folyóirat:  JOURNAL OF NONLINEAR MATHEMATICAL PHYSICS 1402-9251 1776-0852\n"
     ]
    },
    {
     "name": "stderr",
     "output_type": "stream",
     "text": [
      "connected.\n",
      "HTTP request sent, awaiting response... 200 \n",
      "Length: unspecified [application/vnd.mtmt2-1.0+json]\n",
      "Saving to: ‘journals/29940.json’\n",
      "\n",
      "     0K ....                                                   23,6K=0,2s\n",
      "\n",
      "2023-01-24 16:03:43 (23,6 KB/s) - ‘journals/29940.json’ saved [4937]\n",
      "\n",
      "--2023-01-24 16:03:43--  https://m2.mtmt.hu/api/journal/2151059\n",
      "Resolving m2.mtmt.hu (m2.mtmt.hu)... 193.224.44.74\n",
      "Connecting to m2.mtmt.hu (m2.mtmt.hu)|193.224.44.74|:443... "
     ]
    },
    {
     "name": "stdout",
     "output_type": "stream",
     "text": [
      "Új folyóirat:  BALKAN JOURNAL OF GEOMETRY AND ITS APPLICATIONS 1224-2780 1843-2875\n"
     ]
    },
    {
     "name": "stderr",
     "output_type": "stream",
     "text": [
      "connected.\n",
      "HTTP request sent, awaiting response... 200 \n",
      "Length: unspecified [application/vnd.mtmt2-1.0+json]\n",
      "Saving to: ‘journals/2151059.json’\n",
      "\n",
      "     0K .....                                                  45,5K=0,1s\n",
      "\n",
      "2023-01-24 16:03:44 (45,5 KB/s) - ‘journals/2151059.json’ saved [5137]\n",
      "\n",
      "61it [06:13,  4.54s/it]--2023-01-24 16:03:44--  https://m2.mtmt.hu/api/journal/2070\n",
      "Resolving m2.mtmt.hu (m2.mtmt.hu)... "
     ]
    },
    {
     "name": "stdout",
     "output_type": "stream",
     "text": [
      "Új folyóirat:  INTERNATIONAL JOURNAL OF NON-LINEAR MECHANICS 0020-7462 1878-5638\n"
     ]
    },
    {
     "name": "stderr",
     "output_type": "stream",
     "text": [
      "193.224.44.74\n",
      "Connecting to m2.mtmt.hu (m2.mtmt.hu)|193.224.44.74|:443... connected.\n",
      "HTTP request sent, awaiting response... 200 \n",
      "Length: unspecified [application/vnd.mtmt2-1.0+json]\n",
      "Saving to: ‘journals/2070.json’\n",
      "\n",
      "     0K .....                                                  5,30M=0,001s\n",
      "\n",
      "2023-01-24 16:03:45 (5,30 MB/s) - ‘journals/2070.json’ saved [5404]\n",
      "\n",
      "62it [06:14,  3.67s/it]--2023-01-24 16:03:45--  https://m2.mtmt.hu/api/journal/10012147\n",
      "Resolving m2.mtmt.hu (m2.mtmt.hu)... "
     ]
    },
    {
     "name": "stdout",
     "output_type": "stream",
     "text": [
      "Új folyóirat:  JOURNAL FOR GEOMETRY AND GRAPHICS 1433-8157\n"
     ]
    },
    {
     "name": "stderr",
     "output_type": "stream",
     "text": [
      "193.224.44.74\n",
      "Connecting to m2.mtmt.hu (m2.mtmt.hu)|193.224.44.74|:443... connected.\n",
      "HTTP request sent, awaiting response... 200 \n",
      "Length: unspecified [application/vnd.mtmt2-1.0+json]\n",
      "Saving to: ‘journals/10012147.json’\n",
      "\n",
      "     0K ....                                                   20,9K=0,2s\n",
      "\n",
      "2023-01-24 16:03:48 (20,9 KB/s) - ‘journals/10012147.json’ saved [4315]\n",
      "\n",
      "--2023-01-24 16:03:48--  https://m2.mtmt.hu/api/journal/2151060\n",
      "Resolving m2.mtmt.hu (m2.mtmt.hu)... "
     ]
    },
    {
     "name": "stdout",
     "output_type": "stream",
     "text": [
      "Új folyóirat:  MATEMATICKI VESNIK 0025-5165\n"
     ]
    },
    {
     "name": "stderr",
     "output_type": "stream",
     "text": [
      "193.224.44.74\n",
      "Connecting to m2.mtmt.hu (m2.mtmt.hu)|193.224.44.74|:443... connected.\n",
      "HTTP request sent, awaiting response... 200 \n",
      "Length: unspecified [application/vnd.mtmt2-1.0+json]\n",
      "Saving to: ‘journals/2151060.json’\n",
      "\n",
      "     0K ...                                                    23,6K=0,2s\n",
      "\n",
      "2023-01-24 16:03:49 (23,6 KB/s) - ‘journals/2151060.json’ saved [3972]\n",
      "\n",
      "--2023-01-24 16:03:49--  https://m2.mtmt.hu/api/journal/10062404\n",
      "Resolving m2.mtmt.hu (m2.mtmt.hu)... "
     ]
    },
    {
     "name": "stdout",
     "output_type": "stream",
     "text": [
      "Új folyóirat:  UNIVERSE 2218-1997\n"
     ]
    },
    {
     "name": "stderr",
     "output_type": "stream",
     "text": [
      "193.224.44.74\n",
      "Connecting to m2.mtmt.hu (m2.mtmt.hu)|193.224.44.74|:443... connected.\n",
      "HTTP request sent, awaiting response... 200 \n",
      "Length: unspecified [application/vnd.mtmt2-1.0+json]\n",
      "Saving to: ‘journals/10062404.json’\n",
      "\n",
      "     0K ...                                                    17,7K=0,2s\n",
      "\n",
      "2023-01-24 16:03:50 (17,7 KB/s) - ‘journals/10062404.json’ saved [3709]\n",
      "\n",
      "--2023-01-24 16:03:50--  https://m2.mtmt.hu/api/journal/10001256\n",
      "Resolving m2.mtmt.hu (m2.mtmt.hu)... "
     ]
    },
    {
     "name": "stdout",
     "output_type": "stream",
     "text": [
      "Új folyóirat:  JOURNAL OF THE KOREAN MATHEMATICAL SOCIETY 0304-9914 2234-3008\n"
     ]
    },
    {
     "name": "stderr",
     "output_type": "stream",
     "text": [
      "193.224.44.74\n",
      "Connecting to m2.mtmt.hu (m2.mtmt.hu)|193.224.44.74|:443... connected.\n",
      "HTTP request sent, awaiting response... 200 \n",
      "Length: unspecified [application/vnd.mtmt2-1.0+json]\n",
      "Saving to: ‘journals/10001256.json’\n",
      "\n",
      "     0K ...                                                    19,4K=0,2s\n",
      "\n",
      "2023-01-24 16:03:52 (19,4 KB/s) - ‘journals/10001256.json’ saved [4062]\n",
      "\n",
      "--2023-01-24 16:03:52--  https://m2.mtmt.hu/api/journal/4166\n",
      "Resolving m2.mtmt.hu (m2.mtmt.hu)... "
     ]
    },
    {
     "name": "stdout",
     "output_type": "stream",
     "text": [
      "Új folyóirat:  STRUCTURAL CHEMISTRY 1040-0400 1572-9001\n"
     ]
    },
    {
     "name": "stderr",
     "output_type": "stream",
     "text": [
      "193.224.44.74\n",
      "Connecting to m2.mtmt.hu (m2.mtmt.hu)|193.224.44.74|:443... connected.\n",
      "HTTP request sent, awaiting response... 200 \n",
      "Length: unspecified [application/vnd.mtmt2-1.0+json]\n",
      "Saving to: ‘journals/4166.json’\n",
      "\n",
      "     0K ....                                                   16,8K=0,3s\n",
      "\n",
      "2023-01-24 16:03:53 (16,8 KB/s) - ‘journals/4166.json’ saved [4464]\n",
      "\n",
      "63it [06:22,  4.78s/it]"
     ]
    },
    {
     "name": "stdout",
     "output_type": "stream",
     "text": [
      "Új folyóirat:  JOURNAL OF OPERATOR THEORY 0379-4024 1841-7744\n"
     ]
    },
    {
     "name": "stderr",
     "output_type": "stream",
     "text": [
      "--2023-01-24 16:03:53--  https://m2.mtmt.hu/api/journal/29962\n",
      "Resolving m2.mtmt.hu (m2.mtmt.hu)... 193.224.44.74\n",
      "Connecting to m2.mtmt.hu (m2.mtmt.hu)|193.224.44.74|:443... connected.\n",
      "HTTP request sent, awaiting response... 200 \n",
      "Length: unspecified [application/vnd.mtmt2-1.0+json]\n",
      "Saving to: ‘journals/29962.json’\n",
      "\n",
      "     0K ...                                                    35,6K=0,1s\n",
      "\n",
      "2023-01-24 16:03:55 (35,6 KB/s) - ‘journals/29962.json’ saved [3743]\n",
      "\n",
      "--2023-01-24 16:03:55--  https://m2.mtmt.hu/api/journal/2510\n",
      "Resolving m2.mtmt.hu (m2.mtmt.hu)... "
     ]
    },
    {
     "name": "stdout",
     "output_type": "stream",
     "text": [
      "Új folyóirat:  JOURNAL OF FUNCTIONAL ANALYSIS 0022-1236 1096-0783\n"
     ]
    },
    {
     "name": "stderr",
     "output_type": "stream",
     "text": [
      "193.224.44.74\n",
      "Connecting to m2.mtmt.hu (m2.mtmt.hu)|193.224.44.74|:443... connected.\n",
      "HTTP request sent, awaiting response... 200 \n",
      "Length: unspecified [application/vnd.mtmt2-1.0+json]\n",
      "Saving to: ‘journals/2510.json’\n",
      "\n",
      "     0K ...                                                    43,0K=0,09s\n",
      "\n",
      "2023-01-24 16:03:56 (43,0 KB/s) - ‘journals/2510.json’ saved [3780]\n",
      "\n",
      "--2023-01-24 16:03:56--  https://m2.mtmt.hu/api/journal/10005362\n",
      "Resolving m2.mtmt.hu (m2.mtmt.hu)... "
     ]
    },
    {
     "name": "stdout",
     "output_type": "stream",
     "text": [
      "Új folyóirat:  OPERATOR THEORY: ADVANCES AND APPLICATIONS 0255-0156 2296-4878\n"
     ]
    },
    {
     "name": "stderr",
     "output_type": "stream",
     "text": [
      "193.224.44.74\n",
      "Connecting to m2.mtmt.hu (m2.mtmt.hu)|193.224.44.74|:443... connected.\n",
      "HTTP request sent, awaiting response... 200 \n",
      "Length: unspecified [application/vnd.mtmt2-1.0+json]\n",
      "Saving to: ‘journals/10005362.json’\n",
      "\n",
      "     0K ....                                                   20,5K=0,2s\n",
      "\n",
      "2023-01-24 16:03:58 (20,5 KB/s) - ‘journals/10005362.json’ saved [4316]\n",
      "\n",
      "--2023-01-24 16:03:58--  https://m2.mtmt.hu/api/journal/10009503\n",
      "Resolving m2.mtmt.hu (m2.mtmt.hu)... 193.224.44.74\n",
      "Connecting to m2.mtmt.hu (m2.mtmt.hu)|193.224.44.74|:443... "
     ]
    },
    {
     "name": "stdout",
     "output_type": "stream",
     "text": [
      "Új folyóirat:  ABSTRACT AND APPLIED ANALYSIS 1085-3375 1687-0409\n"
     ]
    },
    {
     "name": "stderr",
     "output_type": "stream",
     "text": [
      "connected.\n",
      "HTTP request sent, awaiting response... 200 \n",
      "Length: unspecified [application/vnd.mtmt2-1.0+json]\n",
      "Saving to: ‘journals/10009503.json’\n",
      "\n",
      "     0K ....                                                   22,1K=0,2s\n",
      "\n",
      "2023-01-24 16:04:00 (22,1 KB/s) - ‘journals/10009503.json’ saved [4647]\n",
      "\n",
      "--2023-01-24 16:04:00--  https://m2.mtmt.hu/api/journal/41019\n",
      "Resolving m2.mtmt.hu (m2.mtmt.hu)... 193.224.44.74\n",
      "Connecting to m2.mtmt.hu (m2.mtmt.hu)|193.224.44.74|:443... "
     ]
    },
    {
     "name": "stdout",
     "output_type": "stream",
     "text": [
      "Új folyóirat:  LINEAR AND MULTILINEAR ALGEBRA 0308-1087 1563-5139\n"
     ]
    },
    {
     "name": "stderr",
     "output_type": "stream",
     "text": [
      "connected.\n",
      "HTTP request sent, awaiting response... 200 \n",
      "Length: unspecified [application/vnd.mtmt2-1.0+json]\n",
      "Saving to: ‘journals/41019.json’\n",
      "\n",
      "     0K ....                                                   23,5K=0,2s\n",
      "\n",
      "2023-01-24 16:04:01 (23,5 KB/s) - ‘journals/41019.json’ saved [5099]\n",
      "\n",
      "--2023-01-24 16:04:01--  https://m2.mtmt.hu/api/journal/10007248\n",
      "Resolving m2.mtmt.hu (m2.mtmt.hu)... "
     ]
    },
    {
     "name": "stdout",
     "output_type": "stream",
     "text": [
      "Új folyóirat:  QUANTUM INFORMATION PROCESSING 1570-0755 1573-1332\n"
     ]
    },
    {
     "name": "stderr",
     "output_type": "stream",
     "text": [
      "193.224.44.74\n",
      "Connecting to m2.mtmt.hu (m2.mtmt.hu)|193.224.44.74|:443... connected.\n",
      "HTTP request sent, awaiting response... 200 \n",
      "Length: unspecified [application/vnd.mtmt2-1.0+json]\n",
      "Saving to: ‘journals/10007248.json’\n",
      "\n",
      "     0K ......                                                 19,6K=0,3s\n",
      "\n",
      "2023-01-24 16:04:02 (19,6 KB/s) - ‘journals/10007248.json’ saved [6211]\n",
      "\n",
      "--2023-01-24 16:04:02--  https://m2.mtmt.hu/api/journal/10019635\n",
      "Resolving m2.mtmt.hu (m2.mtmt.hu)... "
     ]
    },
    {
     "name": "stdout",
     "output_type": "stream",
     "text": [
      "Új folyóirat:  TOKYO JOURNAL OF MATHEMATICS 0387-3870\n"
     ]
    },
    {
     "name": "stderr",
     "output_type": "stream",
     "text": [
      "193.224.44.74\n",
      "Connecting to m2.mtmt.hu (m2.mtmt.hu)|193.224.44.74|:443... connected.\n",
      "HTTP request sent, awaiting response... 200 \n",
      "Length: unspecified [application/vnd.mtmt2-1.0+json]\n",
      "Saving to: ‘journals/10019635.json’\n",
      "\n",
      "     0K ....                                                   48,4K=0,09s\n",
      "\n",
      "2023-01-24 16:04:03 (48,4 KB/s) - ‘journals/10019635.json’ saved [4347]\n",
      "\n",
      "64it [06:32,  6.26s/it]--2023-01-24 16:04:03--  https://m2.mtmt.hu/api/journal/10001291\n",
      "Resolving m2.mtmt.hu (m2.mtmt.hu)... "
     ]
    },
    {
     "name": "stdout",
     "output_type": "stream",
     "text": [
      "Új folyóirat:  LOGIC JOURNAL OF THE IGPL 1367-0751 1368-9894\n"
     ]
    },
    {
     "name": "stderr",
     "output_type": "stream",
     "text": [
      "193.224.44.74\n",
      "Connecting to m2.mtmt.hu (m2.mtmt.hu)|193.224.44.74|:443... connected.\n",
      "HTTP request sent, awaiting response... 200 \n",
      "Length: unspecified [application/vnd.mtmt2-1.0+json]\n",
      "Saving to: ‘journals/10001291.json’\n",
      "\n",
      "     0K .....                                                  24,8K=0,2s\n",
      "\n",
      "2023-01-24 16:04:05 (24,8 KB/s) - ‘journals/10001291.json’ saved [5210]\n",
      "\n",
      "65it [06:34,  5.07s/it]--2023-01-24 16:04:05--  https://m2.mtmt.hu/api/journal/10083956\n",
      "Resolving m2.mtmt.hu (m2.mtmt.hu)... "
     ]
    },
    {
     "name": "stdout",
     "output_type": "stream",
     "text": [
      "Új folyóirat:  DATA 2306-5729\n"
     ]
    },
    {
     "name": "stderr",
     "output_type": "stream",
     "text": [
      "193.224.44.74\n",
      "Connecting to m2.mtmt.hu (m2.mtmt.hu)|193.224.44.74|:443... connected.\n",
      "HTTP request sent, awaiting response... 200 \n",
      "Length: unspecified [application/vnd.mtmt2-1.0+json]\n",
      "Saving to: ‘journals/10083956.json’\n",
      "\n",
      "     0K ....                                                   22,7K=0,2s\n",
      "\n",
      "2023-01-24 16:04:06 (22,7 KB/s) - ‘journals/10083956.json’ saved [4423]\n",
      "\n",
      "--2023-01-24 16:04:06--  https://m2.mtmt.hu/api/journal/10019966\n",
      "Resolving m2.mtmt.hu (m2.mtmt.hu)... "
     ]
    },
    {
     "name": "stdout",
     "output_type": "stream",
     "text": [
      "Új folyóirat:  SCIENTIFIC REPORTS 2045-2322 2045-2322\n"
     ]
    },
    {
     "name": "stderr",
     "output_type": "stream",
     "text": [
      "193.224.44.74\n",
      "Connecting to m2.mtmt.hu (m2.mtmt.hu)|193.224.44.74|:443... connected.\n",
      "HTTP request sent, awaiting response... 200 \n",
      "Length: unspecified [application/vnd.mtmt2-1.0+json]\n",
      "Saving to: ‘journals/10019966.json’\n",
      "\n",
      "     0K ......                                                 30,0K=0,2s\n",
      "\n",
      "2023-01-24 16:04:08 (30,0 KB/s) - ‘journals/10019966.json’ saved [6328]\n",
      "\n",
      "--2023-01-24 16:04:08--  https://m2.mtmt.hu/api/journal/10044311\n",
      "Resolving m2.mtmt.hu (m2.mtmt.hu)... "
     ]
    },
    {
     "name": "stdout",
     "output_type": "stream",
     "text": [
      "Új folyóirat:  CLINICAL AND TRANSLATIONAL MEDICINE 2001-1326 2001-1326\n"
     ]
    },
    {
     "name": "stderr",
     "output_type": "stream",
     "text": [
      "193.224.44.74\n",
      "Connecting to m2.mtmt.hu (m2.mtmt.hu)|193.224.44.74|:443... connected.\n",
      "HTTP request sent, awaiting response... 200 \n",
      "Length: unspecified [application/vnd.mtmt2-1.0+json]\n",
      "Saving to: ‘journals/10044311.json’\n",
      "\n",
      "     0K ....                                                   14,5K=0,3s\n",
      "\n",
      "2023-01-24 16:04:09 (14,5 KB/s) - ‘journals/10044311.json’ saved [4546]\n",
      "\n",
      "--2023-01-24 16:04:09--  https://m2.mtmt.hu/api/journal/10068499\n",
      "Resolving m2.mtmt.hu (m2.mtmt.hu)... "
     ]
    },
    {
     "name": "stdout",
     "output_type": "stream",
     "text": [
      "Új folyóirat:  ASSESSMENT & EVALUATION IN HIGHER EDUCATION 0260-2938 1469-297X\n"
     ]
    },
    {
     "name": "stderr",
     "output_type": "stream",
     "text": [
      "193.224.44.74\n",
      "Connecting to m2.mtmt.hu (m2.mtmt.hu)|193.224.44.74|:443... connected.\n",
      "HTTP request sent, awaiting response... 200 \n",
      "Length: unspecified [application/vnd.mtmt2-1.0+json]\n",
      "Saving to: ‘journals/10068499.json’\n",
      "\n",
      "     0K ......                                                 61,4K=0,1s\n",
      "\n",
      "2023-01-24 16:04:10 (61,4 KB/s) - ‘journals/10068499.json’ saved [6699]\n",
      "\n",
      "--2023-01-24 16:04:10--  https://m2.mtmt.hu/api/journal/10058720\n",
      "Resolving m2.mtmt.hu (m2.mtmt.hu)... "
     ]
    },
    {
     "name": "stdout",
     "output_type": "stream",
     "text": [
      "Új folyóirat:  NETWORK SCIENCE 2050-1242\n"
     ]
    },
    {
     "name": "stderr",
     "output_type": "stream",
     "text": [
      "193.224.44.74\n",
      "Connecting to m2.mtmt.hu (m2.mtmt.hu)|193.224.44.74|:443... connected.\n",
      "HTTP request sent, awaiting response... 200 \n",
      "Length: unspecified [application/vnd.mtmt2-1.0+json]\n",
      "Saving to: ‘journals/10058720.json’\n",
      "\n",
      "     0K ...                                                    6,17M=0,001s\n",
      "\n",
      "2023-01-24 16:04:13 (6,17 MB/s) - ‘journals/10058720.json’ saved [3920]\n",
      "\n",
      "--2023-01-24 16:04:13--  https://m2.mtmt.hu/api/journal/10003272\n",
      "Resolving m2.mtmt.hu (m2.mtmt.hu)... "
     ]
    },
    {
     "name": "stdout",
     "output_type": "stream",
     "text": [
      "Új folyóirat:  INTERACTIVE LEARNING ENVIRONMENTS 1049-4820 1744-5191\n"
     ]
    },
    {
     "name": "stderr",
     "output_type": "stream",
     "text": [
      "193.224.44.74\n",
      "Connecting to m2.mtmt.hu (m2.mtmt.hu)|193.224.44.74|:443... connected.\n",
      "HTTP request sent, awaiting response... 200 \n",
      "Length: unspecified [application/vnd.mtmt2-1.0+json]\n",
      "Saving to: ‘journals/10003272.json’\n",
      "\n",
      "     0K .....                                                  28,9K=0,2s\n",
      "\n",
      "2023-01-24 16:04:14 (28,9 KB/s) - ‘journals/10003272.json’ saved [6138]\n",
      "\n",
      "--2023-01-24 16:04:14--  https://m2.mtmt.hu/api/journal/10073501\n",
      "Resolving m2.mtmt.hu (m2.mtmt.hu)... "
     ]
    },
    {
     "name": "stdout",
     "output_type": "stream",
     "text": [
      "Új folyóirat:  APPLIED NETWORK SCIENCE 2364-8228\n"
     ]
    },
    {
     "name": "stderr",
     "output_type": "stream",
     "text": [
      "193.224.44.74\n",
      "Connecting to m2.mtmt.hu (m2.mtmt.hu)|193.224.44.74|:443... connected.\n",
      "HTTP request sent, awaiting response... 200 \n",
      "Length: unspecified [application/vnd.mtmt2-1.0+json]\n",
      "Saving to: ‘journals/10073501.json’\n",
      "\n",
      "     0K ....                                                   8,39M=0,001s\n",
      "\n",
      "2023-01-24 16:04:16 (8,39 MB/s) - ‘journals/10073501.json’ saved [4984]\n",
      "\n",
      "--2023-01-24 16:04:16--  https://m2.mtmt.hu/api/journal/10022984\n",
      "Resolving m2.mtmt.hu (m2.mtmt.hu)... 193.224.44.74\n",
      "Connecting to m2.mtmt.hu (m2.mtmt.hu)|193.224.44.74|:443... "
     ]
    },
    {
     "name": "stdout",
     "output_type": "stream",
     "text": [
      "Új folyóirat:  IEEE TRANSACTIONS ON LEARNING TECHNOLOGIES 1939-1382 1939-1382\n"
     ]
    },
    {
     "name": "stderr",
     "output_type": "stream",
     "text": [
      "connected.\n",
      "HTTP request sent, awaiting response... 200 \n",
      "Length: unspecified [application/vnd.mtmt2-1.0+json]\n",
      "Saving to: ‘journals/10022984.json’\n",
      "\n",
      "     0K ......                                                 31,5K=0,2s\n",
      "\n",
      "2023-01-24 16:04:17 (31,5 KB/s) - ‘journals/10022984.json’ saved [6639]\n",
      "\n",
      "--2023-01-24 16:04:17--  https://m2.mtmt.hu/api/journal/10030868\n",
      "Resolving m2.mtmt.hu (m2.mtmt.hu)... "
     ]
    },
    {
     "name": "stdout",
     "output_type": "stream",
     "text": [
      "Új folyóirat:  JOURNAL OF COMPLEX NETWORKS 2051-1310 2051-1329\n"
     ]
    },
    {
     "name": "stderr",
     "output_type": "stream",
     "text": [
      "193.224.44.74\n",
      "Connecting to m2.mtmt.hu (m2.mtmt.hu)|193.224.44.74|:443... connected.\n",
      "HTTP request sent, awaiting response... 200 \n",
      "Length: unspecified [application/vnd.mtmt2-1.0+json]\n",
      "Saving to: ‘journals/10030868.json’\n",
      "\n",
      "     0K .....                                                  30,6K=0,2s\n",
      "\n",
      "2023-01-24 16:04:18 (30,6 KB/s) - ‘journals/10030868.json’ saved [5843]\n",
      "\n",
      "66it [06:47,  7.33s/it]"
     ]
    },
    {
     "name": "stdout",
     "output_type": "stream",
     "text": [
      "Új folyóirat:  PROCEEDINGS OF THE ROYAL SOCIETY A: MATHEMATICAL PHYSICAL AND ENGINEERING SCIENCES 1364-5021 1471-2946\n"
     ]
    },
    {
     "name": "stderr",
     "output_type": "stream",
     "text": [
      "--2023-01-24 16:04:18--  https://m2.mtmt.hu/api/journal/10003447\n",
      "Resolving m2.mtmt.hu (m2.mtmt.hu)... 193.224.44.74\n",
      "Connecting to m2.mtmt.hu (m2.mtmt.hu)|193.224.44.74|:443... connected.\n",
      "HTTP request sent, awaiting response... 200 \n",
      "Length: unspecified [application/vnd.mtmt2-1.0+json]\n",
      "Saving to: ‘journals/10003447.json’\n",
      "\n",
      "     0K ......                                                 31,5K=0,2s\n",
      "\n",
      "2023-01-24 16:04:20 (31,5 KB/s) - ‘journals/10003447.json’ saved [6587]\n",
      "\n",
      "68it [06:48,  4.34s/it]--2023-01-24 16:04:20--  https://m2.mtmt.hu/api/journal/1417136\n",
      "Resolving m2.mtmt.hu (m2.mtmt.hu)... "
     ]
    },
    {
     "name": "stdout",
     "output_type": "stream",
     "text": [
      "Új folyóirat:  SEMIGROUP FORUM 0037-1912 1432-2137\n"
     ]
    },
    {
     "name": "stderr",
     "output_type": "stream",
     "text": [
      "193.224.44.74\n",
      "Connecting to m2.mtmt.hu (m2.mtmt.hu)|193.224.44.74|:443... connected.\n",
      "HTTP request sent, awaiting response... 200 \n",
      "Length: unspecified [application/vnd.mtmt2-1.0+json]\n",
      "Saving to: ‘journals/1417136.json’\n",
      "\n",
      "     0K ...                                                    19,3K=0,2s\n",
      "\n",
      "2023-01-24 16:04:21 (19,3 KB/s) - ‘journals/1417136.json’ saved [4044]\n",
      "\n",
      "--2023-01-24 16:04:21--  https://m2.mtmt.hu/api/journal/1417140\n",
      "Resolving m2.mtmt.hu (m2.mtmt.hu)... 193.224.44.74\n",
      "Connecting to m2.mtmt.hu (m2.mtmt.hu)|193.224.44.74|:443... "
     ]
    },
    {
     "name": "stdout",
     "output_type": "stream",
     "text": [
      "Új folyóirat:  COMMENTATIONES MATHEMATICAE UNIVERSITATIS CAROLINAE 0010-2628 1213-7243\n"
     ]
    },
    {
     "name": "stderr",
     "output_type": "stream",
     "text": [
      "connected.\n",
      "HTTP request sent, awaiting response... 200 \n",
      "Length: unspecified [application/vnd.mtmt2-1.0+json]\n",
      "Saving to: ‘journals/1417140.json’\n",
      "\n",
      "     0K ...                                                    38,7K=0,1s\n",
      "\n",
      "2023-01-24 16:04:22 (38,7 KB/s) - ‘journals/1417140.json’ saved [4054]\n",
      "\n",
      "70it [06:51,  3.15s/it]--2023-01-24 16:04:22--  https://m2.mtmt.hu/api/journal/10075253\n",
      "Resolving m2.mtmt.hu (m2.mtmt.hu)... "
     ]
    },
    {
     "name": "stdout",
     "output_type": "stream",
     "text": [
      "Új folyóirat:  ADVANCES IN OPERATOR THEORY 2538-225X\n"
     ]
    },
    {
     "name": "stderr",
     "output_type": "stream",
     "text": [
      "193.224.44.74\n",
      "Connecting to m2.mtmt.hu (m2.mtmt.hu)|193.224.44.74|:443... connected.\n",
      "HTTP request sent, awaiting response... 200 \n",
      "Length: unspecified [application/vnd.mtmt2-1.0+json]\n",
      "Saving to: ‘journals/10075253.json’\n",
      "\n",
      "     0K ...                                                    13,2K=0,3s\n",
      "\n",
      "2023-01-24 16:04:24 (13,2 KB/s) - ‘journals/10075253.json’ saved [4072]\n",
      "\n",
      "71it [06:52,  2.79s/it]--2023-01-24 16:04:24--  https://m2.mtmt.hu/api/journal/33720\n",
      "Resolving m2.mtmt.hu (m2.mtmt.hu)... "
     ]
    },
    {
     "name": "stdout",
     "output_type": "stream",
     "text": [
      "Új folyóirat:  DESIGNS CODES AND CRYPTOGRAPHY 0925-1022 1573-7586\n"
     ]
    },
    {
     "name": "stderr",
     "output_type": "stream",
     "text": [
      "193.224.44.74\n",
      "Connecting to m2.mtmt.hu (m2.mtmt.hu)|193.224.44.74|:443... connected.\n",
      "HTTP request sent, awaiting response... 200 \n",
      "Length: unspecified [application/vnd.mtmt2-1.0+json]\n",
      "Saving to: ‘journals/33720.json’\n",
      "\n",
      "     0K ....                                                   32,9K=0,1s\n",
      "\n",
      "2023-01-24 16:04:25 (32,9 KB/s) - ‘journals/33720.json’ saved [4679]\n",
      "\n",
      "--2023-01-24 16:04:25--  https://m2.mtmt.hu/api/journal/10009511\n",
      "Resolving m2.mtmt.hu (m2.mtmt.hu)... "
     ]
    },
    {
     "name": "stdout",
     "output_type": "stream",
     "text": [
      "Új folyóirat:  ADVANCES IN MATHEMATICS OF COMMUNICATIONS 1930-5346 1930-5338\n"
     ]
    },
    {
     "name": "stderr",
     "output_type": "stream",
     "text": [
      "193.224.44.74\n",
      "Connecting to m2.mtmt.hu (m2.mtmt.hu)|193.224.44.74|:443... connected.\n",
      "HTTP request sent, awaiting response... 200 \n",
      "Length: unspecified [application/vnd.mtmt2-1.0+json]\n",
      "Saving to: ‘journals/10009511.json’\n",
      "\n",
      "     0K .....                                                  27,9K=0,2s\n",
      "\n",
      "2023-01-24 16:04:26 (27,9 KB/s) - ‘journals/10009511.json’ saved [5580]\n",
      "\n"
     ]
    },
    {
     "name": "stdout",
     "output_type": "stream",
     "text": [
      "Új folyóirat:  PRIKLADNAYA DISKRETNAYA MATEMATIKA 2071-0410 2311-2263\n"
     ]
    },
    {
     "name": "stderr",
     "output_type": "stream",
     "text": [
      "--2023-01-24 16:04:26--  https://m2.mtmt.hu/api/journal/10063794\n",
      "Resolving m2.mtmt.hu (m2.mtmt.hu)... 193.224.44.74\n",
      "Connecting to m2.mtmt.hu (m2.mtmt.hu)|193.224.44.74|:443... connected.\n",
      "HTTP request sent, awaiting response... 200 \n",
      "Length: unspecified [application/vnd.mtmt2-1.0+json]\n",
      "Saving to: ‘journals/10063794.json’\n",
      "\n",
      "     0K .....                                                  26,5K=0,2s\n",
      "\n",
      "2023-01-24 16:04:27 (26,5 KB/s) - ‘journals/10063794.json’ saved [5570]\n",
      "\n",
      "--2023-01-24 16:04:28--  https://m2.mtmt.hu/api/journal/34137\n",
      "Resolving m2.mtmt.hu (m2.mtmt.hu)... "
     ]
    },
    {
     "name": "stdout",
     "output_type": "stream",
     "text": [
      "Új folyóirat:  FINITE FIELDS AND THEIR APPLICATIONS 1071-5797 1090-2465\n"
     ]
    },
    {
     "name": "stderr",
     "output_type": "stream",
     "text": [
      "193.224.44.74\n",
      "Connecting to m2.mtmt.hu (m2.mtmt.hu)|193.224.44.74|:443... connected.\n",
      "HTTP request sent, awaiting response... 200 \n",
      "Length: unspecified [application/vnd.mtmt2-1.0+json]\n",
      "Saving to: ‘journals/34137.json’\n",
      "\n",
      "     0K ....                                                   41,4K=0,1s\n",
      "\n",
      "2023-01-24 16:04:30 (41,4 KB/s) - ‘journals/34137.json’ saved [4869]\n",
      "\n",
      "--2023-01-24 16:04:30--  https://m2.mtmt.hu/api/journal/1107\n",
      "Resolving m2.mtmt.hu (m2.mtmt.hu)... "
     ]
    },
    {
     "name": "stdout",
     "output_type": "stream",
     "text": [
      "Új folyóirat:  COMBINATORICA 0209-9683 1439-6912\n"
     ]
    },
    {
     "name": "stderr",
     "output_type": "stream",
     "text": [
      "193.224.44.74\n",
      "Connecting to m2.mtmt.hu (m2.mtmt.hu)|193.224.44.74|:443... connected.\n",
      "HTTP request sent, awaiting response... 200 \n",
      "Length: unspecified [application/vnd.mtmt2-1.0+json]\n",
      "Saving to: ‘journals/1107.json’\n",
      "\n",
      "     0K ....                                                   57,5K=0,09s\n",
      "\n",
      "2023-01-24 16:04:30 (57,5 KB/s) - ‘journals/1107.json’ saved [5047]\n",
      "\n",
      "--2023-01-24 16:04:30--  https://m2.mtmt.hu/api/journal/8181\n",
      "Resolving m2.mtmt.hu (m2.mtmt.hu)... "
     ]
    },
    {
     "name": "stdout",
     "output_type": "stream",
     "text": [
      "Új folyóirat:  JOURNAL OF ALGEBRAIC COMBINATORICS 0925-9899 1572-9192\n"
     ]
    },
    {
     "name": "stderr",
     "output_type": "stream",
     "text": [
      "193.224.44.74\n",
      "Connecting to m2.mtmt.hu (m2.mtmt.hu)|193.224.44.74|:443... connected.\n",
      "HTTP request sent, awaiting response... 200 \n",
      "Length: unspecified [application/vnd.mtmt2-1.0+json]\n",
      "Saving to: ‘journals/8181.json’\n",
      "\n",
      "     0K ...                                                    40,2K=0,1s\n",
      "\n",
      "2023-01-24 16:04:32 (40,2 KB/s) - ‘journals/8181.json’ saved [4077]\n",
      "\n",
      "--2023-01-24 16:04:32--  https://m2.mtmt.hu/api/journal/10014358\n",
      "Resolving m2.mtmt.hu (m2.mtmt.hu)... "
     ]
    },
    {
     "name": "stdout",
     "output_type": "stream",
     "text": [
      "Új folyóirat:  SCIENCE CHINA MATHEMATICS 1674-7283 1869-1862\n"
     ]
    },
    {
     "name": "stderr",
     "output_type": "stream",
     "text": [
      "193.224.44.74\n",
      "Connecting to m2.mtmt.hu (m2.mtmt.hu)|193.224.44.74|:443... connected.\n",
      "HTTP request sent, awaiting response... 200 \n",
      "Length: unspecified [application/vnd.mtmt2-1.0+json]\n",
      "Saving to: ‘journals/10014358.json’\n",
      "\n",
      "     0K ....                                                   48,4K=0,09s\n",
      "\n",
      "2023-01-24 16:04:34 (48,4 KB/s) - ‘journals/10014358.json’ saved [4414]\n",
      "\n",
      "72it [07:03,  4.58s/it]--2023-01-24 16:04:34--  https://m2.mtmt.hu/api/journal/10057489\n",
      "Resolving m2.mtmt.hu (m2.mtmt.hu)... "
     ]
    },
    {
     "name": "stdout",
     "output_type": "stream",
     "text": [
      "Új folyóirat:  MATHEMATICS 2227-7390\n"
     ]
    },
    {
     "name": "stderr",
     "output_type": "stream",
     "text": [
      "193.224.44.74\n",
      "Connecting to m2.mtmt.hu (m2.mtmt.hu)|193.224.44.74|:443... connected.\n",
      "HTTP request sent, awaiting response... 200 \n",
      "Length: unspecified [application/vnd.mtmt2-1.0+json]\n",
      "Saving to: ‘journals/10057489.json’\n",
      "\n",
      "     0K ...                                                    30,5K=0,1s\n",
      "\n",
      "2023-01-24 16:04:35 (30,5 KB/s) - ‘journals/10057489.json’ saved [3512]\n",
      "\n",
      "73it [07:04,  3.66s/it]--2023-01-24 16:04:35--  https://m2.mtmt.hu/api/journal/10000750\n",
      "Resolving m2.mtmt.hu (m2.mtmt.hu)... "
     ]
    },
    {
     "name": "stdout",
     "output_type": "stream",
     "text": [
      "Új folyóirat:  DISCRETE AND CONTINUOUS DYNAMICAL SYSTEMS-SERIES B 1531-3492 1553-524X\n"
     ]
    },
    {
     "name": "stderr",
     "output_type": "stream",
     "text": [
      "193.224.44.74\n",
      "Connecting to m2.mtmt.hu (m2.mtmt.hu)|193.224.44.74|:443... connected.\n",
      "HTTP request sent, awaiting response... 200 \n",
      "Length: unspecified [application/vnd.mtmt2-1.0+json]\n",
      "Saving to: ‘journals/10000750.json’\n",
      "\n",
      "     0K ....                                                   33,1K=0,1s\n",
      "\n",
      "2023-01-24 16:04:36 (33,1 KB/s) - ‘journals/10000750.json’ saved [4288]\n",
      "\n",
      "--2023-01-24 16:04:36--  https://m2.mtmt.hu/api/journal/10015831\n",
      "Resolving m2.mtmt.hu (m2.mtmt.hu)... "
     ]
    },
    {
     "name": "stdout",
     "output_type": "stream",
     "text": [
      "Új folyóirat:  MATHEMATICAL MODELLING OF NATURAL PHENOMENA 0973-5348 1760-6101\n"
     ]
    },
    {
     "name": "stderr",
     "output_type": "stream",
     "text": [
      "193.224.44.74\n",
      "Connecting to m2.mtmt.hu (m2.mtmt.hu)|193.224.44.74|:443... connected.\n",
      "HTTP request sent, awaiting response... 200 \n",
      "Length: unspecified [application/vnd.mtmt2-1.0+json]\n",
      "Saving to: ‘journals/10015831.json’\n",
      "\n",
      "     0K ....                                                   2,45M=0,002s\n",
      "\n",
      "2023-01-24 16:04:38 (2,45 MB/s) - ‘journals/10015831.json’ saved [4214]\n",
      "\n",
      "76it [07:07,  2.25s/it]--2023-01-24 16:04:38--  https://m2.mtmt.hu/api/journal/10070088\n",
      "Resolving m2.mtmt.hu (m2.mtmt.hu)... "
     ]
    },
    {
     "name": "stdout",
     "output_type": "stream",
     "text": [
      "Új folyóirat:  Applied General Topology 1989-4147\n"
     ]
    },
    {
     "name": "stderr",
     "output_type": "stream",
     "text": [
      "193.224.44.74\n",
      "Connecting to m2.mtmt.hu (m2.mtmt.hu)|193.224.44.74|:443... connected.\n",
      "HTTP request sent, awaiting response... 200 \n",
      "Length: unspecified [application/vnd.mtmt2-1.0+json]\n",
      "Saving to: ‘journals/10070088.json’\n",
      "\n",
      "     0K ...                                                    37,2K=0,09s\n",
      "\n",
      "2023-01-24 16:04:39 (37,2 KB/s) - ‘journals/10070088.json’ saved [3494]\n",
      "\n",
      "--2023-01-24 16:04:39--  https://m2.mtmt.hu/api/journal/10068373\n",
      "Resolving m2.mtmt.hu (m2.mtmt.hu)... "
     ]
    },
    {
     "name": "stdout",
     "output_type": "stream",
     "text": [
      "Új folyóirat:  AXIOMS 2075-1680\n"
     ]
    },
    {
     "name": "stderr",
     "output_type": "stream",
     "text": [
      "193.224.44.74\n",
      "Connecting to m2.mtmt.hu (m2.mtmt.hu)|193.224.44.74|:443... connected.\n",
      "HTTP request sent, awaiting response... 200 \n",
      "Length: unspecified [application/vnd.mtmt2-1.0+json]\n",
      "Saving to: ‘journals/10068373.json’\n",
      "\n",
      "     0K ....                                                   3,10M=0,001s\n",
      "\n",
      "2023-01-24 16:04:41 (3,10 MB/s) - ‘journals/10068373.json’ saved [4155]\n",
      "\n",
      "78it [07:09,  1.98s/it]--2023-01-24 16:04:41--  https://m2.mtmt.hu/api/journal/21698\n",
      "Resolving m2.mtmt.hu (m2.mtmt.hu)... 193.224.44.74\n",
      "Connecting to m2.mtmt.hu (m2.mtmt.hu)|193.224.44.74|:443... "
     ]
    },
    {
     "name": "stdout",
     "output_type": "stream",
     "text": [
      "Új folyóirat:  BERNOULLI 1350-7265 1573-9759\n"
     ]
    },
    {
     "name": "stderr",
     "output_type": "stream",
     "text": [
      "connected.\n",
      "HTTP request sent, awaiting response... 200 \n",
      "Length: unspecified [application/vnd.mtmt2-1.0+json]\n",
      "Saving to: ‘journals/21698.json’\n",
      "\n",
      "     0K ....                                                   2,76M=0,002s\n",
      "\n",
      "2023-01-24 16:04:42 (2,76 MB/s) - ‘journals/21698.json’ saved [4516]\n",
      "\n",
      "--2023-01-24 16:04:42--  https://m2.mtmt.hu/api/journal/110\n",
      "Resolving m2.mtmt.hu (m2.mtmt.hu)... 193.224.44.74\n",
      "Connecting to m2.mtmt.hu (m2.mtmt.hu)|193.224.44.74|:443... "
     ]
    },
    {
     "name": "stdout",
     "output_type": "stream",
     "text": [
      "Új folyóirat:  ADVANCES IN APPLIED PROBABILITY 0001-8678 1475-6064\n"
     ]
    },
    {
     "name": "stderr",
     "output_type": "stream",
     "text": [
      "connected.\n",
      "HTTP request sent, awaiting response... 200 \n",
      "Length: unspecified [application/vnd.mtmt2-1.0+json]\n",
      "Saving to: ‘journals/110.json’\n",
      "\n",
      "     0K ......                                                 65,8K=0,09s\n",
      "\n",
      "2023-01-24 16:04:43 (65,8 KB/s) - ‘journals/110.json’ saved [6306]\n",
      "\n",
      "--2023-01-24 16:04:43--  https://m2.mtmt.hu/api/journal/380\n",
      "Resolving m2.mtmt.hu (m2.mtmt.hu)... "
     ]
    },
    {
     "name": "stdout",
     "output_type": "stream",
     "text": [
      "Új folyóirat:  ANNALS OF PROBABILITY 0091-1798 2168-894X\n"
     ]
    },
    {
     "name": "stderr",
     "output_type": "stream",
     "text": [
      "193.224.44.74\n",
      "Connecting to m2.mtmt.hu (m2.mtmt.hu)|193.224.44.74|:443... connected.\n",
      "HTTP request sent, awaiting response... 200 \n",
      "Length: unspecified [application/vnd.mtmt2-1.0+json]\n",
      "Saving to: ‘journals/380.json’\n",
      "\n",
      "     0K ......                                                 43,9K=0,1s\n",
      "\n",
      "2023-01-24 16:04:45 (43,9 KB/s) - ‘journals/380.json’ saved [6180]\n",
      "\n",
      "--2023-01-24 16:04:45--  https://m2.mtmt.hu/api/journal/10006267\n",
      "Resolving m2.mtmt.hu (m2.mtmt.hu)... "
     ]
    },
    {
     "name": "stdout",
     "output_type": "stream",
     "text": [
      "Új folyóirat:  ALEA-LATIN AMERICAN JOURNAL OF PROBABILITY AND MATHEMATICAL STATISTICS 1980-0436\n"
     ]
    },
    {
     "name": "stderr",
     "output_type": "stream",
     "text": [
      "193.224.44.74\n",
      "Connecting to m2.mtmt.hu (m2.mtmt.hu)|193.224.44.74|:443... connected.\n",
      "HTTP request sent, awaiting response... 200 \n",
      "Length: unspecified [application/vnd.mtmt2-1.0+json]\n",
      "Saving to: ‘journals/10006267.json’\n",
      "\n",
      "     0K ......                                                 29,5K=0,2s\n",
      "\n",
      "2023-01-24 16:04:47 (29,5 KB/s) - ‘journals/10006267.json’ saved [6215]\n",
      "\n",
      "--2023-01-24 16:04:47--  https://m2.mtmt.hu/api/journal/10001247\n",
      "Resolving m2.mtmt.hu (m2.mtmt.hu)... "
     ]
    },
    {
     "name": "stdout",
     "output_type": "stream",
     "text": [
      "Új folyóirat:  JOURNAL OF THE EUROPEAN MATHEMATICAL SOCIETY 1435-9855 1435-9863\n"
     ]
    },
    {
     "name": "stderr",
     "output_type": "stream",
     "text": [
      "193.224.44.74\n",
      "Connecting to m2.mtmt.hu (m2.mtmt.hu)|193.224.44.74|:443... connected.\n",
      "HTTP request sent, awaiting response... 200 \n",
      "Length: unspecified [application/vnd.mtmt2-1.0+json]\n",
      "Saving to: ‘journals/10001247.json’\n",
      "\n",
      "     0K ....                                                   16,0K=0,3s\n",
      "\n",
      "2023-01-24 16:04:48 (16,0 KB/s) - ‘journals/10001247.json’ saved [4347]\n",
      "\n",
      "--2023-01-24 16:04:48--  https://m2.mtmt.hu/api/journal/10003667\n",
      "Resolving m2.mtmt.hu (m2.mtmt.hu)... "
     ]
    },
    {
     "name": "stdout",
     "output_type": "stream",
     "text": [
      "Új folyóirat:  ELECTRONIC JOURNAL OF PROBABILITY 1083-6489 1083-6489\n"
     ]
    },
    {
     "name": "stderr",
     "output_type": "stream",
     "text": [
      "193.224.44.74\n",
      "Connecting to m2.mtmt.hu (m2.mtmt.hu)|193.224.44.74|:443... connected.\n",
      "HTTP request sent, awaiting response... 200 \n",
      "Length: unspecified [application/vnd.mtmt2-1.0+json]\n",
      "Saving to: ‘journals/10003667.json’\n",
      "\n",
      "     0K .....                                                  76,0K=0,08s\n",
      "\n",
      "2023-01-24 16:04:49 (76,0 KB/s) - ‘journals/10003667.json’ saved [6012]\n",
      "\n",
      "--2023-01-24 16:04:49--  https://m2.mtmt.hu/api/journal/352\n",
      "Resolving m2.mtmt.hu (m2.mtmt.hu)... "
     ]
    },
    {
     "name": "stdout",
     "output_type": "stream",
     "text": [
      "Új folyóirat:  ANNALES DE L INSTITUT HENRI POINCARE-PROBABILITES ET STATISTIQUES 0246-0203 1778-7017\n"
     ]
    },
    {
     "name": "stderr",
     "output_type": "stream",
     "text": [
      "193.224.44.74\n",
      "Connecting to m2.mtmt.hu (m2.mtmt.hu)|193.224.44.74|:443... connected.\n",
      "HTTP request sent, awaiting response... 200 \n",
      "Length: unspecified [application/vnd.mtmt2-1.0+json]\n",
      "Saving to: ‘journals/352.json’\n",
      "\n",
      "     0K ......                                                 32,7K=0,2s\n",
      "\n",
      "2023-01-24 16:04:51 (32,7 KB/s) - ‘journals/352.json’ saved [6873]\n",
      "\n",
      "--2023-01-24 16:04:51--  https://m2.mtmt.hu/api/journal/13001\n",
      "Resolving m2.mtmt.hu (m2.mtmt.hu)... 193.224.44.74\n",
      "Connecting to m2.mtmt.hu (m2.mtmt.hu)|193.224.44.74|:443... "
     ]
    },
    {
     "name": "stdout",
     "output_type": "stream",
     "text": [
      "Új folyóirat:  JOURNAL OF THE AMERICAN MATHEMATICAL SOCIETY 0894-0347 1088-6834\n"
     ]
    },
    {
     "name": "stderr",
     "output_type": "stream",
     "text": [
      "connected.\n",
      "HTTP request sent, awaiting response... 200 \n",
      "Length: unspecified [application/vnd.mtmt2-1.0+json]\n",
      "Saving to: ‘journals/13001.json’\n",
      "\n",
      "     0K ....                                                   14,9K=0,3s\n",
      "\n",
      "2023-01-24 16:04:52 (14,9 KB/s) - ‘journals/13001.json’ saved [4691]\n",
      "\n",
      "79it [07:21,  3.78s/it]--2023-01-24 16:04:52--  https://m2.mtmt.hu/api/journal/10032972\n",
      "Resolving m2.mtmt.hu (m2.mtmt.hu)... "
     ]
    },
    {
     "name": "stdout",
     "output_type": "stream",
     "text": [
      "Új folyóirat:  EARTH SYSTEM DYNAMICS 2190-4979 2190-4987\n"
     ]
    },
    {
     "name": "stderr",
     "output_type": "stream",
     "text": [
      "193.224.44.74\n",
      "Connecting to m2.mtmt.hu (m2.mtmt.hu)|193.224.44.74|:443... connected.\n",
      "HTTP request sent, awaiting response... 200 \n",
      "Length: unspecified [application/vnd.mtmt2-1.0+json]\n",
      "Saving to: ‘journals/10032972.json’\n",
      "\n",
      "     0K ....                                                   21,6K=0,2s\n",
      "\n",
      "2023-01-24 16:04:54 (21,6 KB/s) - ‘journals/10032972.json’ saved [4542]\n",
      "\n",
      "83it [07:23,  2.04s/it]--2023-01-24 16:04:54--  https://m2.mtmt.hu/api/journal/2050642\n",
      "Resolving m2.mtmt.hu (m2.mtmt.hu)... "
     ]
    },
    {
     "name": "stdout",
     "output_type": "stream",
     "text": [
      "Új folyóirat:  RANDOM STRUCTURES & ALGORITHMS 1042-9832 1098-2418\n"
     ]
    },
    {
     "name": "stderr",
     "output_type": "stream",
     "text": [
      "193.224.44.74\n",
      "Connecting to m2.mtmt.hu (m2.mtmt.hu)|193.224.44.74|:443... connected.\n",
      "HTTP request sent, awaiting response... 200 \n",
      "Length: unspecified [application/vnd.mtmt2-1.0+json]\n",
      "Saving to: ‘journals/2050642.json’\n",
      "\n",
      "     0K ......                                                 33,6K=0,2s\n",
      "\n",
      "2023-01-24 16:04:57 (33,6 KB/s) - ‘journals/2050642.json’ saved [6334]\n",
      "\n",
      "--2023-01-24 16:04:57--  https://m2.mtmt.hu/api/journal/10003668\n",
      "Resolving m2.mtmt.hu (m2.mtmt.hu)... "
     ]
    },
    {
     "name": "stdout",
     "output_type": "stream",
     "text": [
      "Új folyóirat:  ELECTRONIC COMMUNICATIONS IN PROBABILITY 1083-589X 1083-589X\n"
     ]
    },
    {
     "name": "stderr",
     "output_type": "stream",
     "text": [
      "193.224.44.74\n",
      "Connecting to m2.mtmt.hu (m2.mtmt.hu)|193.224.44.74|:443... connected.\n",
      "HTTP request sent, awaiting response... 200 \n",
      "Length: unspecified [application/vnd.mtmt2-1.0+json]\n",
      "Saving to: ‘journals/10003668.json’\n",
      "\n",
      "     0K ....                                                   20,8K=0,2s\n",
      "\n",
      "2023-01-24 16:04:58 (20,8 KB/s) - ‘journals/10003668.json’ saved [4399]\n",
      "\n",
      "--2023-01-24 16:04:58--  https://m2.mtmt.hu/api/journal/10030817\n",
      "Resolving m2.mtmt.hu (m2.mtmt.hu)... "
     ]
    },
    {
     "name": "stdout",
     "output_type": "stream",
     "text": [
      "Új folyóirat:  JOURNAL OF COMPUTATIONAL DYNAMICS 2158-2491 2158-2505\n"
     ]
    },
    {
     "name": "stderr",
     "output_type": "stream",
     "text": [
      "193.224.44.74\n",
      "Connecting to m2.mtmt.hu (m2.mtmt.hu)|193.224.44.74|:443... connected.\n",
      "HTTP request sent, awaiting response... 200 \n",
      "Length: unspecified [application/vnd.mtmt2-1.0+json]\n",
      "Saving to: ‘journals/10030817.json’\n",
      "\n",
      "     0K .....                                                  59,6K=0,1s\n",
      "\n",
      "2023-01-24 16:04:59 (59,6 KB/s) - ‘journals/10030817.json’ saved [5871]\n",
      "\n",
      "--2023-01-24 16:04:59--  https://m2.mtmt.hu/api/journal/2387\n",
      "Resolving m2.mtmt.hu (m2.mtmt.hu)... "
     ]
    },
    {
     "name": "stdout",
     "output_type": "stream",
     "text": [
      "Új folyóirat:  JOURNAL OF COMBINATORIAL THEORY SERIES B 0095-8956 1096-0902\n"
     ]
    },
    {
     "name": "stderr",
     "output_type": "stream",
     "text": [
      "193.224.44.74\n",
      "Connecting to m2.mtmt.hu (m2.mtmt.hu)|193.224.44.74|:443... connected.\n",
      "HTTP request sent, awaiting response... 200 \n",
      "Length: unspecified [application/vnd.mtmt2-1.0+json]\n",
      "Saving to: ‘journals/2387.json’\n",
      "\n",
      "     0K ....                                                    159K=0,03s\n",
      "\n",
      "2023-01-24 16:05:00 (159 KB/s) - ‘journals/2387.json’ saved [4509]\n",
      "\n",
      "85it [07:29,  2.38s/it]"
     ]
    },
    {
     "name": "stdout",
     "output_type": "stream",
     "text": [
      "Új folyóirat:  ELECTRONIC JOURNAL OF COMBINATORICS 1097-1440 1077-8926\n"
     ]
    },
    {
     "name": "stderr",
     "output_type": "stream",
     "text": [
      "--2023-01-24 16:05:01--  https://m2.mtmt.hu/api/journal/10003114\n",
      "Resolving m2.mtmt.hu (m2.mtmt.hu)... 193.224.44.74\n",
      "Connecting to m2.mtmt.hu (m2.mtmt.hu)|193.224.44.74|:443... connected.\n",
      "HTTP request sent, awaiting response... 200 \n",
      "Length: unspecified [application/vnd.mtmt2-1.0+json]\n",
      "Saving to: ‘journals/10003114.json’\n",
      "\n",
      "     0K .....                                                  17,3K=0,3s\n",
      "\n",
      "2023-01-24 16:05:02 (17,3 KB/s) - ‘journals/10003114.json’ saved [5458]\n",
      "\n",
      "--2023-01-24 16:05:02--  https://m2.mtmt.hu/api/journal/1852\n",
      "Resolving m2.mtmt.hu (m2.mtmt.hu)... "
     ]
    },
    {
     "name": "stdout",
     "output_type": "stream",
     "text": [
      "Új folyóirat:  IEEE JOURNAL ON SELECTED AREAS IN COMMUNICATIONS 0733-8716 1558-0008\n"
     ]
    },
    {
     "name": "stderr",
     "output_type": "stream",
     "text": [
      "193.224.44.74\n",
      "Connecting to m2.mtmt.hu (m2.mtmt.hu)|193.224.44.74|:443... connected.\n",
      "HTTP request sent, awaiting response... 200 \n",
      "Length: unspecified [application/vnd.mtmt2-1.0+json]\n",
      "Saving to: ‘journals/1852.json’\n",
      "\n",
      "     0K .....                                                  61,2K=0,08s\n",
      "\n",
      "2023-01-24 16:05:03 (61,2 KB/s) - ‘journals/1852.json’ saved [5157]\n",
      "\n",
      "--2023-01-24 16:05:03--  https://m2.mtmt.hu/api/journal/12554\n",
      "Resolving m2.mtmt.hu (m2.mtmt.hu)... "
     ]
    },
    {
     "name": "stdout",
     "output_type": "stream",
     "text": [
      "Új folyóirat:  IEEE-ACM TRANSACTIONS ON NETWORKING 1063-6692 1558-2566\n"
     ]
    },
    {
     "name": "stderr",
     "output_type": "stream",
     "text": [
      "193.224.44.74\n",
      "Connecting to m2.mtmt.hu (m2.mtmt.hu)|193.224.44.74|:443... connected.\n",
      "HTTP request sent, awaiting response... 200 \n",
      "Length: unspecified [application/vnd.mtmt2-1.0+json]\n",
      "Saving to: ‘journals/12554.json’\n",
      "\n",
      "     0K ......                                                 56,6K=0,1s\n",
      "\n",
      "2023-01-24 16:05:04 (56,6 KB/s) - ‘journals/12554.json’ saved [6187]\n",
      "\n",
      "--2023-01-24 16:05:04--  https://m2.mtmt.hu/api/journal/10014361\n",
      "Resolving m2.mtmt.hu (m2.mtmt.hu)... "
     ]
    },
    {
     "name": "stdout",
     "output_type": "stream",
     "text": [
      "Új folyóirat:  ACTA MATHEMATICA UNIVERSITATIS COMENIANAE 0862-9544 1336-0310\n"
     ]
    },
    {
     "name": "stderr",
     "output_type": "stream",
     "text": [
      "193.224.44.74\n",
      "Connecting to m2.mtmt.hu (m2.mtmt.hu)|193.224.44.74|:443... connected.\n",
      "HTTP request sent, awaiting response... 200 \n",
      "Length: unspecified [application/vnd.mtmt2-1.0+json]\n",
      "Saving to: ‘journals/10014361.json’\n",
      "\n",
      "     0K ....                                                   1,78M=0,003s\n",
      "\n",
      "2023-01-24 16:05:05 (1,78 MB/s) - ‘journals/10014361.json’ saved [4837]\n",
      "\n",
      "--2023-01-24 16:05:05--  https://m2.mtmt.hu/api/journal/10000476\n",
      "Resolving m2.mtmt.hu (m2.mtmt.hu)... 193.224.44.74\n",
      "Connecting to m2.mtmt.hu (m2.mtmt.hu)|193.224.44.74|:443... "
     ]
    },
    {
     "name": "stdout",
     "output_type": "stream",
     "text": [
      "Új folyóirat:  FUNDAMENTA INFORMATICAE 0169-2968 1875-8681\n"
     ]
    },
    {
     "name": "stderr",
     "output_type": "stream",
     "text": [
      "connected.\n",
      "HTTP request sent, awaiting response... 200 \n",
      "Length: unspecified [application/vnd.mtmt2-1.0+json]\n",
      "Saving to: ‘journals/10000476.json’\n",
      "\n",
      "     0K ....                                                   30,0K=0,2s\n",
      "\n",
      "2023-01-24 16:05:06 (30,0 KB/s) - ‘journals/10000476.json’ saved [4797]\n",
      "\n",
      "--2023-01-24 16:05:06--  https://m2.mtmt.hu/api/journal/1865\n",
      "Resolving m2.mtmt.hu (m2.mtmt.hu)... "
     ]
    },
    {
     "name": "stdout",
     "output_type": "stream",
     "text": [
      "Új folyóirat:  IEEE TRANSACTIONS ON COMMUNICATIONS 0090-6778 1558-0857\n"
     ]
    },
    {
     "name": "stderr",
     "output_type": "stream",
     "text": [
      "193.224.44.74\n",
      "Connecting to m2.mtmt.hu (m2.mtmt.hu)|193.224.44.74|:443... connected.\n",
      "HTTP request sent, awaiting response... 200 \n",
      "Length: unspecified [application/vnd.mtmt2-1.0+json]\n",
      "Saving to: ‘journals/1865.json’\n",
      "\n",
      "     0K ....                                                   69,3K=0,06s\n",
      "\n",
      "2023-01-24 16:05:08 (69,3 KB/s) - ‘journals/1865.json’ saved [4363]\n",
      "\n",
      "--2023-01-24 16:05:08--  https://m2.mtmt.hu/api/journal/2894\n",
      "Resolving m2.mtmt.hu (m2.mtmt.hu)... "
     ]
    },
    {
     "name": "stdout",
     "output_type": "stream",
     "text": [
      "Új folyóirat:  JOURNAL OF SYMBOLIC COMPUTATION 0747-7171 1095-855X\n"
     ]
    },
    {
     "name": "stderr",
     "output_type": "stream",
     "text": [
      "193.224.44.74\n",
      "Connecting to m2.mtmt.hu (m2.mtmt.hu)|193.224.44.74|:443... connected.\n",
      "HTTP request sent, awaiting response... 200 \n",
      "Length: unspecified [application/vnd.mtmt2-1.0+json]\n",
      "Saving to: ‘journals/2894.json’\n",
      "\n",
      "     0K ....                                                   47,7K=0,09s\n",
      "\n",
      "2023-01-24 16:05:09 (47,7 KB/s) - ‘journals/2894.json’ saved [4295]\n",
      "\n",
      "87it [07:38,  2.94s/it]--2023-01-24 16:05:09--  https://m2.mtmt.hu/api/journal/10016036\n",
      "Resolving m2.mtmt.hu (m2.mtmt.hu)... "
     ]
    },
    {
     "name": "stdout",
     "output_type": "stream",
     "text": [
      "Új folyóirat:  TRANSACTIONS ON INTERNET RESEARCH- IPSI BGD 1820-4503 1820-4503\n"
     ]
    },
    {
     "name": "stderr",
     "output_type": "stream",
     "text": [
      "193.224.44.74\n",
      "Connecting to m2.mtmt.hu (m2.mtmt.hu)|193.224.44.74|:443... connected.\n",
      "HTTP request sent, awaiting response... 200 \n",
      "Length: unspecified [application/vnd.mtmt2-1.0+json]\n",
      "Saving to: ‘journals/10016036.json’\n",
      "\n",
      "     0K ...                                                    37,2K=0,1s\n",
      "\n",
      "2023-01-24 16:05:11 (37,2 KB/s) - ‘journals/10016036.json’ saved [3781]\n",
      "\n",
      "88it [07:39,  2.69s/it]"
     ]
    },
    {
     "name": "stdout",
     "output_type": "stream",
     "text": [
      "Új folyóirat:  LECTURE NOTES IN MATHEMATICS 0075-8434 1617-9692\n"
     ]
    },
    {
     "name": "stderr",
     "output_type": "stream",
     "text": [
      "--2023-01-24 16:05:11--  https://m2.mtmt.hu/api/journal/3031\n",
      "Resolving m2.mtmt.hu (m2.mtmt.hu)... 193.224.44.74\n",
      "Connecting to m2.mtmt.hu (m2.mtmt.hu)|193.224.44.74|:443... connected.\n",
      "HTTP request sent, awaiting response... 200 \n",
      "Length: unspecified [application/vnd.mtmt2-1.0+json]\n",
      "Saving to: ‘journals/3031.json’\n",
      "\n",
      "     0K ....                                                   21,0K=0,2s\n",
      "\n",
      "2023-01-24 16:05:13 (21,0 KB/s) - ‘journals/3031.json’ saved [4411]\n",
      "\n",
      "92it [07:42,  1.66s/it]"
     ]
    },
    {
     "name": "stdout",
     "output_type": "stream",
     "text": [
      "Új folyóirat:  PRAGUE ECONOMIC PAPERS 1210-0455 2336-730X\n"
     ]
    },
    {
     "name": "stderr",
     "output_type": "stream",
     "text": [
      "--2023-01-24 16:05:13--  https://m2.mtmt.hu/api/journal/10015220\n",
      "Resolving m2.mtmt.hu (m2.mtmt.hu)... 193.224.44.74\n",
      "Connecting to m2.mtmt.hu (m2.mtmt.hu)|193.224.44.74|:443... connected.\n",
      "HTTP request sent, awaiting response... 200 \n",
      "Length: unspecified [application/vnd.mtmt2-1.0+json]\n",
      "Saving to: ‘journals/10015220.json’\n",
      "\n",
      "     0K .....                                                  52,2K=0,1s\n",
      "\n",
      "2023-01-24 16:05:15 (52,2 KB/s) - ‘journals/10015220.json’ saved [6034]\n",
      "\n",
      "--2023-01-24 16:05:15--  https://m2.mtmt.hu/api/journal/10073103\n",
      "Resolving m2.mtmt.hu (m2.mtmt.hu)... "
     ]
    },
    {
     "name": "stdout",
     "output_type": "stream",
     "text": [
      "Új folyóirat:  CENTRAL EUROPEAN JOURNAL OF ECONOMIC MODELLING AND ECONOMETRICS 2080-0886 2080-119X\n"
     ]
    },
    {
     "name": "stderr",
     "output_type": "stream",
     "text": [
      "193.224.44.74\n",
      "Connecting to m2.mtmt.hu (m2.mtmt.hu)|193.224.44.74|:443... connected.\n",
      "HTTP request sent, awaiting response... 200 \n",
      "Length: unspecified [application/vnd.mtmt2-1.0+json]\n",
      "Saving to: ‘journals/10073103.json’\n",
      "\n",
      "     0K ....                                                   70,3K=0,06s\n",
      "\n",
      "2023-01-24 16:05:15 (70,3 KB/s) - ‘journals/10073103.json’ saved [4633]\n",
      "\n",
      "--2023-01-24 16:05:15--  https://m2.mtmt.hu/api/journal/39844\n",
      "Resolving m2.mtmt.hu (m2.mtmt.hu)... "
     ]
    },
    {
     "name": "stdout",
     "output_type": "stream",
     "text": [
      "Új folyóirat:  PÉNZÜGYI SZEMLE/PUBLIC FINANCE QUARTERLY (1963-) 0031-496X 2064-8278\n"
     ]
    },
    {
     "name": "stderr",
     "output_type": "stream",
     "text": [
      "193.224.44.74\n",
      "Connecting to m2.mtmt.hu (m2.mtmt.hu)|193.224.44.74|:443... connected.\n",
      "HTTP request sent, awaiting response... 200 \n",
      "Length: unspecified [application/vnd.mtmt2-1.0+json]\n",
      "Saving to: ‘journals/39844.json’\n",
      "\n",
      "     0K .......... .                                            108K=0,1s\n",
      "\n",
      "2023-01-24 16:05:18 (108 KB/s) - ‘journals/39844.json’ saved [12064]\n",
      "\n",
      "--2023-01-24 16:05:18--  https://m2.mtmt.hu/api/journal/4521\n",
      "Resolving m2.mtmt.hu (m2.mtmt.hu)... "
     ]
    },
    {
     "name": "stdout",
     "output_type": "stream",
     "text": [
      "Új folyóirat:  ACTA OECONOMICA 0001-6373 1588-2659\n"
     ]
    },
    {
     "name": "stderr",
     "output_type": "stream",
     "text": [
      "193.224.44.74\n",
      "Connecting to m2.mtmt.hu (m2.mtmt.hu)|193.224.44.74|:443... connected.\n",
      "HTTP request sent, awaiting response... 200 \n",
      "Length: unspecified [application/vnd.mtmt2-1.0+json]\n",
      "Saving to: ‘journals/4521.json’\n",
      "\n",
      "     0K ..........                                             19,6K=0,5s\n",
      "\n",
      "2023-01-24 16:05:20 (19,6 KB/s) - ‘journals/4521.json’ saved [10869]\n",
      "\n",
      "--2023-01-24 16:05:20--  https://m2.mtmt.hu/api/journal/5558\n",
      "Resolving m2.mtmt.hu (m2.mtmt.hu)... "
     ]
    },
    {
     "name": "stdout",
     "output_type": "stream",
     "text": [
      "Új folyóirat:  OXFORD ECONOMIC PAPERS-NEW SERIES 0030-7653 1464-3812\n"
     ]
    },
    {
     "name": "stderr",
     "output_type": "stream",
     "text": [
      "193.224.44.74\n",
      "Connecting to m2.mtmt.hu (m2.mtmt.hu)|193.224.44.74|:443... connected.\n",
      "HTTP request sent, awaiting response... 200 \n",
      "Length: unspecified [application/vnd.mtmt2-1.0+json]\n",
      "Saving to: ‘journals/5558.json’\n",
      "\n",
      "     0K ......                                                 74,6K=0,08s\n",
      "\n",
      "2023-01-24 16:05:21 (74,6 KB/s) - ‘journals/5558.json’ saved [6234]\n",
      "\n",
      "--2023-01-24 16:05:21--  https://m2.mtmt.hu/api/journal/10015480\n",
      "Resolving m2.mtmt.hu (m2.mtmt.hu)... "
     ]
    },
    {
     "name": "stdout",
     "output_type": "stream",
     "text": [
      "Új folyóirat:  JOURNAL OF ECONOMIC INTERACTION AND COORDINATION 1860-711X 1860-7128\n"
     ]
    },
    {
     "name": "stderr",
     "output_type": "stream",
     "text": [
      "193.224.44.74\n",
      "Connecting to m2.mtmt.hu (m2.mtmt.hu)|193.224.44.74|:443... connected.\n",
      "HTTP request sent, awaiting response... 200 \n",
      "Length: unspecified [application/vnd.mtmt2-1.0+json]\n",
      "Saving to: ‘journals/10015480.json’\n",
      "\n",
      "     0K .......                                                76,3K=0,09s\n",
      "\n",
      "2023-01-24 16:05:23 (76,3 KB/s) - ‘journals/10015480.json’ saved [7213]\n",
      "\n",
      "--2023-01-24 16:05:23--  https://m2.mtmt.hu/api/journal/2150369\n",
      "Resolving m2.mtmt.hu (m2.mtmt.hu)... "
     ]
    },
    {
     "name": "stdout",
     "output_type": "stream",
     "text": [
      "Új folyóirat:  EUROPEAN JOURNAL OF SOCIAL SECURITY 1388-2627\n"
     ]
    },
    {
     "name": "stderr",
     "output_type": "stream",
     "text": [
      "193.224.44.74\n",
      "Connecting to m2.mtmt.hu (m2.mtmt.hu)|193.224.44.74|:443... connected.\n",
      "HTTP request sent, awaiting response... 200 \n",
      "Length: unspecified [application/vnd.mtmt2-1.0+json]\n",
      "Saving to: ‘journals/2150369.json’\n",
      "\n",
      "     0K ...                                                    35,5K=0,1s\n",
      "\n",
      "2023-01-24 16:05:25 (35,5 KB/s) - ‘journals/2150369.json’ saved [3742]\n",
      "\n",
      "--2023-01-24 16:05:25--  https://m2.mtmt.hu/api/journal/10001409\n",
      "Resolving m2.mtmt.hu (m2.mtmt.hu)... "
     ]
    },
    {
     "name": "stdout",
     "output_type": "stream",
     "text": [
      "Új folyóirat:  EMERGING MARKETS FINANCE AND TRADE 1540-496X 1558-0938\n"
     ]
    },
    {
     "name": "stderr",
     "output_type": "stream",
     "text": [
      "193.224.44.74\n",
      "Connecting to m2.mtmt.hu (m2.mtmt.hu)|193.224.44.74|:443... connected.\n",
      "HTTP request sent, awaiting response... 200 \n",
      "Length: unspecified [application/vnd.mtmt2-1.0+json]\n",
      "Saving to: ‘journals/10001409.json’\n",
      "\n",
      "     0K .......                                                69,1K=0,1s\n",
      "\n",
      "2023-01-24 16:05:26 (69,1 KB/s) - ‘journals/10001409.json’ saved [7702]\n",
      "\n",
      "--2023-01-24 16:05:26--  https://m2.mtmt.hu/api/journal/2147881\n",
      "Resolving m2.mtmt.hu (m2.mtmt.hu)... "
     ]
    },
    {
     "name": "stdout",
     "output_type": "stream",
     "text": [
      "Új folyóirat:  PORTUGUESE ECONOMIC JOURNAL 1617-982X 1617-9838\n"
     ]
    },
    {
     "name": "stderr",
     "output_type": "stream",
     "text": [
      "193.224.44.74\n",
      "Connecting to m2.mtmt.hu (m2.mtmt.hu)|193.224.44.74|:443... connected.\n",
      "HTTP request sent, awaiting response... 200 \n",
      "Length: unspecified [application/vnd.mtmt2-1.0+json]\n",
      "Saving to: ‘journals/2147881.json’\n",
      "\n",
      "     0K .....                                                  2,36K=2,5s\n",
      "\n",
      "2023-01-24 16:05:29 (2,36 KB/s) - ‘journals/2147881.json’ saved [5938]\n",
      "\n",
      "--2023-01-24 16:05:29--  https://m2.mtmt.hu/api/journal/38392\n",
      "Resolving m2.mtmt.hu (m2.mtmt.hu)... "
     ]
    },
    {
     "name": "stdout",
     "output_type": "stream",
     "text": [
      "Új folyóirat:  FINANCE A UVER: CZECH JOURNAL OF ECONOMICS AND FINANCE 0015-1920 0015-1920\n"
     ]
    },
    {
     "name": "stderr",
     "output_type": "stream",
     "text": [
      "193.224.44.74\n",
      "Connecting to m2.mtmt.hu (m2.mtmt.hu)|193.224.44.74|:443... connected.\n",
      "HTTP request sent, awaiting response... 200 \n",
      "Length: unspecified [application/vnd.mtmt2-1.0+json]\n",
      "Saving to: ‘journals/38392.json’\n",
      "\n",
      "     0K ......                                                 37,8K=0,2s\n",
      "\n",
      "2023-01-24 16:05:30 (37,8 KB/s) - ‘journals/38392.json’ saved [6613]\n",
      "\n",
      "--2023-01-24 16:05:30--  https://m2.mtmt.hu/api/journal/4859\n",
      "Resolving m2.mtmt.hu (m2.mtmt.hu)... "
     ]
    },
    {
     "name": "stdout",
     "output_type": "stream",
     "text": [
      "Új folyóirat:  ECONOMICS LETTERS 0165-1765 1873-7374\n"
     ]
    },
    {
     "name": "stderr",
     "output_type": "stream",
     "text": [
      "193.224.44.74\n",
      "Connecting to m2.mtmt.hu (m2.mtmt.hu)|193.224.44.74|:443... connected.\n",
      "HTTP request sent, awaiting response... 200 \n",
      "Length: unspecified [application/vnd.mtmt2-1.0+json]\n",
      "Saving to: ‘journals/4859.json’\n",
      "\n",
      "     0K .....                                                  50,0K=0,1s\n",
      "\n",
      "2023-01-24 16:05:31 (50,0 KB/s) - ‘journals/4859.json’ saved [6015]\n",
      "\n",
      "--2023-01-24 16:05:31--  https://m2.mtmt.hu/api/journal/10021133\n",
      "Resolving m2.mtmt.hu (m2.mtmt.hu)... "
     ]
    },
    {
     "name": "stdout",
     "output_type": "stream",
     "text": [
      "Új folyóirat:  ECONOMIC ANALYSIS AND POLICY 0313-5926 0313-5926\n"
     ]
    },
    {
     "name": "stderr",
     "output_type": "stream",
     "text": [
      "193.224.44.74\n",
      "Connecting to m2.mtmt.hu (m2.mtmt.hu)|193.224.44.74|:443... connected.\n",
      "HTTP request sent, awaiting response... 200 \n",
      "Length: unspecified [application/vnd.mtmt2-1.0+json]\n",
      "Saving to: ‘journals/10021133.json’\n",
      "\n",
      "     0K .....                                                  59,4K=0,1s\n",
      "\n",
      "2023-01-24 16:05:32 (59,4 KB/s) - ‘journals/10021133.json’ saved [6089]\n",
      "\n",
      "93it [08:01,  4.23s/it]--2023-01-24 16:05:32--  https://m2.mtmt.hu/api/journal/10000849\n",
      "Resolving m2.mtmt.hu (m2.mtmt.hu)... "
     ]
    },
    {
     "name": "stdout",
     "output_type": "stream",
     "text": [
      "Új folyóirat:  JOURNAL OF CONVEX ANALYSIS 0944-6532 0944-6532\n"
     ]
    },
    {
     "name": "stderr",
     "output_type": "stream",
     "text": [
      "193.224.44.74\n",
      "Connecting to m2.mtmt.hu (m2.mtmt.hu)|193.224.44.74|:443... connected.\n",
      "HTTP request sent, awaiting response... 200 \n",
      "Length: unspecified [application/vnd.mtmt2-1.0+json]\n",
      "Saving to: ‘journals/10000849.json’\n",
      "\n",
      "     0K ...                                                    39,8K=0,09s\n",
      "\n",
      "2023-01-24 16:05:33 (39,8 KB/s) - ‘journals/10000849.json’ saved [3830]\n",
      "\n",
      "96it [08:02,  2.70s/it]--2023-01-24 16:05:33--  https://m2.mtmt.hu/api/journal/10000869\n",
      "Resolving m2.mtmt.hu (m2.mtmt.hu)... "
     ]
    },
    {
     "name": "stdout",
     "output_type": "stream",
     "text": [
      "Új folyóirat:  JOURNAL OF TIME SERIES ANALYSIS 0143-9782 1467-9892\n"
     ]
    },
    {
     "name": "stderr",
     "output_type": "stream",
     "text": [
      "193.224.44.74\n",
      "Connecting to m2.mtmt.hu (m2.mtmt.hu)|193.224.44.74|:443... connected.\n",
      "HTTP request sent, awaiting response... 200 \n",
      "Length: unspecified [application/vnd.mtmt2-1.0+json]\n",
      "Saving to: ‘journals/10000869.json’\n",
      "\n",
      "     0K ......                                                 66,5K=0,09s\n",
      "\n",
      "2023-01-24 16:05:34 (66,5 KB/s) - ‘journals/10000869.json’ saved [6408]\n",
      "\n",
      "--2023-01-24 16:05:34--  https://m2.mtmt.hu/api/journal/10010510\n",
      "Resolving m2.mtmt.hu (m2.mtmt.hu)... "
     ]
    },
    {
     "name": "stdout",
     "output_type": "stream",
     "text": [
      "Új folyóirat:  THEORETICAL BIOLOGY & MEDICAL MODELLING 1742-4682\n"
     ]
    },
    {
     "name": "stderr",
     "output_type": "stream",
     "text": [
      "193.224.44.74\n",
      "Connecting to m2.mtmt.hu (m2.mtmt.hu)|193.224.44.74|:443... connected.\n",
      "HTTP request sent, awaiting response... 200 \n",
      "Length: unspecified [application/vnd.mtmt2-1.0+json]\n",
      "Saving to: ‘journals/10010510.json’\n",
      "\n",
      "     0K ....                                                   2,87M=0,001s\n",
      "\n",
      "2023-01-24 16:05:34 (2,87 MB/s) - ‘journals/10010510.json’ saved [4504]\n",
      "\n",
      "--2023-01-24 16:05:34--  https://m2.mtmt.hu/api/journal/13772\n",
      "Resolving m2.mtmt.hu (m2.mtmt.hu)... "
     ]
    },
    {
     "name": "stdout",
     "output_type": "stream",
     "text": [
      "Új folyóirat:  JOURNAL OF THEORETICAL PROBABILITY 0894-9840 1572-9230\n"
     ]
    },
    {
     "name": "stderr",
     "output_type": "stream",
     "text": [
      "193.224.44.74\n",
      "Connecting to m2.mtmt.hu (m2.mtmt.hu)|193.224.44.74|:443... connected.\n",
      "HTTP request sent, awaiting response... 200 \n",
      "Length: unspecified [application/vnd.mtmt2-1.0+json]\n",
      "Saving to: ‘journals/13772.json’\n",
      "\n",
      "     0K ....                                                   79,4K=0,06s\n",
      "\n",
      "2023-01-24 16:05:37 (79,4 KB/s) - ‘journals/13772.json’ saved [4931]\n",
      "\n",
      "97it [08:05,  2.86s/it]--2023-01-24 16:05:37--  https://m2.mtmt.hu/api/journal/10011287\n",
      "Resolving m2.mtmt.hu (m2.mtmt.hu)... "
     ]
    },
    {
     "name": "stdout",
     "output_type": "stream",
     "text": [
      "Új folyóirat:  ANALYSIS AND APPLICATIONS 0219-5305 1793-6861\n"
     ]
    },
    {
     "name": "stderr",
     "output_type": "stream",
     "text": [
      "193.224.44.74\n",
      "Connecting to m2.mtmt.hu (m2.mtmt.hu)|193.224.44.74|:443... connected.\n",
      "HTTP request sent, awaiting response... 200 \n",
      "Length: unspecified [application/vnd.mtmt2-1.0+json]\n",
      "Saving to: ‘journals/10011287.json’\n",
      "\n",
      "     0K ....                                                   51,1K=0,08s\n",
      "\n",
      "2023-01-24 16:05:38 (51,1 KB/s) - ‘journals/10011287.json’ saved [4275]\n",
      "\n",
      "98it [08:07,  2.68s/it]--2023-01-24 16:05:38--  https://m2.mtmt.hu/api/journal/3836\n",
      "Resolving m2.mtmt.hu (m2.mtmt.hu)... "
     ]
    },
    {
     "name": "stdout",
     "output_type": "stream",
     "text": [
      "Új folyóirat:  QUARTERLY JOURNAL OF MATHEMATICS 0033-5606 1464-3847\n"
     ]
    },
    {
     "name": "stderr",
     "output_type": "stream",
     "text": [
      "193.224.44.74\n",
      "Connecting to m2.mtmt.hu (m2.mtmt.hu)|193.224.44.74|:443... connected.\n",
      "HTTP request sent, awaiting response... 200 \n",
      "Length: unspecified [application/vnd.mtmt2-1.0+json]\n",
      "Saving to: ‘journals/3836.json’\n",
      "\n",
      "     0K ....                                                   36,3K=0,1s\n",
      "\n",
      "2023-01-24 16:05:39 (36,3 KB/s) - ‘journals/3836.json’ saved [4248]\n",
      "\n",
      "--2023-01-24 16:05:39--  https://m2.mtmt.hu/api/journal/4772\n",
      "Resolving m2.mtmt.hu (m2.mtmt.hu)... "
     ]
    },
    {
     "name": "stdout",
     "output_type": "stream",
     "text": [
      "Új folyóirat:  COGNITIVE SCIENCE 0364-0213 1551-6709\n"
     ]
    },
    {
     "name": "stderr",
     "output_type": "stream",
     "text": [
      "193.224.44.74\n",
      "Connecting to m2.mtmt.hu (m2.mtmt.hu)|193.224.44.74|:443... connected.\n",
      "HTTP request sent, awaiting response... 200 \n",
      "Length: unspecified [application/vnd.mtmt2-1.0+json]\n",
      "Saving to: ‘journals/4772.json’\n",
      "\n",
      "     0K ......                                                 32,3K=0,2s\n",
      "\n",
      "2023-01-24 16:05:41 (32,3 KB/s) - ‘journals/4772.json’ saved [6788]\n",
      "\n",
      "--2023-01-24 16:05:41--  https://m2.mtmt.hu/api/journal/3811\n",
      "Resolving m2.mtmt.hu (m2.mtmt.hu)... "
     ]
    },
    {
     "name": "stdout",
     "output_type": "stream",
     "text": [
      "Új folyóirat:  PSYCHOLOGICAL REVIEW 0033-295X 1939-1471\n"
     ]
    },
    {
     "name": "stderr",
     "output_type": "stream",
     "text": [
      "193.224.44.74\n",
      "Connecting to m2.mtmt.hu (m2.mtmt.hu)|193.224.44.74|:443... connected.\n",
      "HTTP request sent, awaiting response... 200 \n",
      "Length: unspecified [application/vnd.mtmt2-1.0+json]\n",
      "Saving to: ‘journals/3811.json’\n",
      "\n",
      "     0K ......                                                 66,2K=0,09s\n",
      "\n",
      "2023-01-24 16:05:43 (66,2 KB/s) - ‘journals/3811.json’ saved [6258]\n",
      "\n",
      "--2023-01-24 16:05:43--  https://m2.mtmt.hu/api/journal/12823\n",
      "Resolving m2.mtmt.hu (m2.mtmt.hu)... "
     ]
    },
    {
     "name": "stdout",
     "output_type": "stream",
     "text": [
      "Új folyóirat:  INTERNATIONAL JOURNAL OF MATHEMATICS 0129-167X 1793-6519\n"
     ]
    },
    {
     "name": "stderr",
     "output_type": "stream",
     "text": [
      "193.224.44.74\n",
      "Connecting to m2.mtmt.hu (m2.mtmt.hu)|193.224.44.74|:443... connected.\n",
      "HTTP request sent, awaiting response... 200 \n",
      "Length: unspecified [application/vnd.mtmt2-1.0+json]\n",
      "Saving to: ‘journals/12823.json’\n",
      "\n",
      "     0K ...                                                    4,13M=0,001s\n",
      "\n",
      "2023-01-24 16:05:44 (4,13 MB/s) - ‘journals/12823.json’ saved [3799]\n",
      "\n",
      "--2023-01-24 16:05:44--  https://m2.mtmt.hu/api/journal/10003185\n",
      "Resolving m2.mtmt.hu (m2.mtmt.hu)... 193.224.44.74\n",
      "Connecting to m2.mtmt.hu (m2.mtmt.hu)|193.224.44.74|:443... "
     ]
    },
    {
     "name": "stdout",
     "output_type": "stream",
     "text": [
      "Új folyóirat:  GEOMETRY & TOPOLOGY 1465-3060 1364-0380\n"
     ]
    },
    {
     "name": "stderr",
     "output_type": "stream",
     "text": [
      "connected.\n",
      "HTTP request sent, awaiting response... 200 \n",
      "Length: unspecified [application/vnd.mtmt2-1.0+json]\n",
      "Saving to: ‘journals/10003185.json’\n",
      "\n",
      "     0K ...                                                    19,4K=0,2s\n",
      "\n",
      "2023-01-24 16:05:46 (19,4 KB/s) - ‘journals/10003185.json’ saved [4053]\n",
      "\n",
      "99it [08:14,  3.61s/it]--2023-01-24 16:05:46--  https://m2.mtmt.hu/api/journal/10003500\n",
      "Resolving m2.mtmt.hu (m2.mtmt.hu)... 193.224.44.74\n",
      "Connecting to m2.mtmt.hu (m2.mtmt.hu)|193.224.44.74|:443... "
     ]
    },
    {
     "name": "stdout",
     "output_type": "stream",
     "text": [
      "Új folyóirat:  QUANTITATIVE FINANCE 1469-7688 1469-7696\n"
     ]
    },
    {
     "name": "stderr",
     "output_type": "stream",
     "text": [
      "connected.\n",
      "HTTP request sent, awaiting response... 200 \n",
      "Length: unspecified [application/vnd.mtmt2-1.0+json]\n",
      "Saving to: ‘journals/10003500.json’\n",
      "\n",
      "     0K .......                                                73,7K=0,1s\n",
      "\n",
      "2023-01-24 16:05:47 (73,7 KB/s) - ‘journals/10003500.json’ saved [7890]\n",
      "\n",
      "101it [08:16,  2.45s/it]--2023-01-24 16:05:48--  https://m2.mtmt.hu/api/journal/10011811\n",
      "Resolving m2.mtmt.hu (m2.mtmt.hu)... "
     ]
    },
    {
     "name": "stdout",
     "output_type": "stream",
     "text": [
      "Új folyóirat:  QUAESTIONES MATHEMATICAE 1607-3606 1727-933X\n"
     ]
    },
    {
     "name": "stderr",
     "output_type": "stream",
     "text": [
      "193.224.44.74\n",
      "Connecting to m2.mtmt.hu (m2.mtmt.hu)|193.224.44.74|:443... connected.\n",
      "HTTP request sent, awaiting response... 200 \n",
      "Length: unspecified [application/vnd.mtmt2-1.0+json]\n",
      "Saving to: ‘journals/10011811.json’\n",
      "\n",
      "     0K ...                                                    18,1K=0,2s\n",
      "\n",
      "2023-01-24 16:05:49 (18,1 KB/s) - ‘journals/10011811.json’ saved [3820]\n",
      "\n",
      "--2023-01-24 16:05:49--  https://m2.mtmt.hu/api/journal/41209\n",
      "Resolving m2.mtmt.hu (m2.mtmt.hu)... "
     ]
    },
    {
     "name": "stdout",
     "output_type": "stream",
     "text": [
      "Új folyóirat:  ACTA UNIVERSITATIS SAPIENTIAE MATHEMATICA 1844-6094 2066-7752\n"
     ]
    },
    {
     "name": "stderr",
     "output_type": "stream",
     "text": [
      "193.224.44.74\n",
      "Connecting to m2.mtmt.hu (m2.mtmt.hu)|193.224.44.74|:443... connected.\n",
      "HTTP request sent, awaiting response... 200 \n",
      "Length: unspecified [application/vnd.mtmt2-1.0+json]\n",
      "Saving to: ‘journals/41209.json’\n",
      "\n",
      "     0K .....                                                  43,4K=0,1s\n",
      "\n",
      "2023-01-24 16:05:50 (43,4 KB/s) - ‘journals/41209.json’ saved [5271]\n",
      "\n",
      "--2023-01-24 16:05:50--  https://m2.mtmt.hu/api/journal/10002957\n",
      "Resolving m2.mtmt.hu (m2.mtmt.hu)... "
     ]
    },
    {
     "name": "stdout",
     "output_type": "stream",
     "text": [
      "Új folyóirat:  BULLETIN OF THE BRAZILIAN MATHEMATICAL SOCIETY 1678-7544 1678-7714\n"
     ]
    },
    {
     "name": "stderr",
     "output_type": "stream",
     "text": [
      "193.224.44.74\n",
      "Connecting to m2.mtmt.hu (m2.mtmt.hu)|193.224.44.74|:443... connected.\n",
      "HTTP request sent, awaiting response... 200 \n",
      "Length: unspecified [application/vnd.mtmt2-1.0+json]\n",
      "Saving to: ‘journals/10002957.json’\n",
      "\n",
      "     0K ....                                                   23,5K=0,2s\n",
      "\n",
      "2023-01-24 16:05:52 (23,5 KB/s) - ‘journals/10002957.json’ saved [4908]\n",
      "\n",
      "--2023-01-24 16:05:52--  https://m2.mtmt.hu/api/journal/10005220\n",
      "Resolving m2.mtmt.hu (m2.mtmt.hu)... 193.224.44.74\n",
      "Connecting to m2.mtmt.hu (m2.mtmt.hu)|193.224.44.74|:443... "
     ]
    },
    {
     "name": "stdout",
     "output_type": "stream",
     "text": [
      "Új folyóirat:  RENDICONTI DEL CIRCOLO MATEMATICO DI PALERMO SUPPLEMENTO SERIE II 1592-9531\n"
     ]
    },
    {
     "name": "stderr",
     "output_type": "stream",
     "text": [
      "connected.\n",
      "HTTP request sent, awaiting response... 200 \n",
      "Length: unspecified [application/vnd.mtmt2-1.0+json]\n",
      "Saving to: ‘journals/10005220.json’\n",
      "\n",
      "     0K ...                                                     506K=0,006s\n",
      "\n",
      "2023-01-24 16:05:53 (506 KB/s) - ‘journals/10005220.json’ saved [3205]\n",
      "\n",
      "--2023-01-24 16:05:53--  https://m2.mtmt.hu/api/journal/10018576\n",
      "Resolving m2.mtmt.hu (m2.mtmt.hu)... 193.224.44.74\n",
      "Connecting to m2.mtmt.hu (m2.mtmt.hu)|193.224.44.74|:443... "
     ]
    },
    {
     "name": "stdout",
     "output_type": "stream",
     "text": [
      "Új folyóirat:  KRAGUJEVAC JOURNAL OF MATHEMATICS 1450-9628\n"
     ]
    },
    {
     "name": "stderr",
     "output_type": "stream",
     "text": [
      "connected.\n",
      "HTTP request sent, awaiting response... 200 \n",
      "Length: unspecified [application/vnd.mtmt2-1.0+json]\n",
      "Saving to: ‘journals/10018576.json’\n",
      "\n",
      "     0K ...                                                    16,6K=0,2s\n",
      "\n",
      "2023-01-24 16:05:55 (16,6 KB/s) - ‘journals/10018576.json’ saved [3493]\n",
      "\n",
      "--2023-01-24 16:05:55--  https://m2.mtmt.hu/api/journal/356\n",
      "Resolving m2.mtmt.hu (m2.mtmt.hu)... "
     ]
    },
    {
     "name": "stdout",
     "output_type": "stream",
     "text": [
      "Új folyóirat:  ANNALI DI MATEMATICA PURA ED APPLICATA 0373-3114 1618-1891\n"
     ]
    },
    {
     "name": "stderr",
     "output_type": "stream",
     "text": [
      "193.224.44.74\n",
      "Connecting to m2.mtmt.hu (m2.mtmt.hu)|193.224.44.74|:443... connected.\n",
      "HTTP request sent, awaiting response... 200 \n",
      "Length: unspecified [application/vnd.mtmt2-1.0+json]\n",
      "Saving to: ‘journals/356.json’\n",
      "\n",
      "     0K ....                                                   67,0K=0,07s\n",
      "\n",
      "2023-01-24 16:05:56 (67,0 KB/s) - ‘journals/356.json’ saved [4744]\n",
      "\n",
      "104it [08:25,  2.65s/it]--2023-01-24 16:05:56--  https://m2.mtmt.hu/api/journal/10011346\n",
      "Resolving m2.mtmt.hu (m2.mtmt.hu)... "
     ]
    },
    {
     "name": "stdout",
     "output_type": "stream",
     "text": [
      "Új folyóirat:  BANACH JOURNAL OF MATHEMATICAL ANALYSIS 2662-2033 1735-8787\n"
     ]
    },
    {
     "name": "stderr",
     "output_type": "stream",
     "text": [
      "193.224.44.74\n",
      "Connecting to m2.mtmt.hu (m2.mtmt.hu)|193.224.44.74|:443... connected.\n",
      "HTTP request sent, awaiting response... 200 \n",
      "Length: unspecified [application/vnd.mtmt2-1.0+json]\n",
      "Saving to: ‘journals/10011346.json’\n",
      "\n",
      "     0K ....                                                   45,3K=0,1s\n",
      "\n",
      "2023-01-24 16:05:58 (45,3 KB/s) - ‘journals/10011346.json’ saved [4727]\n",
      "\n",
      "105it [08:27,  2.51s/it]--2023-01-24 16:05:58--  https://m2.mtmt.hu/api/journal/10001294\n",
      "Resolving m2.mtmt.hu (m2.mtmt.hu)... "
     ]
    },
    {
     "name": "stdout",
     "output_type": "stream",
     "text": [
      "Új folyóirat:  MATHEMATICAL PHYSICS ANALYSIS AND GEOMETRY 1385-0172 1572-9656\n"
     ]
    },
    {
     "name": "stderr",
     "output_type": "stream",
     "text": [
      "193.224.44.74\n",
      "Connecting to m2.mtmt.hu (m2.mtmt.hu)|193.224.44.74|:443... connected.\n",
      "HTTP request sent, awaiting response... 200 \n",
      "Length: unspecified [application/vnd.mtmt2-1.0+json]\n",
      "Saving to: ‘journals/10001294.json’\n",
      "\n",
      "     0K ....                                                   52,9K=0,09s\n",
      "\n",
      "2023-01-24 16:05:59 (52,9 KB/s) - ‘journals/10001294.json’ saved [4985]\n",
      "\n",
      "--2023-01-24 16:05:59--  https://m2.mtmt.hu/api/journal/10007291\n",
      "Resolving m2.mtmt.hu (m2.mtmt.hu)... "
     ]
    },
    {
     "name": "stdout",
     "output_type": "stream",
     "text": [
      "Új folyóirat:  STOCHASTICS AND DYNAMICS 0219-4937 1793-6799\n"
     ]
    },
    {
     "name": "stderr",
     "output_type": "stream",
     "text": [
      "193.224.44.74\n",
      "Connecting to m2.mtmt.hu (m2.mtmt.hu)|193.224.44.74|:443... connected.\n",
      "HTTP request sent, awaiting response... 200 \n",
      "Length: unspecified [application/vnd.mtmt2-1.0+json]\n",
      "Saving to: ‘journals/10007291.json’\n",
      "\n",
      "     0K ...                                                    35,2K=0,1s\n",
      "\n",
      "2023-01-24 16:06:01 (35,2 KB/s) - ‘journals/10007291.json’ saved [3818]\n",
      "\n",
      "110it [08:30,  1.39s/it]"
     ]
    },
    {
     "name": "stdout",
     "output_type": "stream",
     "text": [
      "Új folyóirat:  ACS OMEGA 2470-1343 2470-1343\n"
     ]
    },
    {
     "name": "stderr",
     "output_type": "stream",
     "text": [
      "--2023-01-24 16:06:01--  https://m2.mtmt.hu/api/journal/10068075\n",
      "Resolving m2.mtmt.hu (m2.mtmt.hu)... 193.224.44.74\n",
      "Connecting to m2.mtmt.hu (m2.mtmt.hu)|193.224.44.74|:443... connected.\n",
      "HTTP request sent, awaiting response... 200 \n",
      "Length: unspecified [application/vnd.mtmt2-1.0+json]\n",
      "Saving to: ‘journals/10068075.json’\n",
      "\n",
      "     0K ....                                                   23,4K=0,2s\n",
      "\n",
      "2023-01-24 16:06:02 (23,4 KB/s) - ‘journals/10068075.json’ saved [5049]\n",
      "\n",
      "--2023-01-24 16:06:02--  https://m2.mtmt.hu/api/journal/2008\n",
      "Resolving m2.mtmt.hu (m2.mtmt.hu)... "
     ]
    },
    {
     "name": "stdout",
     "output_type": "stream",
     "text": [
      "Új folyóirat:  INTERNATIONAL JOURNAL OF CHEMICAL KINETICS 0538-8066 1097-4601\n"
     ]
    },
    {
     "name": "stderr",
     "output_type": "stream",
     "text": [
      "193.224.44.74\n",
      "Connecting to m2.mtmt.hu (m2.mtmt.hu)|193.224.44.74|:443... connected.\n",
      "HTTP request sent, awaiting response... 200 \n",
      "Length: unspecified [application/vnd.mtmt2-1.0+json]\n",
      "Saving to: ‘journals/2008.json’\n",
      "\n",
      "     0K .....                                                  59,8K=0,09s\n",
      "\n",
      "2023-01-24 16:06:04 (59,8 KB/s) - ‘journals/2008.json’ saved [5544]\n",
      "\n",
      "--2023-01-24 16:06:04--  https://m2.mtmt.hu/api/journal/24781\n",
      "Resolving m2.mtmt.hu (m2.mtmt.hu)... "
     ]
    },
    {
     "name": "stdout",
     "output_type": "stream",
     "text": [
      "Új folyóirat:  MATCH-COMMUNICATIONS IN MATHEMATICAL AND IN COMPUTER CHEMISTRY 0340-6253\n"
     ]
    },
    {
     "name": "stderr",
     "output_type": "stream",
     "text": [
      "193.224.44.74\n",
      "Connecting to m2.mtmt.hu (m2.mtmt.hu)|193.224.44.74|:443... connected.\n",
      "HTTP request sent, awaiting response... 200 \n",
      "Length: unspecified [application/vnd.mtmt2-1.0+json]\n",
      "Saving to: ‘journals/24781.json’\n",
      "\n",
      "     0K .....                                                  3,34M=0,001s\n",
      "\n",
      "2023-01-24 16:06:05 (3,34 MB/s) - ‘journals/24781.json’ saved [5212]\n",
      "\n",
      "--2023-01-24 16:06:05--  https://m2.mtmt.hu/api/journal/10003390\n",
      "Resolving m2.mtmt.hu (m2.mtmt.hu)... "
     ]
    },
    {
     "name": "stdout",
     "output_type": "stream",
     "text": [
      "Új folyóirat:  MATHEMATICAL BIOSCIENCES AND ENGINEERING 1547-1063 1551-0018\n"
     ]
    },
    {
     "name": "stderr",
     "output_type": "stream",
     "text": [
      "193.224.44.74\n",
      "Connecting to m2.mtmt.hu (m2.mtmt.hu)|193.224.44.74|:443... connected.\n",
      "HTTP request sent, awaiting response... 200 \n",
      "Length: unspecified [application/vnd.mtmt2-1.0+json]\n",
      "Saving to: ‘journals/10003390.json’\n",
      "\n",
      "     0K .....                                                  28,9K=0,2s\n",
      "\n",
      "2023-01-24 16:06:07 (28,9 KB/s) - ‘journals/10003390.json’ saved [6061]\n",
      "\n",
      "--2023-01-24 16:06:07--  https://m2.mtmt.hu/api/journal/10012933\n",
      "Resolving m2.mtmt.hu (m2.mtmt.hu)... "
     ]
    },
    {
     "name": "stdout",
     "output_type": "stream",
     "text": [
      "Új folyóirat:  REACTION KINETICS MECHANISMS AND CATALYSIS 1878-5190 1878-5204\n"
     ]
    },
    {
     "name": "stderr",
     "output_type": "stream",
     "text": [
      "193.224.44.74\n",
      "Connecting to m2.mtmt.hu (m2.mtmt.hu)|193.224.44.74|:443... connected.\n",
      "HTTP request sent, awaiting response... 200 \n",
      "Length: unspecified [application/vnd.mtmt2-1.0+json]\n",
      "Saving to: ‘journals/10012933.json’\n",
      "\n",
      "     0K .....                                                  57,4K=0,1s\n",
      "\n",
      "2023-01-24 16:06:08 (57,4 KB/s) - ‘journals/10012933.json’ saved [5884]\n",
      "\n",
      "--2023-01-24 16:06:08--  https://m2.mtmt.hu/api/journal/2902\n",
      "Resolving m2.mtmt.hu (m2.mtmt.hu)... "
     ]
    },
    {
     "name": "stdout",
     "output_type": "stream",
     "text": [
      "Új folyóirat:  JOURNAL OF THEORETICAL BIOLOGY 0022-5193 1095-8541\n"
     ]
    },
    {
     "name": "stderr",
     "output_type": "stream",
     "text": [
      "193.224.44.74\n",
      "Connecting to m2.mtmt.hu (m2.mtmt.hu)|193.224.44.74|:443... connected.\n",
      "HTTP request sent, awaiting response... 200 \n",
      "Length: unspecified [application/vnd.mtmt2-1.0+json]\n",
      "Saving to: ‘journals/2902.json’\n",
      "\n",
      "     0K .......                                                57,3K=0,1s\n",
      "\n",
      "2023-01-24 16:06:10 (57,3 KB/s) - ‘journals/2902.json’ saved [7759]\n",
      "\n",
      "--2023-01-24 16:06:10--  https://m2.mtmt.hu/api/journal/1645\n",
      "Resolving m2.mtmt.hu (m2.mtmt.hu)... "
     ]
    },
    {
     "name": "stdout",
     "output_type": "stream",
     "text": [
      "Új folyóirat:  FUEL 0016-2361 1873-7153\n"
     ]
    },
    {
     "name": "stderr",
     "output_type": "stream",
     "text": [
      "193.224.44.74\n",
      "Connecting to m2.mtmt.hu (m2.mtmt.hu)|193.224.44.74|:443... connected.\n",
      "HTTP request sent, awaiting response... 200 \n",
      "Length: unspecified [application/vnd.mtmt2-1.0+json]\n",
      "Saving to: ‘journals/1645.json’\n",
      "\n",
      "     0K .....                                                  60,2K=0,09s\n",
      "\n",
      "2023-01-24 16:06:11 (60,2 KB/s) - ‘journals/1645.json’ saved [5654]\n",
      "\n",
      "--2023-01-24 16:06:11--  https://m2.mtmt.hu/api/journal/972\n",
      "Resolving m2.mtmt.hu (m2.mtmt.hu)... "
     ]
    },
    {
     "name": "stdout",
     "output_type": "stream",
     "text": [
      "Új folyóirat:  CHEMICAL ENGINEERING SCIENCE 0009-2509 1873-4405\n"
     ]
    },
    {
     "name": "stderr",
     "output_type": "stream",
     "text": [
      "193.224.44.74\n",
      "Connecting to m2.mtmt.hu (m2.mtmt.hu)|193.224.44.74|:443... connected.\n",
      "HTTP request sent, awaiting response... 200 \n",
      "Length: unspecified [application/vnd.mtmt2-1.0+json]\n",
      "Saving to: ‘journals/972.json’\n",
      "\n",
      "     0K ....                                                   23,2K=0,2s\n",
      "\n",
      "2023-01-24 16:06:13 (23,2 KB/s) - ‘journals/972.json’ saved [4881]\n",
      "\n",
      "111it [08:42,  2.90s/it]--2023-01-24 16:06:13--  https://m2.mtmt.hu/api/journal/10003477\n",
      "Resolving m2.mtmt.hu (m2.mtmt.hu)... 193.224.44.74\n",
      "Connecting to m2.mtmt.hu (m2.mtmt.hu)|193.224.44.74|:443... "
     ]
    },
    {
     "name": "stdout",
     "output_type": "stream",
     "text": [
      "Új folyóirat:  PLOS COMPUTATIONAL BIOLOGY 1553-734X 1553-7358\n"
     ]
    },
    {
     "name": "stderr",
     "output_type": "stream",
     "text": [
      "connected.\n",
      "HTTP request sent, awaiting response... 200 \n",
      "Length: unspecified [application/vnd.mtmt2-1.0+json]\n",
      "Saving to: ‘journals/10003477.json’\n",
      "\n",
      "     0K ......                                                 30,4K=0,2s\n",
      "\n",
      "2023-01-24 16:06:14 (30,4 KB/s) - ‘journals/10003477.json’ saved [6416]\n",
      "\n",
      "112it [08:43,  2.64s/it]--2023-01-24 16:06:14--  https://m2.mtmt.hu/api/journal/10016085\n",
      "Resolving m2.mtmt.hu (m2.mtmt.hu)... "
     ]
    },
    {
     "name": "stdout",
     "output_type": "stream",
     "text": [
      "Új folyóirat:  PROCEDIA ENGINEERING 1877-7058\n"
     ]
    },
    {
     "name": "stderr",
     "output_type": "stream",
     "text": [
      "193.224.44.74\n",
      "Connecting to m2.mtmt.hu (m2.mtmt.hu)|193.224.44.74|:443... connected.\n",
      "HTTP request sent, awaiting response... 200 \n",
      "Length: unspecified [application/vnd.mtmt2-1.0+json]\n",
      "Saving to: ‘journals/10016085.json’\n",
      "\n",
      "     0K ....                                                   3,00M=0,001s\n",
      "\n",
      "2023-01-24 16:06:15 (3,00 MB/s) - ‘journals/10016085.json’ saved [4449]\n",
      "\n",
      "113it [08:44,  2.28s/it]--2023-01-24 16:06:15--  https://m2.mtmt.hu/api/journal/26866\n",
      "Resolving m2.mtmt.hu (m2.mtmt.hu)... 193.224.44.74\n",
      "Connecting to m2.mtmt.hu (m2.mtmt.hu)|193.224.44.74|:443... "
     ]
    },
    {
     "name": "stdout",
     "output_type": "stream",
     "text": [
      "Új folyóirat:  ANNALS OF APPLIED PROBABILITY 1050-5164\n"
     ]
    },
    {
     "name": "stderr",
     "output_type": "stream",
     "text": [
      "connected.\n",
      "HTTP request sent, awaiting response... 200 \n",
      "Length: unspecified [application/vnd.mtmt2-1.0+json]\n",
      "Saving to: ‘journals/26866.json’\n",
      "\n",
      "     0K .....                                                  25,9K=0,2s\n",
      "\n",
      "2023-01-24 16:06:17 (25,9 KB/s) - ‘journals/26866.json’ saved [5490]\n",
      "\n",
      "--2023-01-24 16:06:17--  https://m2.mtmt.hu/api/journal/10058877\n",
      "Resolving m2.mtmt.hu (m2.mtmt.hu)... "
     ]
    },
    {
     "name": "stdout",
     "output_type": "stream",
     "text": [
      "Új folyóirat:  RANDOM MATRICES: THEORY AND APPLICATIONS 2010-3263 2010-3271\n"
     ]
    },
    {
     "name": "stderr",
     "output_type": "stream",
     "text": [
      "193.224.44.74\n",
      "Connecting to m2.mtmt.hu (m2.mtmt.hu)|193.224.44.74|:443... connected.\n",
      "HTTP request sent, awaiting response... 200 \n",
      "Length: unspecified [application/vnd.mtmt2-1.0+json]\n",
      "Saving to: ‘journals/10058877.json’\n",
      "\n",
      "     0K .....                                                   260K=0,02s\n",
      "\n",
      "2023-01-24 16:06:18 (260 KB/s) - ‘journals/10058877.json’ saved [5466]\n",
      "\n",
      "--2023-01-24 16:06:18--  https://m2.mtmt.hu/api/journal/3760\n",
      "Resolving m2.mtmt.hu (m2.mtmt.hu)... 193.224.44.74\n",
      "Connecting to m2.mtmt.hu (m2.mtmt.hu)|193.224.44.74|:443... "
     ]
    },
    {
     "name": "stdout",
     "output_type": "stream",
     "text": [
      "Új folyóirat:  PROBABILITY THEORY AND RELATED FIELDS 0178-8051 1432-2064\n"
     ]
    },
    {
     "name": "stderr",
     "output_type": "stream",
     "text": [
      "connected.\n",
      "HTTP request sent, awaiting response... 200 \n",
      "Length: unspecified [application/vnd.mtmt2-1.0+json]\n",
      "Saving to: ‘journals/3760.json’\n",
      "\n",
      "     0K ......                                                 13,3K=0,5s\n",
      "\n",
      "2023-01-24 16:06:20 (13,3 KB/s) - ‘journals/3760.json’ saved [7002]\n",
      "\n",
      "--2023-01-24 16:06:20--  https://m2.mtmt.hu/api/journal/17262\n",
      "Resolving m2.mtmt.hu (m2.mtmt.hu)... "
     ]
    },
    {
     "name": "stdout",
     "output_type": "stream",
     "text": [
      "Új folyóirat:  EUROPEAN PHYSICAL JOURNAL B 1434-6028 1434-6036\n"
     ]
    },
    {
     "name": "stderr",
     "output_type": "stream",
     "text": [
      "193.224.44.74\n",
      "Connecting to m2.mtmt.hu (m2.mtmt.hu)|193.224.44.74|:443... connected.\n",
      "HTTP request sent, awaiting response... 200 \n",
      "Length: unspecified [application/vnd.mtmt2-1.0+json]\n",
      "Saving to: ‘journals/17262.json’\n",
      "\n",
      "     0K ....                                                    433K=0,01s\n",
      "\n",
      "2023-01-24 16:06:21 (433 KB/s) - ‘journals/17262.json’ saved [4614]\n",
      "\n",
      "115it [08:50,  2.53s/it]--2023-01-24 16:06:21--  https://m2.mtmt.hu/api/journal/10049040\n",
      "Resolving m2.mtmt.hu (m2.mtmt.hu)... "
     ]
    },
    {
     "name": "stdout",
     "output_type": "stream",
     "text": [
      "Új folyóirat:  PHYSICAL REVIEW B 2469-9950 2469-9969 0163-1829 0556-2805 1550-235X 1098-0121\n"
     ]
    },
    {
     "name": "stderr",
     "output_type": "stream",
     "text": [
      "193.224.44.74\n",
      "Connecting to m2.mtmt.hu (m2.mtmt.hu)|193.224.44.74|:443... connected.\n",
      "HTTP request sent, awaiting response... 200 \n",
      "Length: unspecified [application/vnd.mtmt2-1.0+json]\n",
      "Saving to: ‘journals/10049040.json’\n",
      "\n",
      "     0K .......                                                37,1K=0,2s\n",
      "\n",
      "2023-01-24 16:06:23 (37,1 KB/s) - ‘journals/10049040.json’ saved [8180]\n",
      "\n",
      "--2023-01-24 16:06:23--  https://m2.mtmt.hu/api/journal/3502\n",
      "Resolving m2.mtmt.hu (m2.mtmt.hu)... "
     ]
    },
    {
     "name": "stdout",
     "output_type": "stream",
     "text": [
      "Új folyóirat:  ORDER-A JOURNAL ON THE THEORY OF ORDERED SETS AND ITS APPLICATIONS 0167-8094 1572-9273\n"
     ]
    },
    {
     "name": "stderr",
     "output_type": "stream",
     "text": [
      "193.224.44.74\n",
      "Connecting to m2.mtmt.hu (m2.mtmt.hu)|193.224.44.74|:443... connected.\n",
      "HTTP request sent, awaiting response... 200 \n",
      "Length: unspecified [application/vnd.mtmt2-1.0+json]\n",
      "Saving to: ‘journals/3502.json’\n",
      "\n",
      "     0K ....                                                   14,3K=0,3s\n",
      "\n",
      "2023-01-24 16:06:25 (14,3 KB/s) - ‘journals/3502.json’ saved [4501]\n",
      "\n",
      "--2023-01-24 16:06:25--  https://m2.mtmt.hu/api/journal/10039587\n",
      "Resolving m2.mtmt.hu (m2.mtmt.hu)... "
     ]
    },
    {
     "name": "stdout",
     "output_type": "stream",
     "text": [
      "Új folyóirat:  THEORY OF COMPUTING 1557-2862 1557-2862\n"
     ]
    },
    {
     "name": "stderr",
     "output_type": "stream",
     "text": [
      "193.224.44.74\n",
      "Connecting to m2.mtmt.hu (m2.mtmt.hu)|193.224.44.74|:443... connected.\n",
      "HTTP request sent, awaiting response... 200 \n",
      "Length: unspecified [application/vnd.mtmt2-1.0+json]\n",
      "Saving to: ‘journals/10039587.json’\n",
      "\n",
      "     0K .....                                                  45,0K=0,1s\n",
      "\n",
      "2023-01-24 16:06:26 (45,0 KB/s) - ‘journals/10039587.json’ saved [5244]\n",
      "\n",
      "--2023-01-24 16:06:26--  https://m2.mtmt.hu/api/journal/10067528\n",
      "Resolving m2.mtmt.hu (m2.mtmt.hu)... "
     ]
    },
    {
     "name": "stdout",
     "output_type": "stream",
     "text": [
      "Új folyóirat:  SCIPOST PHYSICS 2542-4653 2542-4653\n"
     ]
    },
    {
     "name": "stderr",
     "output_type": "stream",
     "text": [
      "193.224.44.74\n",
      "Connecting to m2.mtmt.hu (m2.mtmt.hu)|193.224.44.74|:443... connected.\n",
      "HTTP request sent, awaiting response... 200 \n",
      "Length: unspecified [application/vnd.mtmt2-1.0+json]\n",
      "Saving to: ‘journals/10067528.json’\n",
      "\n",
      "     0K ....                                                   2,43M=0,002s\n",
      "\n",
      "2023-01-24 16:06:27 (2,43 MB/s) - ‘journals/10067528.json’ saved [4358]\n",
      "\n",
      "--2023-01-24 16:06:27--  https://m2.mtmt.hu/api/journal/11733\n",
      "Resolving m2.mtmt.hu (m2.mtmt.hu)... "
     ]
    },
    {
     "name": "stdout",
     "output_type": "stream",
     "text": [
      "Új folyóirat:  COMPUTATIONAL COMPLEXITY 1016-3328 1420-8954\n"
     ]
    },
    {
     "name": "stderr",
     "output_type": "stream",
     "text": [
      "193.224.44.74\n",
      "Connecting to m2.mtmt.hu (m2.mtmt.hu)|193.224.44.74|:443... connected.\n",
      "HTTP request sent, awaiting response... 200 \n",
      "Length: unspecified [application/vnd.mtmt2-1.0+json]\n",
      "Saving to: ‘journals/11733.json’\n",
      "\n",
      "     0K ....                                                    226K=0,02s\n",
      "\n",
      "2023-01-24 16:06:29 (226 KB/s) - ‘journals/11733.json’ saved [4779]\n",
      "\n",
      "--2023-01-24 16:06:29--  https://m2.mtmt.hu/api/journal/3662\n",
      "Resolving m2.mtmt.hu (m2.mtmt.hu)... 193.224.44.74\n",
      "Connecting to m2.mtmt.hu (m2.mtmt.hu)|193.224.44.74|:443... "
     ]
    },
    {
     "name": "stdout",
     "output_type": "stream",
     "text": [
      "Új folyóirat:  PHYSICAL REVIEW A 2469-9926 2469-9934\n"
     ]
    },
    {
     "name": "stderr",
     "output_type": "stream",
     "text": [
      "connected.\n",
      "HTTP request sent, awaiting response... 200 \n",
      "Length: unspecified [application/vnd.mtmt2-1.0+json]\n",
      "Saving to: ‘journals/3662.json’\n",
      "\n",
      "     0K ......                                                 22,3K=0,3s\n",
      "\n",
      "2023-01-24 16:06:31 (22,3 KB/s) - ‘journals/3662.json’ saved [6995]\n",
      "\n",
      "--2023-01-24 16:06:31--  https://m2.mtmt.hu/api/journal/10001362\n",
      "Resolving m2.mtmt.hu (m2.mtmt.hu)... 193.224.44.74\n",
      "Connecting to m2.mtmt.hu (m2.mtmt.hu)|193.224.44.74|:443... "
     ]
    },
    {
     "name": "stdout",
     "output_type": "stream",
     "text": [
      "Új folyóirat:  QUANTUM INFORMATION & COMPUTATION 1533-7146 1533-7146\n"
     ]
    },
    {
     "name": "stderr",
     "output_type": "stream",
     "text": [
      "connected.\n",
      "HTTP request sent, awaiting response... 200 \n",
      "Length: unspecified [application/vnd.mtmt2-1.0+json]\n",
      "Saving to: ‘journals/10001362.json’\n",
      "\n",
      "     0K ......                                                 13,6K=0,5s\n",
      "\n",
      "2023-01-24 16:06:32 (13,6 KB/s) - ‘journals/10001362.json’ saved [6438]\n",
      "\n",
      "--2023-01-24 16:06:32--  https://m2.mtmt.hu/api/journal/10000911\n",
      "Resolving m2.mtmt.hu (m2.mtmt.hu)... "
     ]
    },
    {
     "name": "stdout",
     "output_type": "stream",
     "text": [
      "Új folyóirat:  NEW JOURNAL OF PHYSICS 1367-2630 1367-2630\n"
     ]
    },
    {
     "name": "stderr",
     "output_type": "stream",
     "text": [
      "193.224.44.74\n",
      "Connecting to m2.mtmt.hu (m2.mtmt.hu)|193.224.44.74|:443... connected.\n",
      "HTTP request sent, awaiting response... 200 \n",
      "Length: unspecified [application/vnd.mtmt2-1.0+json]\n",
      "Saving to: ‘journals/10000911.json’\n",
      "\n",
      "     0K ...                                                     971K=0,004s\n",
      "\n",
      "2023-01-24 16:06:33 (971 KB/s) - ‘journals/10000911.json’ saved [4000]\n",
      "\n",
      "117it [09:02,  3.69s/it]--2023-01-24 16:06:33--  https://m2.mtmt.hu/api/journal/37677\n",
      "Resolving m2.mtmt.hu (m2.mtmt.hu)... 193.224.44.74\n",
      "Connecting to m2.mtmt.hu (m2.mtmt.hu)|193.224.44.74|:443... "
     ]
    },
    {
     "name": "stdout",
     "output_type": "stream",
     "text": [
      "Új folyóirat:  TRANSFORMATION GROUPS 1083-4362 1531-586X\n"
     ]
    },
    {
     "name": "stderr",
     "output_type": "stream",
     "text": [
      "connected.\n",
      "HTTP request sent, awaiting response... 200 \n",
      "Length: unspecified [application/vnd.mtmt2-1.0+json]\n",
      "Saving to: ‘journals/37677.json’\n",
      "\n",
      "     0K ...                                                    23,7K=0,2s\n",
      "\n",
      "2023-01-24 16:06:35 (23,7 KB/s) - ‘journals/37677.json’ saved [3973]\n",
      "\n",
      "--2023-01-24 16:06:35--  https://m2.mtmt.hu/api/journal/10082808\n",
      "Resolving m2.mtmt.hu (m2.mtmt.hu)... "
     ]
    },
    {
     "name": "stdout",
     "output_type": "stream",
     "text": [
      "Új folyóirat:  QUANTUM 2521-327X 2521-327X\n"
     ]
    },
    {
     "name": "stderr",
     "output_type": "stream",
     "text": [
      "193.224.44.74\n",
      "Connecting to m2.mtmt.hu (m2.mtmt.hu)|193.224.44.74|:443... connected.\n",
      "HTTP request sent, awaiting response... 200 \n",
      "Length: unspecified [application/vnd.mtmt2-1.0+json]\n",
      "Saving to: ‘journals/10082808.json’\n",
      "\n",
      "     0K ....                                                   3,77M=0,001s\n",
      "\n",
      "2023-01-24 16:06:36 (3,77 MB/s) - ‘journals/10082808.json’ saved [4166]\n",
      "\n",
      "--2023-01-24 16:06:36--  https://m2.mtmt.hu/api/journal/3180\n",
      "Resolving m2.mtmt.hu (m2.mtmt.hu)... 193.224.44.74\n",
      "Connecting to m2.mtmt.hu (m2.mtmt.hu)|193.224.44.74|:443... "
     ]
    },
    {
     "name": "stdout",
     "output_type": "stream",
     "text": [
      "Új folyóirat:  MEMOIRS OF THE AMERICAN MATHEMATICAL SOCIETY 0065-9266 1947-6221\n"
     ]
    },
    {
     "name": "stderr",
     "output_type": "stream",
     "text": [
      "connected.\n",
      "HTTP request sent, awaiting response... 200 \n",
      "Length: unspecified [application/vnd.mtmt2-1.0+json]\n",
      "Saving to: ‘journals/3180.json’\n",
      "\n",
      "     0K ...                                                    39,6K=0,1s\n",
      "\n",
      "2023-01-24 16:06:38 (39,6 KB/s) - ‘journals/3180.json’ saved [4082]\n",
      "\n",
      "--2023-01-24 16:06:38--  https://m2.mtmt.hu/api/journal/3242\n",
      "Resolving m2.mtmt.hu (m2.mtmt.hu)... "
     ]
    },
    {
     "name": "stdout",
     "output_type": "stream",
     "text": [
      "Új folyóirat:  MODERN PHYSICS LETTERS A 0217-7323 1793-6632\n"
     ]
    },
    {
     "name": "stderr",
     "output_type": "stream",
     "text": [
      "193.224.44.74\n",
      "Connecting to m2.mtmt.hu (m2.mtmt.hu)|193.224.44.74|:443... connected.\n",
      "HTTP request sent, awaiting response... 200 \n",
      "Length: unspecified [application/vnd.mtmt2-1.0+json]\n",
      "Saving to: ‘journals/3242.json’\n",
      "\n",
      "     0K ....                                                   16,7K=0,3s\n",
      "\n",
      "2023-01-24 16:06:39 (16,7 KB/s) - ‘journals/3242.json’ saved [4493]\n",
      "\n",
      "--2023-01-24 16:06:40--  https://m2.mtmt.hu/api/journal/1427\n",
      "Resolving m2.mtmt.hu (m2.mtmt.hu)... "
     ]
    },
    {
     "name": "stdout",
     "output_type": "stream",
     "text": [
      "Új folyóirat:  ENGINEERING STRUCTURES 0141-0296 1873-7323\n"
     ]
    },
    {
     "name": "stderr",
     "output_type": "stream",
     "text": [
      "193.224.44.74\n",
      "Connecting to m2.mtmt.hu (m2.mtmt.hu)|193.224.44.74|:443... connected.\n",
      "HTTP request sent, awaiting response... 200 \n",
      "Length: unspecified [application/vnd.mtmt2-1.0+json]\n",
      "Saving to: ‘journals/1427.json’\n",
      "\n",
      "     0K ...                                                    36,6K=0,1s\n",
      "\n",
      "2023-01-24 16:06:41 (36,6 KB/s) - ‘journals/1427.json’ saved [3749]\n",
      "\n",
      "119it [09:09,  4.62s/it]\n"
     ]
    }
   ],
   "source": [
    "for x, a in tqdm(staff_flt.iterrows()):\n",
    "    if not np.isnan(a[\"MTMT\"]):\n",
    "        mtid = int(a[\"MTMT\"])\n",
    "        if os.path.exists(f'personal/{mtid}.json'):\n",
    "            with open(f'personal/{mtid}.json') as f:\n",
    "                try:\n",
    "                    js = json.load(f)\n",
    "                    for pub in js:      \n",
    "                        if \"journal\" in pub and pub[\"publishedYear\"] >= 2012 and check_wos(pub):\n",
    "                            jour = pub[\"journal\"][\"link\"].split(\"/\")[-1]\n",
    "                            if not os.path.exists(f'journals/{jour}.json'):\n",
    "                                print(\"Új folyóirat: \", pub[\"journal\"][\"label\"])\n",
    "                                os.system(f'wget -O journals/{jour}.json \"https://m2.mtmt.hu/api/journal/{jour}\"')\n",
    "                except:\n",
    "                    pass\n",
    "        else:\n",
    "            print(\"Hiányzó szerző!\", mtid)"
   ]
  },
  {
   "cell_type": "code",
   "execution_count": 10,
   "id": "2217f5df-a31c-48dd-a6a9-764df506fcf0",
   "metadata": {},
   "outputs": [
    {
     "name": "stderr",
     "output_type": "stream",
     "text": [
      "119it [00:06, 18.46it/s]\n"
     ]
    }
   ],
   "source": [
    "journal_categories = {}\n",
    "for x, a in tqdm(staff_flt.iterrows()):\n",
    "    if not np.isnan(a[\"MTMT\"]):\n",
    "        mtid = int(a[\"MTMT\"])\n",
    "        if os.path.exists(f'personal/{mtid}.json'):\n",
    "            with open(f'personal/{mtid}.json') as f:\n",
    "                try:\n",
    "                    js = json.load(f)\n",
    "                    for pub in js:      \n",
    "                        if \"journal\" in pub and pub[\"publishedYear\"] >= 2012 and check_wos(pub):\n",
    "                            jour = pub[\"journal\"][\"link\"].split(\"/\")[-1]\n",
    "                            journal_categories[jour] = get_esi_category(jour).upper()\n",
    "                except:\n",
    "                    pass"
   ]
  },
  {
   "cell_type": "code",
   "execution_count": 13,
   "id": "5d250f25-8085-4497-92b0-c3d4cedb8407",
   "metadata": {},
   "outputs": [
    {
     "name": "stderr",
     "output_type": "stream",
     "text": [
      "11it [00:00, 53.24it/s]"
     ]
    },
    {
     "name": "stdout",
     "output_type": "stream",
     "text": [
      "LETTERS IN MATHEMATICAL PHYSICS 0377-9017 1573-0530 3035 ('PHYSICS', 2023)\n"
     ]
    },
    {
     "name": "stderr",
     "output_type": "stream",
     "text": [
      "26it [00:02, 11.40it/s]"
     ]
    },
    {
     "name": "stdout",
     "output_type": "stream",
     "text": [
      "APPLIED MATHEMATICS AND COMPUTATION 0096-3003 1873-5649 454 ('MATHEMATICS', 2023)\n"
     ]
    },
    {
     "name": "stderr",
     "output_type": "stream",
     "text": [
      "47it [00:02, 26.08it/s]"
     ]
    },
    {
     "name": "stdout",
     "output_type": "stream",
     "text": [
      "PHYSICA A - STATISTICAL MECHANICS AND ITS APPLICATIONS 0378-4371 1873-2119 3674 ('PHYSICS', 2023)\n",
      "EUROPEAN JOURNAL OF COMBINATORICS 0195-6698 1095-9971 1417130 ('MATHEMATICS', 2023)\n"
     ]
    },
    {
     "name": "stderr",
     "output_type": "stream",
     "text": [
      "72it [00:04, 18.57it/s]"
     ]
    },
    {
     "name": "stdout",
     "output_type": "stream",
     "text": [
      "LETTERS IN MATHEMATICAL PHYSICS 0377-9017 1573-0530 3035 ('PHYSICS', 2023)\n"
     ]
    },
    {
     "name": "stderr",
     "output_type": "stream",
     "text": [
      "79it [00:04, 26.69it/s]"
     ]
    },
    {
     "name": "stdout",
     "output_type": "stream",
     "text": [
      "JOURNAL OF MATHEMATICAL ANALYSIS AND APPLICATIONS 0022-247X 1096-0813 2634 ('MATHEMATICS', 2023)\n"
     ]
    },
    {
     "name": "stderr",
     "output_type": "stream",
     "text": [
      "92it [00:05, 27.80it/s]"
     ]
    },
    {
     "name": "stdout",
     "output_type": "stream",
     "text": [
      "EUROPEAN JOURNAL OF COMBINATORICS 0195-6698 1095-9971 1417130 ('MATHEMATICS', 2023)\n"
     ]
    },
    {
     "name": "stderr",
     "output_type": "stream",
     "text": [
      "119it [00:06, 19.75it/s]\n"
     ]
    },
    {
     "name": "stdout",
     "output_type": "stream",
     "text": [
      "JOURNAL OF THE AMERICAN MATHEMATICAL SOCIETY 0894-0347 1088-6834 13001 ('MATHEMATICS', 2023)\n"
     ]
    }
   ],
   "source": [
    "max_year = 2023\n",
    "pub_sum = {\"tsz\": [], \"év\": [], \"szerző\": [], \"cím\": [], \"mtmt\": [], \"idézettség\": [], \"0.01%\": [], \"0.10%\": [], \"1.00%\": [], \"10.00%\": [], \"20.00%\": [], \"50.00%\": []}\n",
    "for x, a in tqdm(staff_flt.iterrows()):\n",
    "    if not np.isnan(a[\"MTMT\"]):\n",
    "        mtid = int(a[\"MTMT\"])\n",
    "        if os.path.exists(f'personal/{mtid}.json'):\n",
    "            with open(f'personal/{mtid}.json') as f:\n",
    "                try:\n",
    "                    js = json.load(f)\n",
    "                    for pub in js:     \n",
    "                        if \"journal\" in pub and \"publishedYear\" in pub and pub[\"publishedYear\"] >= 2012 and pub[\"publishedYear\"] <= max_year and check_wos(pub):\n",
    "                            jour = pub[\"journal\"][\"link\"].split(\"/\")[-1]\n",
    "                            if jour in journal_categories.keys() and \"citationCount\" in pub:\n",
    "                                try:\n",
    "                                    base = percentiles.loc[(journal_categories[jour], pub[\"publishedYear\"]), :]\n",
    "                                except KeyError:\n",
    "                                    print(pub[\"journal\"][\"label\"], jour, (journal_categories[jour], pub[\"publishedYear\"]))\n",
    "                                pub_sum[\"tsz\"].append(a[\"Tanszék\"])\n",
    "                                pub_sum[\"év\"].append(pub[\"publishedYear\"])\n",
    "                                pub_sum[\"szerző\"].append(a[\"Név\"])\n",
    "                                pub_sum[\"cím\"].append(pub[\"title\"])\n",
    "                                pub_sum[\"idézettség\"].append(pub[\"citationCount\"])\n",
    "                                pub_sum[\"mtmt\"].append(pub[\"mtid\"])\n",
    "                                r = (pub[\"citationCount\"] >= base).astype(np.int32)\n",
    "                                pub_sum[\"0.01%\"].append(r[\"0.01%\"])\n",
    "                                pub_sum[\"0.10%\"].append(r[\"0.10%\"])\n",
    "                                pub_sum[\"1.00%\"].append(r[\"1.00%\"])\n",
    "                                pub_sum[\"10.00%\"].append(r[\"10.00%\"])\n",
    "                                pub_sum[\"20.00%\"].append(r[\"20.00%\"])\n",
    "                                pub_sum[\"50.00%\"].append(r[\"50.00%\"])\n",
    "                except:\n",
    "                    print(sys.exc_info()[0])\n",
    "                    pass\n",
    "pubs = pd.DataFrame(pub_sum).drop_duplicates(\"mtmt\")"
   ]
  },
  {
   "cell_type": "code",
   "execution_count": 14,
   "id": "ba4ce27c-10a5-4006-a821-0cfb07887ea2",
   "metadata": {},
   "outputs": [
    {
     "data": {
      "text/html": [
       "<div>\n",
       "<style scoped>\n",
       "    .dataframe tbody tr th:only-of-type {\n",
       "        vertical-align: middle;\n",
       "    }\n",
       "\n",
       "    .dataframe tbody tr th {\n",
       "        vertical-align: top;\n",
       "    }\n",
       "\n",
       "    .dataframe thead th {\n",
       "        text-align: right;\n",
       "    }\n",
       "</style>\n",
       "<table border=\"1\" class=\"dataframe\">\n",
       "  <thead>\n",
       "    <tr style=\"text-align: right;\">\n",
       "      <th></th>\n",
       "      <th>tsz</th>\n",
       "      <th>év</th>\n",
       "      <th>szerző</th>\n",
       "      <th>cím</th>\n",
       "      <th>mtmt</th>\n",
       "      <th>idézettség</th>\n",
       "      <th>0.01%</th>\n",
       "      <th>0.10%</th>\n",
       "      <th>1.00%</th>\n",
       "      <th>10.00%</th>\n",
       "      <th>20.00%</th>\n",
       "      <th>50.00%</th>\n",
       "    </tr>\n",
       "  </thead>\n",
       "  <tbody>\n",
       "    <tr>\n",
       "      <th>31</th>\n",
       "      <td>Sztochasztika</td>\n",
       "      <td>2019</td>\n",
       "      <td>Bárány Balázs</td>\n",
       "      <td>Hausdorff dimension of planar self-affine sets...</td>\n",
       "      <td>30603311</td>\n",
       "      <td>45</td>\n",
       "      <td>0</td>\n",
       "      <td>0</td>\n",
       "      <td>1</td>\n",
       "      <td>1</td>\n",
       "      <td>1</td>\n",
       "      <td>1</td>\n",
       "    </tr>\n",
       "    <tr>\n",
       "      <th>172</th>\n",
       "      <td>Algebra</td>\n",
       "      <td>2016</td>\n",
       "      <td>Hegedűs Pál</td>\n",
       "      <td>On the Discrete Logarithmic Minkowski Problem</td>\n",
       "      <td>3121562</td>\n",
       "      <td>69</td>\n",
       "      <td>0</td>\n",
       "      <td>0</td>\n",
       "      <td>1</td>\n",
       "      <td>1</td>\n",
       "      <td>1</td>\n",
       "      <td>1</td>\n",
       "    </tr>\n",
       "    <tr>\n",
       "      <th>211</th>\n",
       "      <td>Analízis</td>\n",
       "      <td>2022</td>\n",
       "      <td>Karátson János</td>\n",
       "      <td>Quasi-Newton variable preconditioning for nonl...</td>\n",
       "      <td>32034148</td>\n",
       "      <td>7</td>\n",
       "      <td>0</td>\n",
       "      <td>0</td>\n",
       "      <td>1</td>\n",
       "      <td>1</td>\n",
       "      <td>1</td>\n",
       "      <td>1</td>\n",
       "    </tr>\n",
       "    <tr>\n",
       "      <th>306</th>\n",
       "      <td>Differenciálegyenletek</td>\n",
       "      <td>2018</td>\n",
       "      <td>Kovács Mihály</td>\n",
       "      <td>Boundary conditions for fractional diffusion</td>\n",
       "      <td>3348787</td>\n",
       "      <td>45</td>\n",
       "      <td>0</td>\n",
       "      <td>0</td>\n",
       "      <td>1</td>\n",
       "      <td>1</td>\n",
       "      <td>1</td>\n",
       "      <td>1</td>\n",
       "    </tr>\n",
       "    <tr>\n",
       "      <th>431</th>\n",
       "      <td>Sztochasztika</td>\n",
       "      <td>2022</td>\n",
       "      <td>Molontay Roland</td>\n",
       "      <td>EASY-APP: An artificial intelligence model and...</td>\n",
       "      <td>32865751</td>\n",
       "      <td>9</td>\n",
       "      <td>0</td>\n",
       "      <td>0</td>\n",
       "      <td>1</td>\n",
       "      <td>1</td>\n",
       "      <td>1</td>\n",
       "      <td>1</td>\n",
       "    </tr>\n",
       "    <tr>\n",
       "      <th>679</th>\n",
       "      <td>Sztochasztika</td>\n",
       "      <td>2015</td>\n",
       "      <td>Vető Bálint</td>\n",
       "      <td>Height Fluctuations for the Stationary KPZ Equ...</td>\n",
       "      <td>2995258</td>\n",
       "      <td>101</td>\n",
       "      <td>0</td>\n",
       "      <td>0</td>\n",
       "      <td>1</td>\n",
       "      <td>1</td>\n",
       "      <td>1</td>\n",
       "      <td>1</td>\n",
       "    </tr>\n",
       "    <tr>\n",
       "      <th>724</th>\n",
       "      <td>Analízis</td>\n",
       "      <td>2018</td>\n",
       "      <td>Weiner Mihály</td>\n",
       "      <td>From vertex operator algebras to conformal net...</td>\n",
       "      <td>3327040</td>\n",
       "      <td>61</td>\n",
       "      <td>0</td>\n",
       "      <td>0</td>\n",
       "      <td>1</td>\n",
       "      <td>1</td>\n",
       "      <td>1</td>\n",
       "      <td>1</td>\n",
       "    </tr>\n",
       "  </tbody>\n",
       "</table>\n",
       "</div>"
      ],
      "text/plain": [
       "                        tsz    év           szerző  \\\n",
       "31            Sztochasztika  2019    Bárány Balázs   \n",
       "172                 Algebra  2016      Hegedűs Pál   \n",
       "211                Analízis  2022   Karátson János   \n",
       "306  Differenciálegyenletek  2018    Kovács Mihály   \n",
       "431           Sztochasztika  2022  Molontay Roland   \n",
       "679           Sztochasztika  2015      Vető Bálint   \n",
       "724                Analízis  2018    Weiner Mihály   \n",
       "\n",
       "                                                   cím      mtmt  idézettség  \\\n",
       "31   Hausdorff dimension of planar self-affine sets...  30603311          45   \n",
       "172      On the Discrete Logarithmic Minkowski Problem   3121562          69   \n",
       "211  Quasi-Newton variable preconditioning for nonl...  32034148           7   \n",
       "306       Boundary conditions for fractional diffusion   3348787          45   \n",
       "431  EASY-APP: An artificial intelligence model and...  32865751           9   \n",
       "679  Height Fluctuations for the Stationary KPZ Equ...   2995258         101   \n",
       "724  From vertex operator algebras to conformal net...   3327040          61   \n",
       "\n",
       "     0.01%  0.10%  1.00%  10.00%  20.00%  50.00%  \n",
       "31       0      0      1       1       1       1  \n",
       "172      0      0      1       1       1       1  \n",
       "211      0      0      1       1       1       1  \n",
       "306      0      0      1       1       1       1  \n",
       "431      0      0      1       1       1       1  \n",
       "679      0      0      1       1       1       1  \n",
       "724      0      0      1       1       1       1  "
      ]
     },
     "execution_count": 14,
     "metadata": {},
     "output_type": "execute_result"
    }
   ],
   "source": [
    "pubs[pubs[\"1.00%\"]>0]"
   ]
  },
  {
   "cell_type": "code",
   "execution_count": 16,
   "id": "745746bc-be94-4d1b-9dd1-e7bf77427fa7",
   "metadata": {},
   "outputs": [],
   "source": [
    "pubs.to_csv(\"percentille.csv\", index=False, float_format='%.4g')"
   ]
  },
  {
   "cell_type": "code",
   "execution_count": 17,
   "id": "abf484e6-a716-43bf-96a3-e10d7fe701eb",
   "metadata": {},
   "outputs": [],
   "source": [
    "def score_person(mtid):\n",
    "    if not os.path.exists(f'staff/{mtid}.json'):\n",
    "        raise Exception(\"Nincs letöltve a publikációs lista!\")\n",
    "    pubs = json.load(open(f'staff/{mtid}.json'))\n",
    "    score = score_publist([mtid], pubs)\n",
    "    score[\"mtid\"] = int(mtid)\n",
    "    return score\n",
    "    \n",
    "def score_publist(mtid_list, pubs):\n",
    "    score = {\"pub_count\": 0, \"q_paper\": 0, \"q_n_paper\": 0, \"q_book\": 0, \"if\": 0, \"relif\": 0, \"ifcnt\": 0, \"if_norm\": 0, \"relif_norm\": 0, \"h\": 0, \"i\": 0, \"first_pub\": 2100, \"last_pub\": 0}\n",
    "    cit_list = []\n",
    "    useShare = False\n",
    "    ix = 0\n",
    "    for pub in pubs:\n",
    "        ix += 1\n",
    "        if \"error\" in pub and pub[\"error\"]!=\"VALIDATION_ERROR\":\n",
    "            continue\n",
    "        if \"category\" not in pub or pub[\"category\"][\"label\"]!=\"Tudományos\":\n",
    "            continue\n",
    "        # compute share of the authos\n",
    "        authors = 0\n",
    "        share = len(mtid_list)/len(pub[\"authorships\"]) if len(pub[\"authorships\"])>0 else 0\n",
    "        for a in pub[\"authorships\"]:\n",
    "            if \"author\" in a and a[\"author\"][\"mtid\"] in mtid_list and a[\"authorTyped\"]:\n",
    "                authors += 1\n",
    "        if authors < len(mtid_list):\n",
    "            continue\n",
    "        # compute number of pages\n",
    "        plength = 0\n",
    "        try:\n",
    "            if \"pageLength\" in pub:\n",
    "                plength = int(pub[\"pageLength\"])\n",
    "            elif \"firstPage\" in pub and \"lastPage\" in pub:\n",
    "                plength = int(pub[\"lastPage\"]) - int(pub[\"firstPage\"]) + 1            \n",
    "        except:\n",
    "            pass\n",
    "        # compute impact factor\n",
    "        ifct, nrm = getif(pub)        \n",
    "        # compute Q score\n",
    "        if pub[\"otype\"] == \"JournalArticle\" and \"journal\" in pub:\n",
    "            if \"fullPublication\" in pub and pub[\"fullPublication\"] and \"reviewType\" in pub[\"journal\"] and pub[\"journal\"][\"reviewType\"]==\"REVIEWED\" and \"subType\" in pub and \\\n",
    "                pub[\"subType\"][\"name\"] in [\"Szakcikk\", \"Összefoglaló cikk\", \"Konferenciaközlemény\", \"Rövid közlemény\", \"Sokszerzős vagy csoportos szerzőségű szakcikk\"]:                \n",
    "                if ifct > 0:\n",
    "                    totalscr = max(0.6,ifct)\n",
    "                elif \"foreignEdition\" in pub and pub[\"foreignEdition\"]:\n",
    "                    totalscr = 0.4\n",
    "                else:\n",
    "                    totalscr = 0.3\n",
    "                score[\"q_paper\"] += totalscr * share\n",
    "                score[\"q_n_paper\"] += totalscr * share / nrm if nrm > 0 else totalscr * share\n",
    "                if ifct > 0:\n",
    "                    score[\"if\"] += ifct\n",
    "                    score[\"relif\"] += totalscr * share\n",
    "                    score[\"ifcnt\"] += 1\n",
    "                    score[\"if_norm\"] += ifct / nrm if nrm > 0 else ifct\n",
    "                    score[\"relif_norm\"] += totalscr * share / nrm if nrm > 0 else totalscr * share\n",
    "        elif \"fullPublication\" in pub and pub[\"fullPublication\"] and \\\n",
    "            ((pub[\"type\"][\"label\"]==\"Könyvrészlet\" and \"subType\" in pub and pub[\"subType\"][\"label\"]==\"Konferenciaközlemény (Könyvrészlet)\") or pub[\"type\"][\"label\"]==\"Egyéb konferenciaközlemény\"):                \n",
    "            if plength >= 4:\n",
    "                totalscr = 0.2 if \"foreignLanguage\" in pub and pub[\"foreignLanguage\"] else 0.1\n",
    "                score[\"q_paper\"] += totalscr * share\n",
    "                score[\"q_n_paper\"] += totalscr * share\n",
    "        elif pub[\"type\"][\"label\"] == \"Könyv\" or \\\n",
    "            (pub[\"type\"][\"label\"] == \"Könyvrészlet\" and \"subType\" in pub and pub[\"subType\"][\"label\"] in [\"Könyvfejezet (Könyvrészlet)\", \"Szaktanulmány (Könyvrészlet)\"]):\n",
    "            if plength >= 10:\n",
    "                if plength >= 100:\n",
    "                    totalscr = 2 if \"foreignLanguage\" in pub and pub[\"foreignLanguage\"] else 1\n",
    "                else:\n",
    "                    totalscr = (0.2 if \"foreignLanguage\" in pub and pub[\"foreignLanguage\"] else 0.1) * math.floor(plength/10)\n",
    "                score[\"q_book\"] += totalscr * share\n",
    "        # Process citations\n",
    "        if \"independentCitationCount\" in pub:\n",
    "            score[\"i\"] += pub[\"independentCitationCount\"]\n",
    "            cit_list.append(pub[\"independentCitationCount\"])\n",
    "        if \"publishedYear\" in pub:\n",
    "            score[\"last_pub\"] = max(score[\"last_pub\"], pub[\"publishedYear\"])\n",
    "            score[\"first_pub\"] = min(score[\"first_pub\"], pub[\"publishedYear\"])\n",
    "        score[\"pub_count\"] += 1\n",
    "    score[\"q\"] = score[\"q_paper\"] + np.minimum(score[\"q_book\"], 3.0)\n",
    "    score[\"qn\"] = score[\"q_n_paper\"] + np.minimum(score[\"q_book\"], 3.0)\n",
    "    # h-index\n",
    "    cit_list.sort(reverse=True)\n",
    "    while score[\"h\"] < len(cit_list) and score[\"h\"] < cit_list[score[\"h\"]]:\n",
    "        score[\"h\"] += 1\n",
    "        \n",
    "    return score"
   ]
  },
  {
   "cell_type": "code",
   "execution_count": 19,
   "id": "f41a62a3-8958-4442-b029-da5a0cbfae8a",
   "metadata": {},
   "outputs": [],
   "source": [
    "ifdf = pd.read_csv('./pubgraph/ifdf_v8_2021.csv')\n",
    "ifdf.loc[ifdf[\"if\"].isnull(), \"if\"] = 0.0\n",
    "maxIFYear = ifdf.year.max()\n",
    "ifdf_e = ifdf.copy().set_index([\"year\", \"eissn\"]).sort_index()\n",
    "ifdf_p = ifdf.copy().set_index([\"year\", \"pissn\"]).sort_index()\n",
    "\n",
    "def getif(pub):\n",
    "    if \"journal\" not in pub:\n",
    "        return 0.0, 1.0\n",
    "    year = min(pub[\"publishedYear\"], maxIFYear)\n",
    "    if \"pIssn\" in pub[\"journal\"]:\n",
    "        issn = pub[\"journal\"][\"pIssn\"]\n",
    "        if (year,issn) in ifdf_p.index:\n",
    "            ifval = ifdf_p.loc[(year,issn),\"if\"]\n",
    "            catif = ifdf_p.loc[(year,issn),\"categoryMedianIf\"]\n",
    "            if len(ifval) == 1 and float(ifval) > 0.0:\n",
    "                if len(catif) == 1 and float(catif) > 0.0:\n",
    "                    return float(ifval), float(catif)\n",
    "                else:\n",
    "                    return float(ifval), float(ifval) # ha if-es az újság, de még nem elég régóta. nincs sok ilyen.\n",
    "    if \"eIssn\" in pub[\"journal\"]:\n",
    "        issn = pub[\"journal\"][\"eIssn\"]\n",
    "        if (year,issn) in ifdf_e.index:\n",
    "            ifval = ifdf_e.loc[(year,issn),\"if\"]\n",
    "            catif = ifdf_e.loc[(year,issn),\"categoryMedianIf\"]\n",
    "            if len(ifval) == 1 and float(ifval) > 0.0:\n",
    "                if len(catif) == 1 and float(catif) > 0.0:\n",
    "                    return float(ifval), float(catif)\n",
    "                else:\n",
    "                    return float(ifval), float(ifval) # ha if-es az újság, de még nem elég régóta. nincs sok ilyen.\n",
    "    return 0.0, 1.0\n",
    "\n",
    "# a függvény visszaadja a folyóirat rangját (D1, Q1, Q2, ...)\n",
    "def getrating(pub):\n",
    "    if \"ratings\" not in pub:\n",
    "        return \"\"\n",
    "    for r in pub[\"ratings\"]:\n",
    "        if r[\"otype\"] == \"SjrRating\" and \"ranking\" in r:\n",
    "            return r[\"ranking\"]\n",
    "    return \"\"\n"
   ]
  },
  {
   "cell_type": "code",
   "execution_count": 20,
   "id": "4298ee78-d317-4176-b5b2-1730bcab76b2",
   "metadata": {},
   "outputs": [],
   "source": [
    "dta = {\"MTMT\": [], \"pubCount\": [], \"qScore\": [], \"qnScore\": [], \"ifCount\": [], \"ifScore\": [], \"relifScore\": [], \"ifNormScore\": [], \"relifNormScore\": [], \"citations\": [], \"hIndex\": [], \"firstPub\": [], \"lastPub\": []}\n",
    "for idx, prs in staff_flt.iterrows():\n",
    "    scr = score_person(prs[\"MTMT\"])\n",
    "    dta[\"MTMT\"].append(scr[\"mtid\"])\n",
    "    dta[\"pubCount\"].append(scr[\"pub_count\"])\n",
    "    dta[\"qScore\"].append(scr[\"q\"])\n",
    "    dta[\"qnScore\"].append(scr[\"qn\"])\n",
    "    dta[\"ifCount\"].append(scr[\"ifcnt\"])\n",
    "    dta[\"ifScore\"].append(scr[\"if\"])\n",
    "    dta[\"relifScore\"].append(scr[\"relif\"])\n",
    "    dta[\"ifNormScore\"].append(scr[\"if_norm\"])\n",
    "    dta[\"relifNormScore\"].append(scr[\"relif_norm\"])\n",
    "    dta[\"citations\"].append(scr[\"i\"])\n",
    "    dta[\"hIndex\"].append(scr[\"h\"])\n",
    "    dta[\"firstPub\"].append(scr[\"first_pub\"])\n",
    "    dta[\"lastPub\"].append(scr[\"last_pub\"])\n",
    "node_person = pd.DataFrame(dta)\n",
    "node_person[node_person[\"pubCount\"]>0].to_csv(\"node_person.csv\", index=False, float_format='%.4g')"
   ]
  },
  {
   "cell_type": "code",
   "execution_count": 21,
   "id": "5e26b4e6-383f-496c-876b-c744fb8f8fb8",
   "metadata": {},
   "outputs": [
    {
     "data": {
      "text/html": [
       "<div>\n",
       "<style scoped>\n",
       "    .dataframe tbody tr th:only-of-type {\n",
       "        vertical-align: middle;\n",
       "    }\n",
       "\n",
       "    .dataframe tbody tr th {\n",
       "        vertical-align: top;\n",
       "    }\n",
       "\n",
       "    .dataframe thead th {\n",
       "        text-align: right;\n",
       "    }\n",
       "</style>\n",
       "<table border=\"1\" class=\"dataframe\">\n",
       "  <thead>\n",
       "    <tr style=\"text-align: right;\">\n",
       "      <th></th>\n",
       "      <th>MTMT</th>\n",
       "      <th>pubCount</th>\n",
       "      <th>qScore</th>\n",
       "      <th>qnScore</th>\n",
       "      <th>ifCount</th>\n",
       "      <th>ifScore</th>\n",
       "      <th>relifScore</th>\n",
       "      <th>ifNormScore</th>\n",
       "      <th>relifNormScore</th>\n",
       "      <th>citations</th>\n",
       "      <th>hIndex</th>\n",
       "      <th>firstPub</th>\n",
       "      <th>lastPub</th>\n",
       "    </tr>\n",
       "  </thead>\n",
       "  <tbody>\n",
       "    <tr>\n",
       "      <th>0</th>\n",
       "      <td>10012522</td>\n",
       "      <td>23</td>\n",
       "      <td>9.162250</td>\n",
       "      <td>6.800885</td>\n",
       "      <td>10</td>\n",
       "      <td>10.856</td>\n",
       "      <td>8.162250</td>\n",
       "      <td>7.796477</td>\n",
       "      <td>5.800885</td>\n",
       "      <td>98</td>\n",
       "      <td>7</td>\n",
       "      <td>1998</td>\n",
       "      <td>2020</td>\n",
       "    </tr>\n",
       "    <tr>\n",
       "      <th>1</th>\n",
       "      <td>10041405</td>\n",
       "      <td>36</td>\n",
       "      <td>7.200000</td>\n",
       "      <td>16.093861</td>\n",
       "      <td>6</td>\n",
       "      <td>0.918</td>\n",
       "      <td>2.400000</td>\n",
       "      <td>4.281639</td>\n",
       "      <td>11.293861</td>\n",
       "      <td>42</td>\n",
       "      <td>3</td>\n",
       "      <td>1970</td>\n",
       "      <td>2009</td>\n",
       "    </tr>\n",
       "    <tr>\n",
       "      <th>2</th>\n",
       "      <td>10011729</td>\n",
       "      <td>33</td>\n",
       "      <td>15.860783</td>\n",
       "      <td>12.435711</td>\n",
       "      <td>26</td>\n",
       "      <td>39.425</td>\n",
       "      <td>15.727450</td>\n",
       "      <td>28.957170</td>\n",
       "      <td>12.302377</td>\n",
       "      <td>220</td>\n",
       "      <td>8</td>\n",
       "      <td>1997</td>\n",
       "      <td>2021</td>\n",
       "    </tr>\n",
       "    <tr>\n",
       "      <th>3</th>\n",
       "      <td>10042381</td>\n",
       "      <td>15</td>\n",
       "      <td>1.733333</td>\n",
       "      <td>1.733333</td>\n",
       "      <td>0</td>\n",
       "      <td>0.000</td>\n",
       "      <td>0.000000</td>\n",
       "      <td>0.000000</td>\n",
       "      <td>0.000000</td>\n",
       "      <td>3</td>\n",
       "      <td>1</td>\n",
       "      <td>2008</td>\n",
       "      <td>2017</td>\n",
       "    </tr>\n",
       "    <tr>\n",
       "      <th>4</th>\n",
       "      <td>10011669</td>\n",
       "      <td>31</td>\n",
       "      <td>7.139625</td>\n",
       "      <td>3.533433</td>\n",
       "      <td>10</td>\n",
       "      <td>21.269</td>\n",
       "      <td>5.916898</td>\n",
       "      <td>8.404271</td>\n",
       "      <td>2.310706</td>\n",
       "      <td>168</td>\n",
       "      <td>8</td>\n",
       "      <td>1985</td>\n",
       "      <td>2019</td>\n",
       "    </tr>\n",
       "    <tr>\n",
       "      <th>...</th>\n",
       "      <td>...</td>\n",
       "      <td>...</td>\n",
       "      <td>...</td>\n",
       "      <td>...</td>\n",
       "      <td>...</td>\n",
       "      <td>...</td>\n",
       "      <td>...</td>\n",
       "      <td>...</td>\n",
       "      <td>...</td>\n",
       "      <td>...</td>\n",
       "      <td>...</td>\n",
       "      <td>...</td>\n",
       "      <td>...</td>\n",
       "    </tr>\n",
       "    <tr>\n",
       "      <th>114</th>\n",
       "      <td>10019824</td>\n",
       "      <td>20</td>\n",
       "      <td>8.937917</td>\n",
       "      <td>7.132186</td>\n",
       "      <td>15</td>\n",
       "      <td>15.574</td>\n",
       "      <td>8.287917</td>\n",
       "      <td>12.140872</td>\n",
       "      <td>6.482186</td>\n",
       "      <td>200</td>\n",
       "      <td>6</td>\n",
       "      <td>2006</td>\n",
       "      <td>2022</td>\n",
       "    </tr>\n",
       "    <tr>\n",
       "      <th>115</th>\n",
       "      <td>10019824</td>\n",
       "      <td>20</td>\n",
       "      <td>8.937917</td>\n",
       "      <td>7.132186</td>\n",
       "      <td>15</td>\n",
       "      <td>15.574</td>\n",
       "      <td>8.287917</td>\n",
       "      <td>12.140872</td>\n",
       "      <td>6.482186</td>\n",
       "      <td>200</td>\n",
       "      <td>6</td>\n",
       "      <td>2006</td>\n",
       "      <td>2022</td>\n",
       "    </tr>\n",
       "    <tr>\n",
       "      <th>116</th>\n",
       "      <td>10042219</td>\n",
       "      <td>39</td>\n",
       "      <td>29.287500</td>\n",
       "      <td>14.404563</td>\n",
       "      <td>30</td>\n",
       "      <td>67.256</td>\n",
       "      <td>29.220833</td>\n",
       "      <td>31.425362</td>\n",
       "      <td>14.337897</td>\n",
       "      <td>144</td>\n",
       "      <td>7</td>\n",
       "      <td>2008</td>\n",
       "      <td>2023</td>\n",
       "    </tr>\n",
       "    <tr>\n",
       "      <th>117</th>\n",
       "      <td>10015273</td>\n",
       "      <td>33</td>\n",
       "      <td>25.605867</td>\n",
       "      <td>15.803946</td>\n",
       "      <td>30</td>\n",
       "      <td>53.344</td>\n",
       "      <td>25.372533</td>\n",
       "      <td>33.254772</td>\n",
       "      <td>15.570612</td>\n",
       "      <td>325</td>\n",
       "      <td>10</td>\n",
       "      <td>2001</td>\n",
       "      <td>2022</td>\n",
       "    </tr>\n",
       "    <tr>\n",
       "      <th>118</th>\n",
       "      <td>10009327</td>\n",
       "      <td>23</td>\n",
       "      <td>3.666667</td>\n",
       "      <td>6.102650</td>\n",
       "      <td>2</td>\n",
       "      <td>0.273</td>\n",
       "      <td>0.450000</td>\n",
       "      <td>1.146168</td>\n",
       "      <td>2.885983</td>\n",
       "      <td>131</td>\n",
       "      <td>5</td>\n",
       "      <td>1983</td>\n",
       "      <td>2004</td>\n",
       "    </tr>\n",
       "  </tbody>\n",
       "</table>\n",
       "<p>119 rows × 13 columns</p>\n",
       "</div>"
      ],
      "text/plain": [
       "         MTMT  pubCount     qScore    qnScore  ifCount  ifScore  relifScore  \\\n",
       "0    10012522        23   9.162250   6.800885       10   10.856    8.162250   \n",
       "1    10041405        36   7.200000  16.093861        6    0.918    2.400000   \n",
       "2    10011729        33  15.860783  12.435711       26   39.425   15.727450   \n",
       "3    10042381        15   1.733333   1.733333        0    0.000    0.000000   \n",
       "4    10011669        31   7.139625   3.533433       10   21.269    5.916898   \n",
       "..        ...       ...        ...        ...      ...      ...         ...   \n",
       "114  10019824        20   8.937917   7.132186       15   15.574    8.287917   \n",
       "115  10019824        20   8.937917   7.132186       15   15.574    8.287917   \n",
       "116  10042219        39  29.287500  14.404563       30   67.256   29.220833   \n",
       "117  10015273        33  25.605867  15.803946       30   53.344   25.372533   \n",
       "118  10009327        23   3.666667   6.102650        2    0.273    0.450000   \n",
       "\n",
       "     ifNormScore  relifNormScore  citations  hIndex  firstPub  lastPub  \n",
       "0       7.796477        5.800885         98       7      1998     2020  \n",
       "1       4.281639       11.293861         42       3      1970     2009  \n",
       "2      28.957170       12.302377        220       8      1997     2021  \n",
       "3       0.000000        0.000000          3       1      2008     2017  \n",
       "4       8.404271        2.310706        168       8      1985     2019  \n",
       "..           ...             ...        ...     ...       ...      ...  \n",
       "114    12.140872        6.482186        200       6      2006     2022  \n",
       "115    12.140872        6.482186        200       6      2006     2022  \n",
       "116    31.425362       14.337897        144       7      2008     2023  \n",
       "117    33.254772       15.570612        325      10      2001     2022  \n",
       "118     1.146168        2.885983        131       5      1983     2004  \n",
       "\n",
       "[119 rows x 13 columns]"
      ]
     },
     "execution_count": 21,
     "metadata": {},
     "output_type": "execute_result"
    }
   ],
   "source": [
    "node_person"
   ]
  },
  {
   "cell_type": "code",
   "execution_count": null,
   "id": "d1f15d46-633f-424c-a1b4-fe136f6cd37f",
   "metadata": {},
   "outputs": [],
   "source": []
  }
 ],
 "metadata": {
  "kernelspec": {
   "display_name": "Python 3 (ipykernel)",
   "language": "python",
   "name": "python3"
  },
  "language_info": {
   "codemirror_mode": {
    "name": "ipython",
    "version": 3
   },
   "file_extension": ".py",
   "mimetype": "text/x-python",
   "name": "python",
   "nbconvert_exporter": "python",
   "pygments_lexer": "ipython3",
   "version": "3.10.6"
  }
 },
 "nbformat": 4,
 "nbformat_minor": 5
}
